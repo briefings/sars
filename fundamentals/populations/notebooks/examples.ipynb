{
 "cells": [
  {
   "cell_type": "markdown",
   "metadata": {},
   "source": [
    "## *Preliminaries*"
   ]
  },
  {
   "cell_type": "markdown",
   "metadata": {},
   "source": [
    "### Libraries"
   ]
  },
  {
   "cell_type": "code",
   "execution_count": 1,
   "metadata": {},
   "outputs": [],
   "source": [
    "import os\n",
    "import sys\n",
    "import logging"
   ]
  },
  {
   "cell_type": "markdown",
   "metadata": {},
   "source": [
    "<br>\n",
    "<br>\n",
    "\n",
    "### Logging"
   ]
  },
  {
   "cell_type": "markdown",
   "metadata": {},
   "source": [
    "* `logging.disable(level=logging.WARN)`\n",
    "* `logging.basicConfig(level=logging.INFO)`"
   ]
  },
  {
   "cell_type": "code",
   "execution_count": 2,
   "metadata": {},
   "outputs": [],
   "source": [
    "logging.basicConfig(level=logging.INFO)\n",
    "logger = logging.getLogger(__name__)"
   ]
  },
  {
   "cell_type": "markdown",
   "metadata": {},
   "source": [
    "<br>\n",
    "<br>\n",
    "\n",
    "### Classes"
   ]
  },
  {
   "cell_type": "code",
   "execution_count": 3,
   "metadata": {},
   "outputs": [],
   "source": [
    "path = os.getcwd()\n",
    "root = os.path.split(path)[0]\n",
    "sys.path.append(root)"
   ]
  },
  {
   "cell_type": "markdown",
   "metadata": {},
   "source": [
    "<br>\n",
    "\n",
    "For populations via Census Bureau API"
   ]
  },
  {
   "cell_type": "code",
   "execution_count": 4,
   "metadata": {},
   "outputs": [],
   "source": [
    "import populations.us.api.county"
   ]
  },
  {
   "cell_type": "markdown",
   "metadata": {},
   "source": [
    "<br>\n",
    "\n",
    "For populations via [reference files](https://www2.census.gov/programs-surveys/popest/datasets/)"
   ]
  },
  {
   "cell_type": "code",
   "execution_count": 5,
   "metadata": {},
   "outputs": [],
   "source": [
    "import populations.us.reference.state\n",
    "import populations.us.reference.county"
   ]
  },
  {
   "cell_type": "markdown",
   "metadata": {},
   "source": [
    "<br>\n",
    "<br>\n",
    "\n",
    "## *API Example*"
   ]
  },
  {
   "cell_type": "markdown",
   "metadata": {},
   "source": [
    "This snippet requests the *county level population estimates* for the year 2019.  A **Census Bureau API Key** is required."
   ]
  },
  {
   "cell_type": "code",
   "execution_count": 6,
   "metadata": {},
   "outputs": [],
   "source": [
    "# county = populations.us.api.county.County(entry='Census Bureau API Key')\n",
    "# population = county.exc(year='2019')"
   ]
  },
  {
   "cell_type": "markdown",
   "metadata": {},
   "source": [
    "The data of `population` is of the form:\n",
    "\n",
    "POPESTIMATE | COUNTYNAME | STATEFP | COUNTYFP\n",
    "--- | --- | --- | ---\n",
    "318441 | San Juan Municipio, Puerto Rico | 72 | 127\n",
    "36061 | Vega Alta Municipio, Puerto Rico  | 72 | 143\n",
    "50023 | Vega Baja Municipio, Puerto Rico | 72 | 145\n",
    "5430 | Maricao Municipio, Puerto Rico | 72 | 093\n"
   ]
  },
  {
   "cell_type": "markdown",
   "metadata": {},
   "source": [
    "<br>\n",
    "<br>\n",
    "\n",
    "## *Reference Example*"
   ]
  },
  {
   "cell_type": "markdown",
   "metadata": {},
   "source": [
    "This snippet requests *state level population estimates* for the year `2019`, via segment `2010-2019` (ref: [reference files](https://www2.census.gov/programs-surveys/popest/datasets/))"
   ]
  },
  {
   "cell_type": "code",
   "execution_count": 7,
   "metadata": {},
   "outputs": [],
   "source": [
    "state = populations.us.reference.state.State()"
   ]
  },
  {
   "cell_type": "code",
   "execution_count": 8,
   "metadata": {},
   "outputs": [
    {
     "name": "stderr",
     "output_type": "stream",
     "text": [
      "INFO:__main__:\n",
      "\n",
      "   STATEFP                      NAME  POPESTIMATE2019\n",
      "1       01                   Alabama          4903185\n",
      "2       02                    Alaska           731545\n",
      "3       04                   Arizona          7278717\n",
      "4       05                  Arkansas          3017804\n",
      "5       06                California         39512223\n",
      "6       08                  Colorado          5758736\n",
      "7       09               Connecticut          3565287\n",
      "8       10                  Delaware           973764\n",
      "9       11      District of Columbia           705749\n",
      "10      12                   Florida         21477737\n",
      "11      13                   Georgia         10617423\n",
      "12      15                    Hawaii          1415872\n",
      "13      16                     Idaho          1787065\n",
      "14      17                  Illinois         12671821\n",
      "15      18                   Indiana          6732219\n",
      "16      19                      Iowa          3155070\n",
      "17      20                    Kansas          2913314\n",
      "18      21                  Kentucky          4467673\n",
      "19      22                 Louisiana          4648794\n",
      "20      23                     Maine          1344212\n",
      "21      24                  Maryland          6045680\n",
      "22      25             Massachusetts          6892503\n",
      "23      26                  Michigan          9986857\n",
      "24      27                 Minnesota          5639632\n",
      "25      28               Mississippi          2976149\n",
      "26      29                  Missouri          6137428\n",
      "27      30                   Montana          1068778\n",
      "28      31                  Nebraska          1934408\n",
      "29      32                    Nevada          3080156\n",
      "30      33             New Hampshire          1359711\n",
      "31      34                New Jersey          8882190\n",
      "32      35                New Mexico          2096829\n",
      "33      36                  New York         19453561\n",
      "34      37            North Carolina         10488084\n",
      "35      38              North Dakota           762062\n",
      "36      39                      Ohio         11689100\n",
      "37      40                  Oklahoma          3956971\n",
      "38      41                    Oregon          4217737\n",
      "39      42              Pennsylvania         12801989\n",
      "40      44              Rhode Island          1059361\n",
      "41      45            South Carolina          5148714\n",
      "42      46              South Dakota           884659\n",
      "43      47                 Tennessee          6829174\n",
      "44      48                     Texas         28995881\n",
      "45      49                      Utah          3205958\n",
      "46      50                   Vermont           623989\n",
      "47      51                  Virginia          8535519\n",
      "48      53                Washington          7614893\n",
      "49      54             West Virginia          1792147\n",
      "50      55                 Wisconsin          5822434\n",
      "51      56                   Wyoming           578759\n",
      "52      72  Puerto Rico Commonwealth          3193694\n"
     ]
    }
   ],
   "source": [
    "logger.info('\\n\\n{}'.format(state.exc(segment='2010-2019', year='2019')))"
   ]
  },
  {
   "cell_type": "markdown",
   "metadata": {},
   "source": [
    "<br>\n",
    "\n",
    "And"
   ]
  },
  {
   "cell_type": "code",
   "execution_count": 9,
   "metadata": {},
   "outputs": [],
   "source": [
    "county = populations.us.reference.county.County()"
   ]
  },
  {
   "cell_type": "code",
   "execution_count": 10,
   "metadata": {},
   "outputs": [
    {
     "name": "stderr",
     "output_type": "stream",
     "text": [
      "INFO:__main__:\n",
      "\n",
      "      POPESTIMATE2019 STATEFP COUNTYFP COUNTYGEOID\n",
      "0              106272      28      089       28089\n",
      "1               14361      28      013       28013\n",
      "2               24573      28      091       28091\n",
      "3               19383      28      141       28141\n",
      "4               35294      28      093       28093\n",
      "...               ...     ...      ...         ...\n",
      "3215           116782      09      015       09015\n",
      "3216           265206      09      011       09011\n",
      "3217           162436      09      007       09007\n",
      "3218           150721      09      013       09013\n",
      "3219           943332      09      001       09001\n",
      "\n",
      "[3220 rows x 4 columns]\n"
     ]
    }
   ],
   "source": [
    "logger.info('\\n\\n{}'.format(county.exc(year='2019')))"
   ]
  }
 ],
 "metadata": {
  "kernelspec": {
   "display_name": "Python 3",
   "language": "python",
   "name": "python3"
  },
  "language_info": {
   "codemirror_mode": {
    "name": "ipython",
    "version": 3
   },
   "file_extension": ".py",
   "mimetype": "text/x-python",
   "name": "python",
   "nbconvert_exporter": "python",
   "pygments_lexer": "ipython3",
   "version": "3.7.7"
  },
  "toc-autonumbering": false,
  "toc-showcode": false,
  "toc-showmarkdowntxt": false,
  "toc-showtags": false
 },
 "nbformat": 4,
 "nbformat_minor": 4
}
