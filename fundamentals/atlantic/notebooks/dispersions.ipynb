{
 "cells": [
  {
   "cell_type": "markdown",
   "metadata": {},
   "source": [
    "Notes in progress ...\n",
    "\n",
    "<dl>\n",
    "    <dt><b>Aim</b></dt>\n",
    "  <dd>Determine the degree of dispersion, per day, amongst a state's delta curves.</dd>\n",
    "  <dt><b>Why?</b></dt>\n",
    "    <dd>In the case of <i>positive rate delta curves</i>, as the dispersion increases from zero, the more likely an impending outbreak [mathematical proof].  In the case of <i>hospitalization rate delta curves</i>, as the dispersion increases from zero, it is quite probable that hospitalisations will increase rapidly [contingency planning alert?] </dd>\n",
    "</dl>\n",
    "\n",
    "<br>"
   ]
  },
  {
   "cell_type": "markdown",
   "metadata": {},
   "source": [
    "## Preliminaries"
   ]
  },
  {
   "cell_type": "markdown",
   "metadata": {},
   "source": [
    "### Libraries"
   ]
  },
  {
   "cell_type": "code",
   "execution_count": 1,
   "metadata": {},
   "outputs": [],
   "source": [
    "import pandas as pd\n",
    "import numpy as np\n",
    "\n",
    "import logging\n",
    "\n",
    "import os\n",
    "import pathlib\n",
    "import sys\n"
   ]
  },
  {
   "cell_type": "markdown",
   "metadata": {},
   "source": [
    "<br>\n",
    "\n",
    "### Paths"
   ]
  },
  {
   "cell_type": "code",
   "execution_count": 2,
   "metadata": {},
   "outputs": [],
   "source": [
    "child = os.getcwd()\n",
    "parent = str(pathlib.Path(child).parent)"
   ]
  },
  {
   "cell_type": "code",
   "execution_count": 3,
   "metadata": {},
   "outputs": [],
   "source": [
    "root = os.path.join(child, 'warehouse')\n",
    "warehouse = os.path.join(root, 'dispersions')"
   ]
  },
  {
   "cell_type": "markdown",
   "metadata": {},
   "source": [
    "<br>\n",
    "\n",
    "Appending Paths"
   ]
  },
  {
   "cell_type": "code",
   "execution_count": 4,
   "metadata": {},
   "outputs": [],
   "source": [
    "sys.path.append(parent)"
   ]
  },
  {
   "cell_type": "markdown",
   "metadata": {},
   "source": [
    "<br>\n",
    "\n",
    "### Logging"
   ]
  },
  {
   "cell_type": "code",
   "execution_count": 5,
   "metadata": {},
   "outputs": [],
   "source": [
    "logging.basicConfig(level=logging.INFO)\n",
    "logger = logging.getLogger(__name__)"
   ]
  },
  {
   "cell_type": "code",
   "execution_count": 6,
   "metadata": {},
   "outputs": [
    {
     "name": "stderr",
     "output_type": "stream",
     "text": [
      "INFO:__main__:J:\\library\\projects\\sars\\fundamentals\\atlantic\\notebooks\\warehouse\n"
     ]
    }
   ],
   "source": [
    "logger.info(root)"
   ]
  },
  {
   "cell_type": "code",
   "execution_count": 7,
   "metadata": {},
   "outputs": [
    {
     "name": "stderr",
     "output_type": "stream",
     "text": [
      "INFO:__main__:J:\\library\\projects\\sars\\fundamentals\\atlantic\\notebooks\\warehouse\\dispersions\n"
     ]
    }
   ],
   "source": [
    "logger.info(warehouse)"
   ]
  },
  {
   "cell_type": "markdown",
   "metadata": {},
   "source": [
    "<br>\n",
    "\n",
    "### Custom"
   ]
  },
  {
   "cell_type": "code",
   "execution_count": 8,
   "metadata": {},
   "outputs": [],
   "source": [
    "import atlantic.base.directories"
   ]
  },
  {
   "cell_type": "markdown",
   "metadata": {},
   "source": [
    "<br>\n",
    "\n",
    "Set-up directories"
   ]
  },
  {
   "cell_type": "code",
   "execution_count": 9,
   "metadata": {},
   "outputs": [],
   "source": [
    "directories = atlantic.base.directories.Directories()\n",
    "directories.cleanup(listof=[warehouse])\n",
    "directories.create(listof=[warehouse])"
   ]
  },
  {
   "cell_type": "markdown",
   "metadata": {},
   "source": [
    "<br>\n",
    "<br>\n",
    "\n",
    "## Data"
   ]
  },
  {
   "cell_type": "code",
   "execution_count": 10,
   "metadata": {},
   "outputs": [],
   "source": [
    "datauri = os.path.join(root, 'trends', 'percentages.csv')\n",
    "\n",
    "parse_dates = ['datetimeobject']\n",
    "percentages = pd.read_csv(filepath_or_buffer=datauri, header=0, encoding='utf-8', parse_dates=parse_dates)"
   ]
  },
  {
   "cell_type": "code",
   "execution_count": 11,
   "metadata": {},
   "outputs": [
    {
     "name": "stderr",
     "output_type": "stream",
     "text": [
      "INFO:__main__:None\n"
     ]
    },
    {
     "name": "stdout",
     "output_type": "stream",
     "text": [
      "<class 'pandas.core.frame.DataFrame'>\n",
      "RangeIndex: 208728 entries, 0 to 208727\n",
      "Data columns (total 13 columns):\n",
      " #   Column                 Non-Null Count   Dtype         \n",
      "---  ------                 --------------   -----         \n",
      " 0   datetimeobject         208728 non-null  datetime64[ns]\n",
      " 1   STUSPS                 208728 non-null  object        \n",
      " 2   period                 208728 non-null  object        \n",
      " 3   deathRateDelta         208728 non-null  float64       \n",
      " 4   deathRate              208728 non-null  float64       \n",
      " 5   positiveRateDelta      208728 non-null  float64       \n",
      " 6   positiveRate           208728 non-null  float64       \n",
      " 7   testRateDelta          208728 non-null  float64       \n",
      " 8   testRate               208728 non-null  float64       \n",
      " 9   icuRateDelta           208728 non-null  float64       \n",
      " 10  icuRate                208728 non-null  float64       \n",
      " 11  hospitalizedRateDelta  208728 non-null  float64       \n",
      " 12  hospitalizedRate       208728 non-null  float64       \n",
      "dtypes: datetime64[ns](1), float64(10), object(2)\n",
      "memory usage: 20.7+ MB\n"
     ]
    }
   ],
   "source": [
    "logger.info(percentages.info())"
   ]
  },
  {
   "cell_type": "markdown",
   "metadata": {},
   "source": [
    "<br>\n",
    "<br>\n",
    "\n",
    "## Calculations"
   ]
  },
  {
   "cell_type": "code",
   "execution_count": 12,
   "metadata": {},
   "outputs": [],
   "source": [
    "sections = ['positiveRateDelta', 'deathRateDelta', 'hospitalizedRateDelta']"
   ]
  },
  {
   "cell_type": "markdown",
   "metadata": {},
   "source": [
    "<br>\n",
    "\n",
    "### Functions"
   ]
  },
  {
   "cell_type": "markdown",
   "metadata": {},
   "source": [
    "<br>\n",
    "\n",
    "Baseline table"
   ]
  },
  {
   "cell_type": "code",
   "execution_count": 13,
   "metadata": {},
   "outputs": [],
   "source": [
    "def baseline(data: pd.DataFrame, section: str):\n",
    "    \n",
    "    structure = pd.pivot_table(data, index=['datetimeobject', 'STUSPS'], columns=['period'], values=[section])\n",
    "    structure.dropna(axis=0, how='any', inplace=True)\n",
    "\n",
    "    periodfields = structure.columns\n",
    "\n",
    "    structure.loc[:, 'range'] = structure[periodfields].max(axis=1) - structure[periodfields].min(axis=1)\n",
    "    structure.loc[:, 'midpoint'] = 0.5*structure['range'] + structure[periodfields].min(axis=1)\n",
    "    structure.loc[:, 'median'] = structure[periodfields].median(axis=1)\n",
    "\n",
    "    structure.reset_index(drop=False, inplace=True)    \n",
    "    matrix = structure[['datetimeobject', 'STUSPS', 'range', 'midpoint', 'median']].values\n",
    "    \n",
    "    return pd.DataFrame(data=matrix, columns=['datetimeobject', 'STUSPS', 'range', 'midpoint', 'median'])\n"
   ]
  },
  {
   "cell_type": "markdown",
   "metadata": {},
   "source": [
    "<br>\n",
    "\n",
    "Scores"
   ]
  },
  {
   "cell_type": "code",
   "execution_count": 14,
   "metadata": {},
   "outputs": [],
   "source": [
    "def scores(data: pd.DataFrame):\n",
    "    \n",
    "    blob = data.copy()\n",
    "    \n",
    "    scores = blob[['range', 'midpoint']].apply(lambda x: x['midpoint'] * np.log(x['range']) if x['range'] > 0 else 0, axis=1)\n",
    "    \n",
    "    return pd.concat([blob, scores.rename('score')], axis=1)\n"
   ]
  },
  {
   "cell_type": "markdown",
   "metadata": {},
   "source": [
    "<br>\n",
    "\n",
    "Latest"
   ]
  },
  {
   "cell_type": "code",
   "execution_count": 15,
   "metadata": {},
   "outputs": [],
   "source": [
    "def latest(data: pd.DataFrame):\n",
    "    \n",
    "    blob = data.copy()\n",
    "    \n",
    "    condition = blob['datetimeobject'] == blob['datetimeobject'].max()\n",
    "    \n",
    "    return blob[condition].sort_values(by='rank')\n",
    "    "
   ]
  },
  {
   "cell_type": "markdown",
   "metadata": {},
   "source": [
    "<br>\n",
    "\n",
    "### Divergence"
   ]
  },
  {
   "cell_type": "code",
   "execution_count": 16,
   "metadata": {},
   "outputs": [
    {
     "name": "stderr",
     "output_type": "stream",
     "text": [
      "INFO:__main__:\n",
      "positiveRateDelta\n",
      "\n",
      "INFO:__main__:\n",
      "  datetimeobject STUSPS range midpoint median  score  rank\n",
      "0     2020-02-13     AK     0        0      0    0.0   1.0\n",
      "1     2020-02-13     AL     0        0      0    0.0   1.0\n",
      "2     2020-02-13     AR     0        0      0    0.0   1.0\n",
      "3     2020-02-13     AZ     0        0      0    0.0   1.0\n",
      "4     2020-02-13     CA     0        0      0    0.0   1.0\n",
      "\n",
      "INFO:__main__:\n",
      "      datetimeobject STUSPS    range midpoint   median       score  rank\n",
      "13390     2020-10-27     MT  92.3978  51.4572  45.2053  232.900488   1.0\n",
      "13415     2020-10-27     WY  71.1675  42.5125  44.3806  181.317291   2.0\n",
      "13406     2020-10-27     SD  61.6875  34.7388  34.8006  143.196295   3.0\n",
      "13392     2020-10-27     ND  60.2438  33.8627  35.1781  138.782851   4.0\n",
      "13364     2020-10-27     AK  49.1359  29.7869  32.3259  116.007840   5.0\n",
      "\n",
      "INFO:__main__:\n",
      "deathRateDelta\n",
      "\n",
      "INFO:__main__:\n",
      "  datetimeobject STUSPS range midpoint median  score  rank\n",
      "0     2020-02-13     AK     0        0      0    0.0   1.0\n",
      "1     2020-02-13     AL     0        0      0    0.0   1.0\n",
      "2     2020-02-13     AR     0        0      0    0.0   1.0\n",
      "3     2020-02-13     AZ     0        0      0    0.0   1.0\n",
      "4     2020-02-13     CA     0        0      0    0.0   1.0\n",
      "\n",
      "INFO:__main__:\n",
      "      datetimeobject STUSPS    range midpoint   median       score  rank\n",
      "13392     2020-10-27     ND  85.5361   48.855    32.13  217.352864   1.0\n",
      "13390     2020-10-27     MT  57.8327    31.61  35.5556  128.259135   2.0\n",
      "13415     2020-10-27     WY  32.0477  29.2592  35.0877  101.448114   3.0\n",
      "13406     2020-10-27     SD  51.2097  25.6048   28.866  100.778815   4.0\n",
      "13413     2020-10-27     WI  31.6122   20.329  22.4952   70.206967   5.0\n",
      "\n",
      "INFO:__main__:\n",
      "hospitalizedRateDelta\n",
      "\n",
      "INFO:__main__:\n",
      "  datetimeobject STUSPS range midpoint median  score  rank\n",
      "0     2020-02-13     AK     0        0      0    0.0   1.0\n",
      "1     2020-02-13     AL     0        0      0    0.0   1.0\n",
      "2     2020-02-13     AR     0        0      0    0.0   1.0\n",
      "3     2020-02-13     AZ     0        0      0    0.0   1.0\n",
      "4     2020-02-13     CA     0        0      0    0.0   1.0\n",
      "\n",
      "INFO:__main__:\n",
      "      datetimeobject STUSPS    range midpoint   median       score  rank\n",
      "13390     2020-10-27     MT  63.8175  33.2106  35.3261  138.024233   1.0\n",
      "13392     2020-10-27     ND  53.0966  30.8532  27.5237  122.552327   2.0\n",
      "13395     2020-10-27     NJ   58.348  29.5146  56.0412  120.018791   3.0\n",
      "13406     2020-10-27     SD  49.2886  26.5737  26.4901  103.576176   4.0\n",
      "13415     2020-10-27     WY  35.4812  22.0553  16.7614   78.715500   5.0\n",
      "\n"
     ]
    }
   ],
   "source": [
    "for section in sections:\n",
    "    \n",
    "    # A dta set w.r.t. a measure\n",
    "    example = percentages[['datetimeobject', 'STUSPS', 'period', section]]\n",
    "    logger.info('\\n{}\\n'.format(section))\n",
    "    \n",
    "    # ['datetimeobject', 'STUSPS', 'range', 'midpoint', 'median'] \n",
    "    data = baseline(data=example, section=section)\n",
    "        \n",
    "    # ['datetimeobject', 'STUSPS', 'range', 'midpoint', 'median', 'score']\n",
    "    data = scores(data=data)\n",
    "            \n",
    "    # ['datetimeobject', 'STUSPS', 'range', 'midpoint', 'median', 'score', 'rank']\n",
    "    ranks = data[['datetimeobject', 'score']].groupby(by='datetimeobject').rank(method='min', ascending=False).score\n",
    "    data = pd.concat([data, ranks.rename('rank')], axis=1)    \n",
    "    data.to_csv(path_or_buf=os.path.join(warehouse, section + 'Dispersion.csv'), header=True, encoding='utf-8', index=False)\n",
    "    logger.info('\\n{}\\n'.format(data.head()))\n",
    "    \n",
    "    # ['datetimeobject', 'STUSPS', 'range', 'midpoint', 'median', 'score', 'rank']\n",
    "    inbrief = latest(data=data)\n",
    "    inbrief.to_csv(path_or_buf=os.path.join(warehouse, section + 'DispersionLatest.csv'), header=True, encoding='utf-8', index=False)\n",
    "    logger.info('\\n{}\\n'.format(inbrief.head()))\n",
    "    "
   ]
  }
 ],
 "metadata": {
  "kernelspec": {
   "display_name": "Python 3",
   "language": "python",
   "name": "python3"
  },
  "language_info": {
   "codemirror_mode": {
    "name": "ipython",
    "version": 3
   },
   "file_extension": ".py",
   "mimetype": "text/x-python",
   "name": "python",
   "nbconvert_exporter": "python",
   "pygments_lexer": "ipython3",
   "version": "3.7.7"
  }
 },
 "nbformat": 4,
 "nbformat_minor": 4
}
