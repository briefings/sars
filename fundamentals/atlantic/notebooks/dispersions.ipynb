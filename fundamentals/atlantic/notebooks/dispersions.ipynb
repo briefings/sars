{
 "cells": [
  {
   "cell_type": "markdown",
   "metadata": {},
   "source": [
    "Notes in progress ...\n",
    "\n",
    "<dl>\n",
    "    <dt><b>Aim</b></dt>\n",
    "  <dd>Determine the degree of dispersion, per day, amongst a state's delta curves.</dd>\n",
    "  <dt><b>Why?</b></dt>\n",
    "    <dd>In the case of <i>positive rate delta curves</i>, as the dispersion increases from zero, the more likely an impending outbreak [mathematical proof].  In the case of <i>hospitalization rate delta curves</i>, as the dispersion increases from zero, it is quite probable that hospitalisations will increase rapidly [contingency planning alert?] </dd>\n",
    "</dl>\n",
    "\n",
    "<br>"
   ]
  },
  {
   "cell_type": "markdown",
   "metadata": {},
   "source": [
    "## Preliminaries"
   ]
  },
  {
   "cell_type": "markdown",
   "metadata": {},
   "source": [
    "### Libraries"
   ]
  },
  {
   "cell_type": "code",
   "execution_count": 1,
   "metadata": {},
   "outputs": [],
   "source": [
    "import pandas as pd\n",
    "import numpy as np\n",
    "\n",
    "import logging\n",
    "\n",
    "import os\n",
    "import pathlib\n",
    "import sys\n"
   ]
  },
  {
   "cell_type": "markdown",
   "metadata": {},
   "source": [
    "<br>\n",
    "\n",
    "### Paths"
   ]
  },
  {
   "cell_type": "code",
   "execution_count": 2,
   "metadata": {},
   "outputs": [],
   "source": [
    "child = os.getcwd()\n",
    "parent = str(pathlib.Path(child).parent)"
   ]
  },
  {
   "cell_type": "code",
   "execution_count": 3,
   "metadata": {},
   "outputs": [],
   "source": [
    "root = os.path.join(child, 'warehouse')\n",
    "warehouse = os.path.join(root, 'dispersions')"
   ]
  },
  {
   "cell_type": "markdown",
   "metadata": {},
   "source": [
    "<br>\n",
    "\n",
    "Appending Paths"
   ]
  },
  {
   "cell_type": "code",
   "execution_count": 4,
   "metadata": {},
   "outputs": [],
   "source": [
    "sys.path.append(parent)"
   ]
  },
  {
   "cell_type": "markdown",
   "metadata": {},
   "source": [
    "<br>\n",
    "\n",
    "### Logging"
   ]
  },
  {
   "cell_type": "code",
   "execution_count": 5,
   "metadata": {},
   "outputs": [],
   "source": [
    "logging.basicConfig(level=logging.INFO)\n",
    "logger = logging.getLogger(__name__)"
   ]
  },
  {
   "cell_type": "code",
   "execution_count": 6,
   "metadata": {},
   "outputs": [
    {
     "name": "stderr",
     "output_type": "stream",
     "text": [
      "INFO:__main__:J:\\library\\projects\\sars\\fundamentals\\atlantic\\notebooks\\warehouse\n"
     ]
    }
   ],
   "source": [
    "logger.info(root)"
   ]
  },
  {
   "cell_type": "code",
   "execution_count": 7,
   "metadata": {},
   "outputs": [
    {
     "name": "stderr",
     "output_type": "stream",
     "text": [
      "INFO:__main__:J:\\library\\projects\\sars\\fundamentals\\atlantic\\notebooks\\warehouse\\dispersions\n"
     ]
    }
   ],
   "source": [
    "logger.info(warehouse)"
   ]
  },
  {
   "cell_type": "markdown",
   "metadata": {},
   "source": [
    "<br>\n",
    "\n",
    "### Custom"
   ]
  },
  {
   "cell_type": "code",
   "execution_count": 8,
   "metadata": {},
   "outputs": [],
   "source": [
    "import atlantic.base.directories"
   ]
  },
  {
   "cell_type": "markdown",
   "metadata": {},
   "source": [
    "<br>\n",
    "\n",
    "Set-up directories"
   ]
  },
  {
   "cell_type": "code",
   "execution_count": 9,
   "metadata": {},
   "outputs": [],
   "source": [
    "directories = atlantic.base.directories.Directories()\n",
    "directories.cleanup(listof=[warehouse])\n",
    "directories.create(listof=[warehouse])"
   ]
  },
  {
   "cell_type": "markdown",
   "metadata": {},
   "source": [
    "<br>\n",
    "<br>\n",
    "\n",
    "## Data"
   ]
  },
  {
   "cell_type": "code",
   "execution_count": 10,
   "metadata": {},
   "outputs": [],
   "source": [
    "datauri = os.path.join(root, 'trends', 'percentages.csv')\n",
    "\n",
    "parse_dates = ['datetimeobject']\n",
    "percentages = pd.read_csv(filepath_or_buffer=datauri, header=0, encoding='utf-8', parse_dates=parse_dates)"
   ]
  },
  {
   "cell_type": "code",
   "execution_count": 11,
   "metadata": {},
   "outputs": [
    {
     "name": "stderr",
     "output_type": "stream",
     "text": [
      "INFO:__main__:None\n"
     ]
    },
    {
     "name": "stdout",
     "output_type": "stream",
     "text": [
      "<class 'pandas.core.frame.DataFrame'>\n",
      "RangeIndex: 237588 entries, 0 to 237587\n",
      "Data columns (total 13 columns):\n",
      " #   Column                 Non-Null Count   Dtype         \n",
      "---  ------                 --------------   -----         \n",
      " 0   datetimeobject         237588 non-null  datetime64[ns]\n",
      " 1   STUSPS                 237588 non-null  object        \n",
      " 2   period                 237588 non-null  object        \n",
      " 3   deathRateDelta         237588 non-null  float64       \n",
      " 4   deathRate              237588 non-null  float64       \n",
      " 5   positiveRateDelta      237588 non-null  float64       \n",
      " 6   positiveRate           237588 non-null  float64       \n",
      " 7   testRateDelta          237588 non-null  float64       \n",
      " 8   testRate               237588 non-null  float64       \n",
      " 9   icuRateDelta           237588 non-null  float64       \n",
      " 10  icuRate                237588 non-null  float64       \n",
      " 11  hospitalizedRateDelta  237588 non-null  float64       \n",
      " 12  hospitalizedRate       237588 non-null  float64       \n",
      "dtypes: datetime64[ns](1), float64(10), object(2)\n",
      "memory usage: 23.6+ MB\n"
     ]
    }
   ],
   "source": [
    "logger.info(percentages.info())"
   ]
  },
  {
   "cell_type": "markdown",
   "metadata": {},
   "source": [
    "<br>\n",
    "<br>\n",
    "\n",
    "## Calculations"
   ]
  },
  {
   "cell_type": "code",
   "execution_count": 12,
   "metadata": {},
   "outputs": [],
   "source": [
    "sections = ['positiveRateDelta', 'deathRateDelta', 'hospitalizedRateDelta']"
   ]
  },
  {
   "cell_type": "markdown",
   "metadata": {},
   "source": [
    "<br>\n",
    "\n",
    "### Functions"
   ]
  },
  {
   "cell_type": "markdown",
   "metadata": {},
   "source": [
    "<br>\n",
    "\n",
    "Baseline table"
   ]
  },
  {
   "cell_type": "code",
   "execution_count": 13,
   "metadata": {},
   "outputs": [],
   "source": [
    "def baseline(data: pd.DataFrame, section: str):\n",
    "    \n",
    "    structure = pd.pivot_table(data, index=['datetimeobject', 'STUSPS'], columns=['period'], values=[section])\n",
    "    structure.dropna(axis=0, how='any', inplace=True)\n",
    "\n",
    "    periodfields = structure.columns\n",
    "\n",
    "    structure.loc[:, 'range'] = structure[periodfields].max(axis=1) - structure[periodfields].min(axis=1)\n",
    "    structure.loc[:, 'midpoint'] = 0.5*structure['range'] + structure[periodfields].min(axis=1)\n",
    "    structure.loc[:, 'median'] = structure[periodfields].median(axis=1)\n",
    "\n",
    "    structure.reset_index(drop=False, inplace=True)    \n",
    "    matrix = structure[['datetimeobject', 'STUSPS', 'range', 'midpoint', 'median']].values\n",
    "    \n",
    "    return pd.DataFrame(data=matrix, columns=['datetimeobject', 'STUSPS', 'range', 'midpoint', 'median'])\n"
   ]
  },
  {
   "cell_type": "markdown",
   "metadata": {},
   "source": [
    "<br>\n",
    "\n",
    "Scores"
   ]
  },
  {
   "cell_type": "code",
   "execution_count": 14,
   "metadata": {},
   "outputs": [],
   "source": [
    "def scores(data: pd.DataFrame):\n",
    "    \n",
    "    blob = data.copy()\n",
    "    \n",
    "    scores = blob[['range', 'midpoint']].apply(lambda x: x['midpoint'] * np.log(x['range']) if x['range'] > 0 else 0, axis=1)\n",
    "    \n",
    "    return pd.concat([blob, scores.rename('score')], axis=1)\n"
   ]
  },
  {
   "cell_type": "markdown",
   "metadata": {},
   "source": [
    "<br>\n",
    "\n",
    "Latest"
   ]
  },
  {
   "cell_type": "code",
   "execution_count": 15,
   "metadata": {},
   "outputs": [],
   "source": [
    "def latest(data: pd.DataFrame):\n",
    "    \n",
    "    blob = data.copy()\n",
    "    \n",
    "    condition = blob['datetimeobject'] == blob['datetimeobject'].max()\n",
    "    \n",
    "    return blob[condition].sort_values(by='rank')\n",
    "    "
   ]
  },
  {
   "cell_type": "markdown",
   "metadata": {},
   "source": [
    "<br>\n",
    "\n",
    "### Divergence"
   ]
  },
  {
   "cell_type": "code",
   "execution_count": 16,
   "metadata": {},
   "outputs": [
    {
     "name": "stderr",
     "output_type": "stream",
     "text": [
      "INFO:__main__:\n",
      "positiveRateDelta\n",
      "\n",
      "INFO:__main__:\n",
      "  datetimeobject STUSPS range midpoint median  score  rank\n",
      "0     2020-02-13     AK     0        0      0    0.0   1.0\n",
      "1     2020-02-13     AL     0        0      0    0.0   1.0\n",
      "2     2020-02-13     AR     0        0      0    0.0   1.0\n",
      "3     2020-02-13     AZ     0        0      0    0.0   1.0\n",
      "4     2020-02-13     CA     0        0      0    0.0   1.0\n",
      "\n",
      "INFO:__main__:\n",
      "      datetimeobject STUSPS    range midpoint   median       score  rank\n",
      "15335     2020-12-03     VT  72.8004  43.8458  32.0755  187.998465   1.0\n",
      "15339     2020-12-03     WY  77.2914  42.4114  29.3007  184.387057   2.0\n",
      "15318     2020-12-03     NH  69.0363   39.843  36.4827  168.720330   3.0\n",
      "15320     2020-12-03     NM  70.7788  38.8525  33.4172  165.494736   4.0\n",
      "15293     2020-12-03     CO  69.4281  38.8854  31.0995  164.885251   5.0\n",
      "\n",
      "INFO:__main__:\n",
      "deathRateDelta\n",
      "\n",
      "INFO:__main__:\n",
      "  datetimeobject STUSPS range midpoint median  score  rank\n",
      "0     2020-02-13     AK     0        0      0    0.0   1.0\n",
      "1     2020-02-13     AL     0        0      0    0.0   1.0\n",
      "2     2020-02-13     AR     0        0      0    0.0   1.0\n",
      "3     2020-02-13     AZ     0        0      0    0.0   1.0\n",
      "4     2020-02-13     CA     0        0      0    0.0   1.0\n",
      "\n",
      "INFO:__main__:\n",
      "      datetimeobject STUSPS    range midpoint   median       score  rank\n",
      "15339     2020-12-03     WY  90.6231  57.0507  46.0227  257.110749   1.0\n",
      "15330     2020-12-03     SD  73.2207  45.5766  39.4062  195.682126   2.0\n",
      "15317     2020-12-03     NE   43.715   32.663  32.0843  123.390858   3.0\n",
      "15314     2020-12-03     MT  49.5277  28.2022  27.3369  110.060184   4.0\n",
      "15337     2020-12-03     WI  43.2428  26.1077  22.0641   98.343158   5.0\n",
      "\n",
      "INFO:__main__:\n",
      "hospitalizedRateDelta\n",
      "\n",
      "INFO:__main__:\n",
      "  datetimeobject STUSPS range midpoint median  score  rank\n",
      "0     2020-02-13     AK     0        0      0    0.0   1.0\n",
      "1     2020-02-13     AL     0        0      0    0.0   1.0\n",
      "2     2020-02-13     AR     0        0      0    0.0   1.0\n",
      "3     2020-02-13     AZ     0        0      0    0.0   1.0\n",
      "4     2020-02-13     CA     0        0      0    0.0   1.0\n",
      "\n",
      "INFO:__main__:\n",
      "      datetimeobject STUSPS    range midpoint   median       score  rank\n",
      "15314     2020-12-03     MT  77.4632  41.7913  22.6465  181.783858   1.0\n",
      "15339     2020-12-03     WY  47.2261  27.3961  26.0337  105.610637   2.0\n",
      "15288     2020-12-03     AK  43.7561  26.4174  29.2079   99.821665   3.0\n",
      "15311     2020-12-03     MN  42.0411  24.0128  21.8573   89.775323   4.0\n",
      "15316     2020-12-03     ND  40.7559  22.6317  17.6987   83.909296   5.0\n",
      "\n"
     ]
    }
   ],
   "source": [
    "for section in sections:\n",
    "    \n",
    "    # A dta set w.r.t. a measure\n",
    "    example = percentages[['datetimeobject', 'STUSPS', 'period', section]]\n",
    "    logger.info('\\n{}\\n'.format(section))\n",
    "    \n",
    "    # ['datetimeobject', 'STUSPS', 'range', 'midpoint', 'median'] \n",
    "    data = baseline(data=example, section=section)\n",
    "        \n",
    "    # ['datetimeobject', 'STUSPS', 'range', 'midpoint', 'median', 'score']\n",
    "    data = scores(data=data)\n",
    "            \n",
    "    # ['datetimeobject', 'STUSPS', 'range', 'midpoint', 'median', 'score', 'rank']\n",
    "    ranks = data[['datetimeobject', 'score']].groupby(by='datetimeobject').rank(method='min', ascending=False).score\n",
    "    data = pd.concat([data, ranks.rename('rank')], axis=1)    \n",
    "    data.to_csv(path_or_buf=os.path.join(warehouse, section + 'Dispersion.csv'), header=True, encoding='utf-8', index=False)\n",
    "    logger.info('\\n{}\\n'.format(data.head()))\n",
    "    \n",
    "    # ['datetimeobject', 'STUSPS', 'range', 'midpoint', 'median', 'score', 'rank']\n",
    "    inbrief = latest(data=data)\n",
    "    inbrief.to_csv(path_or_buf=os.path.join(warehouse, section + 'DispersionLatest.csv'), header=True, encoding='utf-8', index=False)\n",
    "    logger.info('\\n{}\\n'.format(inbrief.head()))\n",
    "    "
   ]
  }
 ],
 "metadata": {
  "kernelspec": {
   "display_name": "Python 3",
   "language": "python",
   "name": "python3"
  },
  "language_info": {
   "codemirror_mode": {
    "name": "ipython",
    "version": 3
   },
   "file_extension": ".py",
   "mimetype": "text/x-python",
   "name": "python",
   "nbconvert_exporter": "python",
   "pygments_lexer": "ipython3",
   "version": "3.7.7"
  }
 },
 "nbformat": 4,
 "nbformat_minor": 4
}
