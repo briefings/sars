{
 "cells": [
  {
   "cell_type": "markdown",
   "metadata": {
    "id": "qYxtyKBSegLi"
   },
   "source": [
    "This notebook continuously estimates the prevailing, realtime, positivity values via \n",
    "\n",
    "* $positives_{c, \\small{100K}, \\tau} \\;\\; vs.\\ \\; tests_{c, \\small{100K}, \\tau}$\n",
    "\n",
    "curves, wherein\n",
    "\n",
    "$\\qquad \\qquad \\qquad positives_{c, \\small{100K}, \\tau} \\; = \\; \\small{100\\,000} \\times \\displaystyle \\left(\\sum_{\\substack{\n",
    "   start \\\\\n",
    "   date\n",
    "  }}^{\\tau}{P_{\\delta}}  \\right) \\times \\frac{1}{population}$\n",
    "\n",
    "\n",
    "$\\qquad \\qquad \\qquad \\qquad  tests_{c, \\small{100K}, \\tau} \\; = \\; \\small{100\\,000} \\times \\displaystyle \\left(\\sum_{\\substack{\n",
    "   start \\\\\n",
    "   date\n",
    "  }}^{\\tau}{T_{\\delta}} \\right) \\times \\frac{1}{population}$  \n",
    "\n",
    "<br>\n",
    "\n",
    "which are the positive cases per hundred thousand and test numbers per hundred thousand, respectively, based on their cumulative values and\n",
    "\n",
    "<br>\n",
    "\n",
    "<table style=\"width:35%; text-align: left; border: 0px solid black; float:left; margin-left: 50px\">\n",
    "    <tr>\n",
    "        <th style=\"width:20%;\">$\\mathcal{Variable} \\qquad$</th><th></th> \n",
    "    </tr>\n",
    "    <tr>\n",
    "        <td>$\\tau$</td><td>end date</td>\n",
    "    </tr>\n",
    "    <tr>\n",
    "        <td>$\\delta$</td><td>a series date</td>\n",
    "    </tr>\n",
    "    <tr>\n",
    "      <td>$P_{\\delta}$</td><td>The number of positive cases on date $\\delta$.</td>\n",
    "    </tr>\n",
    "    <tr>\n",
    "      <td>$T_{\\delta}$</td><td>The number of tests on date $\\delta$.</td>\n",
    "    </tr>\n",
    "    \n",
    "</table>\n",
    "\n",
    "\n",
    "<br>"
   ]
  },
  {
   "cell_type": "markdown",
   "metadata": {},
   "source": [
    "<br>\n",
    "\n",
    "The subscript $c$ denotes cumulative.   The graph image below illustrates the curves in question.  In brief \n",
    "\n",
    "* The quotient of the coordinates of a point along a curve is the cumulative positivity value. \n",
    "\n",
    "* The gradient of a modelled secant line to a sequential set of curve rear points estimates the prevailing positivity value.\n",
    "\n",
    "* The aforementioned secant line model predicts the expected values of $positives_{c, \\small{100K}}$ as $tests_{c, \\small{100K}}$ increases.\n"
   ]
  },
  {
   "cell_type": "markdown",
   "metadata": {
    "id": "fBo-NZiRj3Jk"
   },
   "source": [
    "<div style=\"margin-left: 100px;\">\n",
    "    <img src=\"https://github.com/briefings/sars/raw/develop/fundamentals/atlantic/docs/ptr.png\" longdesc=\"surveillance\" width=\"40%\" style=\"float:center\">\n",
    "</div>\n",
    "\n",
    "<br>\n",
    "\n",
    "Upcoming: Link this image to the interactive graph.\n",
    "\n"
   ]
  },
  {
   "cell_type": "markdown",
   "metadata": {
    "id": "VphP1R94t3MG"
   },
   "source": [
    "<br>\n",
    "<br>\n",
    "\n",
    "## Preliminaries: In Progress"
   ]
  },
  {
   "cell_type": "markdown",
   "metadata": {
    "id": "GHv0WS-ft3NU"
   },
   "source": [
    "### Libraries"
   ]
  },
  {
   "cell_type": "code",
   "execution_count": 1,
   "metadata": {
    "id": "Rmvhg4BGt3NV"
   },
   "outputs": [],
   "source": [
    "import pandas as pd\n",
    "import geopandas as gpd\n",
    "import numpy as np\n",
    "import dask\n",
    "\n",
    "import logging\n",
    "\n",
    "import os\n",
    "import pathlib\n",
    "import sys\n",
    "\n",
    "import statsmodels.regression.linear_model\n"
   ]
  },
  {
   "cell_type": "code",
   "execution_count": 2,
   "metadata": {},
   "outputs": [],
   "source": [
    "from statsmodels.formula.api import ols"
   ]
  },
  {
   "cell_type": "markdown",
   "metadata": {},
   "source": [
    "<br>\n",
    "\n",
    "### Paths"
   ]
  },
  {
   "cell_type": "code",
   "execution_count": 3,
   "metadata": {},
   "outputs": [],
   "source": [
    "child = os.getcwd()\n",
    "parent = str(pathlib.Path(child).parent)"
   ]
  },
  {
   "cell_type": "code",
   "execution_count": 4,
   "metadata": {},
   "outputs": [],
   "source": [
    "root = os.path.join(child, 'warehouse')\n",
    "warehouse = os.path.join(root, 'prospects')"
   ]
  },
  {
   "cell_type": "markdown",
   "metadata": {},
   "source": [
    "<br>\n",
    "\n",
    "Appending paths"
   ]
  },
  {
   "cell_type": "code",
   "execution_count": 5,
   "metadata": {},
   "outputs": [],
   "source": [
    "sys.path.append(parent)"
   ]
  },
  {
   "cell_type": "markdown",
   "metadata": {},
   "source": [
    "<br>\n",
    "\n",
    "### Logging"
   ]
  },
  {
   "cell_type": "code",
   "execution_count": 6,
   "metadata": {},
   "outputs": [],
   "source": [
    "logging.basicConfig(level=logging.INFO)\n",
    "logger = logging.getLogger(__name__)"
   ]
  },
  {
   "cell_type": "markdown",
   "metadata": {
    "id": "XBdw0goyNV84"
   },
   "source": [
    "<br>\n",
    "\n",
    "### Custom"
   ]
  },
  {
   "cell_type": "markdown",
   "metadata": {},
   "source": [
    "Import"
   ]
  },
  {
   "cell_type": "code",
   "execution_count": 7,
   "metadata": {
    "id": "MK-SkdR98nB6"
   },
   "outputs": [],
   "source": [
    "import cartographs.boundaries.us.boundaries\n",
    "import cartographs.boundaries.us.settings"
   ]
  },
  {
   "cell_type": "code",
   "execution_count": 8,
   "metadata": {
    "id": "_OkEqJAXT1v_"
   },
   "outputs": [],
   "source": [
    "import algorithms.curves.estimates\n",
    "import algorithms.curves.predictions\n",
    "import algorithms.curves.secants"
   ]
  },
  {
   "cell_type": "code",
   "execution_count": 9,
   "metadata": {},
   "outputs": [],
   "source": [
    "import atlantic.base.directories\n",
    "import atlantic.investigations.prospects\n",
    "import atlantic.investigations.hospitalizations"
   ]
  },
  {
   "cell_type": "markdown",
   "metadata": {},
   "source": [
    "<br>\n",
    "\n",
    "Set-up directories"
   ]
  },
  {
   "cell_type": "code",
   "execution_count": 10,
   "metadata": {},
   "outputs": [],
   "source": [
    "directories = atlantic.base.directories.Directories()\n",
    "directories.cleanup(listof=[warehouse])\n",
    "directories.create(listof=[warehouse])"
   ]
  },
  {
   "cell_type": "markdown",
   "metadata": {
    "id": "2JDnqRVDrNXi"
   },
   "source": [
    "<br>\n",
    "<br>\n",
    "\n",
    "### Classes"
   ]
  },
  {
   "cell_type": "markdown",
   "metadata": {
    "id": "xd1LJpXYFcjz"
   },
   "source": [
    "**Boundaries**"
   ]
  },
  {
   "cell_type": "code",
   "execution_count": 11,
   "metadata": {
    "id": "7rrYl9wp_MV9"
   },
   "outputs": [],
   "source": [
    "settings = cartographs.boundaries.us.settings.Settings()\n",
    "boundaries = cartographs.boundaries.us.boundaries.Boundaries(settings.crs)"
   ]
  },
  {
   "cell_type": "code",
   "execution_count": 12,
   "metadata": {
    "colab": {
     "base_uri": "https://localhost:8080/",
     "height": 329
    },
    "id": "QKZE8EyfpnDQ",
    "outputId": "f17971ed-b866-49cf-a770-da754f7d7957"
   },
   "outputs": [
    {
     "name": "stdout",
     "output_type": "stream",
     "text": [
      "<class 'geopandas.geodataframe.GeoDataFrame'>\n",
      "RangeIndex: 56 entries, 0 to 55\n",
      "Data columns (total 10 columns):\n",
      " #   Column    Non-Null Count  Dtype   \n",
      "---  ------    --------------  -----   \n",
      " 0   STATEFP   56 non-null     object  \n",
      " 1   STATENS   56 non-null     object  \n",
      " 2   AFFGEOID  56 non-null     object  \n",
      " 3   GEOID     56 non-null     object  \n",
      " 4   STUSPS    56 non-null     object  \n",
      " 5   NAME      56 non-null     object  \n",
      " 6   LSAD      56 non-null     object  \n",
      " 7   ALAND     56 non-null     int64   \n",
      " 8   AWATER    56 non-null     int64   \n",
      " 9   geometry  56 non-null     geometry\n",
      "dtypes: geometry(1), int64(2), object(7)\n",
      "memory usage: 4.5+ KB\n"
     ]
    }
   ],
   "source": [
    "states = boundaries.states(year=settings.latest)\n",
    "states.info()"
   ]
  },
  {
   "cell_type": "markdown",
   "metadata": {
    "id": "waQQqdxSs9Qa"
   },
   "source": [
    "<br>\n",
    "<br>\n",
    "\n",
    "## Data"
   ]
  },
  {
   "cell_type": "markdown",
   "metadata": {
    "id": "fWohNa74Fp1X"
   },
   "source": [
    "### Attributes"
   ]
  },
  {
   "cell_type": "code",
   "execution_count": 13,
   "metadata": {
    "id": "tTGEezhNx7So"
   },
   "outputs": [],
   "source": [
    "fields = ['datetimeobject', 'STUSPS', 'positiveIncrease', 'testIncrease', 'deathIncrease', 'hospitalizedIncrease', \n",
    "          'positiveCumulative', 'testCumulative',  'deathCumulative', 'hospitalizedCumulative', \n",
    "          'positiveRate', 'testRate', 'deathRate', 'hospitalizedRate', 'ndays']\n",
    "\n",
    "dtype = {'STUSPS': 'str', 'positiveIncrease': np.float64, 'testIncrease': np.float64, 'deathIncrease': np.float64, \n",
    "         'hospitalizedIncrease': np.float64, 'positiveCumulative': np.float64, 'testCumulative': np.float64, \n",
    "         'deathCumulative': np.float64, 'hospitalizedCumulative': np.float64, 'positiveRate': np.float64, \n",
    "         'testRate': np.float64, 'deathRate': np.float64, 'hospitalizedRate': np.float64, 'ndays': np.int64}        \n",
    "\n",
    "parse_dates = ['datetimeobject']"
   ]
  },
  {
   "cell_type": "markdown",
   "metadata": {
    "id": "zM5-hsOeFs3H"
   },
   "source": [
    "<br>\n",
    "\n",
    "### Source URL"
   ]
  },
  {
   "cell_type": "code",
   "execution_count": 14,
   "metadata": {},
   "outputs": [],
   "source": [
    "uribaseline = os.path.join(parent, 'warehouse', 'baselines.csv')\n",
    "urihospitalizations = os.path.join(parent, 'warehouse', 'hospitalizations.csv')"
   ]
  },
  {
   "cell_type": "markdown",
   "metadata": {
    "id": "X51nrjBDXObX"
   },
   "source": [
    "<br>\n",
    "\n",
    "### Data"
   ]
  },
  {
   "cell_type": "code",
   "execution_count": 15,
   "metadata": {
    "colab": {
     "base_uri": "https://localhost:8080/",
     "height": 329
    },
    "id": "Am1PH5nYyVK_",
    "outputId": "b189e92b-d418-4de1-9f44-12bd6a860f94"
   },
   "outputs": [
    {
     "name": "stderr",
     "output_type": "stream",
     "text": [
      "INFO:__main__:None\n"
     ]
    },
    {
     "name": "stdout",
     "output_type": "stream",
     "text": [
      "<class 'pandas.core.frame.DataFrame'>\n",
      "RangeIndex: 15288 entries, 0 to 15287\n",
      "Data columns (total 17 columns):\n",
      " #   Column                  Non-Null Count  Dtype         \n",
      "---  ------                  --------------  -----         \n",
      " 0   datetimeobject          15288 non-null  datetime64[ns]\n",
      " 1   STUSPS                  15288 non-null  object        \n",
      " 2   deathIncrease           15288 non-null  float64       \n",
      " 3   deathCumulative         15288 non-null  float64       \n",
      " 4   positiveIncrease        15288 non-null  float64       \n",
      " 5   positiveCumulative      15288 non-null  float64       \n",
      " 6   hospitalizedIncrease    15288 non-null  float64       \n",
      " 7   hospitalizedCumulative  15288 non-null  float64       \n",
      " 8   testIncrease            15288 non-null  float64       \n",
      " 9   testCumulative          15288 non-null  float64       \n",
      " 10  deathRate               15288 non-null  float64       \n",
      " 11  positiveRate            15288 non-null  float64       \n",
      " 12  testRate                15288 non-null  float64       \n",
      " 13  hospitalizedRate        15288 non-null  float64       \n",
      " 14  ndays                   15288 non-null  int64         \n",
      " 15  positiveTestRate        15288 non-null  float64       \n",
      " 16  deathPositiveRate       15288 non-null  float64       \n",
      "dtypes: datetime64[ns](1), float64(14), int64(1), object(1)\n",
      "memory usage: 2.0+ MB\n"
     ]
    }
   ],
   "source": [
    "baselines = pd.read_csv(filepath_or_buffer=uribaseline, header=0, usecols=fields, \n",
    "                        dtype=dtype, encoding='utf-8', parse_dates=parse_dates)\n",
    "\n",
    "baselines.loc[:, 'positiveTestRate'] = np.where(baselines['testRate'] > 0, 100 * baselines['positiveRate'] / baselines['testRate'], 0)\n",
    "baselines.loc[:, 'deathPositiveRate'] = np.where(baselines['positiveRate'] > 0, 100 * baselines['deathRate'] / baselines['positiveRate'], 0)\n",
    "\n",
    "logger.info(baselines.info())"
   ]
  },
  {
   "cell_type": "code",
   "execution_count": 16,
   "metadata": {},
   "outputs": [
    {
     "name": "stderr",
     "output_type": "stream",
     "text": [
      "INFO:__main__:None\n"
     ]
    },
    {
     "name": "stdout",
     "output_type": "stream",
     "text": [
      "<class 'pandas.core.frame.DataFrame'>\n",
      "RangeIndex: 10584 entries, 0 to 10583\n",
      "Data columns (total 17 columns):\n",
      " #   Column                    Non-Null Count  Dtype         \n",
      "---  ------                    --------------  -----         \n",
      " 0   datetimeobject            10584 non-null  datetime64[ns]\n",
      " 1   STUSPS                    10584 non-null  object        \n",
      " 2   deathIncrease             10584 non-null  float64       \n",
      " 3   deathCumulative           10584 non-null  float64       \n",
      " 4   positiveIncrease          10584 non-null  float64       \n",
      " 5   positiveCumulative        10584 non-null  float64       \n",
      " 6   hospitalizedIncrease      10584 non-null  float64       \n",
      " 7   hospitalizedCumulative    10584 non-null  float64       \n",
      " 8   testIncrease              10584 non-null  float64       \n",
      " 9   testCumulative            10584 non-null  float64       \n",
      " 10  deathRate                 10584 non-null  float64       \n",
      " 11  positiveRate              10584 non-null  float64       \n",
      " 12  testRate                  10584 non-null  float64       \n",
      " 13  hospitalizedRate          10584 non-null  float64       \n",
      " 14  ndays                     10584 non-null  int64         \n",
      " 15  hospitalizedPositiveRate  10584 non-null  float64       \n",
      " 16  deathHospitalizedRate     10584 non-null  float64       \n",
      "dtypes: datetime64[ns](1), float64(14), int64(1), object(1)\n",
      "memory usage: 1.4+ MB\n"
     ]
    }
   ],
   "source": [
    "hospitalizations = pd.read_csv(filepath_or_buffer=urihospitalizations, header=0, \n",
    "                               usecols=fields,dtype=dtype, encoding='utf-8', parse_dates=parse_dates)\n",
    "\n",
    "hospitalizations.loc[:, 'hospitalizedPositiveRate'] =  np.where(hospitalizations['positiveRate'] > 0, \n",
    "                                                                100 * hospitalizations['hospitalizedRate'] / hospitalizations['positiveRate'], 0)\n",
    "hospitalizations.loc[:, 'deathHospitalizedRate'] =  np.where(hospitalizations['hospitalizedRate'] > 0, \n",
    "                                                             100 * hospitalizations['deathRate'] / hospitalizations['hospitalizedRate'], 0)\n",
    "\n",
    "logger.info(hospitalizations.info())"
   ]
  },
  {
   "cell_type": "markdown",
   "metadata": {
    "id": "tJDW4w4FioAn"
   },
   "source": [
    "<br>\n",
    "<br>\n",
    "\n",
    "## Regression"
   ]
  },
  {
   "cell_type": "markdown",
   "metadata": {
    "id": "nb7qUDyAywQA"
   },
   "source": [
    "### $\\small{Set-up}$"
   ]
  },
  {
   "cell_type": "markdown",
   "metadata": {
    "id": "aG96g5vxHfi0"
   },
   "source": [
    "#### Latest Date"
   ]
  },
  {
   "cell_type": "code",
   "execution_count": 17,
   "metadata": {
    "colab": {
     "base_uri": "https://localhost:8080/",
     "height": 35
    },
    "id": "EutsQfFe_TAc",
    "outputId": "07bcd2cb-b840-4e8d-8d24-3d81ad798aee"
   },
   "outputs": [
    {
     "name": "stderr",
     "output_type": "stream",
     "text": [
      "INFO:__main__:<class 'pandas._libs.tslibs.timestamps.Timestamp'>\n",
      "INFO:__main__:2020-11-10 00:00:00\n"
     ]
    }
   ],
   "source": [
    "latestdate = baselines.datetimeobject.max()\n",
    "logger.info(type(latestdate))\n",
    "logger.info(latestdate)"
   ]
  },
  {
   "cell_type": "markdown",
   "metadata": {},
   "source": [
    "<br>\n",
    "<br>\n",
    "\n",
    "#### Periods"
   ]
  },
  {
   "cell_type": "markdown",
   "metadata": {
    "id": "nc5wL7foy8Yy"
   },
   "source": [
    "Within the context of the aforementioned $positives_{c, \\small{100K}, \\tau} \\;\\; vs.\\ \\; tests_{c, \\small{100K}, \\tau}$ curves, each value of this array is the number of data points, starting from the end of a curve, that are used to develop **a regression model of the tangent/secant line to the points**.\n",
    "\n",
    "Key points:\n",
    "\n",
    "* The model predicts the expected $positives_{c, \\small{100K}}$ as $tests_{c, \\small{100K}, \\tau}$ increases.\n",
    "\n",
    "* The gradient of each model is an estimate of the prevailing positivity rate; an estimate of the current daily positivity value. [cf. continous positivity value] "
   ]
  },
  {
   "cell_type": "code",
   "execution_count": 18,
   "metadata": {
    "colab": {
     "base_uri": "https://localhost:8080/",
     "height": 54
    },
    "id": "Ecz7HPDpy-6j",
    "outputId": "b66f859e-5678-420c-ec15-89988b8e65e9"
   },
   "outputs": [
    {
     "name": "stderr",
     "output_type": "stream",
     "text": [
      "INFO:__main__:[ 8  9 10 11 12 13 14 15 16 17 18 19 20 21 22 23 24 25 26 27 28]\n"
     ]
    }
   ],
   "source": [
    "periods = np.arange(8, 29)\n",
    "logger.info( periods)"
   ]
  },
  {
   "cell_type": "markdown",
   "metadata": {
    "id": "62eUabmoCmn0"
   },
   "source": [
    "<br>\n",
    "<br>\n",
    "\n",
    "#### Partitions"
   ]
  },
  {
   "cell_type": "code",
   "execution_count": 19,
   "metadata": {
    "colab": {
     "base_uri": "https://localhost:8080/",
     "height": 109
    },
    "id": "pZ7AuQYpnymS",
    "outputId": "6fe80e70-aaee-4e09-ad4e-024fa0b5b83d"
   },
   "outputs": [
    {
     "name": "stderr",
     "output_type": "stream",
     "text": [
      "INFO:__main__:['AL' 'AK' 'AZ' 'AR' 'CA' 'CO' 'CT' 'DE' 'DC' 'FL' 'GA' 'HI' 'ID' 'IL'\n",
      " 'IN' 'IA' 'KS' 'KY' 'LA' 'ME' 'MD' 'MA' 'MI' 'MN' 'MS' 'MO' 'MT' 'NE'\n",
      " 'NV' 'NH' 'NJ' 'NM' 'NY' 'NC' 'ND' 'OH' 'OK' 'OR' 'PA' 'RI' 'SC' 'SD'\n",
      " 'TN' 'TX' 'UT' 'VT' 'VA' 'WA' 'WV' 'WI' 'WY' 'PR']\n"
     ]
    }
   ],
   "source": [
    "partitionby = 'STUSPS'\n",
    "partitions = baselines[partitionby].unique()\n",
    "logger.info(partitions)"
   ]
  },
  {
   "cell_type": "markdown",
   "metadata": {
    "id": "fSpAylLKjVaq"
   },
   "source": [
    "<br>\n",
    "<br>\n",
    "\n",
    "### **positives vs. tests**"
   ]
  },
  {
   "cell_type": "markdown",
   "metadata": {},
   "source": [
    "#### Analysis"
   ]
  },
  {
   "cell_type": "code",
   "execution_count": 20,
   "metadata": {
    "id": "K3T98kHYaByi"
   },
   "outputs": [],
   "source": [
    "formula = 'positiveRate ~ testRate'\n",
    "regressor = 'testRate'\n",
    "\n",
    "prospects = atlantic.investigations.prospects.Prospects(data=baselines, partitionby=partitionby, periods=periods, \n",
    "                                                 formula=formula, regressor=regressor, step=100, num=5, latestdate=latestdate)"
   ]
  },
  {
   "cell_type": "code",
   "execution_count": 21,
   "metadata": {},
   "outputs": [],
   "source": [
    "estimates, predictions = prospects.exc(partitions=baselines[partitionby].unique())"
   ]
  },
  {
   "cell_type": "markdown",
   "metadata": {},
   "source": [
    "<br>\n",
    "\n",
    "Estimates"
   ]
  },
  {
   "cell_type": "code",
   "execution_count": 22,
   "metadata": {},
   "outputs": [
    {
     "name": "stderr",
     "output_type": "stream",
     "text": [
      "INFO:__main__:None\n"
     ]
    },
    {
     "name": "stdout",
     "output_type": "stream",
     "text": [
      "<class 'pandas.core.frame.DataFrame'>\n",
      "RangeIndex: 52 entries, 0 to 51\n",
      "Data columns (total 8 columns):\n",
      " #   Column                   Non-Null Count  Dtype         \n",
      "---  ------                   --------------  -----         \n",
      " 0   datetimeobject           52 non-null     datetime64[ns]\n",
      " 1   gradient                 52 non-null     object        \n",
      " 2   lowerconfidenceinterval  52 non-null     object        \n",
      " 3   upperconfidenceinterval  52 non-null     object        \n",
      " 4   pvalue                   52 non-null     object        \n",
      " 5   rsquared                 52 non-null     object        \n",
      " 6   intercept                52 non-null     object        \n",
      " 7   STUSPS                   52 non-null     object        \n",
      "dtypes: datetime64[ns](1), object(7)\n",
      "memory usage: 3.4+ KB\n"
     ]
    }
   ],
   "source": [
    "logger.info(estimates.info())"
   ]
  },
  {
   "cell_type": "markdown",
   "metadata": {},
   "source": [
    "<br>\n",
    "\n",
    "Predictions"
   ]
  },
  {
   "cell_type": "code",
   "execution_count": 23,
   "metadata": {},
   "outputs": [
    {
     "name": "stderr",
     "output_type": "stream",
     "text": [
      "INFO:__main__:None\n"
     ]
    },
    {
     "name": "stdout",
     "output_type": "stream",
     "text": [
      "<class 'pandas.core.frame.DataFrame'>\n",
      "RangeIndex: 260 entries, 0 to 259\n",
      "Data columns (total 5 columns):\n",
      " #   Column    Non-Null Count  Dtype  \n",
      "---  ------    --------------  -----  \n",
      " 0   testRate  260 non-null    float64\n",
      " 1   minimum   260 non-null    float64\n",
      " 2   median    260 non-null    float64\n",
      " 3   maximum   260 non-null    float64\n",
      " 4   STUSPS    260 non-null    object \n",
      "dtypes: float64(4), object(1)\n",
      "memory usage: 10.3+ KB\n"
     ]
    }
   ],
   "source": [
    "logger.info(predictions.info())"
   ]
  },
  {
   "cell_type": "markdown",
   "metadata": {
    "id": "ZwTkYgMRR2zC"
   },
   "source": [
    "<br>\n",
    "\n",
    "#### State of affairs"
   ]
  },
  {
   "cell_type": "code",
   "execution_count": 24,
   "metadata": {},
   "outputs": [],
   "source": [
    "ptr = estimates"
   ]
  },
  {
   "cell_type": "markdown",
   "metadata": {},
   "source": [
    "<br>\n",
    "\n",
    "Prevailing Positive Test Rate"
   ]
  },
  {
   "cell_type": "code",
   "execution_count": 25,
   "metadata": {},
   "outputs": [],
   "source": [
    "ptr.loc[:, 'prevailingPTR'] = 100 * ptr['gradient']\n",
    "ptr = ptr.merge(baselines[['datetimeobject', 'STUSPS', 'positiveTestRate']], how='left', on=['datetimeobject', 'STUSPS'])\n",
    "ptr.loc[:, 'cf'] = ptr[['prevailingPTR', 'positiveTestRate']].max(axis=1)\n",
    "\n",
    "ptr.loc[:, 'rank'] = ptr['cf'].rank(method='min', ascending=False)\n",
    "ptr.sort_values(by='rank', ascending=True, inplace=True)\n",
    "ptr.drop(columns=['cf'], inplace=True)"
   ]
  },
  {
   "cell_type": "markdown",
   "metadata": {},
   "source": [
    "<br>\n",
    "\n",
    "Structuring"
   ]
  },
  {
   "cell_type": "code",
   "execution_count": 26,
   "metadata": {
    "colab": {
     "base_uri": "https://localhost:8080/",
     "height": 1000
    },
    "id": "t6sMy86OHV52",
    "outputId": "c262d2d3-abd8-4cf6-daea-28ff495a974d"
   },
   "outputs": [
    {
     "data": {
      "text/html": [
       "<div>\n",
       "<style scoped>\n",
       "    .dataframe tbody tr th:only-of-type {\n",
       "        vertical-align: middle;\n",
       "    }\n",
       "\n",
       "    .dataframe tbody tr th {\n",
       "        vertical-align: top;\n",
       "    }\n",
       "\n",
       "    .dataframe thead th {\n",
       "        text-align: right;\n",
       "    }\n",
       "</style>\n",
       "<table border=\"1\" class=\"dataframe\">\n",
       "  <thead>\n",
       "    <tr style=\"text-align: right;\">\n",
       "      <th></th>\n",
       "      <th>datetimeobject</th>\n",
       "      <th>gradient</th>\n",
       "      <th>gradientLCI</th>\n",
       "      <th>gradientUCI</th>\n",
       "      <th>pvalue</th>\n",
       "      <th>rsquared</th>\n",
       "      <th>intercept</th>\n",
       "      <th>STUSPS</th>\n",
       "      <th>prevailingPTR</th>\n",
       "      <th>continuousPTR</th>\n",
       "      <th>rank</th>\n",
       "      <th>prevailingTPC</th>\n",
       "    </tr>\n",
       "  </thead>\n",
       "  <tbody>\n",
       "    <tr>\n",
       "      <th>6</th>\n",
       "      <td>2020-11-10</td>\n",
       "      <td>0.0344762</td>\n",
       "      <td>0.0289186</td>\n",
       "      <td>0.0406945</td>\n",
       "      <td>1.43097e-19</td>\n",
       "      <td>0.994229</td>\n",
       "      <td>-212.276</td>\n",
       "      <td>CT</td>\n",
       "      <td>3.44762</td>\n",
       "      <td>3.189033</td>\n",
       "      <td>48.0</td>\n",
       "      <td>29.0055</td>\n",
       "    </tr>\n",
       "    <tr>\n",
       "      <th>32</th>\n",
       "      <td>2020-11-10</td>\n",
       "      <td>0.0178246</td>\n",
       "      <td>0.0149878</td>\n",
       "      <td>0.0242639</td>\n",
       "      <td>2.02388e-17</td>\n",
       "      <td>0.989079</td>\n",
       "      <td>1281.88</td>\n",
       "      <td>NY</td>\n",
       "      <td>1.78246</td>\n",
       "      <td>3.371077</td>\n",
       "      <td>49.0</td>\n",
       "      <td>56.1023</td>\n",
       "    </tr>\n",
       "    <tr>\n",
       "      <th>8</th>\n",
       "      <td>2020-11-10</td>\n",
       "      <td>0.0201363</td>\n",
       "      <td>0.0172039</td>\n",
       "      <td>0.0235203</td>\n",
       "      <td>3.40994e-20</td>\n",
       "      <td>0.9936</td>\n",
       "      <td>965.528</td>\n",
       "      <td>DC</td>\n",
       "      <td>2.01363</td>\n",
       "      <td>3.234591</td>\n",
       "      <td>50.0</td>\n",
       "      <td>49.6616</td>\n",
       "    </tr>\n",
       "    <tr>\n",
       "      <th>1</th>\n",
       "      <td>2020-11-10</td>\n",
       "      <td>0.0220962</td>\n",
       "      <td>0.00405726</td>\n",
       "      <td>0.0341701</td>\n",
       "      <td>2.04192e-08</td>\n",
       "      <td>0.858826</td>\n",
       "      <td>350.657</td>\n",
       "      <td>AK</td>\n",
       "      <td>2.20962</td>\n",
       "      <td>2.515517</td>\n",
       "      <td>51.0</td>\n",
       "      <td>45.2567</td>\n",
       "    </tr>\n",
       "    <tr>\n",
       "      <th>19</th>\n",
       "      <td>2020-11-10</td>\n",
       "      <td>0.0145993</td>\n",
       "      <td>0.0104937</td>\n",
       "      <td>0.0250308</td>\n",
       "      <td>2.92954e-12</td>\n",
       "      <td>0.956285</td>\n",
       "      <td>-177.557</td>\n",
       "      <td>ME</td>\n",
       "      <td>1.45993</td>\n",
       "      <td>1.144186</td>\n",
       "      <td>52.0</td>\n",
       "      <td>68.4965</td>\n",
       "    </tr>\n",
       "  </tbody>\n",
       "</table>\n",
       "</div>"
      ],
      "text/plain": [
       "   datetimeobject   gradient gradientLCI gradientUCI       pvalue  rsquared  \\\n",
       "6      2020-11-10  0.0344762   0.0289186   0.0406945  1.43097e-19  0.994229   \n",
       "32     2020-11-10  0.0178246   0.0149878   0.0242639  2.02388e-17  0.989079   \n",
       "8      2020-11-10  0.0201363   0.0172039   0.0235203  3.40994e-20    0.9936   \n",
       "1      2020-11-10  0.0220962  0.00405726   0.0341701  2.04192e-08  0.858826   \n",
       "19     2020-11-10  0.0145993   0.0104937   0.0250308  2.92954e-12  0.956285   \n",
       "\n",
       "   intercept STUSPS prevailingPTR  continuousPTR  rank prevailingTPC  \n",
       "6   -212.276     CT       3.44762       3.189033  48.0       29.0055  \n",
       "32   1281.88     NY       1.78246       3.371077  49.0       56.1023  \n",
       "8    965.528     DC       2.01363       3.234591  50.0       49.6616  \n",
       "1    350.657     AK       2.20962       2.515517  51.0       45.2567  \n",
       "19  -177.557     ME       1.45993       1.144186  52.0       68.4965  "
      ]
     },
     "execution_count": 26,
     "metadata": {},
     "output_type": "execute_result"
    }
   ],
   "source": [
    "ptr.loc[:, 'prevailingTPC'] = np.where(ptr['prevailingPTR'] > 0, ptr['prevailingPTR'].rdiv(100), 0)\n",
    "ptr.rename(columns={'lowerconfidenceinterval': 'gradientLCI', 'upperconfidenceinterval': 'gradientUCI', 'positiveTestRate': 'continuousPTR'},\n",
    "          inplace=True)\n",
    "ptr.to_csv(path_or_buf=os.path.join(warehouse, 'ptr.csv'), index=False, header=True, encoding='utf-8')\n",
    "\n",
    "ptr.tail()"
   ]
  },
  {
   "cell_type": "markdown",
   "metadata": {},
   "source": [
    "<br>\n",
    "<br>\n",
    "\n",
    "### **deaths vs. positives**"
   ]
  },
  {
   "cell_type": "code",
   "execution_count": 27,
   "metadata": {},
   "outputs": [],
   "source": [
    "del formula, regressor, prospects, estimates, predictions"
   ]
  },
  {
   "cell_type": "markdown",
   "metadata": {},
   "source": [
    "<br>\n",
    "\n",
    "#### Analysis"
   ]
  },
  {
   "cell_type": "code",
   "execution_count": 28,
   "metadata": {},
   "outputs": [],
   "source": [
    "formula = 'deathRate ~ positiveRate'\n",
    "regressor = 'positiveRate'\n",
    "\n",
    "prospects = atlantic.investigations.prospects.Prospects(data=baselines, partitionby=partitionby, periods=periods, \n",
    "                                                 formula=formula, regressor=regressor, step=20, num=5, latestdate=latestdate)"
   ]
  },
  {
   "cell_type": "code",
   "execution_count": 29,
   "metadata": {},
   "outputs": [],
   "source": [
    "estimates, predictions = prospects.exc(partitions=baselines[partitionby].unique())"
   ]
  },
  {
   "cell_type": "markdown",
   "metadata": {},
   "source": [
    "<br>\n",
    "\n",
    "#### State of Affairs"
   ]
  },
  {
   "cell_type": "code",
   "execution_count": 30,
   "metadata": {},
   "outputs": [],
   "source": [
    "dpr = estimates"
   ]
  },
  {
   "cell_type": "markdown",
   "metadata": {},
   "source": [
    "<br>\n",
    "\n",
    "Prevailing Death Positive Rate"
   ]
  },
  {
   "cell_type": "code",
   "execution_count": 31,
   "metadata": {},
   "outputs": [],
   "source": [
    "dpr.loc[:, 'prevailingDPR'] = 100 * dpr['gradient']\n",
    "dpr = dpr.merge(baselines[['datetimeobject', 'STUSPS', 'deathPositiveRate']], how='left', on=['datetimeobject', 'STUSPS'])\n",
    "dpr.loc[:, 'cf'] = dpr[['prevailingDPR', 'deathPositiveRate']].max(axis=1)\n",
    "\n",
    "dpr.loc[:, 'rank'] = dpr['cf'].rank(method='min', ascending=False)\n",
    "dpr.sort_values(by='rank', ascending=True, inplace=True)\n",
    "dpr.drop(columns=['cf'], inplace=True)"
   ]
  },
  {
   "cell_type": "markdown",
   "metadata": {},
   "source": [
    "<br>\n",
    "\n",
    "Structuring"
   ]
  },
  {
   "cell_type": "code",
   "execution_count": 32,
   "metadata": {},
   "outputs": [
    {
     "data": {
      "text/html": [
       "<div>\n",
       "<style scoped>\n",
       "    .dataframe tbody tr th:only-of-type {\n",
       "        vertical-align: middle;\n",
       "    }\n",
       "\n",
       "    .dataframe tbody tr th {\n",
       "        vertical-align: top;\n",
       "    }\n",
       "\n",
       "    .dataframe thead th {\n",
       "        text-align: right;\n",
       "    }\n",
       "</style>\n",
       "<table border=\"1\" class=\"dataframe\">\n",
       "  <thead>\n",
       "    <tr style=\"text-align: right;\">\n",
       "      <th></th>\n",
       "      <th>datetimeobject</th>\n",
       "      <th>gradient</th>\n",
       "      <th>gradientLCI</th>\n",
       "      <th>gradientUCI</th>\n",
       "      <th>pvalue</th>\n",
       "      <th>rsquared</th>\n",
       "      <th>intercept</th>\n",
       "      <th>STUSPS</th>\n",
       "      <th>prevailingDPR</th>\n",
       "      <th>continuousDPR</th>\n",
       "      <th>rank</th>\n",
       "      <th>prevailingTPC</th>\n",
       "    </tr>\n",
       "  </thead>\n",
       "  <tbody>\n",
       "    <tr>\n",
       "      <th>49</th>\n",
       "      <td>2020-11-10</td>\n",
       "      <td>0.00776335</td>\n",
       "      <td>0.00610411</td>\n",
       "      <td>0.00817171</td>\n",
       "      <td>2.56373e-18</td>\n",
       "      <td>0.993995</td>\n",
       "      <td>3.71872</td>\n",
       "      <td>WI</td>\n",
       "      <td>0.776335</td>\n",
       "      <td>0.844758</td>\n",
       "      <td>48.0</td>\n",
       "      <td>128.81</td>\n",
       "    </tr>\n",
       "    <tr>\n",
       "      <th>27</th>\n",
       "      <td>2020-11-10</td>\n",
       "      <td>0.00514278</td>\n",
       "      <td>0.00350477</td>\n",
       "      <td>0.00652207</td>\n",
       "      <td>4.95615e-13</td>\n",
       "      <td>0.967117</td>\n",
       "      <td>14.4054</td>\n",
       "      <td>NE</td>\n",
       "      <td>0.514278</td>\n",
       "      <td>0.829914</td>\n",
       "      <td>49.0</td>\n",
       "      <td>194.447</td>\n",
       "    </tr>\n",
       "    <tr>\n",
       "      <th>50</th>\n",
       "      <td>2020-11-10</td>\n",
       "      <td>0.0065787</td>\n",
       "      <td>0.00353809</td>\n",
       "      <td>0.00874208</td>\n",
       "      <td>1.9961e-12</td>\n",
       "      <td>0.957845</td>\n",
       "      <td>-0.192236</td>\n",
       "      <td>WY</td>\n",
       "      <td>0.65787</td>\n",
       "      <td>0.660015</td>\n",
       "      <td>50.0</td>\n",
       "      <td>152.006</td>\n",
       "    </tr>\n",
       "    <tr>\n",
       "      <th>44</th>\n",
       "      <td>2020-11-10</td>\n",
       "      <td>0.00302651</td>\n",
       "      <td>0.00231137</td>\n",
       "      <td>0.00346737</td>\n",
       "      <td>2.68973e-17</td>\n",
       "      <td>0.989605</td>\n",
       "      <td>8.05214</td>\n",
       "      <td>UT</td>\n",
       "      <td>0.302651</td>\n",
       "      <td>0.489136</td>\n",
       "      <td>51.0</td>\n",
       "      <td>330.414</td>\n",
       "    </tr>\n",
       "    <tr>\n",
       "      <th>1</th>\n",
       "      <td>2020-11-10</td>\n",
       "      <td>0.0027274</td>\n",
       "      <td>-0.000496043</td>\n",
       "      <td>0.00374566</td>\n",
       "      <td>8.28001e-07</td>\n",
       "      <td>0.789868</td>\n",
       "      <td>4.55829</td>\n",
       "      <td>AK</td>\n",
       "      <td>0.27274</td>\n",
       "      <td>0.441628</td>\n",
       "      <td>52.0</td>\n",
       "      <td>366.65</td>\n",
       "    </tr>\n",
       "  </tbody>\n",
       "</table>\n",
       "</div>"
      ],
      "text/plain": [
       "   datetimeobject    gradient  gradientLCI gradientUCI       pvalue  rsquared  \\\n",
       "49     2020-11-10  0.00776335   0.00610411  0.00817171  2.56373e-18  0.993995   \n",
       "27     2020-11-10  0.00514278   0.00350477  0.00652207  4.95615e-13  0.967117   \n",
       "50     2020-11-10   0.0065787   0.00353809  0.00874208   1.9961e-12  0.957845   \n",
       "44     2020-11-10  0.00302651   0.00231137  0.00346737  2.68973e-17  0.989605   \n",
       "1      2020-11-10   0.0027274 -0.000496043  0.00374566  8.28001e-07  0.789868   \n",
       "\n",
       "   intercept STUSPS prevailingDPR  continuousDPR  rank prevailingTPC  \n",
       "49   3.71872     WI      0.776335       0.844758  48.0        128.81  \n",
       "27   14.4054     NE      0.514278       0.829914  49.0       194.447  \n",
       "50 -0.192236     WY       0.65787       0.660015  50.0       152.006  \n",
       "44   8.05214     UT      0.302651       0.489136  51.0       330.414  \n",
       "1    4.55829     AK       0.27274       0.441628  52.0        366.65  "
      ]
     },
     "execution_count": 32,
     "metadata": {},
     "output_type": "execute_result"
    }
   ],
   "source": [
    "dpr.loc[:, 'prevailingTPC'] = np.where(dpr['prevailingDPR'] > 0, dpr['prevailingDPR'].rdiv(100), 0)\n",
    "dpr.rename(columns={'lowerconfidenceinterval': 'gradientLCI', 'upperconfidenceinterval': 'gradientUCI', 'deathPositiveRate': 'continuousDPR'},\n",
    "          inplace=True)\n",
    "dpr.to_csv(path_or_buf=os.path.join(warehouse, 'dpr.csv'), index=False, header=True, encoding='utf-8')\n",
    "\n",
    "dpr.tail()"
   ]
  },
  {
   "cell_type": "markdown",
   "metadata": {},
   "source": [
    "<br>\n",
    "<br>\n",
    "\n",
    "### **hospitalizations vs. positives**"
   ]
  },
  {
   "cell_type": "code",
   "execution_count": 33,
   "metadata": {},
   "outputs": [],
   "source": [
    "del formula, regressor, prospects, estimates, predictions"
   ]
  },
  {
   "cell_type": "markdown",
   "metadata": {},
   "source": [
    "<br>\n",
    "\n",
    "#### Analysis"
   ]
  },
  {
   "cell_type": "code",
   "execution_count": 34,
   "metadata": {},
   "outputs": [],
   "source": [
    "formula = 'hospitalizedRate ~ positiveRate'\n",
    "regressor = 'positiveRate'\n",
    "\n",
    "prospects = atlantic.investigations.prospects.Prospects(data=hospitalizations, partitionby=partitionby, periods=periods, \n",
    "                                                 formula=formula, regressor=regressor, step=10, num=5, latestdate=latestdate)"
   ]
  },
  {
   "cell_type": "code",
   "execution_count": 35,
   "metadata": {},
   "outputs": [],
   "source": [
    "estimates, predictions = prospects.exc(partitions=hospitalizations[partitionby].unique())"
   ]
  },
  {
   "cell_type": "markdown",
   "metadata": {},
   "source": [
    "<br>\n",
    "\n",
    "#### State of Affairs"
   ]
  },
  {
   "cell_type": "code",
   "execution_count": 36,
   "metadata": {},
   "outputs": [],
   "source": [
    "hpr = estimates"
   ]
  },
  {
   "cell_type": "markdown",
   "metadata": {},
   "source": [
    "<br>\n",
    "\n",
    "Prevailing Hospitalised Positive Rate"
   ]
  },
  {
   "cell_type": "code",
   "execution_count": 37,
   "metadata": {},
   "outputs": [],
   "source": [
    "hpr.loc[:, 'prevailingHPR'] = 100 * hpr['gradient']\n",
    "hpr.loc[:, 'rank'] = hpr['prevailingHPR'].rank(method='min', ascending=False)\n",
    "hpr.sort_values(by='rank', ascending=True, inplace=True)"
   ]
  },
  {
   "cell_type": "markdown",
   "metadata": {},
   "source": [
    "<br>\n",
    "\n",
    "Structuring"
   ]
  },
  {
   "cell_type": "code",
   "execution_count": 38,
   "metadata": {},
   "outputs": [
    {
     "data": {
      "text/html": [
       "<div>\n",
       "<style scoped>\n",
       "    .dataframe tbody tr th:only-of-type {\n",
       "        vertical-align: middle;\n",
       "    }\n",
       "\n",
       "    .dataframe tbody tr th {\n",
       "        vertical-align: top;\n",
       "    }\n",
       "\n",
       "    .dataframe thead th {\n",
       "        text-align: right;\n",
       "    }\n",
       "</style>\n",
       "<table border=\"1\" class=\"dataframe\">\n",
       "  <thead>\n",
       "    <tr style=\"text-align: right;\">\n",
       "      <th></th>\n",
       "      <th>datetimeobject</th>\n",
       "      <th>gradient</th>\n",
       "      <th>gradientLCI</th>\n",
       "      <th>gradientUCI</th>\n",
       "      <th>pvalue</th>\n",
       "      <th>rsquared</th>\n",
       "      <th>intercept</th>\n",
       "      <th>STUSPS</th>\n",
       "      <th>prevailingHPR</th>\n",
       "      <th>rank</th>\n",
       "      <th>continuousHPR</th>\n",
       "      <th>prevailingCPH</th>\n",
       "    </tr>\n",
       "  </thead>\n",
       "  <tbody>\n",
       "    <tr>\n",
       "      <th>31</th>\n",
       "      <td>2020-11-10</td>\n",
       "      <td>0.0180843</td>\n",
       "      <td>0.0111942</td>\n",
       "      <td>0.0195605</td>\n",
       "      <td>3.1703e-15</td>\n",
       "      <td>0.98114</td>\n",
       "      <td>34.6137</td>\n",
       "      <td>WY</td>\n",
       "      <td>1.80843</td>\n",
       "      <td>32.0</td>\n",
       "      <td>2.816755</td>\n",
       "      <td>55.2967</td>\n",
       "    </tr>\n",
       "    <tr>\n",
       "      <th>32</th>\n",
       "      <td>2020-11-10</td>\n",
       "      <td>0.0114782</td>\n",
       "      <td>0.00607868</td>\n",
       "      <td>0.0128803</td>\n",
       "      <td>1.93044e-12</td>\n",
       "      <td>0.966079</td>\n",
       "      <td>47.8516</td>\n",
       "      <td>NH</td>\n",
       "      <td>1.14782</td>\n",
       "      <td>33.0</td>\n",
       "      <td>6.161468</td>\n",
       "      <td>87.1218</td>\n",
       "    </tr>\n",
       "    <tr>\n",
       "      <th>33</th>\n",
       "      <td>2020-11-10</td>\n",
       "      <td>0.0105446</td>\n",
       "      <td>0.000804676</td>\n",
       "      <td>0.0156425</td>\n",
       "      <td>3.33549e-09</td>\n",
       "      <td>0.893815</td>\n",
       "      <td>168.03</td>\n",
       "      <td>MA</td>\n",
       "      <td>1.05446</td>\n",
       "      <td>34.0</td>\n",
       "      <td>7.646914</td>\n",
       "      <td>94.8357</td>\n",
       "    </tr>\n",
       "    <tr>\n",
       "      <th>34</th>\n",
       "      <td>2020-11-10</td>\n",
       "      <td>4.44089e-16</td>\n",
       "      <td>-0.00126888</td>\n",
       "      <td>0.0178428</td>\n",
       "      <td>0.400291</td>\n",
       "      <td>-7.44444</td>\n",
       "      <td>343.787</td>\n",
       "      <td>CT</td>\n",
       "      <td>4.44089e-14</td>\n",
       "      <td>35.0</td>\n",
       "      <td>14.769783</td>\n",
       "      <td>2.2518e+15</td>\n",
       "    </tr>\n",
       "    <tr>\n",
       "      <th>35</th>\n",
       "      <td>2020-11-10</td>\n",
       "      <td>-1.11022e-16</td>\n",
       "      <td>-5.18424e-14</td>\n",
       "      <td>5.31747e-14</td>\n",
       "      <td>0.926546</td>\n",
       "      <td>-205.545</td>\n",
       "      <td>462.615</td>\n",
       "      <td>NY</td>\n",
       "      <td>-1.11022e-14</td>\n",
       "      <td>35.0</td>\n",
       "      <td>16.785571</td>\n",
       "      <td>0</td>\n",
       "    </tr>\n",
       "  </tbody>\n",
       "</table>\n",
       "</div>"
      ],
      "text/plain": [
       "   datetimeobject     gradient  gradientLCI  gradientUCI       pvalue  \\\n",
       "31     2020-11-10    0.0180843    0.0111942    0.0195605   3.1703e-15   \n",
       "32     2020-11-10    0.0114782   0.00607868    0.0128803  1.93044e-12   \n",
       "33     2020-11-10    0.0105446  0.000804676    0.0156425  3.33549e-09   \n",
       "34     2020-11-10  4.44089e-16  -0.00126888    0.0178428     0.400291   \n",
       "35     2020-11-10 -1.11022e-16 -5.18424e-14  5.31747e-14     0.926546   \n",
       "\n",
       "    rsquared intercept STUSPS prevailingHPR  rank  continuousHPR prevailingCPH  \n",
       "31   0.98114   34.6137     WY       1.80843  32.0       2.816755       55.2967  \n",
       "32  0.966079   47.8516     NH       1.14782  33.0       6.161468       87.1218  \n",
       "33  0.893815    168.03     MA       1.05446  34.0       7.646914       94.8357  \n",
       "34  -7.44444   343.787     CT   4.44089e-14  35.0      14.769783    2.2518e+15  \n",
       "35  -205.545   462.615     NY  -1.11022e-14  35.0      16.785571             0  "
      ]
     },
     "execution_count": 38,
     "metadata": {},
     "output_type": "execute_result"
    }
   ],
   "source": [
    "hpr = hpr.merge(hospitalizations[['datetimeobject', 'STUSPS', 'hospitalizedPositiveRate']], how='left', on=['datetimeobject', 'STUSPS'])\n",
    "hpr.loc[:, 'prevailingCPH'] = np.where(hpr['prevailingHPR'] > 0, hpr['prevailingHPR'].rdiv(100), 0)\n",
    "\n",
    "hpr.rename(columns={'lowerconfidenceinterval': 'gradientLCI', 'upperconfidenceinterval': 'gradientUCI', 'hospitalizedPositiveRate': 'continuousHPR'}, \n",
    "           inplace=True)\n",
    "\n",
    "hpr.to_csv(path_or_buf=os.path.join(warehouse, 'hpr.csv'), index=False, header=True, encoding='utf-8')\n",
    "\n",
    "hpr.tail()"
   ]
  },
  {
   "cell_type": "markdown",
   "metadata": {},
   "source": [
    "<br>\n",
    "<br>\n",
    "\n",
    "## Clean-up"
   ]
  },
  {
   "cell_type": "code",
   "execution_count": 39,
   "metadata": {},
   "outputs": [],
   "source": [
    "!rm -rf *.log\n",
    "!rm -rf *.pdf\n",
    "!rm -rf states"
   ]
  }
 ],
 "metadata": {
  "colab": {
   "collapsed_sections": [],
   "name": "foresights.ipynb",
   "provenance": [],
   "toc_visible": true
  },
  "kernelspec": {
   "display_name": "Python 3",
   "language": "python",
   "name": "python3"
  },
  "language_info": {
   "codemirror_mode": {
    "name": "ipython",
    "version": 3
   },
   "file_extension": ".py",
   "mimetype": "text/x-python",
   "name": "python",
   "nbconvert_exporter": "python",
   "pygments_lexer": "ipython3",
   "version": "3.7.7"
  }
 },
 "nbformat": 4,
 "nbformat_minor": 4
}
