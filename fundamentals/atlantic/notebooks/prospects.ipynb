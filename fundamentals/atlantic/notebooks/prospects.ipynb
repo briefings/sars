{
 "cells": [
  {
   "cell_type": "markdown",
   "metadata": {
    "id": "qYxtyKBSegLi"
   },
   "source": [
    "This notebook continuously estimates the prevailing, realtime, positivity values via \n",
    "\n",
    "* $positives_{c, \\small{100K}, \\tau} \\;\\; vs.\\ \\; tests_{c, \\small{100K}, \\tau}$\n",
    "\n",
    "curves, wherein\n",
    "\n",
    "$\\qquad \\qquad \\qquad positives_{c, \\small{100K}, \\tau} \\; = \\; \\small{100\\,000} \\times \\displaystyle \\left(\\sum_{\\substack{\n",
    "   start \\\\\n",
    "   date\n",
    "  }}^{\\tau}{P_{\\delta}}  \\right) \\times \\frac{1}{population}$\n",
    "\n",
    "\n",
    "$\\qquad \\qquad \\qquad \\qquad  tests_{c, \\small{100K}, \\tau} \\; = \\; \\small{100\\,000} \\times \\displaystyle \\left(\\sum_{\\substack{\n",
    "   start \\\\\n",
    "   date\n",
    "  }}^{\\tau}{T_{\\delta}} \\right) \\times \\frac{1}{population}$  \n",
    "\n",
    "<br>\n",
    "\n",
    "which are the positive cases per hundred thousand and test numbers per hundred thousand, respectively, based on their cumulative values and\n",
    "\n",
    "<br>\n",
    "\n",
    "<table style=\"width:35%; text-align: left; border: 0px solid black; float:left; margin-left: 50px\">\n",
    "    <tr>\n",
    "        <th style=\"width:20%;\">$\\mathcal{Variable} \\qquad$</th><th></th> \n",
    "    </tr>\n",
    "    <tr>\n",
    "        <td>$\\tau$</td><td>end date</td>\n",
    "    </tr>\n",
    "    <tr>\n",
    "        <td>$\\delta$</td><td>a series date</td>\n",
    "    </tr>\n",
    "    <tr>\n",
    "      <td>$P_{\\delta}$</td><td>The number of positive cases on date $\\delta$.</td>\n",
    "    </tr>\n",
    "    <tr>\n",
    "      <td>$T_{\\delta}$</td><td>The number of tests on date $\\delta$.</td>\n",
    "    </tr>\n",
    "    \n",
    "</table>\n",
    "\n",
    "\n",
    "<br>"
   ]
  },
  {
   "cell_type": "markdown",
   "metadata": {},
   "source": [
    "<br>\n",
    "\n",
    "The subscript $c$ denotes cumulative.   The graph image below illustrates the curves in question.  In brief \n",
    "\n",
    "* The quotient of the coordinates of a point along a curve is the cumulative positivity value. \n",
    "\n",
    "* The gradient of a modelled secant line to a sequential set of curve rear points estimates the prevailing positivity value.\n",
    "\n",
    "* The aforementioned secant line model predicts the expected values of $positives_{c, \\small{100K}}$ as $tests_{c, \\small{100K}}$ increases.\n"
   ]
  },
  {
   "cell_type": "markdown",
   "metadata": {
    "id": "fBo-NZiRj3Jk"
   },
   "source": [
    "<div style=\"margin-left: 100px;\">\n",
    "    <img src=\"https://github.com/briefings/sars/raw/develop/fundamentals/atlantic/docs/ptr.png\" longdesc=\"surveillance\" width=\"40%\" style=\"float:center\">\n",
    "</div>\n",
    "\n",
    "<br>\n",
    "\n",
    "Upcoming: Link this image to the interactive graph.\n",
    "\n"
   ]
  },
  {
   "cell_type": "markdown",
   "metadata": {
    "id": "VphP1R94t3MG"
   },
   "source": [
    "<br>\n",
    "<br>\n",
    "\n",
    "## Preliminaries: In Progress"
   ]
  },
  {
   "cell_type": "markdown",
   "metadata": {
    "id": "GHv0WS-ft3NU"
   },
   "source": [
    "### Libraries"
   ]
  },
  {
   "cell_type": "code",
   "execution_count": 1,
   "metadata": {
    "id": "Rmvhg4BGt3NV"
   },
   "outputs": [],
   "source": [
    "import pandas as pd\n",
    "import geopandas as gpd\n",
    "import numpy as np\n",
    "import dask\n",
    "\n",
    "import logging\n",
    "\n",
    "import os\n",
    "import pathlib\n",
    "import sys\n",
    "\n",
    "import statsmodels.regression.linear_model\n"
   ]
  },
  {
   "cell_type": "code",
   "execution_count": 2,
   "metadata": {},
   "outputs": [],
   "source": [
    "from statsmodels.formula.api import ols"
   ]
  },
  {
   "cell_type": "markdown",
   "metadata": {},
   "source": [
    "<br>\n",
    "\n",
    "### Paths"
   ]
  },
  {
   "cell_type": "code",
   "execution_count": 3,
   "metadata": {},
   "outputs": [],
   "source": [
    "child = os.getcwd()\n",
    "parent = str(pathlib.Path(child).parent)"
   ]
  },
  {
   "cell_type": "code",
   "execution_count": 4,
   "metadata": {},
   "outputs": [],
   "source": [
    "root = os.path.join(child, 'warehouse')\n",
    "warehouse = os.path.join(root, 'prospects')"
   ]
  },
  {
   "cell_type": "markdown",
   "metadata": {},
   "source": [
    "<br>\n",
    "\n",
    "Appending paths"
   ]
  },
  {
   "cell_type": "code",
   "execution_count": 5,
   "metadata": {},
   "outputs": [],
   "source": [
    "sys.path.append(parent)"
   ]
  },
  {
   "cell_type": "markdown",
   "metadata": {},
   "source": [
    "<br>\n",
    "\n",
    "### Logging"
   ]
  },
  {
   "cell_type": "code",
   "execution_count": 6,
   "metadata": {},
   "outputs": [],
   "source": [
    "logging.basicConfig(level=logging.INFO)\n",
    "logger = logging.getLogger(__name__)"
   ]
  },
  {
   "cell_type": "markdown",
   "metadata": {
    "id": "XBdw0goyNV84"
   },
   "source": [
    "<br>\n",
    "\n",
    "### Custom"
   ]
  },
  {
   "cell_type": "markdown",
   "metadata": {},
   "source": [
    "Import"
   ]
  },
  {
   "cell_type": "code",
   "execution_count": 7,
   "metadata": {
    "id": "MK-SkdR98nB6"
   },
   "outputs": [],
   "source": [
    "import cartographs.boundaries.us.boundaries\n",
    "import cartographs.boundaries.us.settings"
   ]
  },
  {
   "cell_type": "code",
   "execution_count": 8,
   "metadata": {
    "id": "_OkEqJAXT1v_"
   },
   "outputs": [],
   "source": [
    "import algorithms.curves.estimates\n",
    "import algorithms.curves.predictions\n",
    "import algorithms.curves.secants"
   ]
  },
  {
   "cell_type": "code",
   "execution_count": 9,
   "metadata": {},
   "outputs": [],
   "source": [
    "import atlantic.base.directories\n",
    "import atlantic.explore.prospects\n",
    "import atlantic.explore.hospitalisations"
   ]
  },
  {
   "cell_type": "markdown",
   "metadata": {},
   "source": [
    "<br>\n",
    "\n",
    "Set-up directories"
   ]
  },
  {
   "cell_type": "code",
   "execution_count": 10,
   "metadata": {},
   "outputs": [],
   "source": [
    "directories = atlantic.base.directories.Directories()\n",
    "directories.cleanup(listof=[warehouse])\n",
    "directories.create(listof=[warehouse])"
   ]
  },
  {
   "cell_type": "markdown",
   "metadata": {
    "id": "2JDnqRVDrNXi"
   },
   "source": [
    "<br>\n",
    "<br>\n",
    "\n",
    "### Classes"
   ]
  },
  {
   "cell_type": "markdown",
   "metadata": {
    "id": "xd1LJpXYFcjz"
   },
   "source": [
    "**Boundaries**"
   ]
  },
  {
   "cell_type": "code",
   "execution_count": 11,
   "metadata": {
    "id": "7rrYl9wp_MV9"
   },
   "outputs": [],
   "source": [
    "settings = cartographs.boundaries.us.settings.Settings()\n",
    "boundaries = cartographs.boundaries.us.boundaries.Boundaries(settings.crs)"
   ]
  },
  {
   "cell_type": "code",
   "execution_count": 12,
   "metadata": {
    "colab": {
     "base_uri": "https://localhost:8080/",
     "height": 329
    },
    "id": "QKZE8EyfpnDQ",
    "outputId": "f17971ed-b866-49cf-a770-da754f7d7957"
   },
   "outputs": [
    {
     "name": "stdout",
     "output_type": "stream",
     "text": [
      "<class 'geopandas.geodataframe.GeoDataFrame'>\n",
      "RangeIndex: 56 entries, 0 to 55\n",
      "Data columns (total 10 columns):\n",
      " #   Column    Non-Null Count  Dtype   \n",
      "---  ------    --------------  -----   \n",
      " 0   STATEFP   56 non-null     object  \n",
      " 1   STATENS   56 non-null     object  \n",
      " 2   AFFGEOID  56 non-null     object  \n",
      " 3   GEOID     56 non-null     object  \n",
      " 4   STUSPS    56 non-null     object  \n",
      " 5   NAME      56 non-null     object  \n",
      " 6   LSAD      56 non-null     object  \n",
      " 7   ALAND     56 non-null     int64   \n",
      " 8   AWATER    56 non-null     int64   \n",
      " 9   geometry  56 non-null     geometry\n",
      "dtypes: geometry(1), int64(2), object(7)\n",
      "memory usage: 4.5+ KB\n"
     ]
    }
   ],
   "source": [
    "states = boundaries.states(year=settings.latest)\n",
    "states.info()"
   ]
  },
  {
   "cell_type": "markdown",
   "metadata": {
    "id": "waQQqdxSs9Qa"
   },
   "source": [
    "<br>\n",
    "<br>\n",
    "\n",
    "## Data"
   ]
  },
  {
   "cell_type": "markdown",
   "metadata": {
    "id": "fWohNa74Fp1X"
   },
   "source": [
    "### Attributes"
   ]
  },
  {
   "cell_type": "code",
   "execution_count": 13,
   "metadata": {
    "id": "tTGEezhNx7So"
   },
   "outputs": [],
   "source": [
    "fields = ['datetimeobject', 'STUSPS', 'positiveIncrease', 'testIncrease', 'deathIncrease', 'hospitalizedIncrease', \n",
    "          'positiveCumulative', 'testCumulative',  'deathCumulative', 'hospitalizedCumulative', \n",
    "          'positiveRate', 'testRate', 'deathRate', 'hospitalizedRate', 'ndays']\n",
    "\n",
    "dtype = {'STUSPS': 'str', 'positiveIncrease': np.float64, 'testIncrease': np.float64, 'deathIncrease': np.float64, \n",
    "         'hospitalizedIncrease': np.float64, 'positiveCumulative': np.float64, 'testCumulative': np.float64, \n",
    "         'deathCumulative': np.float64, 'hospitalizedCumulative': np.float64, 'positiveRate': np.float64, \n",
    "         'testRate': np.float64, 'deathRate': np.float64, 'hospitalizedRate': np.float64, 'ndays': np.int64}        \n",
    "\n",
    "parse_dates = ['datetimeobject']"
   ]
  },
  {
   "cell_type": "markdown",
   "metadata": {
    "id": "zM5-hsOeFs3H"
   },
   "source": [
    "<br>\n",
    "\n",
    "### Source URL"
   ]
  },
  {
   "cell_type": "code",
   "execution_count": 14,
   "metadata": {},
   "outputs": [],
   "source": [
    "datauri = os.path.join(parent, 'warehouse', 'baselines.csv')"
   ]
  },
  {
   "cell_type": "markdown",
   "metadata": {
    "id": "X51nrjBDXObX"
   },
   "source": [
    "<br>\n",
    "\n",
    "### Data"
   ]
  },
  {
   "cell_type": "code",
   "execution_count": 15,
   "metadata": {
    "colab": {
     "base_uri": "https://localhost:8080/",
     "height": 329
    },
    "id": "Am1PH5nYyVK_",
    "outputId": "b189e92b-d418-4de1-9f44-12bd6a860f94"
   },
   "outputs": [
    {
     "name": "stderr",
     "output_type": "stream",
     "text": [
      "INFO:__main__:None\n"
     ]
    },
    {
     "name": "stdout",
     "output_type": "stream",
     "text": [
      "<class 'pandas.core.frame.DataFrame'>\n",
      "RangeIndex: 14716 entries, 0 to 14715\n",
      "Data columns (total 17 columns):\n",
      " #   Column                  Non-Null Count  Dtype         \n",
      "---  ------                  --------------  -----         \n",
      " 0   datetimeobject          14716 non-null  datetime64[ns]\n",
      " 1   STUSPS                  14716 non-null  object        \n",
      " 2   deathIncrease           14716 non-null  float64       \n",
      " 3   deathCumulative         14716 non-null  float64       \n",
      " 4   positiveIncrease        14716 non-null  float64       \n",
      " 5   positiveCumulative      14716 non-null  float64       \n",
      " 6   hospitalizedIncrease    14716 non-null  float64       \n",
      " 7   hospitalizedCumulative  14716 non-null  float64       \n",
      " 8   testIncrease            14716 non-null  float64       \n",
      " 9   testCumulative          14716 non-null  float64       \n",
      " 10  deathRate               14716 non-null  float64       \n",
      " 11  positiveRate            14716 non-null  float64       \n",
      " 12  testRate                14716 non-null  float64       \n",
      " 13  hospitalizedRate        14716 non-null  float64       \n",
      " 14  ndays                   14716 non-null  int64         \n",
      " 15  positiveTestRate        14716 non-null  float64       \n",
      " 16  deathPositiveRate       14716 non-null  float64       \n",
      "dtypes: datetime64[ns](1), float64(14), int64(1), object(1)\n",
      "memory usage: 1.9+ MB\n"
     ]
    }
   ],
   "source": [
    "baselines = pd.read_csv(filepath_or_buffer=datauri, header=0, usecols=fields, \n",
    "                        dtype=dtype, encoding='utf-8', parse_dates=parse_dates)\n",
    "\n",
    "baselines.loc[:, 'positiveTestRate'] = np.where(baselines['testRate'] > 0, 100 * baselines['positiveRate'] / baselines['testRate'], 0)\n",
    "\n",
    "baselines.loc[:, 'deathPositiveRate'] = np.where(baselines['positiveRate'] > 0, 100 * baselines['deathRate'] / baselines['positiveRate'], 0)\n",
    "\n",
    "logger.info(baselines.info())"
   ]
  },
  {
   "cell_type": "markdown",
   "metadata": {
    "id": "tJDW4w4FioAn"
   },
   "source": [
    "<br>\n",
    "<br>\n",
    "\n",
    "## Regression"
   ]
  },
  {
   "cell_type": "markdown",
   "metadata": {
    "id": "nb7qUDyAywQA"
   },
   "source": [
    "### $\\small{Set-up}$"
   ]
  },
  {
   "cell_type": "markdown",
   "metadata": {
    "id": "aG96g5vxHfi0"
   },
   "source": [
    "#### Latest Date"
   ]
  },
  {
   "cell_type": "code",
   "execution_count": 16,
   "metadata": {
    "colab": {
     "base_uri": "https://localhost:8080/",
     "height": 35
    },
    "id": "EutsQfFe_TAc",
    "outputId": "07bcd2cb-b840-4e8d-8d24-3d81ad798aee"
   },
   "outputs": [
    {
     "name": "stderr",
     "output_type": "stream",
     "text": [
      "INFO:__main__:<class 'pandas._libs.tslibs.timestamps.Timestamp'>\n",
      "INFO:__main__:2020-10-30 00:00:00\n"
     ]
    }
   ],
   "source": [
    "latestdate = baselines.datetimeobject.max()\n",
    "logger.info(type(latestdate))\n",
    "logger.info(latestdate)"
   ]
  },
  {
   "cell_type": "markdown",
   "metadata": {},
   "source": [
    "<br>\n",
    "<br>\n",
    "\n",
    "#### Periods"
   ]
  },
  {
   "cell_type": "markdown",
   "metadata": {
    "id": "nc5wL7foy8Yy"
   },
   "source": [
    "Within the context of the aforementioned $positives_{c, \\small{100K}, \\tau} \\;\\; vs.\\ \\; tests_{c, \\small{100K}, \\tau}$ curves, each value of this array is the number of data points, starting from the end of a curve, that are used to develop **a regression model of the tangent/secant line to the points**.\n",
    "\n",
    "Key points:\n",
    "\n",
    "* The model predicts the expected $positives_{c, \\small{100K}}$ as $tests_{c, \\small{100K}, \\tau}$ increases.\n",
    "\n",
    "* The gradient of each model is an estimate of the prevailing positivity rate; an estimate of the current daily positivity value. [cf. continous positivity value] "
   ]
  },
  {
   "cell_type": "code",
   "execution_count": 17,
   "metadata": {
    "colab": {
     "base_uri": "https://localhost:8080/",
     "height": 54
    },
    "id": "Ecz7HPDpy-6j",
    "outputId": "b66f859e-5678-420c-ec15-89988b8e65e9"
   },
   "outputs": [
    {
     "name": "stderr",
     "output_type": "stream",
     "text": [
      "INFO:__main__:[ 8  9 10 11 12 13 14 15 16 17 18 19 20 21 22 23 24 25 26 27 28]\n"
     ]
    }
   ],
   "source": [
    "periods = np.arange(8, 29)\n",
    "logger.info( periods)"
   ]
  },
  {
   "cell_type": "markdown",
   "metadata": {
    "id": "62eUabmoCmn0"
   },
   "source": [
    "<br>\n",
    "<br>\n",
    "\n",
    "#### Partitions"
   ]
  },
  {
   "cell_type": "code",
   "execution_count": 18,
   "metadata": {
    "colab": {
     "base_uri": "https://localhost:8080/",
     "height": 109
    },
    "id": "pZ7AuQYpnymS",
    "outputId": "6fe80e70-aaee-4e09-ad4e-024fa0b5b83d"
   },
   "outputs": [
    {
     "name": "stderr",
     "output_type": "stream",
     "text": [
      "INFO:__main__:['AL' 'AK' 'AZ' 'AR' 'CA' 'CO' 'CT' 'DE' 'DC' 'FL' 'GA' 'HI' 'ID' 'IL'\n",
      " 'IN' 'IA' 'KS' 'KY' 'LA' 'ME' 'MD' 'MA' 'MI' 'MN' 'MS' 'MO' 'MT' 'NE'\n",
      " 'NV' 'NH' 'NJ' 'NM' 'NY' 'NC' 'ND' 'OH' 'OK' 'OR' 'PA' 'RI' 'SC' 'SD'\n",
      " 'TN' 'TX' 'UT' 'VT' 'VA' 'WA' 'WV' 'WI' 'WY' 'PR']\n"
     ]
    }
   ],
   "source": [
    "partitionby = 'STUSPS'\n",
    "partitions = baselines[partitionby].unique()\n",
    "logger.info(partitions)"
   ]
  },
  {
   "cell_type": "markdown",
   "metadata": {
    "id": "fSpAylLKjVaq"
   },
   "source": [
    "<br>\n",
    "<br>\n",
    "\n",
    "### **positives vs. tests**"
   ]
  },
  {
   "cell_type": "markdown",
   "metadata": {},
   "source": [
    "#### Analysis"
   ]
  },
  {
   "cell_type": "code",
   "execution_count": 19,
   "metadata": {
    "id": "K3T98kHYaByi"
   },
   "outputs": [],
   "source": [
    "formula = 'positiveRate ~ testRate'\n",
    "regressor = 'testRate'\n",
    "\n",
    "prospects = atlantic.explore.prospects.Prospects(data=baselines, partitionby=partitionby, periods=periods, \n",
    "                                                 formula=formula, regressor=regressor, step=100, num=5, latestdate=latestdate)"
   ]
  },
  {
   "cell_type": "code",
   "execution_count": 20,
   "metadata": {},
   "outputs": [],
   "source": [
    "estimates, predictions = prospects.exc(partitions=baselines[partitionby].unique())"
   ]
  },
  {
   "cell_type": "markdown",
   "metadata": {},
   "source": [
    "<br>\n",
    "\n",
    "Estimates"
   ]
  },
  {
   "cell_type": "code",
   "execution_count": 21,
   "metadata": {},
   "outputs": [
    {
     "name": "stderr",
     "output_type": "stream",
     "text": [
      "INFO:__main__:None\n"
     ]
    },
    {
     "name": "stdout",
     "output_type": "stream",
     "text": [
      "<class 'pandas.core.frame.DataFrame'>\n",
      "RangeIndex: 52 entries, 0 to 51\n",
      "Data columns (total 8 columns):\n",
      " #   Column                   Non-Null Count  Dtype         \n",
      "---  ------                   --------------  -----         \n",
      " 0   datetimeobject           52 non-null     datetime64[ns]\n",
      " 1   gradient                 52 non-null     object        \n",
      " 2   lowerconfidenceinterval  52 non-null     object        \n",
      " 3   upperconfidenceinterval  52 non-null     object        \n",
      " 4   pvalue                   52 non-null     object        \n",
      " 5   rsquared                 52 non-null     object        \n",
      " 6   intercept                52 non-null     object        \n",
      " 7   STUSPS                   52 non-null     object        \n",
      "dtypes: datetime64[ns](1), object(7)\n",
      "memory usage: 3.4+ KB\n"
     ]
    }
   ],
   "source": [
    "logger.info(estimates.info())"
   ]
  },
  {
   "cell_type": "markdown",
   "metadata": {},
   "source": [
    "<br>\n",
    "\n",
    "Predictions"
   ]
  },
  {
   "cell_type": "code",
   "execution_count": 22,
   "metadata": {},
   "outputs": [
    {
     "name": "stderr",
     "output_type": "stream",
     "text": [
      "INFO:__main__:None\n"
     ]
    },
    {
     "name": "stdout",
     "output_type": "stream",
     "text": [
      "<class 'pandas.core.frame.DataFrame'>\n",
      "RangeIndex: 260 entries, 0 to 259\n",
      "Data columns (total 5 columns):\n",
      " #   Column    Non-Null Count  Dtype  \n",
      "---  ------    --------------  -----  \n",
      " 0   testRate  260 non-null    float64\n",
      " 1   minimum   260 non-null    float64\n",
      " 2   median    260 non-null    float64\n",
      " 3   maximum   260 non-null    float64\n",
      " 4   STUSPS    260 non-null    object \n",
      "dtypes: float64(4), object(1)\n",
      "memory usage: 10.3+ KB\n"
     ]
    }
   ],
   "source": [
    "logger.info(predictions.info())"
   ]
  },
  {
   "cell_type": "markdown",
   "metadata": {
    "id": "ZwTkYgMRR2zC"
   },
   "source": [
    "<br>\n",
    "\n",
    "#### State of affairs"
   ]
  },
  {
   "cell_type": "code",
   "execution_count": 23,
   "metadata": {},
   "outputs": [],
   "source": [
    "ptr = estimates"
   ]
  },
  {
   "cell_type": "markdown",
   "metadata": {},
   "source": [
    "<br>\n",
    "\n",
    "Prevailing Positive Test Rate"
   ]
  },
  {
   "cell_type": "code",
   "execution_count": 24,
   "metadata": {},
   "outputs": [],
   "source": [
    "ptr.loc[:, 'prevailingPTR'] = 100 * ptr['gradient']\n",
    "ptr = ptr.merge(baselines[['datetimeobject', 'STUSPS', 'positiveTestRate']], how='left', on=['datetimeobject', 'STUSPS'])\n",
    "ptr.loc[:, 'cf'] = ptr[['prevailingPTR', 'positiveTestRate']].max(axis=1)\n",
    "\n",
    "ptr.loc[:, 'rank'] = ptr['cf'].rank(method='min', ascending=False)\n",
    "ptr.sort_values(by='rank', ascending=True, inplace=True)\n",
    "ptr.drop(columns=['cf'], inplace=True)"
   ]
  },
  {
   "cell_type": "markdown",
   "metadata": {},
   "source": [
    "<br>\n",
    "\n",
    "Structuring"
   ]
  },
  {
   "cell_type": "code",
   "execution_count": 25,
   "metadata": {
    "colab": {
     "base_uri": "https://localhost:8080/",
     "height": 1000
    },
    "id": "t6sMy86OHV52",
    "outputId": "c262d2d3-abd8-4cf6-daea-28ff495a974d"
   },
   "outputs": [
    {
     "data": {
      "text/html": [
       "<div>\n",
       "<style scoped>\n",
       "    .dataframe tbody tr th:only-of-type {\n",
       "        vertical-align: middle;\n",
       "    }\n",
       "\n",
       "    .dataframe tbody tr th {\n",
       "        vertical-align: top;\n",
       "    }\n",
       "\n",
       "    .dataframe thead th {\n",
       "        text-align: right;\n",
       "    }\n",
       "</style>\n",
       "<table border=\"1\" class=\"dataframe\">\n",
       "  <thead>\n",
       "    <tr style=\"text-align: right;\">\n",
       "      <th></th>\n",
       "      <th>datetimeobject</th>\n",
       "      <th>gradient</th>\n",
       "      <th>gradientLCI</th>\n",
       "      <th>gradientUCI</th>\n",
       "      <th>pvalue</th>\n",
       "      <th>rsquared</th>\n",
       "      <th>intercept</th>\n",
       "      <th>STUSPS</th>\n",
       "      <th>prevailingPTR</th>\n",
       "      <th>continuousPTR</th>\n",
       "      <th>rank</th>\n",
       "      <th>prevailingTPC</th>\n",
       "    </tr>\n",
       "  </thead>\n",
       "  <tbody>\n",
       "    <tr>\n",
       "      <th>32</th>\n",
       "      <td>2020-10-30</td>\n",
       "      <td>0.0132312</td>\n",
       "      <td>0.0122151</td>\n",
       "      <td>0.0157283</td>\n",
       "      <td>5.5775e-21</td>\n",
       "      <td>0.996867</td>\n",
       "      <td>1614.28</td>\n",
       "      <td>NY</td>\n",
       "      <td>1.32312</td>\n",
       "      <td>3.512192</td>\n",
       "      <td>48.0</td>\n",
       "      <td>75.5787</td>\n",
       "    </tr>\n",
       "    <tr>\n",
       "      <th>8</th>\n",
       "      <td>2020-10-30</td>\n",
       "      <td>0.0146498</td>\n",
       "      <td>0.0129971</td>\n",
       "      <td>0.0211473</td>\n",
       "      <td>1.26535e-16</td>\n",
       "      <td>0.988082</td>\n",
       "      <td>1352.1</td>\n",
       "      <td>DC</td>\n",
       "      <td>1.46498</td>\n",
       "      <td>3.334565</td>\n",
       "      <td>49.0</td>\n",
       "      <td>68.2602</td>\n",
       "    </tr>\n",
       "    <tr>\n",
       "      <th>6</th>\n",
       "      <td>2020-10-30</td>\n",
       "      <td>0.0242415</td>\n",
       "      <td>0.0186551</td>\n",
       "      <td>0.0334048</td>\n",
       "      <td>4.99042e-16</td>\n",
       "      <td>0.979914</td>\n",
       "      <td>420.531</td>\n",
       "      <td>CT</td>\n",
       "      <td>2.42415</td>\n",
       "      <td>3.111400</td>\n",
       "      <td>50.0</td>\n",
       "      <td>41.2516</td>\n",
       "    </tr>\n",
       "    <tr>\n",
       "      <th>45</th>\n",
       "      <td>2020-10-30</td>\n",
       "      <td>0.0192192</td>\n",
       "      <td>0.014033</td>\n",
       "      <td>0.0304961</td>\n",
       "      <td>1.41854e-14</td>\n",
       "      <td>0.976306</td>\n",
       "      <td>-238.321</td>\n",
       "      <td>VT</td>\n",
       "      <td>1.92192</td>\n",
       "      <td>1.142127</td>\n",
       "      <td>51.0</td>\n",
       "      <td>52.0313</td>\n",
       "    </tr>\n",
       "    <tr>\n",
       "      <th>19</th>\n",
       "      <td>2020-10-30</td>\n",
       "      <td>0.00701872</td>\n",
       "      <td>0.00538225</td>\n",
       "      <td>0.0101831</td>\n",
       "      <td>7.79583e-13</td>\n",
       "      <td>0.968221</td>\n",
       "      <td>158.895</td>\n",
       "      <td>ME</td>\n",
       "      <td>0.701872</td>\n",
       "      <td>1.053876</td>\n",
       "      <td>52.0</td>\n",
       "      <td>142.476</td>\n",
       "    </tr>\n",
       "  </tbody>\n",
       "</table>\n",
       "</div>"
      ],
      "text/plain": [
       "   datetimeobject    gradient gradientLCI gradientUCI       pvalue  rsquared  \\\n",
       "32     2020-10-30   0.0132312   0.0122151   0.0157283   5.5775e-21  0.996867   \n",
       "8      2020-10-30   0.0146498   0.0129971   0.0211473  1.26535e-16  0.988082   \n",
       "6      2020-10-30   0.0242415   0.0186551   0.0334048  4.99042e-16  0.979914   \n",
       "45     2020-10-30   0.0192192    0.014033   0.0304961  1.41854e-14  0.976306   \n",
       "19     2020-10-30  0.00701872  0.00538225   0.0101831  7.79583e-13  0.968221   \n",
       "\n",
       "   intercept STUSPS prevailingPTR  continuousPTR  rank prevailingTPC  \n",
       "32   1614.28     NY       1.32312       3.512192  48.0       75.5787  \n",
       "8     1352.1     DC       1.46498       3.334565  49.0       68.2602  \n",
       "6    420.531     CT       2.42415       3.111400  50.0       41.2516  \n",
       "45  -238.321     VT       1.92192       1.142127  51.0       52.0313  \n",
       "19   158.895     ME      0.701872       1.053876  52.0       142.476  "
      ]
     },
     "execution_count": 25,
     "metadata": {},
     "output_type": "execute_result"
    }
   ],
   "source": [
    "ptr.loc[:, 'prevailingTPC'] = np.where(ptr['prevailingPTR'] > 0, ptr['prevailingPTR'].rdiv(100), 0)\n",
    "ptr.rename(columns={'lowerconfidenceinterval': 'gradientLCI', 'upperconfidenceinterval': 'gradientUCI', 'positiveTestRate': 'continuousPTR'},\n",
    "          inplace=True)\n",
    "ptr.to_csv(path_or_buf=os.path.join(warehouse, 'ptr.csv'), index=False, header=True, encoding='utf-8')\n",
    "\n",
    "ptr.tail()"
   ]
  },
  {
   "cell_type": "markdown",
   "metadata": {},
   "source": [
    "<br>\n",
    "<br>\n",
    "\n",
    "### **deaths vs. positives**"
   ]
  },
  {
   "cell_type": "code",
   "execution_count": 26,
   "metadata": {},
   "outputs": [],
   "source": [
    "del formula, regressor, prospects, estimates, predictions"
   ]
  },
  {
   "cell_type": "markdown",
   "metadata": {},
   "source": [
    "<br>\n",
    "\n",
    "#### Analysis"
   ]
  },
  {
   "cell_type": "code",
   "execution_count": 27,
   "metadata": {},
   "outputs": [],
   "source": [
    "formula = 'deathRate ~ positiveRate'\n",
    "regressor = 'positiveRate'\n",
    "\n",
    "prospects = atlantic.explore.prospects.Prospects(data=baselines, partitionby=partitionby, periods=periods, \n",
    "                                                 formula=formula, regressor=regressor, step=20, num=5, latestdate=latestdate)"
   ]
  },
  {
   "cell_type": "code",
   "execution_count": 28,
   "metadata": {},
   "outputs": [],
   "source": [
    "estimates, predictions = prospects.exc(partitions=baselines[partitionby].unique())"
   ]
  },
  {
   "cell_type": "markdown",
   "metadata": {},
   "source": [
    "<br>\n",
    "\n",
    "#### State of Affairs"
   ]
  },
  {
   "cell_type": "code",
   "execution_count": 29,
   "metadata": {},
   "outputs": [],
   "source": [
    "dpr = estimates"
   ]
  },
  {
   "cell_type": "markdown",
   "metadata": {},
   "source": [
    "<br>\n",
    "\n",
    "Prevailing Death Positive Rate"
   ]
  },
  {
   "cell_type": "code",
   "execution_count": 30,
   "metadata": {},
   "outputs": [],
   "source": [
    "dpr.loc[:, 'prevailingDPR'] = 100 * dpr['gradient']\n",
    "dpr = dpr.merge(baselines[['datetimeobject', 'STUSPS', 'deathPositiveRate']], how='left', on=['datetimeobject', 'STUSPS'])\n",
    "dpr.loc[:, 'cf'] = dpr[['prevailingDPR', 'deathPositiveRate']].max(axis=1)\n",
    "\n",
    "dpr.loc[:, 'rank'] = dpr['cf'].rank(method='min', ascending=False)\n",
    "dpr.sort_values(by='rank', ascending=True, inplace=True)\n",
    "dpr.drop(columns=['cf'], inplace=True)"
   ]
  },
  {
   "cell_type": "markdown",
   "metadata": {},
   "source": [
    "<br>\n",
    "\n",
    "Structuring"
   ]
  },
  {
   "cell_type": "code",
   "execution_count": 31,
   "metadata": {},
   "outputs": [
    {
     "data": {
      "text/html": [
       "<div>\n",
       "<style scoped>\n",
       "    .dataframe tbody tr th:only-of-type {\n",
       "        vertical-align: middle;\n",
       "    }\n",
       "\n",
       "    .dataframe tbody tr th {\n",
       "        vertical-align: top;\n",
       "    }\n",
       "\n",
       "    .dataframe thead th {\n",
       "        text-align: right;\n",
       "    }\n",
       "</style>\n",
       "<table border=\"1\" class=\"dataframe\">\n",
       "  <thead>\n",
       "    <tr style=\"text-align: right;\">\n",
       "      <th></th>\n",
       "      <th>datetimeobject</th>\n",
       "      <th>gradient</th>\n",
       "      <th>gradientLCI</th>\n",
       "      <th>gradientUCI</th>\n",
       "      <th>pvalue</th>\n",
       "      <th>rsquared</th>\n",
       "      <th>intercept</th>\n",
       "      <th>STUSPS</th>\n",
       "      <th>prevailingDPR</th>\n",
       "      <th>continuousDPR</th>\n",
       "      <th>rank</th>\n",
       "      <th>prevailingTPC</th>\n",
       "    </tr>\n",
       "  </thead>\n",
       "  <tbody>\n",
       "    <tr>\n",
       "      <th>41</th>\n",
       "      <td>2020-10-30</td>\n",
       "      <td>0.0081012</td>\n",
       "      <td>0.00549191</td>\n",
       "      <td>0.00944278</td>\n",
       "      <td>2.57273e-17</td>\n",
       "      <td>0.989663</td>\n",
       "      <td>5.87726</td>\n",
       "      <td>SD</td>\n",
       "      <td>0.81012</td>\n",
       "      <td>0.931349</td>\n",
       "      <td>48.0</td>\n",
       "      <td>123.438</td>\n",
       "    </tr>\n",
       "    <tr>\n",
       "      <th>49</th>\n",
       "      <td>2020-10-30</td>\n",
       "      <td>0.00745509</td>\n",
       "      <td>0.00646018</td>\n",
       "      <td>0.010357</td>\n",
       "      <td>2.92365e-16</td>\n",
       "      <td>0.986857</td>\n",
       "      <td>4.77122</td>\n",
       "      <td>WI</td>\n",
       "      <td>0.745509</td>\n",
       "      <td>0.874335</td>\n",
       "      <td>49.0</td>\n",
       "      <td>134.137</td>\n",
       "    </tr>\n",
       "    <tr>\n",
       "      <th>50</th>\n",
       "      <td>2020-10-30</td>\n",
       "      <td>0.00642057</td>\n",
       "      <td>0.00430347</td>\n",
       "      <td>0.0114955</td>\n",
       "      <td>2.3711e-10</td>\n",
       "      <td>0.92356</td>\n",
       "      <td>0.209966</td>\n",
       "      <td>WY</td>\n",
       "      <td>0.642057</td>\n",
       "      <td>0.667792</td>\n",
       "      <td>50.0</td>\n",
       "      <td>155.749</td>\n",
       "    </tr>\n",
       "    <tr>\n",
       "      <th>44</th>\n",
       "      <td>2020-10-30</td>\n",
       "      <td>0.00306473</td>\n",
       "      <td>0.00231591</td>\n",
       "      <td>0.00423998</td>\n",
       "      <td>1.40336e-16</td>\n",
       "      <td>0.987222</td>\n",
       "      <td>7.91839</td>\n",
       "      <td>UT</td>\n",
       "      <td>0.306473</td>\n",
       "      <td>0.532179</td>\n",
       "      <td>51.0</td>\n",
       "      <td>326.293</td>\n",
       "    </tr>\n",
       "    <tr>\n",
       "      <th>1</th>\n",
       "      <td>2020-10-30</td>\n",
       "      <td>0.00275313</td>\n",
       "      <td>0.00129652</td>\n",
       "      <td>0.00712265</td>\n",
       "      <td>5.57727e-06</td>\n",
       "      <td>0.734338</td>\n",
       "      <td>4.38143</td>\n",
       "      <td>AK</td>\n",
       "      <td>0.275313</td>\n",
       "      <td>0.509178</td>\n",
       "      <td>52.0</td>\n",
       "      <td>363.223</td>\n",
       "    </tr>\n",
       "  </tbody>\n",
       "</table>\n",
       "</div>"
      ],
      "text/plain": [
       "   datetimeobject    gradient gradientLCI gradientUCI       pvalue  rsquared  \\\n",
       "41     2020-10-30   0.0081012  0.00549191  0.00944278  2.57273e-17  0.989663   \n",
       "49     2020-10-30  0.00745509  0.00646018    0.010357  2.92365e-16  0.986857   \n",
       "50     2020-10-30  0.00642057  0.00430347   0.0114955   2.3711e-10   0.92356   \n",
       "44     2020-10-30  0.00306473  0.00231591  0.00423998  1.40336e-16  0.987222   \n",
       "1      2020-10-30  0.00275313  0.00129652  0.00712265  5.57727e-06  0.734338   \n",
       "\n",
       "   intercept STUSPS prevailingDPR  continuousDPR  rank prevailingTPC  \n",
       "41   5.87726     SD       0.81012       0.931349  48.0       123.438  \n",
       "49   4.77122     WI      0.745509       0.874335  49.0       134.137  \n",
       "50  0.209966     WY      0.642057       0.667792  50.0       155.749  \n",
       "44   7.91839     UT      0.306473       0.532179  51.0       326.293  \n",
       "1    4.38143     AK      0.275313       0.509178  52.0       363.223  "
      ]
     },
     "execution_count": 31,
     "metadata": {},
     "output_type": "execute_result"
    }
   ],
   "source": [
    "dpr.loc[:, 'prevailingTPC'] = np.where(dpr['prevailingDPR'] > 0, dpr['prevailingDPR'].rdiv(100), 0)\n",
    "dpr.rename(columns={'lowerconfidenceinterval': 'gradientLCI', 'upperconfidenceinterval': 'gradientUCI', 'deathPositiveRate': 'continuousDPR'},\n",
    "          inplace=True)\n",
    "dpr.to_csv(path_or_buf=os.path.join(warehouse, 'dpr.csv'), index=False, header=True, encoding='utf-8')\n",
    "\n",
    "dpr.tail()"
   ]
  },
  {
   "cell_type": "markdown",
   "metadata": {},
   "source": [
    "<br>\n",
    "<br>\n",
    "\n",
    "### **hospitalisations vs. positives**"
   ]
  },
  {
   "cell_type": "code",
   "execution_count": 32,
   "metadata": {},
   "outputs": [],
   "source": [
    "del formula, regressor, prospects, estimates, predictions"
   ]
  },
  {
   "cell_type": "markdown",
   "metadata": {},
   "source": [
    "<br>\n",
    "\n",
    "#### Data"
   ]
  },
  {
   "cell_type": "code",
   "execution_count": 33,
   "metadata": {},
   "outputs": [],
   "source": [
    "hospitalisations = atlantic.explore.hospitalisations.Hospitalisations(blob=baselines, warehouse=os.path.join(parent, 'warehouse'))"
   ]
  },
  {
   "cell_type": "code",
   "execution_count": 34,
   "metadata": {},
   "outputs": [
    {
     "name": "stderr",
     "output_type": "stream",
     "text": [
      "INFO:atlantic.explore.hospitalisations:\n",
      "Hospitalized Positives Curves:\n",
      "None\n",
      "\n"
     ]
    },
    {
     "name": "stdout",
     "output_type": "stream",
     "text": [
      "<class 'pandas.core.frame.DataFrame'>\n",
      "Int64Index: 10188 entries, 0 to 10187\n",
      "Data columns (total 6 columns):\n",
      " #   Column                    Non-Null Count  Dtype         \n",
      "---  ------                    --------------  -----         \n",
      " 0   datetimeobject            10188 non-null  datetime64[ns]\n",
      " 1   STUSPS                    10188 non-null  object        \n",
      " 2   hospitalizedRate          10188 non-null  float64       \n",
      " 3   positiveRate              10188 non-null  float64       \n",
      " 4   ndays                     10188 non-null  int64         \n",
      " 5   hospitalizedPositiveRate  10188 non-null  float64       \n",
      "dtypes: datetime64[ns](1), float64(3), int64(1), object(1)\n",
      "memory usage: 557.2+ KB\n"
     ]
    }
   ],
   "source": [
    "hospital = hospitalisations.exc(limit=periods.min())"
   ]
  },
  {
   "cell_type": "markdown",
   "metadata": {},
   "source": [
    "<br>\n",
    "\n",
    "#### Analysis"
   ]
  },
  {
   "cell_type": "code",
   "execution_count": 35,
   "metadata": {},
   "outputs": [],
   "source": [
    "formula = 'hospitalizedRate ~ positiveRate'\n",
    "regressor = 'positiveRate'\n",
    "\n",
    "prospects = atlantic.explore.prospects.Prospects(data=baselines, partitionby=partitionby, periods=periods, \n",
    "                                                 formula=formula, regressor=regressor, step=10, num=5, latestdate=latestdate)"
   ]
  },
  {
   "cell_type": "code",
   "execution_count": 36,
   "metadata": {},
   "outputs": [],
   "source": [
    "estimates, predictions = prospects.exc(partitions=hospital[partitionby].unique())"
   ]
  },
  {
   "cell_type": "markdown",
   "metadata": {},
   "source": [
    "<br>\n",
    "\n",
    "#### State of Affairs"
   ]
  },
  {
   "cell_type": "code",
   "execution_count": 37,
   "metadata": {},
   "outputs": [],
   "source": [
    "hpr = estimates"
   ]
  },
  {
   "cell_type": "markdown",
   "metadata": {},
   "source": [
    "<br>\n",
    "\n",
    "Prevailing Hospitalised Positive Rate"
   ]
  },
  {
   "cell_type": "code",
   "execution_count": 38,
   "metadata": {},
   "outputs": [],
   "source": [
    "hpr.loc[:, 'prevailingHPR'] = 100 * hpr['gradient']\n",
    "hpr.loc[:, 'rank'] = hpr['prevailingHPR'].rank(method='min', ascending=False)\n",
    "hpr.sort_values(by='rank', ascending=True, inplace=True)"
   ]
  },
  {
   "cell_type": "markdown",
   "metadata": {},
   "source": [
    "<br>\n",
    "\n",
    "Structuring"
   ]
  },
  {
   "cell_type": "code",
   "execution_count": 39,
   "metadata": {},
   "outputs": [
    {
     "data": {
      "text/html": [
       "<div>\n",
       "<style scoped>\n",
       "    .dataframe tbody tr th:only-of-type {\n",
       "        vertical-align: middle;\n",
       "    }\n",
       "\n",
       "    .dataframe tbody tr th {\n",
       "        vertical-align: top;\n",
       "    }\n",
       "\n",
       "    .dataframe thead th {\n",
       "        text-align: right;\n",
       "    }\n",
       "</style>\n",
       "<table border=\"1\" class=\"dataframe\">\n",
       "  <thead>\n",
       "    <tr style=\"text-align: right;\">\n",
       "      <th></th>\n",
       "      <th>datetimeobject</th>\n",
       "      <th>gradient</th>\n",
       "      <th>gradientLCI</th>\n",
       "      <th>gradientUCI</th>\n",
       "      <th>pvalue</th>\n",
       "      <th>rsquared</th>\n",
       "      <th>intercept</th>\n",
       "      <th>STUSPS</th>\n",
       "      <th>prevailingHPR</th>\n",
       "      <th>rank</th>\n",
       "      <th>continuousHPR</th>\n",
       "      <th>prevailingCPH</th>\n",
       "    </tr>\n",
       "  </thead>\n",
       "  <tbody>\n",
       "    <tr>\n",
       "      <th>31</th>\n",
       "      <td>2020-10-30</td>\n",
       "      <td>0.0222218</td>\n",
       "      <td>0.0172531</td>\n",
       "      <td>0.0271906</td>\n",
       "      <td>1.377e-17</td>\n",
       "      <td>0.990232</td>\n",
       "      <td>65.6082</td>\n",
       "      <td>TN</td>\n",
       "      <td>2.22218</td>\n",
       "      <td>32.0</td>\n",
       "      <td>3.955482</td>\n",
       "      <td>45.0008</td>\n",
       "    </tr>\n",
       "    <tr>\n",
       "      <th>32</th>\n",
       "      <td>2020-10-30</td>\n",
       "      <td>0.0203309</td>\n",
       "      <td>0.0137405</td>\n",
       "      <td>0.0241351</td>\n",
       "      <td>5.35423e-16</td>\n",
       "      <td>0.984561</td>\n",
       "      <td>146.147</td>\n",
       "      <td>MA</td>\n",
       "      <td>2.03309</td>\n",
       "      <td>33.0</td>\n",
       "      <td>8.433559</td>\n",
       "      <td>49.1863</td>\n",
       "    </tr>\n",
       "    <tr>\n",
       "      <th>33</th>\n",
       "      <td>2020-10-30</td>\n",
       "      <td>0.0203007</td>\n",
       "      <td>0.0168343</td>\n",
       "      <td>0.0262253</td>\n",
       "      <td>1.41299e-14</td>\n",
       "      <td>0.976434</td>\n",
       "      <td>30.1323</td>\n",
       "      <td>WY</td>\n",
       "      <td>2.03007</td>\n",
       "      <td>34.0</td>\n",
       "      <td>3.377341</td>\n",
       "      <td>49.2595</td>\n",
       "    </tr>\n",
       "    <tr>\n",
       "      <th>34</th>\n",
       "      <td>2020-10-30</td>\n",
       "      <td>0.013436</td>\n",
       "      <td>0.00902761</td>\n",
       "      <td>0.0222521</td>\n",
       "      <td>7.54694e-10</td>\n",
       "      <td>0.926606</td>\n",
       "      <td>46.3162</td>\n",
       "      <td>NH</td>\n",
       "      <td>1.3436</td>\n",
       "      <td>35.0</td>\n",
       "      <td>7.138920</td>\n",
       "      <td>74.4269</td>\n",
       "    </tr>\n",
       "    <tr>\n",
       "      <th>35</th>\n",
       "      <td>2020-10-30</td>\n",
       "      <td>1.11022e-16</td>\n",
       "      <td>-7.64555e-14</td>\n",
       "      <td>8.44491e-14</td>\n",
       "      <td>0.92634</td>\n",
       "      <td>-1192.95</td>\n",
       "      <td>462.615</td>\n",
       "      <td>NY</td>\n",
       "      <td>1.11022e-14</td>\n",
       "      <td>36.0</td>\n",
       "      <td>17.805596</td>\n",
       "      <td>9.0072e+15</td>\n",
       "    </tr>\n",
       "  </tbody>\n",
       "</table>\n",
       "</div>"
      ],
      "text/plain": [
       "   datetimeobject     gradient  gradientLCI  gradientUCI       pvalue  \\\n",
       "31     2020-10-30    0.0222218    0.0172531    0.0271906    1.377e-17   \n",
       "32     2020-10-30    0.0203309    0.0137405    0.0241351  5.35423e-16   \n",
       "33     2020-10-30    0.0203007    0.0168343    0.0262253  1.41299e-14   \n",
       "34     2020-10-30     0.013436   0.00902761    0.0222521  7.54694e-10   \n",
       "35     2020-10-30  1.11022e-16 -7.64555e-14  8.44491e-14      0.92634   \n",
       "\n",
       "    rsquared intercept STUSPS prevailingHPR  rank  continuousHPR prevailingCPH  \n",
       "31  0.990232   65.6082     TN       2.22218  32.0       3.955482       45.0008  \n",
       "32  0.984561   146.147     MA       2.03309  33.0       8.433559       49.1863  \n",
       "33  0.976434   30.1323     WY       2.03007  34.0       3.377341       49.2595  \n",
       "34  0.926606   46.3162     NH        1.3436  35.0       7.138920       74.4269  \n",
       "35  -1192.95   462.615     NY   1.11022e-14  36.0      17.805596    9.0072e+15  "
      ]
     },
     "execution_count": 39,
     "metadata": {},
     "output_type": "execute_result"
    }
   ],
   "source": [
    "hpr = hpr.merge(hospital[['datetimeobject', 'STUSPS', 'hospitalizedPositiveRate']], how='left', on=['datetimeobject', 'STUSPS'])\n",
    "hpr.loc[:, 'prevailingCPH'] = np.where(hpr['prevailingHPR'] > 0, hpr['prevailingHPR'].rdiv(100), 0)\n",
    "\n",
    "hpr.rename(columns={'lowerconfidenceinterval': 'gradientLCI', 'upperconfidenceinterval': 'gradientUCI', 'hospitalizedPositiveRate': 'continuousHPR'}, \n",
    "           inplace=True)\n",
    "\n",
    "hpr.to_csv(path_or_buf=os.path.join(warehouse, 'hpr.csv'), index=False, header=True, encoding='utf-8')\n",
    "\n",
    "hpr.tail()"
   ]
  },
  {
   "cell_type": "markdown",
   "metadata": {},
   "source": [
    "<br>\n",
    "<br>\n",
    "\n",
    "## Clean-up"
   ]
  },
  {
   "cell_type": "code",
   "execution_count": 40,
   "metadata": {},
   "outputs": [],
   "source": [
    "!rm -rf *.log\n",
    "!rm -rf *.pdf\n",
    "!rm -rf states"
   ]
  }
 ],
 "metadata": {
  "colab": {
   "collapsed_sections": [],
   "name": "foresights.ipynb",
   "provenance": [],
   "toc_visible": true
  },
  "kernelspec": {
   "display_name": "Python 3",
   "language": "python",
   "name": "python3"
  },
  "language_info": {
   "codemirror_mode": {
    "name": "ipython",
    "version": 3
   },
   "file_extension": ".py",
   "mimetype": "text/x-python",
   "name": "python",
   "nbconvert_exporter": "python",
   "pygments_lexer": "ipython3",
   "version": "3.7.7"
  }
 },
 "nbformat": 4,
 "nbformat_minor": 4
}
