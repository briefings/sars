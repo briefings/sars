{
 "cells": [
  {
   "cell_type": "markdown",
   "metadata": {
    "id": "qYxtyKBSegLi"
   },
   "source": [
    "This notebook continuously estimates the prevailing, realtime, positivity values via \n",
    "\n",
    "* $positives_{c, \\small{100K}, \\tau} \\;\\; vs.\\ \\; tests_{c, \\small{100K}, \\tau}$\n",
    "\n",
    "curves, wherein\n",
    "\n",
    "$\\qquad \\qquad \\qquad positives_{c, \\small{100K}, \\tau} \\; = \\; \\small{100\\,000} \\times \\displaystyle \\left(\\sum_{\\substack{\n",
    "   start \\\\\n",
    "   date\n",
    "  }}^{\\tau}{P_{\\delta}}  \\right) \\times \\frac{1}{population}$\n",
    "\n",
    "\n",
    "$\\qquad \\qquad \\qquad \\qquad  tests_{c, \\small{100K}, \\tau} \\; = \\; \\small{100\\,000} \\times \\displaystyle \\left(\\sum_{\\substack{\n",
    "   start \\\\\n",
    "   date\n",
    "  }}^{\\tau}{T_{\\delta}} \\right) \\times \\frac{1}{population}$  \n",
    "\n",
    "<br>\n",
    "\n",
    "which are the positive cases per hundred thousand and test numbers per hundred thousand, respectively, based on their cumulative values and\n",
    "\n",
    "<br>\n",
    "\n",
    "<table style=\"width:35%; text-align: left; border: 0px solid black; float:left; margin-left: 50px\">\n",
    "    <tr>\n",
    "        <th style=\"width:20%;\">$\\mathcal{Variable} \\qquad$</th><th></th> \n",
    "    </tr>\n",
    "    <tr>\n",
    "        <td>$\\tau$</td><td>end date</td>\n",
    "    </tr>\n",
    "    <tr>\n",
    "        <td>$\\delta$</td><td>a series date</td>\n",
    "    </tr>\n",
    "    <tr>\n",
    "      <td>$P_{\\delta}$</td><td>The number of positive cases on date $\\delta$.</td>\n",
    "    </tr>\n",
    "    <tr>\n",
    "      <td>$T_{\\delta}$</td><td>The number of tests on date $\\delta$.</td>\n",
    "    </tr>\n",
    "    \n",
    "</table>\n",
    "\n",
    "\n",
    "<br>"
   ]
  },
  {
   "cell_type": "markdown",
   "metadata": {},
   "source": [
    "<br>\n",
    "\n",
    "The subscript $c$ denotes cumulative.   The graph image below illustrates the curves in question.  In brief \n",
    "\n",
    "* The quotient of the coordinates of a point along a curve is the cumulative positivity value. \n",
    "\n",
    "* The gradient of a modelled secant line to a sequential set of curve rear points estimates the prevailing positivity value.\n",
    "\n",
    "* The aforementioned secant line model predicts the expected values of $positives_{c, \\small{100K}}$ as $tests_{c, \\small{100K}}$ increases.\n"
   ]
  },
  {
   "cell_type": "markdown",
   "metadata": {
    "id": "fBo-NZiRj3Jk"
   },
   "source": [
    "<div style=\"margin-left: 100px;\">\n",
    "    <img src=\"https://github.com/briefings/sars/raw/develop/fundamentals/atlantic/docs/ptr.png\" longdesc=\"surveillance\" width=\"40%\" style=\"float:center\">\n",
    "</div>\n",
    "\n",
    "<br>\n",
    "\n",
    "Upcoming: Link this image to the interactive graph.\n",
    "\n"
   ]
  },
  {
   "cell_type": "markdown",
   "metadata": {
    "id": "VphP1R94t3MG"
   },
   "source": [
    "<br>\n",
    "\n",
    "## Preliminaries"
   ]
  },
  {
   "cell_type": "markdown",
   "metadata": {
    "id": "GHv0WS-ft3NU"
   },
   "source": [
    "### Libraries"
   ]
  },
  {
   "cell_type": "code",
   "execution_count": 1,
   "metadata": {
    "id": "Rmvhg4BGt3NV"
   },
   "outputs": [],
   "source": [
    "import pandas as pd\n",
    "import geopandas as gpd\n",
    "import numpy as np\n",
    "import dask\n",
    "\n",
    "import logging\n",
    "\n",
    "import os\n",
    "import pathlib\n",
    "import sys\n",
    "\n",
    "import statsmodels.regression.linear_model\n"
   ]
  },
  {
   "cell_type": "code",
   "execution_count": 2,
   "metadata": {},
   "outputs": [],
   "source": [
    "from statsmodels.formula.api import ols"
   ]
  },
  {
   "cell_type": "markdown",
   "metadata": {},
   "source": [
    "<br>\n",
    "\n",
    "### Paths"
   ]
  },
  {
   "cell_type": "code",
   "execution_count": 3,
   "metadata": {},
   "outputs": [],
   "source": [
    "child = os.getcwd()\n",
    "parent = str(pathlib.Path(child).parent)"
   ]
  },
  {
   "cell_type": "code",
   "execution_count": 4,
   "metadata": {},
   "outputs": [],
   "source": [
    "root = os.path.join(child, 'warehouse')\n",
    "warehouse = os.path.join(root, 'prospects')"
   ]
  },
  {
   "cell_type": "markdown",
   "metadata": {},
   "source": [
    "<br>\n",
    "\n",
    "Appending paths"
   ]
  },
  {
   "cell_type": "code",
   "execution_count": 5,
   "metadata": {},
   "outputs": [],
   "source": [
    "sys.path.append(parent)"
   ]
  },
  {
   "cell_type": "markdown",
   "metadata": {},
   "source": [
    "<br>\n",
    "\n",
    "### Logging"
   ]
  },
  {
   "cell_type": "code",
   "execution_count": 6,
   "metadata": {},
   "outputs": [],
   "source": [
    "logging.basicConfig(level=logging.INFO)\n",
    "logger = logging.getLogger(__name__)"
   ]
  },
  {
   "cell_type": "markdown",
   "metadata": {
    "id": "XBdw0goyNV84"
   },
   "source": [
    "<br>\n",
    "\n",
    "### Custom"
   ]
  },
  {
   "cell_type": "markdown",
   "metadata": {},
   "source": [
    "Import"
   ]
  },
  {
   "cell_type": "code",
   "execution_count": 7,
   "metadata": {
    "id": "MK-SkdR98nB6"
   },
   "outputs": [],
   "source": [
    "import cartographs.boundaries.us.boundaries\n",
    "import cartographs.boundaries.us.settings"
   ]
  },
  {
   "cell_type": "code",
   "execution_count": 8,
   "metadata": {
    "id": "_OkEqJAXT1v_"
   },
   "outputs": [],
   "source": [
    "import algorithms.curves.estimates\n",
    "import algorithms.curves.predictions\n",
    "import algorithms.curves.secants"
   ]
  },
  {
   "cell_type": "code",
   "execution_count": 9,
   "metadata": {},
   "outputs": [],
   "source": [
    "import atlantic.base.directories\n",
    "import atlantic.investigations.prospects\n",
    "import atlantic.investigations.hospitalizations"
   ]
  },
  {
   "cell_type": "markdown",
   "metadata": {},
   "source": [
    "<br>\n",
    "\n",
    "Set-up directories"
   ]
  },
  {
   "cell_type": "code",
   "execution_count": 10,
   "metadata": {},
   "outputs": [],
   "source": [
    "directories = atlantic.base.directories.Directories()\n",
    "directories.cleanup(listof=[warehouse])\n",
    "directories.create(listof=[warehouse])"
   ]
  },
  {
   "cell_type": "markdown",
   "metadata": {
    "id": "2JDnqRVDrNXi"
   },
   "source": [
    "<br>\n",
    "<br>\n",
    "\n",
    "### Classes"
   ]
  },
  {
   "cell_type": "markdown",
   "metadata": {
    "id": "xd1LJpXYFcjz"
   },
   "source": [
    "**Boundaries**"
   ]
  },
  {
   "cell_type": "code",
   "execution_count": 11,
   "metadata": {
    "id": "7rrYl9wp_MV9"
   },
   "outputs": [],
   "source": [
    "settings = cartographs.boundaries.us.settings.Settings()\n",
    "boundaries = cartographs.boundaries.us.boundaries.Boundaries(settings.crs)"
   ]
  },
  {
   "cell_type": "code",
   "execution_count": 12,
   "metadata": {
    "colab": {
     "base_uri": "https://localhost:8080/",
     "height": 329
    },
    "id": "QKZE8EyfpnDQ",
    "outputId": "f17971ed-b866-49cf-a770-da754f7d7957"
   },
   "outputs": [
    {
     "name": "stdout",
     "output_type": "stream",
     "text": [
      "<class 'geopandas.geodataframe.GeoDataFrame'>\n",
      "RangeIndex: 56 entries, 0 to 55\n",
      "Data columns (total 10 columns):\n",
      " #   Column    Non-Null Count  Dtype   \n",
      "---  ------    --------------  -----   \n",
      " 0   STATEFP   56 non-null     object  \n",
      " 1   STATENS   56 non-null     object  \n",
      " 2   AFFGEOID  56 non-null     object  \n",
      " 3   GEOID     56 non-null     object  \n",
      " 4   STUSPS    56 non-null     object  \n",
      " 5   NAME      56 non-null     object  \n",
      " 6   LSAD      56 non-null     object  \n",
      " 7   ALAND     56 non-null     int64   \n",
      " 8   AWATER    56 non-null     int64   \n",
      " 9   geometry  56 non-null     geometry\n",
      "dtypes: geometry(1), int64(2), object(7)\n",
      "memory usage: 4.5+ KB\n"
     ]
    }
   ],
   "source": [
    "states = boundaries.states(year=settings.latest)\n",
    "states.info()"
   ]
  },
  {
   "cell_type": "markdown",
   "metadata": {
    "id": "waQQqdxSs9Qa"
   },
   "source": [
    "<br>\n",
    "<br>\n",
    "\n",
    "## Data"
   ]
  },
  {
   "cell_type": "markdown",
   "metadata": {
    "id": "fWohNa74Fp1X"
   },
   "source": [
    "<br>\n",
    "\n",
    "**Attributes**"
   ]
  },
  {
   "cell_type": "code",
   "execution_count": 13,
   "metadata": {
    "id": "tTGEezhNx7So"
   },
   "outputs": [],
   "source": [
    "fields = ['datetimeobject', 'STUSPS', 'positiveIncrease', 'testIncrease', 'deathIncrease', 'hospitalizedIncrease', \n",
    "          'positiveCumulative', 'testCumulative',  'deathCumulative', 'hospitalizedCumulative', \n",
    "          'positiveRate', 'testRate', 'deathRate', 'hospitalizedRate', 'ndays']\n",
    "\n",
    "dtype = {'STUSPS': 'str', 'positiveIncrease': np.float64, 'testIncrease': np.float64, 'deathIncrease': np.float64, \n",
    "         'hospitalizedIncrease': np.float64, 'positiveCumulative': np.float64, 'testCumulative': np.float64, \n",
    "         'deathCumulative': np.float64, 'hospitalizedCumulative': np.float64, 'positiveRate': np.float64, \n",
    "         'testRate': np.float64, 'deathRate': np.float64, 'hospitalizedRate': np.float64, 'ndays': np.int64}        \n",
    "\n",
    "parse_dates = ['datetimeobject']"
   ]
  },
  {
   "cell_type": "markdown",
   "metadata": {
    "id": "zM5-hsOeFs3H"
   },
   "source": [
    "<br>\n",
    "<br>\n",
    "\n",
    "**The URL strings of the sources**"
   ]
  },
  {
   "cell_type": "code",
   "execution_count": 14,
   "metadata": {},
   "outputs": [],
   "source": [
    "uribaseline = os.path.join(parent, 'warehouse', 'baselines.csv')\n",
    "urihospitalizations = os.path.join(parent, 'warehouse', 'hospitalizations.csv')"
   ]
  },
  {
   "cell_type": "markdown",
   "metadata": {
    "id": "X51nrjBDXObX"
   },
   "source": [
    "<br>\n",
    "<br>\n",
    "\n",
    "**Baseline**"
   ]
  },
  {
   "cell_type": "code",
   "execution_count": 15,
   "metadata": {
    "colab": {
     "base_uri": "https://localhost:8080/",
     "height": 329
    },
    "id": "Am1PH5nYyVK_",
    "outputId": "b189e92b-d418-4de1-9f44-12bd6a860f94"
   },
   "outputs": [
    {
     "name": "stderr",
     "output_type": "stream",
     "text": [
      "INFO:__main__:None\n"
     ]
    },
    {
     "name": "stdout",
     "output_type": "stream",
     "text": [
      "<class 'pandas.core.frame.DataFrame'>\n",
      "RangeIndex: 19604 entries, 0 to 19603\n",
      "Data columns (total 17 columns):\n",
      " #   Column                  Non-Null Count  Dtype         \n",
      "---  ------                  --------------  -----         \n",
      " 0   datetimeobject          19604 non-null  datetime64[ns]\n",
      " 1   STUSPS                  19604 non-null  object        \n",
      " 2   deathIncrease           19604 non-null  float64       \n",
      " 3   deathCumulative         19604 non-null  float64       \n",
      " 4   positiveIncrease        19604 non-null  float64       \n",
      " 5   positiveCumulative      19604 non-null  float64       \n",
      " 6   hospitalizedIncrease    19604 non-null  float64       \n",
      " 7   hospitalizedCumulative  19604 non-null  float64       \n",
      " 8   testIncrease            19604 non-null  float64       \n",
      " 9   testCumulative          19604 non-null  float64       \n",
      " 10  deathRate               19604 non-null  float64       \n",
      " 11  positiveRate            19604 non-null  float64       \n",
      " 12  testRate                19604 non-null  float64       \n",
      " 13  hospitalizedRate        19604 non-null  float64       \n",
      " 14  ndays                   19604 non-null  int64         \n",
      " 15  positiveTestRate        19604 non-null  float64       \n",
      " 16  deathPositiveRate       19604 non-null  float64       \n",
      "dtypes: datetime64[ns](1), float64(14), int64(1), object(1)\n",
      "memory usage: 2.5+ MB\n"
     ]
    }
   ],
   "source": [
    "baselines = pd.read_csv(filepath_or_buffer=uribaseline, header=0, usecols=fields, \n",
    "                        dtype=dtype, encoding='utf-8', parse_dates=parse_dates)\n",
    "\n",
    "baselines.loc[:, 'positiveTestRate'] = np.where(\n",
    "    baselines['testRate'] > 0, 100 * baselines['positiveRate'] / baselines['testRate'], 0)\n",
    "baselines.loc[:, 'deathPositiveRate'] = np.where(\n",
    "    baselines['positiveRate'] > 0, 100 * baselines['deathRate'] / baselines['positiveRate'], 0)\n",
    "\n",
    "logger.info(baselines.info())"
   ]
  },
  {
   "cell_type": "markdown",
   "metadata": {},
   "source": [
    "<br>\n",
    "<br>\n",
    "\n",
    "**Hospitalizations**"
   ]
  },
  {
   "cell_type": "code",
   "execution_count": 16,
   "metadata": {},
   "outputs": [
    {
     "name": "stderr",
     "output_type": "stream",
     "text": [
      "INFO:__main__:None\n"
     ]
    },
    {
     "name": "stdout",
     "output_type": "stream",
     "text": [
      "<class 'pandas.core.frame.DataFrame'>\n",
      "RangeIndex: 13949 entries, 0 to 13948\n",
      "Data columns (total 17 columns):\n",
      " #   Column                    Non-Null Count  Dtype         \n",
      "---  ------                    --------------  -----         \n",
      " 0   datetimeobject            13949 non-null  datetime64[ns]\n",
      " 1   STUSPS                    13949 non-null  object        \n",
      " 2   deathIncrease             13949 non-null  float64       \n",
      " 3   deathCumulative           13949 non-null  float64       \n",
      " 4   positiveIncrease          13949 non-null  float64       \n",
      " 5   positiveCumulative        13949 non-null  float64       \n",
      " 6   hospitalizedIncrease      13949 non-null  float64       \n",
      " 7   hospitalizedCumulative    13949 non-null  float64       \n",
      " 8   testIncrease              13949 non-null  float64       \n",
      " 9   testCumulative            13949 non-null  float64       \n",
      " 10  deathRate                 13949 non-null  float64       \n",
      " 11  positiveRate              13949 non-null  float64       \n",
      " 12  testRate                  13949 non-null  float64       \n",
      " 13  hospitalizedRate          13949 non-null  float64       \n",
      " 14  ndays                     13949 non-null  int64         \n",
      " 15  hospitalizedPositiveRate  13949 non-null  float64       \n",
      " 16  deathHospitalizedRate     13949 non-null  float64       \n",
      "dtypes: datetime64[ns](1), float64(14), int64(1), object(1)\n",
      "memory usage: 1.8+ MB\n"
     ]
    }
   ],
   "source": [
    "hospitalizations = pd.read_csv(filepath_or_buffer=urihospitalizations, header=0, \n",
    "                               usecols=fields,dtype=dtype, encoding='utf-8', parse_dates=parse_dates)\n",
    "\n",
    "hospitalizations.loc[:, 'hospitalizedPositiveRate'] =  np.where(\n",
    "    hospitalizations['positiveRate'] > 0, 100 * hospitalizations['hospitalizedRate'] / hospitalizations['positiveRate'], 0)\n",
    "hospitalizations.loc[:, 'deathHospitalizedRate'] =  np.where(\n",
    "    hospitalizations['hospitalizedRate'] > 0, 100 * hospitalizations['deathRate'] / hospitalizations['hospitalizedRate'], 0)\n",
    "\n",
    "logger.info(hospitalizations.info())"
   ]
  },
  {
   "cell_type": "markdown",
   "metadata": {
    "id": "tJDW4w4FioAn"
   },
   "source": [
    "<br>\n",
    "<br>\n",
    "\n",
    "## Regression"
   ]
  },
  {
   "cell_type": "markdown",
   "metadata": {
    "id": "aG96g5vxHfi0"
   },
   "source": [
    "<br>\n",
    "\n",
    "**Latest Date**"
   ]
  },
  {
   "cell_type": "code",
   "execution_count": 17,
   "metadata": {
    "colab": {
     "base_uri": "https://localhost:8080/",
     "height": 35
    },
    "id": "EutsQfFe_TAc",
    "outputId": "07bcd2cb-b840-4e8d-8d24-3d81ad798aee"
   },
   "outputs": [
    {
     "name": "stderr",
     "output_type": "stream",
     "text": [
      "INFO:__main__:<class 'pandas._libs.tslibs.timestamps.Timestamp'>\n",
      "INFO:__main__:2021-02-01 00:00:00\n"
     ]
    }
   ],
   "source": [
    "latestdate = baselines.datetimeobject.max()\n",
    "logger.info(type(latestdate))\n",
    "logger.info(latestdate)"
   ]
  },
  {
   "cell_type": "markdown",
   "metadata": {},
   "source": [
    "<br>\n",
    "<br>\n",
    "\n",
    "**Periods**"
   ]
  },
  {
   "cell_type": "markdown",
   "metadata": {
    "id": "nc5wL7foy8Yy"
   },
   "source": [
    "Within the context of the aforementioned $positives_{c, \\small{100K}, \\tau} \\;\\; vs.\\ \\; tests_{c, \\small{100K}, \\tau}$ curves, each value of this array is the number of data points, starting from the end of a curve, that are used to develop **a regression model of the tangent/secant line to the points**.\n",
    "\n",
    "Key points:\n",
    "\n",
    "* The model predicts the expected $positives_{c, \\small{100K}}$ as $tests_{c, \\small{100K}, \\tau}$ increases.\n",
    "\n",
    "* The gradient of each model is an estimate of the prevailing positivity rate; an estimate of the current daily positivity value. [cf. continous positivity value] "
   ]
  },
  {
   "cell_type": "code",
   "execution_count": 18,
   "metadata": {
    "colab": {
     "base_uri": "https://localhost:8080/",
     "height": 54
    },
    "id": "Ecz7HPDpy-6j",
    "outputId": "b66f859e-5678-420c-ec15-89988b8e65e9"
   },
   "outputs": [
    {
     "name": "stderr",
     "output_type": "stream",
     "text": [
      "INFO:__main__:[ 8  9 10 11 12 13 14 15 16 17 18 19 20 21 22 23 24 25 26 27 28]\n"
     ]
    }
   ],
   "source": [
    "periods = np.arange(8, 29)\n",
    "logger.info( periods)"
   ]
  },
  {
   "cell_type": "markdown",
   "metadata": {
    "id": "62eUabmoCmn0"
   },
   "source": [
    "<br>\n",
    "<br>\n",
    "\n",
    "**Partitions**"
   ]
  },
  {
   "cell_type": "code",
   "execution_count": 19,
   "metadata": {
    "colab": {
     "base_uri": "https://localhost:8080/",
     "height": 109
    },
    "id": "pZ7AuQYpnymS",
    "outputId": "6fe80e70-aaee-4e09-ad4e-024fa0b5b83d"
   },
   "outputs": [
    {
     "name": "stderr",
     "output_type": "stream",
     "text": [
      "INFO:__main__:['AL' 'AK' 'AZ' 'AR' 'CA' 'CO' 'CT' 'DE' 'DC' 'FL' 'GA' 'HI' 'ID' 'IL'\n",
      " 'IN' 'IA' 'KS' 'KY' 'LA' 'ME' 'MD' 'MA' 'MI' 'MN' 'MS' 'MO' 'MT' 'NE'\n",
      " 'NV' 'NH' 'NJ' 'NM' 'NY' 'NC' 'ND' 'OH' 'OK' 'OR' 'PA' 'RI' 'SC' 'SD'\n",
      " 'TN' 'TX' 'UT' 'VT' 'VA' 'WA' 'WV' 'WI' 'WY' 'PR']\n"
     ]
    }
   ],
   "source": [
    "partitionby = 'STUSPS'\n",
    "partitions = baselines[partitionby].unique()\n",
    "logger.info(partitions)"
   ]
  },
  {
   "cell_type": "markdown",
   "metadata": {
    "id": "fSpAylLKjVaq"
   },
   "source": [
    "<br>\n",
    "<br>\n",
    "\n",
    "### **positives vs. tests**"
   ]
  },
  {
   "cell_type": "markdown",
   "metadata": {},
   "source": [
    "<br>\n",
    "\n",
    "**Analysis**"
   ]
  },
  {
   "cell_type": "code",
   "execution_count": 20,
   "metadata": {
    "id": "K3T98kHYaByi"
   },
   "outputs": [],
   "source": [
    "formula = 'positiveRate ~ testRate'\n",
    "regressor = 'testRate'\n",
    "\n",
    "prospects = atlantic.investigations.prospects.Prospects(data=baselines, partitionby=partitionby, periods=periods, \n",
    "                                                 formula=formula, regressor=regressor, step=100, num=5, latestdate=latestdate)"
   ]
  },
  {
   "cell_type": "code",
   "execution_count": 21,
   "metadata": {},
   "outputs": [],
   "source": [
    "estimates, predictions = prospects.exc(partitions=baselines[partitionby].unique())"
   ]
  },
  {
   "cell_type": "markdown",
   "metadata": {
    "id": "ZwTkYgMRR2zC"
   },
   "source": [
    "<br>\n",
    "\n",
    "**State of affairs**"
   ]
  },
  {
   "cell_type": "code",
   "execution_count": 22,
   "metadata": {},
   "outputs": [],
   "source": [
    "ptr = estimates"
   ]
  },
  {
   "cell_type": "markdown",
   "metadata": {},
   "source": [
    "<br>\n",
    "\n",
    "Prevailing Positive Test Rate"
   ]
  },
  {
   "cell_type": "code",
   "execution_count": 23,
   "metadata": {},
   "outputs": [],
   "source": [
    "ptr.loc[:, 'prevailingPTR'] = 100 * ptr['gradient']\n",
    "ptr = ptr.merge(baselines[['datetimeobject', 'STUSPS', 'positiveTestRate']], how='left', on=['datetimeobject', 'STUSPS'])\n",
    "ptr.loc[:, 'cf'] = ptr[['prevailingPTR', 'positiveTestRate']].max(axis=1)\n",
    "\n",
    "ptr.loc[:, 'rank'] = ptr['cf'].rank(method='min', ascending=False)\n",
    "ptr.sort_values(by='rank', ascending=True, inplace=True)\n",
    "ptr.drop(columns=['cf'], inplace=True)"
   ]
  },
  {
   "cell_type": "markdown",
   "metadata": {},
   "source": [
    "<br>\n",
    "\n",
    "Structuring"
   ]
  },
  {
   "cell_type": "code",
   "execution_count": 24,
   "metadata": {
    "colab": {
     "base_uri": "https://localhost:8080/",
     "height": 1000
    },
    "id": "t6sMy86OHV52",
    "outputId": "c262d2d3-abd8-4cf6-daea-28ff495a974d"
   },
   "outputs": [
    {
     "data": {
      "text/html": [
       "<div>\n",
       "<style scoped>\n",
       "    .dataframe tbody tr th:only-of-type {\n",
       "        vertical-align: middle;\n",
       "    }\n",
       "\n",
       "    .dataframe tbody tr th {\n",
       "        vertical-align: top;\n",
       "    }\n",
       "\n",
       "    .dataframe thead th {\n",
       "        text-align: right;\n",
       "    }\n",
       "</style>\n",
       "<table border=\"1\" class=\"dataframe\">\n",
       "  <thead>\n",
       "    <tr style=\"text-align: right;\">\n",
       "      <th></th>\n",
       "      <th>datetimeobject</th>\n",
       "      <th>gradient</th>\n",
       "      <th>gradientLCI</th>\n",
       "      <th>gradientUCI</th>\n",
       "      <th>pvalue</th>\n",
       "      <th>rsquared</th>\n",
       "      <th>intercept</th>\n",
       "      <th>STUSPS</th>\n",
       "      <th>prevailingPTR</th>\n",
       "      <th>continuousPTR</th>\n",
       "      <th>rank</th>\n",
       "      <th>prevailingTPC</th>\n",
       "    </tr>\n",
       "  </thead>\n",
       "  <tbody>\n",
       "    <tr>\n",
       "      <th>13</th>\n",
       "      <td>2021-02-01</td>\n",
       "      <td>0.0459137</td>\n",
       "      <td>0.0342284</td>\n",
       "      <td>0.0566509</td>\n",
       "      <td>6.2039e-19</td>\n",
       "      <td>0.992326</td>\n",
       "      <td>3099.01</td>\n",
       "      <td>IL</td>\n",
       "      <td>4.59137</td>\n",
       "      <td>7.009777</td>\n",
       "      <td>48.0</td>\n",
       "      <td>21.78</td>\n",
       "    </tr>\n",
       "    <tr>\n",
       "      <th>48</th>\n",
       "      <td>2021-02-01</td>\n",
       "      <td>0.0688044</td>\n",
       "      <td>0.058624</td>\n",
       "      <td>0.0750964</td>\n",
       "      <td>6.56248e-23</td>\n",
       "      <td>0.996639</td>\n",
       "      <td>-710.168</td>\n",
       "      <td>WV</td>\n",
       "      <td>6.88044</td>\n",
       "      <td>6.224590</td>\n",
       "      <td>49.0</td>\n",
       "      <td>14.534</td>\n",
       "    </tr>\n",
       "    <tr>\n",
       "      <th>22</th>\n",
       "      <td>2021-02-01</td>\n",
       "      <td>0.0506962</td>\n",
       "      <td>0.0406501</td>\n",
       "      <td>0.0606022</td>\n",
       "      <td>1.89532e-20</td>\n",
       "      <td>0.994582</td>\n",
       "      <td>1362.83</td>\n",
       "      <td>MI</td>\n",
       "      <td>5.06962</td>\n",
       "      <td>6.506995</td>\n",
       "      <td>50.0</td>\n",
       "      <td>19.7253</td>\n",
       "    </tr>\n",
       "    <tr>\n",
       "      <th>6</th>\n",
       "      <td>2021-02-01</td>\n",
       "      <td>0.0374703</td>\n",
       "      <td>0.0286033</td>\n",
       "      <td>0.050602</td>\n",
       "      <td>2.88916e-13</td>\n",
       "      <td>0.96532</td>\n",
       "      <td>979.911</td>\n",
       "      <td>CT</td>\n",
       "      <td>3.74703</td>\n",
       "      <td>4.370625</td>\n",
       "      <td>51.0</td>\n",
       "      <td>26.6878</td>\n",
       "    </tr>\n",
       "    <tr>\n",
       "      <th>19</th>\n",
       "      <td>2021-02-01</td>\n",
       "      <td>0.040457</td>\n",
       "      <td>0.0205926</td>\n",
       "      <td>0.0542898</td>\n",
       "      <td>1.4476e-14</td>\n",
       "      <td>0.971009</td>\n",
       "      <td>-1246.02</td>\n",
       "      <td>ME</td>\n",
       "      <td>4.0457</td>\n",
       "      <td>2.808380</td>\n",
       "      <td>52.0</td>\n",
       "      <td>24.7176</td>\n",
       "    </tr>\n",
       "  </tbody>\n",
       "</table>\n",
       "</div>"
      ],
      "text/plain": [
       "   datetimeobject   gradient gradientLCI gradientUCI       pvalue  rsquared  \\\n",
       "13     2021-02-01  0.0459137   0.0342284   0.0566509   6.2039e-19  0.992326   \n",
       "48     2021-02-01  0.0688044    0.058624   0.0750964  6.56248e-23  0.996639   \n",
       "22     2021-02-01  0.0506962   0.0406501   0.0606022  1.89532e-20  0.994582   \n",
       "6      2021-02-01  0.0374703   0.0286033    0.050602  2.88916e-13   0.96532   \n",
       "19     2021-02-01   0.040457   0.0205926   0.0542898   1.4476e-14  0.971009   \n",
       "\n",
       "   intercept STUSPS prevailingPTR  continuousPTR  rank prevailingTPC  \n",
       "13   3099.01     IL       4.59137       7.009777  48.0         21.78  \n",
       "48  -710.168     WV       6.88044       6.224590  49.0        14.534  \n",
       "22   1362.83     MI       5.06962       6.506995  50.0       19.7253  \n",
       "6    979.911     CT       3.74703       4.370625  51.0       26.6878  \n",
       "19  -1246.02     ME        4.0457       2.808380  52.0       24.7176  "
      ]
     },
     "execution_count": 24,
     "metadata": {},
     "output_type": "execute_result"
    }
   ],
   "source": [
    "ptr.loc[:, 'prevailingTPC'] = np.where(ptr['prevailingPTR'] > 0, ptr['prevailingPTR'].rdiv(100), 0)\n",
    "ptr.rename(columns={'lowerconfidenceinterval': 'gradientLCI', 'upperconfidenceinterval': 'gradientUCI', \n",
    "                    'positiveTestRate': 'continuousPTR'},\n",
    "          inplace=True)\n",
    "ptr.to_csv(path_or_buf=os.path.join(warehouse, 'ptr.csv'), index=False, header=True, encoding='utf-8')\n",
    "ptr.to_json(path_or_buf=os.path.join(warehouse, 'ptr.json'), orient='values')\n",
    "\n",
    "ptr.tail()"
   ]
  },
  {
   "cell_type": "markdown",
   "metadata": {},
   "source": [
    "<br>\n",
    "<br>\n",
    "\n",
    "### **deaths vs. positives**"
   ]
  },
  {
   "cell_type": "code",
   "execution_count": 25,
   "metadata": {},
   "outputs": [],
   "source": [
    "del formula, regressor, prospects, estimates, predictions"
   ]
  },
  {
   "cell_type": "markdown",
   "metadata": {},
   "source": [
    "<br>\n",
    "\n",
    "**Analysis**"
   ]
  },
  {
   "cell_type": "code",
   "execution_count": 26,
   "metadata": {},
   "outputs": [],
   "source": [
    "formula = 'deathRate ~ positiveRate'\n",
    "regressor = 'positiveRate'\n",
    "\n",
    "prospects = atlantic.investigations.prospects.Prospects(data=baselines, partitionby=partitionby, periods=periods, \n",
    "                                                 formula=formula, regressor=regressor, step=20, num=5, latestdate=latestdate)"
   ]
  },
  {
   "cell_type": "code",
   "execution_count": 27,
   "metadata": {},
   "outputs": [],
   "source": [
    "estimates, predictions = prospects.exc(partitions=baselines[partitionby].unique())"
   ]
  },
  {
   "cell_type": "markdown",
   "metadata": {},
   "source": [
    "<br>\n",
    "\n",
    "**State of Affairs**"
   ]
  },
  {
   "cell_type": "code",
   "execution_count": 28,
   "metadata": {},
   "outputs": [],
   "source": [
    "dpr = estimates"
   ]
  },
  {
   "cell_type": "markdown",
   "metadata": {},
   "source": [
    "<br>\n",
    "\n",
    "Prevailing Death Positive Rate"
   ]
  },
  {
   "cell_type": "code",
   "execution_count": 29,
   "metadata": {},
   "outputs": [],
   "source": [
    "dpr.loc[:, 'prevailingDPR'] = 100 * dpr['gradient']\n",
    "dpr = dpr.merge(baselines[['datetimeobject', 'STUSPS', 'deathPositiveRate']], how='left', on=['datetimeobject', 'STUSPS'])\n",
    "dpr.loc[:, 'cf'] = dpr[['prevailingDPR', 'deathPositiveRate']].max(axis=1)\n",
    "\n",
    "dpr.loc[:, 'rank'] = dpr['cf'].rank(method='min', ascending=False)\n",
    "dpr.sort_values(by='rank', ascending=True, inplace=True)\n",
    "dpr.drop(columns=['cf'], inplace=True)"
   ]
  },
  {
   "cell_type": "markdown",
   "metadata": {},
   "source": [
    "<br>\n",
    "\n",
    "Structuring"
   ]
  },
  {
   "cell_type": "code",
   "execution_count": 30,
   "metadata": {},
   "outputs": [
    {
     "data": {
      "text/html": [
       "<div>\n",
       "<style scoped>\n",
       "    .dataframe tbody tr th:only-of-type {\n",
       "        vertical-align: middle;\n",
       "    }\n",
       "\n",
       "    .dataframe tbody tr th {\n",
       "        vertical-align: top;\n",
       "    }\n",
       "\n",
       "    .dataframe thead th {\n",
       "        text-align: right;\n",
       "    }\n",
       "</style>\n",
       "<table border=\"1\" class=\"dataframe\">\n",
       "  <thead>\n",
       "    <tr style=\"text-align: right;\">\n",
       "      <th></th>\n",
       "      <th>datetimeobject</th>\n",
       "      <th>gradient</th>\n",
       "      <th>gradientLCI</th>\n",
       "      <th>gradientUCI</th>\n",
       "      <th>pvalue</th>\n",
       "      <th>rsquared</th>\n",
       "      <th>intercept</th>\n",
       "      <th>STUSPS</th>\n",
       "      <th>prevailingDPR</th>\n",
       "      <th>continuousDPR</th>\n",
       "      <th>rank</th>\n",
       "      <th>prevailingCPD</th>\n",
       "    </tr>\n",
       "  </thead>\n",
       "  <tbody>\n",
       "    <tr>\n",
       "      <th>35</th>\n",
       "      <td>2021-02-01</td>\n",
       "      <td>0.013918</td>\n",
       "      <td>0.0116951</td>\n",
       "      <td>0.0153735</td>\n",
       "      <td>4.95716e-25</td>\n",
       "      <td>0.997835</td>\n",
       "      <td>-11.1053</td>\n",
       "      <td>OH</td>\n",
       "      <td>1.3918</td>\n",
       "      <td>1.249056</td>\n",
       "      <td>48.0</td>\n",
       "      <td>71.8496</td>\n",
       "    </tr>\n",
       "    <tr>\n",
       "      <th>46</th>\n",
       "      <td>2021-02-01</td>\n",
       "      <td>0.0104577</td>\n",
       "      <td>0.00895794</td>\n",
       "      <td>0.0155891</td>\n",
       "      <td>3.84928e-14</td>\n",
       "      <td>0.978755</td>\n",
       "      <td>13.4159</td>\n",
       "      <td>VA</td>\n",
       "      <td>1.04577</td>\n",
       "      <td>1.275313</td>\n",
       "      <td>49.0</td>\n",
       "      <td>95.6235</td>\n",
       "    </tr>\n",
       "    <tr>\n",
       "      <th>1</th>\n",
       "      <td>2021-02-01</td>\n",
       "      <td>0.0109129</td>\n",
       "      <td>0.00120558</td>\n",
       "      <td>0.0181002</td>\n",
       "      <td>5.6254e-07</td>\n",
       "      <td>0.841415</td>\n",
       "      <td>-42.2625</td>\n",
       "      <td>AK</td>\n",
       "      <td>1.09129</td>\n",
       "      <td>0.497456</td>\n",
       "      <td>50.0</td>\n",
       "      <td>91.6345</td>\n",
       "    </tr>\n",
       "    <tr>\n",
       "      <th>27</th>\n",
       "      <td>2021-02-01</td>\n",
       "      <td>0.0101797</td>\n",
       "      <td>0.00419146</td>\n",
       "      <td>0.0144448</td>\n",
       "      <td>1.25845e-13</td>\n",
       "      <td>0.970138</td>\n",
       "      <td>-0.90296</td>\n",
       "      <td>NE</td>\n",
       "      <td>1.01797</td>\n",
       "      <td>1.005499</td>\n",
       "      <td>51.0</td>\n",
       "      <td>98.2349</td>\n",
       "    </tr>\n",
       "    <tr>\n",
       "      <th>44</th>\n",
       "      <td>2021-02-01</td>\n",
       "      <td>0.00716691</td>\n",
       "      <td>0.00534771</td>\n",
       "      <td>0.0093592</td>\n",
       "      <td>8.58903e-18</td>\n",
       "      <td>0.986365</td>\n",
       "      <td>-25.5383</td>\n",
       "      <td>UT</td>\n",
       "      <td>0.716691</td>\n",
       "      <td>0.480404</td>\n",
       "      <td>52.0</td>\n",
       "      <td>139.53</td>\n",
       "    </tr>\n",
       "  </tbody>\n",
       "</table>\n",
       "</div>"
      ],
      "text/plain": [
       "   datetimeobject    gradient gradientLCI gradientUCI       pvalue  rsquared  \\\n",
       "35     2021-02-01    0.013918   0.0116951   0.0153735  4.95716e-25  0.997835   \n",
       "46     2021-02-01   0.0104577  0.00895794   0.0155891  3.84928e-14  0.978755   \n",
       "1      2021-02-01   0.0109129  0.00120558   0.0181002   5.6254e-07  0.841415   \n",
       "27     2021-02-01   0.0101797  0.00419146   0.0144448  1.25845e-13  0.970138   \n",
       "44     2021-02-01  0.00716691  0.00534771   0.0093592  8.58903e-18  0.986365   \n",
       "\n",
       "   intercept STUSPS prevailingDPR  continuousDPR  rank prevailingCPD  \n",
       "35  -11.1053     OH        1.3918       1.249056  48.0       71.8496  \n",
       "46   13.4159     VA       1.04577       1.275313  49.0       95.6235  \n",
       "1   -42.2625     AK       1.09129       0.497456  50.0       91.6345  \n",
       "27  -0.90296     NE       1.01797       1.005499  51.0       98.2349  \n",
       "44  -25.5383     UT      0.716691       0.480404  52.0        139.53  "
      ]
     },
     "execution_count": 30,
     "metadata": {},
     "output_type": "execute_result"
    }
   ],
   "source": [
    "dpr.loc[:, 'prevailingCPD'] = np.where(dpr['prevailingDPR'] > 0, dpr['prevailingDPR'].rdiv(100), 0)\n",
    "dpr.rename(columns={'lowerconfidenceinterval': 'gradientLCI', 'upperconfidenceinterval': 'gradientUCI', \n",
    "                    'deathPositiveRate': 'continuousDPR'},\n",
    "          inplace=True)\n",
    "dpr.to_csv(path_or_buf=os.path.join(warehouse, 'dpr.csv'), index=False, header=True, encoding='utf-8')\n",
    "dpr.to_json(path_or_buf=os.path.join(warehouse, 'dpr.json'), orient='values')\n",
    "\n",
    "dpr.tail()"
   ]
  },
  {
   "cell_type": "markdown",
   "metadata": {},
   "source": [
    "<br>\n",
    "<br>\n",
    "\n",
    "### **hospitalizations vs. positives**"
   ]
  },
  {
   "cell_type": "code",
   "execution_count": 31,
   "metadata": {},
   "outputs": [],
   "source": [
    "del formula, regressor, prospects, estimates, predictions"
   ]
  },
  {
   "cell_type": "markdown",
   "metadata": {},
   "source": [
    "<br>\n",
    "\n",
    "**Analysis**"
   ]
  },
  {
   "cell_type": "code",
   "execution_count": 32,
   "metadata": {},
   "outputs": [],
   "source": [
    "formula = 'hospitalizedRate ~ positiveRate'\n",
    "regressor = 'positiveRate'\n",
    "\n",
    "prospects = atlantic.investigations.prospects.Prospects(data=hospitalizations, partitionby=partitionby, periods=periods, \n",
    "                                                 formula=formula, regressor=regressor, step=10, num=5, latestdate=latestdate)"
   ]
  },
  {
   "cell_type": "code",
   "execution_count": 33,
   "metadata": {},
   "outputs": [],
   "source": [
    "estimates, predictions = prospects.exc(partitions=hospitalizations[partitionby].unique())"
   ]
  },
  {
   "cell_type": "markdown",
   "metadata": {},
   "source": [
    "<br>\n",
    "\n",
    "**State of Affairs**"
   ]
  },
  {
   "cell_type": "code",
   "execution_count": 34,
   "metadata": {},
   "outputs": [],
   "source": [
    "hpr = estimates"
   ]
  },
  {
   "cell_type": "markdown",
   "metadata": {},
   "source": [
    "<br>\n",
    "\n",
    "Prevailing Hospitalised Positive Rate"
   ]
  },
  {
   "cell_type": "code",
   "execution_count": 35,
   "metadata": {},
   "outputs": [],
   "source": [
    "hpr.loc[:, 'prevailingHPR'] = 100 * hpr['gradient']\n",
    "hpr.loc[:, 'rank'] = hpr['prevailingHPR'].rank(method='min', ascending=False)\n",
    "hpr.sort_values(by='rank', ascending=True, inplace=True)"
   ]
  },
  {
   "cell_type": "markdown",
   "metadata": {},
   "source": [
    "<br>\n",
    "\n",
    "Structuring"
   ]
  },
  {
   "cell_type": "code",
   "execution_count": 36,
   "metadata": {},
   "outputs": [
    {
     "data": {
      "text/html": [
       "<div>\n",
       "<style scoped>\n",
       "    .dataframe tbody tr th:only-of-type {\n",
       "        vertical-align: middle;\n",
       "    }\n",
       "\n",
       "    .dataframe tbody tr th {\n",
       "        vertical-align: top;\n",
       "    }\n",
       "\n",
       "    .dataframe thead th {\n",
       "        text-align: right;\n",
       "    }\n",
       "</style>\n",
       "<table border=\"1\" class=\"dataframe\">\n",
       "  <thead>\n",
       "    <tr style=\"text-align: right;\">\n",
       "      <th></th>\n",
       "      <th>datetimeobject</th>\n",
       "      <th>gradient</th>\n",
       "      <th>gradientLCI</th>\n",
       "      <th>gradientUCI</th>\n",
       "      <th>pvalue</th>\n",
       "      <th>rsquared</th>\n",
       "      <th>intercept</th>\n",
       "      <th>STUSPS</th>\n",
       "      <th>prevailingHPR</th>\n",
       "      <th>rank</th>\n",
       "      <th>continuousHPR</th>\n",
       "      <th>prevailingCPH</th>\n",
       "    </tr>\n",
       "  </thead>\n",
       "  <tbody>\n",
       "    <tr>\n",
       "      <th>32</th>\n",
       "      <td>2021-02-01</td>\n",
       "      <td>0.0154812</td>\n",
       "      <td>0.00295488</td>\n",
       "      <td>0.0351091</td>\n",
       "      <td>7.31756e-09</td>\n",
       "      <td>0.8754</td>\n",
       "      <td>143.872</td>\n",
       "      <td>MA</td>\n",
       "      <td>1.54812</td>\n",
       "      <td>33.0</td>\n",
       "      <td>3.420823</td>\n",
       "      <td>64.5946</td>\n",
       "    </tr>\n",
       "    <tr>\n",
       "      <th>33</th>\n",
       "      <td>2021-02-01</td>\n",
       "      <td>0.00957442</td>\n",
       "      <td>-0.00471078</td>\n",
       "      <td>0.0177202</td>\n",
       "      <td>2.21891e-07</td>\n",
       "      <td>0.821381</td>\n",
       "      <td>203.648</td>\n",
       "      <td>MS</td>\n",
       "      <td>0.957442</td>\n",
       "      <td>34.0</td>\n",
       "      <td>3.183464</td>\n",
       "      <td>104.445</td>\n",
       "    </tr>\n",
       "    <tr>\n",
       "      <th>34</th>\n",
       "      <td>2021-02-01</td>\n",
       "      <td>0.0086082</td>\n",
       "      <td>0.006463</td>\n",
       "      <td>0.0111015</td>\n",
       "      <td>6.95498e-16</td>\n",
       "      <td>0.982166</td>\n",
       "      <td>34.3468</td>\n",
       "      <td>NH</td>\n",
       "      <td>0.86082</td>\n",
       "      <td>35.0</td>\n",
       "      <td>1.568319</td>\n",
       "      <td>116.168</td>\n",
       "    </tr>\n",
       "    <tr>\n",
       "      <th>35</th>\n",
       "      <td>2021-02-01</td>\n",
       "      <td>0</td>\n",
       "      <td>-2.75506e-14</td>\n",
       "      <td>2.91049e-14</td>\n",
       "      <td>0.845837</td>\n",
       "      <td>-323</td>\n",
       "      <td>343.787</td>\n",
       "      <td>CT</td>\n",
       "      <td>0</td>\n",
       "      <td>36.0</td>\n",
       "      <td>4.826465</td>\n",
       "      <td>0</td>\n",
       "    </tr>\n",
       "    <tr>\n",
       "      <th>36</th>\n",
       "      <td>2021-02-01</td>\n",
       "      <td>4.16334e-17</td>\n",
       "      <td>-9.74461e-15</td>\n",
       "      <td>1.08548e-14</td>\n",
       "      <td>0.682127</td>\n",
       "      <td>-116.3</td>\n",
       "      <td>462.615</td>\n",
       "      <td>NY</td>\n",
       "      <td>4.16334e-15</td>\n",
       "      <td>36.0</td>\n",
       "      <td>6.341409</td>\n",
       "      <td>2.40192e+16</td>\n",
       "    </tr>\n",
       "  </tbody>\n",
       "</table>\n",
       "</div>"
      ],
      "text/plain": [
       "   datetimeobject     gradient  gradientLCI  gradientUCI       pvalue  \\\n",
       "32     2021-02-01    0.0154812   0.00295488    0.0351091  7.31756e-09   \n",
       "33     2021-02-01   0.00957442  -0.00471078    0.0177202  2.21891e-07   \n",
       "34     2021-02-01    0.0086082     0.006463    0.0111015  6.95498e-16   \n",
       "35     2021-02-01            0 -2.75506e-14  2.91049e-14     0.845837   \n",
       "36     2021-02-01  4.16334e-17 -9.74461e-15  1.08548e-14     0.682127   \n",
       "\n",
       "    rsquared intercept STUSPS prevailingHPR  rank  continuousHPR prevailingCPH  \n",
       "32    0.8754   143.872     MA       1.54812  33.0       3.420823       64.5946  \n",
       "33  0.821381   203.648     MS      0.957442  34.0       3.183464       104.445  \n",
       "34  0.982166   34.3468     NH       0.86082  35.0       1.568319       116.168  \n",
       "35      -323   343.787     CT             0  36.0       4.826465             0  \n",
       "36    -116.3   462.615     NY   4.16334e-15  36.0       6.341409   2.40192e+16  "
      ]
     },
     "execution_count": 36,
     "metadata": {},
     "output_type": "execute_result"
    }
   ],
   "source": [
    "hpr = hpr.merge(hospitalizations[['datetimeobject', 'STUSPS', 'hospitalizedPositiveRate']], \n",
    "                how='left', on=['datetimeobject', 'STUSPS'])\n",
    "hpr.loc[:, 'prevailingCPH'] = np.where(hpr['prevailingHPR'] > 0, hpr['prevailingHPR'].rdiv(100), 0)\n",
    "\n",
    "hpr.rename(columns={'lowerconfidenceinterval': 'gradientLCI', 'upperconfidenceinterval': 'gradientUCI', \n",
    "                    'hospitalizedPositiveRate': 'continuousHPR'}, \n",
    "           inplace=True)\n",
    "\n",
    "hpr.to_csv(path_or_buf=os.path.join(warehouse, 'hpr.csv'), index=False, header=True, encoding='utf-8')\n",
    "hpr.to_json(path_or_buf=os.path.join(warehouse, 'hpr.json'), orient='values')\n",
    "\n",
    "hpr.tail()"
   ]
  },
  {
   "cell_type": "markdown",
   "metadata": {},
   "source": [
    "<br>\n",
    "<br>\n",
    "\n",
    "### **deaths vs. hospitalizations**"
   ]
  },
  {
   "cell_type": "code",
   "execution_count": 37,
   "metadata": {},
   "outputs": [],
   "source": [
    "del formula, regressor, prospects, estimates, predictions"
   ]
  },
  {
   "cell_type": "markdown",
   "metadata": {},
   "source": [
    "<br>\n",
    "\n",
    "**Analysis**"
   ]
  },
  {
   "cell_type": "code",
   "execution_count": 38,
   "metadata": {},
   "outputs": [],
   "source": [
    "formula = 'deathRate ~ hospitalizedRate'\n",
    "regressor = 'hospitalizedRate'\n",
    "\n",
    "prospects = atlantic.investigations.prospects.Prospects(data=hospitalizations, partitionby=partitionby, periods=periods, \n",
    "                                                 formula=formula, regressor=regressor, step=10, num=5, latestdate=latestdate)"
   ]
  },
  {
   "cell_type": "code",
   "execution_count": 39,
   "metadata": {},
   "outputs": [],
   "source": [
    "estimates, predictions = prospects.exc(partitions=hospitalizations[partitionby].unique())"
   ]
  },
  {
   "cell_type": "markdown",
   "metadata": {},
   "source": [
    "<br>\n",
    "\n",
    "**State of Affairs**"
   ]
  },
  {
   "cell_type": "code",
   "execution_count": 40,
   "metadata": {},
   "outputs": [],
   "source": [
    "dhr = estimates"
   ]
  },
  {
   "cell_type": "markdown",
   "metadata": {},
   "source": [
    "<br>\n",
    "\n",
    "Prevailing"
   ]
  },
  {
   "cell_type": "code",
   "execution_count": 41,
   "metadata": {},
   "outputs": [],
   "source": [
    "dhr.loc[:, 'prevailingDHR'] = 100 * dhr['gradient']\n",
    "dhr.loc[:, 'rank'] = dhr['prevailingDHR'].rank(method='min', ascending=False)\n",
    "dhr.sort_values(by='rank', ascending=True, inplace=True)"
   ]
  },
  {
   "cell_type": "markdown",
   "metadata": {},
   "source": [
    "<br>\n",
    "\n",
    "Structuring"
   ]
  },
  {
   "cell_type": "code",
   "execution_count": 42,
   "metadata": {},
   "outputs": [
    {
     "data": {
      "text/html": [
       "<div>\n",
       "<style scoped>\n",
       "    .dataframe tbody tr th:only-of-type {\n",
       "        vertical-align: middle;\n",
       "    }\n",
       "\n",
       "    .dataframe tbody tr th {\n",
       "        vertical-align: top;\n",
       "    }\n",
       "\n",
       "    .dataframe thead th {\n",
       "        text-align: right;\n",
       "    }\n",
       "</style>\n",
       "<table border=\"1\" class=\"dataframe\">\n",
       "  <thead>\n",
       "    <tr style=\"text-align: right;\">\n",
       "      <th></th>\n",
       "      <th>datetimeobject</th>\n",
       "      <th>gradient</th>\n",
       "      <th>gradientLCI</th>\n",
       "      <th>gradientUCI</th>\n",
       "      <th>pvalue</th>\n",
       "      <th>rsquared</th>\n",
       "      <th>intercept</th>\n",
       "      <th>STUSPS</th>\n",
       "      <th>prevailingDHR</th>\n",
       "      <th>rank</th>\n",
       "      <th>continuousDHR</th>\n",
       "      <th>prevailingHPD</th>\n",
       "    </tr>\n",
       "  </thead>\n",
       "  <tbody>\n",
       "    <tr>\n",
       "      <th>32</th>\n",
       "      <td>2021-02-01</td>\n",
       "      <td>0.238669</td>\n",
       "      <td>0.210009</td>\n",
       "      <td>0.28684</td>\n",
       "      <td>4.4286e-18</td>\n",
       "      <td>0.99441</td>\n",
       "      <td>-8.65498</td>\n",
       "      <td>MD</td>\n",
       "      <td>23.8669</td>\n",
       "      <td>33.0</td>\n",
       "      <td>22.230509</td>\n",
       "      <td>4.1899</td>\n",
       "    </tr>\n",
       "    <tr>\n",
       "      <th>33</th>\n",
       "      <td>2021-02-01</td>\n",
       "      <td>0.221114</td>\n",
       "      <td>0.116715</td>\n",
       "      <td>0.34895</td>\n",
       "      <td>7.41193e-14</td>\n",
       "      <td>0.972047</td>\n",
       "      <td>13.7021</td>\n",
       "      <td>CO</td>\n",
       "      <td>22.1114</td>\n",
       "      <td>34.0</td>\n",
       "      <td>25.824025</td>\n",
       "      <td>4.52255</td>\n",
       "    </tr>\n",
       "    <tr>\n",
       "      <th>34</th>\n",
       "      <td>2021-02-01</td>\n",
       "      <td>0.191537</td>\n",
       "      <td>0.128703</td>\n",
       "      <td>0.317797</td>\n",
       "      <td>1.25153e-13</td>\n",
       "      <td>0.970159</td>\n",
       "      <td>55.5142</td>\n",
       "      <td>RI</td>\n",
       "      <td>19.1537</td>\n",
       "      <td>35.0</td>\n",
       "      <td>26.193346</td>\n",
       "      <td>5.22093</td>\n",
       "    </tr>\n",
       "    <tr>\n",
       "      <th>35</th>\n",
       "      <td>2021-02-01</td>\n",
       "      <td>0.173613</td>\n",
       "      <td>0.123877</td>\n",
       "      <td>0.208022</td>\n",
       "      <td>3.99417e-16</td>\n",
       "      <td>0.985439</td>\n",
       "      <td>-21.0093</td>\n",
       "      <td>UT</td>\n",
       "      <td>17.3613</td>\n",
       "      <td>36.0</td>\n",
       "      <td>12.341842</td>\n",
       "      <td>5.75995</td>\n",
       "    </tr>\n",
       "    <tr>\n",
       "      <th>36</th>\n",
       "      <td>2021-02-01</td>\n",
       "      <td>0.153843</td>\n",
       "      <td>0.0310785</td>\n",
       "      <td>0.477297</td>\n",
       "      <td>2.01676e-09</td>\n",
       "      <td>0.886879</td>\n",
       "      <td>135.501</td>\n",
       "      <td>NJ</td>\n",
       "      <td>15.3843</td>\n",
       "      <td>37.0</td>\n",
       "      <td>35.487702</td>\n",
       "      <td>6.50015</td>\n",
       "    </tr>\n",
       "  </tbody>\n",
       "</table>\n",
       "</div>"
      ],
      "text/plain": [
       "   datetimeobject  gradient gradientLCI gradientUCI       pvalue  rsquared  \\\n",
       "32     2021-02-01  0.238669    0.210009     0.28684   4.4286e-18   0.99441   \n",
       "33     2021-02-01  0.221114    0.116715     0.34895  7.41193e-14  0.972047   \n",
       "34     2021-02-01  0.191537    0.128703    0.317797  1.25153e-13  0.970159   \n",
       "35     2021-02-01  0.173613    0.123877    0.208022  3.99417e-16  0.985439   \n",
       "36     2021-02-01  0.153843   0.0310785    0.477297  2.01676e-09  0.886879   \n",
       "\n",
       "   intercept STUSPS prevailingDHR  rank  continuousDHR prevailingHPD  \n",
       "32  -8.65498     MD       23.8669  33.0      22.230509        4.1899  \n",
       "33   13.7021     CO       22.1114  34.0      25.824025       4.52255  \n",
       "34   55.5142     RI       19.1537  35.0      26.193346       5.22093  \n",
       "35  -21.0093     UT       17.3613  36.0      12.341842       5.75995  \n",
       "36   135.501     NJ       15.3843  37.0      35.487702       6.50015  "
      ]
     },
     "execution_count": 42,
     "metadata": {},
     "output_type": "execute_result"
    }
   ],
   "source": [
    "dhr = dhr.merge(hospitalizations[['datetimeobject', 'STUSPS', 'deathHospitalizedRate']], \n",
    "                how='left', on=['datetimeobject', 'STUSPS'])\n",
    "dhr.loc[:, 'prevailingHPD'] = np.where(dhr['prevailingDHR'] > 0, dhr['prevailingDHR'].rdiv(100), 0)\n",
    "\n",
    "dhr.rename(columns={'lowerconfidenceinterval': 'gradientLCI', 'upperconfidenceinterval': 'gradientUCI', \n",
    "                    'deathHospitalizedRate': 'continuousDHR'}, \n",
    "           inplace=True)\n",
    "\n",
    "dhr.to_csv(path_or_buf=os.path.join(warehouse, 'dhr.csv'), index=False, header=True, encoding='utf-8')\n",
    "dhr.to_json(path_or_buf=os.path.join(warehouse, 'dhr.json'), orient='values')\n",
    "\n",
    "dhr.tail()"
   ]
  },
  {
   "cell_type": "markdown",
   "metadata": {},
   "source": [
    "<br>\n",
    "<br>\n",
    "\n",
    "## Clean-up"
   ]
  },
  {
   "cell_type": "code",
   "execution_count": 43,
   "metadata": {},
   "outputs": [],
   "source": [
    "!rm -rf *.log\n",
    "!rm -rf *.pdf\n",
    "!rm -rf states"
   ]
  },
  {
   "cell_type": "markdown",
   "metadata": {},
   "source": [
    "<br>\n",
    "<br>\n",
    "\n",
    "## End"
   ]
  },
  {
   "cell_type": "code",
   "execution_count": 44,
   "metadata": {},
   "outputs": [
    {
     "name": "stdout",
     "output_type": "stream",
     "text": [
      "2021-02-02 21:25:27\n"
     ]
    }
   ],
   "source": [
    "%%bash\n",
    "\n",
    "date +\"%Y-%m-%d %T\""
   ]
  }
 ],
 "metadata": {
  "colab": {
   "collapsed_sections": [],
   "name": "foresights.ipynb",
   "provenance": [],
   "toc_visible": true
  },
  "kernelspec": {
   "display_name": "Python 3",
   "language": "python",
   "name": "python3"
  },
  "language_info": {
   "codemirror_mode": {
    "name": "ipython",
    "version": 3
   },
   "file_extension": ".py",
   "mimetype": "text/x-python",
   "name": "python",
   "nbconvert_exporter": "python",
   "pygments_lexer": "ipython3",
   "version": "3.7.7"
  }
 },
 "nbformat": 4,
 "nbformat_minor": 4
}
