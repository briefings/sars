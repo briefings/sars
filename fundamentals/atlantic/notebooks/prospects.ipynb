{
 "cells": [
  {
   "cell_type": "markdown",
   "metadata": {
    "id": "qYxtyKBSegLi"
   },
   "source": [
    "This notebook continuously estimates the prevailing, realtime, positivity values via \n",
    "\n",
    "* $positives_{c, \\small{100K}, \\tau} \\;\\; vs.\\ \\; tests_{c, \\small{100K}, \\tau}$\n",
    "\n",
    "curves, wherein\n",
    "\n",
    "$\\qquad \\qquad \\qquad positives_{c, \\small{100K}, \\tau} \\; = \\; \\small{100\\,000} \\times \\displaystyle \\left(\\sum_{\\substack{\n",
    "   start \\\\\n",
    "   date\n",
    "  }}^{\\tau}{P_{\\delta}}  \\right) \\times \\frac{1}{population}$\n",
    "\n",
    "\n",
    "$\\qquad \\qquad \\qquad \\qquad  tests_{c, \\small{100K}, \\tau} \\; = \\; \\small{100\\,000} \\times \\displaystyle \\left(\\sum_{\\substack{\n",
    "   start \\\\\n",
    "   date\n",
    "  }}^{\\tau}{T_{\\delta}} \\right) \\times \\frac{1}{population}$  \n",
    "\n",
    "<br>\n",
    "\n",
    "which are the positive cases per hundred thousand and test numbers per hundred thousand, respectively, based on their cumulative values and\n",
    "\n",
    "<br>\n",
    "\n",
    "<table style=\"width:35%; text-align: left; border: 0px solid black; float:left; margin-left: 50px\">\n",
    "    <tr>\n",
    "        <th style=\"width:20%;\">$\\mathcal{Variable} \\qquad$</th><th></th> \n",
    "    </tr>\n",
    "    <tr>\n",
    "        <td>$\\tau$</td><td>end date</td>\n",
    "    </tr>\n",
    "    <tr>\n",
    "        <td>$\\delta$</td><td>a series date</td>\n",
    "    </tr>\n",
    "    <tr>\n",
    "      <td>$P_{\\delta}$</td><td>The number of positive cases on date $\\delta$.</td>\n",
    "    </tr>\n",
    "    <tr>\n",
    "      <td>$T_{\\delta}$</td><td>The number of tests on date $\\delta$.</td>\n",
    "    </tr>\n",
    "    \n",
    "</table>\n",
    "\n",
    "\n",
    "<br>"
   ]
  },
  {
   "cell_type": "markdown",
   "metadata": {},
   "source": [
    "<br>\n",
    "\n",
    "The subscript $c$ denotes cumulative.   The graph image below illustrates the curves in question.  In brief \n",
    "\n",
    "* The quotient of the coordinates of a point along a curve is the cumulative positivity value. \n",
    "\n",
    "* The gradient of a modelled secant line to a sequential set of curve rear points estimates the prevailing positivity value.\n",
    "\n",
    "* The aforementioned secant line model predicts the expected values of $positives_{c, \\small{100K}}$ as $tests_{c, \\small{100K}}$ increases.\n"
   ]
  },
  {
   "cell_type": "markdown",
   "metadata": {
    "id": "fBo-NZiRj3Jk"
   },
   "source": [
    "<div style=\"margin-left: 100px;\">\n",
    "    <img src=\"https://github.com/briefings/sars/raw/develop/fundamentals/atlantic/docs/ptr.png\" longdesc=\"surveillance\" width=\"40%\" style=\"float:center\">\n",
    "</div>\n",
    "\n",
    "<br>\n",
    "\n",
    "Upcoming: Link this image to the interactive graph.\n",
    "\n"
   ]
  },
  {
   "cell_type": "markdown",
   "metadata": {
    "id": "VphP1R94t3MG"
   },
   "source": [
    "<br>\n",
    "\n",
    "## Preliminaries"
   ]
  },
  {
   "cell_type": "markdown",
   "metadata": {
    "id": "GHv0WS-ft3NU"
   },
   "source": [
    "### Libraries"
   ]
  },
  {
   "cell_type": "code",
   "execution_count": 1,
   "metadata": {
    "id": "Rmvhg4BGt3NV"
   },
   "outputs": [],
   "source": [
    "import pandas as pd\n",
    "import geopandas as gpd\n",
    "import numpy as np\n",
    "import dask\n",
    "\n",
    "import logging\n",
    "\n",
    "import os\n",
    "import pathlib\n",
    "import sys\n",
    "\n",
    "import statsmodels.regression.linear_model\n"
   ]
  },
  {
   "cell_type": "code",
   "execution_count": 2,
   "metadata": {},
   "outputs": [],
   "source": [
    "from statsmodels.formula.api import ols"
   ]
  },
  {
   "cell_type": "markdown",
   "metadata": {},
   "source": [
    "<br>\n",
    "\n",
    "### Paths"
   ]
  },
  {
   "cell_type": "code",
   "execution_count": 3,
   "metadata": {},
   "outputs": [],
   "source": [
    "child = os.getcwd()\n",
    "parent = str(pathlib.Path(child).parent)"
   ]
  },
  {
   "cell_type": "code",
   "execution_count": 4,
   "metadata": {},
   "outputs": [],
   "source": [
    "root = os.path.join(child, 'warehouse')\n",
    "warehouse = os.path.join(root, 'prospects')"
   ]
  },
  {
   "cell_type": "markdown",
   "metadata": {},
   "source": [
    "<br>\n",
    "\n",
    "Appending paths"
   ]
  },
  {
   "cell_type": "code",
   "execution_count": 5,
   "metadata": {},
   "outputs": [],
   "source": [
    "sys.path.append(parent)"
   ]
  },
  {
   "cell_type": "markdown",
   "metadata": {},
   "source": [
    "<br>\n",
    "\n",
    "### Logging"
   ]
  },
  {
   "cell_type": "code",
   "execution_count": 6,
   "metadata": {},
   "outputs": [],
   "source": [
    "logging.basicConfig(level=logging.INFO)\n",
    "logger = logging.getLogger(__name__)"
   ]
  },
  {
   "cell_type": "markdown",
   "metadata": {
    "id": "XBdw0goyNV84"
   },
   "source": [
    "<br>\n",
    "\n",
    "### Custom"
   ]
  },
  {
   "cell_type": "markdown",
   "metadata": {},
   "source": [
    "Import"
   ]
  },
  {
   "cell_type": "code",
   "execution_count": 7,
   "metadata": {
    "id": "MK-SkdR98nB6"
   },
   "outputs": [],
   "source": [
    "import cartographs.boundaries.us.boundaries\n",
    "import cartographs.boundaries.us.settings"
   ]
  },
  {
   "cell_type": "code",
   "execution_count": 8,
   "metadata": {
    "id": "_OkEqJAXT1v_"
   },
   "outputs": [],
   "source": [
    "import algorithms.curves.estimates\n",
    "import algorithms.curves.predictions\n",
    "import algorithms.curves.secants"
   ]
  },
  {
   "cell_type": "code",
   "execution_count": 9,
   "metadata": {},
   "outputs": [],
   "source": [
    "import atlantic.base.directories\n",
    "import atlantic.investigations.prospects\n",
    "import atlantic.investigations.hospitalizations"
   ]
  },
  {
   "cell_type": "markdown",
   "metadata": {},
   "source": [
    "<br>\n",
    "\n",
    "Set-up directories"
   ]
  },
  {
   "cell_type": "code",
   "execution_count": 10,
   "metadata": {},
   "outputs": [],
   "source": [
    "directories = atlantic.base.directories.Directories()\n",
    "directories.cleanup(listof=[warehouse])\n",
    "directories.create(listof=[warehouse])"
   ]
  },
  {
   "cell_type": "markdown",
   "metadata": {
    "id": "2JDnqRVDrNXi"
   },
   "source": [
    "<br>\n",
    "<br>\n",
    "\n",
    "### Classes"
   ]
  },
  {
   "cell_type": "markdown",
   "metadata": {
    "id": "xd1LJpXYFcjz"
   },
   "source": [
    "**Boundaries**"
   ]
  },
  {
   "cell_type": "code",
   "execution_count": 11,
   "metadata": {
    "id": "7rrYl9wp_MV9"
   },
   "outputs": [],
   "source": [
    "settings = cartographs.boundaries.us.settings.Settings()\n",
    "boundaries = cartographs.boundaries.us.boundaries.Boundaries(settings.crs)"
   ]
  },
  {
   "cell_type": "code",
   "execution_count": 12,
   "metadata": {
    "colab": {
     "base_uri": "https://localhost:8080/",
     "height": 329
    },
    "id": "QKZE8EyfpnDQ",
    "outputId": "f17971ed-b866-49cf-a770-da754f7d7957"
   },
   "outputs": [
    {
     "name": "stdout",
     "output_type": "stream",
     "text": [
      "<class 'geopandas.geodataframe.GeoDataFrame'>\n",
      "RangeIndex: 56 entries, 0 to 55\n",
      "Data columns (total 10 columns):\n",
      " #   Column    Non-Null Count  Dtype   \n",
      "---  ------    --------------  -----   \n",
      " 0   STATEFP   56 non-null     object  \n",
      " 1   STATENS   56 non-null     object  \n",
      " 2   AFFGEOID  56 non-null     object  \n",
      " 3   GEOID     56 non-null     object  \n",
      " 4   STUSPS    56 non-null     object  \n",
      " 5   NAME      56 non-null     object  \n",
      " 6   LSAD      56 non-null     object  \n",
      " 7   ALAND     56 non-null     int64   \n",
      " 8   AWATER    56 non-null     int64   \n",
      " 9   geometry  56 non-null     geometry\n",
      "dtypes: geometry(1), int64(2), object(7)\n",
      "memory usage: 4.5+ KB\n"
     ]
    }
   ],
   "source": [
    "states = boundaries.states(year=settings.latest)\n",
    "states.info()"
   ]
  },
  {
   "cell_type": "markdown",
   "metadata": {
    "id": "waQQqdxSs9Qa"
   },
   "source": [
    "<br>\n",
    "<br>\n",
    "\n",
    "## Data"
   ]
  },
  {
   "cell_type": "markdown",
   "metadata": {
    "id": "fWohNa74Fp1X"
   },
   "source": [
    "<br>\n",
    "\n",
    "**Attributes**"
   ]
  },
  {
   "cell_type": "code",
   "execution_count": 13,
   "metadata": {
    "id": "tTGEezhNx7So"
   },
   "outputs": [],
   "source": [
    "fields = ['datetimeobject', 'STUSPS', 'positiveIncrease', 'testIncrease', 'deathIncrease', 'hospitalizedIncrease', \n",
    "          'positiveCumulative', 'testCumulative',  'deathCumulative', 'hospitalizedCumulative', \n",
    "          'positiveRate', 'testRate', 'deathRate', 'hospitalizedRate', 'ndays']\n",
    "\n",
    "dtype = {'STUSPS': 'str', 'positiveIncrease': np.float64, 'testIncrease': np.float64, 'deathIncrease': np.float64, \n",
    "         'hospitalizedIncrease': np.float64, 'positiveCumulative': np.float64, 'testCumulative': np.float64, \n",
    "         'deathCumulative': np.float64, 'hospitalizedCumulative': np.float64, 'positiveRate': np.float64, \n",
    "         'testRate': np.float64, 'deathRate': np.float64, 'hospitalizedRate': np.float64, 'ndays': np.int64}        \n",
    "\n",
    "parse_dates = ['datetimeobject']"
   ]
  },
  {
   "cell_type": "markdown",
   "metadata": {
    "id": "zM5-hsOeFs3H"
   },
   "source": [
    "<br>\n",
    "<br>\n",
    "\n",
    "**The URL strings of the sources**"
   ]
  },
  {
   "cell_type": "code",
   "execution_count": 14,
   "metadata": {},
   "outputs": [],
   "source": [
    "uribaseline = os.path.join(parent, 'warehouse', 'baselines.csv')\n",
    "urihospitalizations = os.path.join(parent, 'warehouse', 'hospitalizations.csv')"
   ]
  },
  {
   "cell_type": "markdown",
   "metadata": {
    "id": "X51nrjBDXObX"
   },
   "source": [
    "<br>\n",
    "<br>\n",
    "\n",
    "**Baseline**"
   ]
  },
  {
   "cell_type": "code",
   "execution_count": 15,
   "metadata": {
    "colab": {
     "base_uri": "https://localhost:8080/",
     "height": 329
    },
    "id": "Am1PH5nYyVK_",
    "outputId": "b189e92b-d418-4de1-9f44-12bd6a860f94"
   },
   "outputs": [
    {
     "name": "stderr",
     "output_type": "stream",
     "text": [
      "INFO:__main__:None\n"
     ]
    },
    {
     "name": "stdout",
     "output_type": "stream",
     "text": [
      "<class 'pandas.core.frame.DataFrame'>\n",
      "RangeIndex: 19864 entries, 0 to 19863\n",
      "Data columns (total 17 columns):\n",
      " #   Column                  Non-Null Count  Dtype         \n",
      "---  ------                  --------------  -----         \n",
      " 0   datetimeobject          19864 non-null  datetime64[ns]\n",
      " 1   STUSPS                  19864 non-null  object        \n",
      " 2   deathIncrease           19864 non-null  float64       \n",
      " 3   deathCumulative         19864 non-null  float64       \n",
      " 4   positiveIncrease        19864 non-null  float64       \n",
      " 5   positiveCumulative      19864 non-null  float64       \n",
      " 6   hospitalizedIncrease    19864 non-null  float64       \n",
      " 7   hospitalizedCumulative  19864 non-null  float64       \n",
      " 8   testIncrease            19864 non-null  float64       \n",
      " 9   testCumulative          19864 non-null  float64       \n",
      " 10  deathRate               19864 non-null  float64       \n",
      " 11  positiveRate            19864 non-null  float64       \n",
      " 12  testRate                19864 non-null  float64       \n",
      " 13  hospitalizedRate        19864 non-null  float64       \n",
      " 14  ndays                   19864 non-null  int64         \n",
      " 15  positiveTestRate        19864 non-null  float64       \n",
      " 16  deathPositiveRate       19864 non-null  float64       \n",
      "dtypes: datetime64[ns](1), float64(14), int64(1), object(1)\n",
      "memory usage: 2.6+ MB\n"
     ]
    }
   ],
   "source": [
    "baselines = pd.read_csv(filepath_or_buffer=uribaseline, header=0, usecols=fields, \n",
    "                        dtype=dtype, encoding='utf-8', parse_dates=parse_dates)\n",
    "\n",
    "baselines.loc[:, 'positiveTestRate'] = np.where(\n",
    "    baselines['testRate'] > 0, 100 * baselines['positiveRate'] / baselines['testRate'], 0)\n",
    "baselines.loc[:, 'deathPositiveRate'] = np.where(\n",
    "    baselines['positiveRate'] > 0, 100 * baselines['deathRate'] / baselines['positiveRate'], 0)\n",
    "\n",
    "logger.info(baselines.info())"
   ]
  },
  {
   "cell_type": "markdown",
   "metadata": {},
   "source": [
    "<br>\n",
    "<br>\n",
    "\n",
    "**Hospitalizations**"
   ]
  },
  {
   "cell_type": "code",
   "execution_count": 16,
   "metadata": {},
   "outputs": [
    {
     "name": "stderr",
     "output_type": "stream",
     "text": [
      "INFO:__main__:None\n"
     ]
    },
    {
     "name": "stdout",
     "output_type": "stream",
     "text": [
      "<class 'pandas.core.frame.DataFrame'>\n",
      "RangeIndex: 14134 entries, 0 to 14133\n",
      "Data columns (total 17 columns):\n",
      " #   Column                    Non-Null Count  Dtype         \n",
      "---  ------                    --------------  -----         \n",
      " 0   datetimeobject            14134 non-null  datetime64[ns]\n",
      " 1   STUSPS                    14134 non-null  object        \n",
      " 2   deathIncrease             14134 non-null  float64       \n",
      " 3   deathCumulative           14134 non-null  float64       \n",
      " 4   positiveIncrease          14134 non-null  float64       \n",
      " 5   positiveCumulative        14134 non-null  float64       \n",
      " 6   hospitalizedIncrease      14134 non-null  float64       \n",
      " 7   hospitalizedCumulative    14134 non-null  float64       \n",
      " 8   testIncrease              14134 non-null  float64       \n",
      " 9   testCumulative            14134 non-null  float64       \n",
      " 10  deathRate                 14134 non-null  float64       \n",
      " 11  positiveRate              14134 non-null  float64       \n",
      " 12  testRate                  14134 non-null  float64       \n",
      " 13  hospitalizedRate          14134 non-null  float64       \n",
      " 14  ndays                     14134 non-null  int64         \n",
      " 15  hospitalizedPositiveRate  14134 non-null  float64       \n",
      " 16  deathHospitalizedRate     14134 non-null  float64       \n",
      "dtypes: datetime64[ns](1), float64(14), int64(1), object(1)\n",
      "memory usage: 1.8+ MB\n"
     ]
    }
   ],
   "source": [
    "hospitalizations = pd.read_csv(filepath_or_buffer=urihospitalizations, header=0, \n",
    "                               usecols=fields,dtype=dtype, encoding='utf-8', parse_dates=parse_dates)\n",
    "\n",
    "hospitalizations.loc[:, 'hospitalizedPositiveRate'] =  np.where(\n",
    "    hospitalizations['positiveRate'] > 0, 100 * hospitalizations['hospitalizedRate'] / hospitalizations['positiveRate'], 0)\n",
    "hospitalizations.loc[:, 'deathHospitalizedRate'] =  np.where(\n",
    "    hospitalizations['hospitalizedRate'] > 0, 100 * hospitalizations['deathRate'] / hospitalizations['hospitalizedRate'], 0)\n",
    "\n",
    "logger.info(hospitalizations.info())"
   ]
  },
  {
   "cell_type": "markdown",
   "metadata": {
    "id": "tJDW4w4FioAn"
   },
   "source": [
    "<br>\n",
    "<br>\n",
    "\n",
    "## Regression"
   ]
  },
  {
   "cell_type": "markdown",
   "metadata": {
    "id": "aG96g5vxHfi0"
   },
   "source": [
    "<br>\n",
    "\n",
    "**Latest Date**"
   ]
  },
  {
   "cell_type": "code",
   "execution_count": 17,
   "metadata": {
    "colab": {
     "base_uri": "https://localhost:8080/",
     "height": 35
    },
    "id": "EutsQfFe_TAc",
    "outputId": "07bcd2cb-b840-4e8d-8d24-3d81ad798aee"
   },
   "outputs": [
    {
     "name": "stderr",
     "output_type": "stream",
     "text": [
      "INFO:__main__:<class 'pandas._libs.tslibs.timestamps.Timestamp'>\n",
      "INFO:__main__:2021-02-06 00:00:00\n"
     ]
    }
   ],
   "source": [
    "latestdate = baselines.datetimeobject.max()\n",
    "logger.info(type(latestdate))\n",
    "logger.info(latestdate)"
   ]
  },
  {
   "cell_type": "markdown",
   "metadata": {},
   "source": [
    "<br>\n",
    "<br>\n",
    "\n",
    "**Periods**"
   ]
  },
  {
   "cell_type": "markdown",
   "metadata": {
    "id": "nc5wL7foy8Yy"
   },
   "source": [
    "Within the context of the aforementioned $positives_{c, \\small{100K}, \\tau} \\;\\; vs.\\ \\; tests_{c, \\small{100K}, \\tau}$ curves, each value of this array is the number of data points, starting from the end of a curve, that are used to develop **a regression model of the tangent/secant line to the points**.\n",
    "\n",
    "Key points:\n",
    "\n",
    "* The model predicts the expected $positives_{c, \\small{100K}}$ as $tests_{c, \\small{100K}, \\tau}$ increases.\n",
    "\n",
    "* The gradient of each model is an estimate of the prevailing positivity rate; an estimate of the current daily positivity value. [cf. continous positivity value] "
   ]
  },
  {
   "cell_type": "code",
   "execution_count": 18,
   "metadata": {
    "colab": {
     "base_uri": "https://localhost:8080/",
     "height": 54
    },
    "id": "Ecz7HPDpy-6j",
    "outputId": "b66f859e-5678-420c-ec15-89988b8e65e9"
   },
   "outputs": [
    {
     "name": "stderr",
     "output_type": "stream",
     "text": [
      "INFO:__main__:[ 8  9 10 11 12 13 14 15 16 17 18 19 20 21 22 23 24 25 26 27 28]\n"
     ]
    }
   ],
   "source": [
    "periods = np.arange(8, 29)\n",
    "logger.info( periods)"
   ]
  },
  {
   "cell_type": "markdown",
   "metadata": {
    "id": "62eUabmoCmn0"
   },
   "source": [
    "<br>\n",
    "<br>\n",
    "\n",
    "**Partitions**"
   ]
  },
  {
   "cell_type": "code",
   "execution_count": 19,
   "metadata": {
    "colab": {
     "base_uri": "https://localhost:8080/",
     "height": 109
    },
    "id": "pZ7AuQYpnymS",
    "outputId": "6fe80e70-aaee-4e09-ad4e-024fa0b5b83d"
   },
   "outputs": [
    {
     "name": "stderr",
     "output_type": "stream",
     "text": [
      "INFO:__main__:['AL' 'AK' 'AZ' 'AR' 'CA' 'CO' 'CT' 'DE' 'DC' 'FL' 'GA' 'HI' 'ID' 'IL'\n",
      " 'IN' 'IA' 'KS' 'KY' 'LA' 'ME' 'MD' 'MA' 'MI' 'MN' 'MS' 'MO' 'MT' 'NE'\n",
      " 'NV' 'NH' 'NJ' 'NM' 'NY' 'NC' 'ND' 'OH' 'OK' 'OR' 'PA' 'RI' 'SC' 'SD'\n",
      " 'TN' 'TX' 'UT' 'VT' 'VA' 'WA' 'WV' 'WI' 'WY' 'PR']\n"
     ]
    }
   ],
   "source": [
    "partitionby = 'STUSPS'\n",
    "partitions = baselines[partitionby].unique()\n",
    "logger.info(partitions)"
   ]
  },
  {
   "cell_type": "markdown",
   "metadata": {
    "id": "fSpAylLKjVaq"
   },
   "source": [
    "<br>\n",
    "<br>\n",
    "\n",
    "### **positives vs. tests**"
   ]
  },
  {
   "cell_type": "markdown",
   "metadata": {},
   "source": [
    "<br>\n",
    "\n",
    "**Analysis**"
   ]
  },
  {
   "cell_type": "code",
   "execution_count": 20,
   "metadata": {
    "id": "K3T98kHYaByi"
   },
   "outputs": [],
   "source": [
    "formula = 'positiveRate ~ testRate'\n",
    "regressor = 'testRate'\n",
    "\n",
    "prospects = atlantic.investigations.prospects.Prospects(data=baselines, partitionby=partitionby, periods=periods, \n",
    "                                                 formula=formula, regressor=regressor, step=100, num=5, latestdate=latestdate)"
   ]
  },
  {
   "cell_type": "code",
   "execution_count": 21,
   "metadata": {},
   "outputs": [],
   "source": [
    "estimates, predictions = prospects.exc(partitions=baselines[partitionby].unique())"
   ]
  },
  {
   "cell_type": "markdown",
   "metadata": {
    "id": "ZwTkYgMRR2zC"
   },
   "source": [
    "<br>\n",
    "\n",
    "**State of affairs**"
   ]
  },
  {
   "cell_type": "code",
   "execution_count": 22,
   "metadata": {},
   "outputs": [],
   "source": [
    "ptr = estimates"
   ]
  },
  {
   "cell_type": "markdown",
   "metadata": {},
   "source": [
    "<br>\n",
    "\n",
    "Prevailing Positive Test Rate"
   ]
  },
  {
   "cell_type": "code",
   "execution_count": 23,
   "metadata": {},
   "outputs": [],
   "source": [
    "ptr.loc[:, 'prevailingPTR'] = 100 * ptr['gradient']\n",
    "ptr = ptr.merge(baselines[['datetimeobject', 'STUSPS', 'positiveTestRate']], how='left', on=['datetimeobject', 'STUSPS'])\n",
    "ptr.loc[:, 'cf'] = ptr[['prevailingPTR', 'positiveTestRate']].max(axis=1)\n",
    "\n",
    "ptr.loc[:, 'rank'] = ptr['cf'].rank(method='min', ascending=False)\n",
    "ptr.sort_values(by='rank', ascending=True, inplace=True)\n",
    "ptr.drop(columns=['cf'], inplace=True)"
   ]
  },
  {
   "cell_type": "markdown",
   "metadata": {},
   "source": [
    "<br>\n",
    "\n",
    "Structuring"
   ]
  },
  {
   "cell_type": "code",
   "execution_count": 24,
   "metadata": {
    "colab": {
     "base_uri": "https://localhost:8080/",
     "height": 1000
    },
    "id": "t6sMy86OHV52",
    "outputId": "c262d2d3-abd8-4cf6-daea-28ff495a974d"
   },
   "outputs": [
    {
     "data": {
      "text/html": [
       "<div>\n",
       "<style scoped>\n",
       "    .dataframe tbody tr th:only-of-type {\n",
       "        vertical-align: middle;\n",
       "    }\n",
       "\n",
       "    .dataframe tbody tr th {\n",
       "        vertical-align: top;\n",
       "    }\n",
       "\n",
       "    .dataframe thead th {\n",
       "        text-align: right;\n",
       "    }\n",
       "</style>\n",
       "<table border=\"1\" class=\"dataframe\">\n",
       "  <thead>\n",
       "    <tr style=\"text-align: right;\">\n",
       "      <th></th>\n",
       "      <th>datetimeobject</th>\n",
       "      <th>gradient</th>\n",
       "      <th>gradientLCI</th>\n",
       "      <th>gradientUCI</th>\n",
       "      <th>pvalue</th>\n",
       "      <th>rsquared</th>\n",
       "      <th>intercept</th>\n",
       "      <th>STUSPS</th>\n",
       "      <th>prevailingPTR</th>\n",
       "      <th>continuousPTR</th>\n",
       "      <th>rank</th>\n",
       "      <th>prevailingTPC</th>\n",
       "    </tr>\n",
       "  </thead>\n",
       "  <tbody>\n",
       "    <tr>\n",
       "      <th>13</th>\n",
       "      <td>2021-02-06</td>\n",
       "      <td>0.0392226</td>\n",
       "      <td>0.0329772</td>\n",
       "      <td>0.0485721</td>\n",
       "      <td>1.05612e-18</td>\n",
       "      <td>0.993063</td>\n",
       "      <td>3921.94</td>\n",
       "      <td>IL</td>\n",
       "      <td>3.92226</td>\n",
       "      <td>6.911982</td>\n",
       "      <td>48.0</td>\n",
       "      <td>25.4955</td>\n",
       "    </tr>\n",
       "    <tr>\n",
       "      <th>48</th>\n",
       "      <td>2021-02-06</td>\n",
       "      <td>0.064731</td>\n",
       "      <td>0.0465195</td>\n",
       "      <td>0.0687302</td>\n",
       "      <td>6.77288e-19</td>\n",
       "      <td>0.9942</td>\n",
       "      <td>-284.756</td>\n",
       "      <td>WV</td>\n",
       "      <td>6.4731</td>\n",
       "      <td>6.185608</td>\n",
       "      <td>49.0</td>\n",
       "      <td>15.4485</td>\n",
       "    </tr>\n",
       "    <tr>\n",
       "      <th>22</th>\n",
       "      <td>2021-02-06</td>\n",
       "      <td>0.0464756</td>\n",
       "      <td>0.0390004</td>\n",
       "      <td>0.0540222</td>\n",
       "      <td>7.53688e-22</td>\n",
       "      <td>0.995746</td>\n",
       "      <td>1752.61</td>\n",
       "      <td>MI</td>\n",
       "      <td>4.64756</td>\n",
       "      <td>6.458794</td>\n",
       "      <td>50.0</td>\n",
       "      <td>21.5167</td>\n",
       "    </tr>\n",
       "    <tr>\n",
       "      <th>6</th>\n",
       "      <td>2021-02-06</td>\n",
       "      <td>0.0379365</td>\n",
       "      <td>0.0316523</td>\n",
       "      <td>0.0465025</td>\n",
       "      <td>4.90591e-16</td>\n",
       "      <td>0.99084</td>\n",
       "      <td>940.712</td>\n",
       "      <td>CT</td>\n",
       "      <td>3.79365</td>\n",
       "      <td>4.352265</td>\n",
       "      <td>51.0</td>\n",
       "      <td>26.3599</td>\n",
       "    </tr>\n",
       "    <tr>\n",
       "      <th>19</th>\n",
       "      <td>2021-02-06</td>\n",
       "      <td>0.0357603</td>\n",
       "      <td>0.0179514</td>\n",
       "      <td>0.0463172</td>\n",
       "      <td>1.23683e-14</td>\n",
       "      <td>0.974477</td>\n",
       "      <td>-777.403</td>\n",
       "      <td>ME</td>\n",
       "      <td>3.57603</td>\n",
       "      <td>2.855186</td>\n",
       "      <td>52.0</td>\n",
       "      <td>27.964</td>\n",
       "    </tr>\n",
       "  </tbody>\n",
       "</table>\n",
       "</div>"
      ],
      "text/plain": [
       "   datetimeobject   gradient gradientLCI gradientUCI       pvalue  rsquared  \\\n",
       "13     2021-02-06  0.0392226   0.0329772   0.0485721  1.05612e-18  0.993063   \n",
       "48     2021-02-06   0.064731   0.0465195   0.0687302  6.77288e-19    0.9942   \n",
       "22     2021-02-06  0.0464756   0.0390004   0.0540222  7.53688e-22  0.995746   \n",
       "6      2021-02-06  0.0379365   0.0316523   0.0465025  4.90591e-16   0.99084   \n",
       "19     2021-02-06  0.0357603   0.0179514   0.0463172  1.23683e-14  0.974477   \n",
       "\n",
       "   intercept STUSPS prevailingPTR  continuousPTR  rank prevailingTPC  \n",
       "13   3921.94     IL       3.92226       6.911982  48.0       25.4955  \n",
       "48  -284.756     WV        6.4731       6.185608  49.0       15.4485  \n",
       "22   1752.61     MI       4.64756       6.458794  50.0       21.5167  \n",
       "6    940.712     CT       3.79365       4.352265  51.0       26.3599  \n",
       "19  -777.403     ME       3.57603       2.855186  52.0        27.964  "
      ]
     },
     "execution_count": 24,
     "metadata": {},
     "output_type": "execute_result"
    }
   ],
   "source": [
    "ptr.loc[:, 'prevailingTPC'] = np.where(ptr['prevailingPTR'] > 0, ptr['prevailingPTR'].rdiv(100), 0)\n",
    "ptr.rename(columns={'lowerconfidenceinterval': 'gradientLCI', 'upperconfidenceinterval': 'gradientUCI', \n",
    "                    'positiveTestRate': 'continuousPTR'},\n",
    "          inplace=True)\n",
    "ptr.to_csv(path_or_buf=os.path.join(warehouse, 'ptr.csv'), index=False, header=True, encoding='utf-8')\n",
    "ptr.to_json(path_or_buf=os.path.join(warehouse, 'ptr.json'), orient='values')\n",
    "\n",
    "ptr.tail()"
   ]
  },
  {
   "cell_type": "markdown",
   "metadata": {},
   "source": [
    "<br>\n",
    "<br>\n",
    "\n",
    "### **deaths vs. positives**"
   ]
  },
  {
   "cell_type": "code",
   "execution_count": 25,
   "metadata": {},
   "outputs": [],
   "source": [
    "del formula, regressor, prospects, estimates, predictions"
   ]
  },
  {
   "cell_type": "markdown",
   "metadata": {},
   "source": [
    "<br>\n",
    "\n",
    "**Analysis**"
   ]
  },
  {
   "cell_type": "code",
   "execution_count": 26,
   "metadata": {},
   "outputs": [],
   "source": [
    "formula = 'deathRate ~ positiveRate'\n",
    "regressor = 'positiveRate'\n",
    "\n",
    "prospects = atlantic.investigations.prospects.Prospects(data=baselines, partitionby=partitionby, periods=periods, \n",
    "                                                 formula=formula, regressor=regressor, step=20, num=5, latestdate=latestdate)"
   ]
  },
  {
   "cell_type": "code",
   "execution_count": 27,
   "metadata": {},
   "outputs": [],
   "source": [
    "estimates, predictions = prospects.exc(partitions=baselines[partitionby].unique())"
   ]
  },
  {
   "cell_type": "markdown",
   "metadata": {},
   "source": [
    "<br>\n",
    "\n",
    "**State of Affairs**"
   ]
  },
  {
   "cell_type": "code",
   "execution_count": 28,
   "metadata": {},
   "outputs": [],
   "source": [
    "dpr = estimates"
   ]
  },
  {
   "cell_type": "markdown",
   "metadata": {},
   "source": [
    "<br>\n",
    "\n",
    "Prevailing Death Positive Rate"
   ]
  },
  {
   "cell_type": "code",
   "execution_count": 29,
   "metadata": {},
   "outputs": [],
   "source": [
    "dpr.loc[:, 'prevailingDPR'] = 100 * dpr['gradient']\n",
    "dpr = dpr.merge(baselines[['datetimeobject', 'STUSPS', 'deathPositiveRate']], how='left', on=['datetimeobject', 'STUSPS'])\n",
    "dpr.loc[:, 'cf'] = dpr[['prevailingDPR', 'deathPositiveRate']].max(axis=1)\n",
    "\n",
    "dpr.loc[:, 'rank'] = dpr['cf'].rank(method='min', ascending=False)\n",
    "dpr.sort_values(by='rank', ascending=True, inplace=True)\n",
    "dpr.drop(columns=['cf'], inplace=True)"
   ]
  },
  {
   "cell_type": "markdown",
   "metadata": {},
   "source": [
    "<br>\n",
    "\n",
    "Structuring"
   ]
  },
  {
   "cell_type": "code",
   "execution_count": 30,
   "metadata": {},
   "outputs": [
    {
     "data": {
      "text/html": [
       "<div>\n",
       "<style scoped>\n",
       "    .dataframe tbody tr th:only-of-type {\n",
       "        vertical-align: middle;\n",
       "    }\n",
       "\n",
       "    .dataframe tbody tr th {\n",
       "        vertical-align: top;\n",
       "    }\n",
       "\n",
       "    .dataframe thead th {\n",
       "        text-align: right;\n",
       "    }\n",
       "</style>\n",
       "<table border=\"1\" class=\"dataframe\">\n",
       "  <thead>\n",
       "    <tr style=\"text-align: right;\">\n",
       "      <th></th>\n",
       "      <th>datetimeobject</th>\n",
       "      <th>gradient</th>\n",
       "      <th>gradientLCI</th>\n",
       "      <th>gradientUCI</th>\n",
       "      <th>pvalue</th>\n",
       "      <th>rsquared</th>\n",
       "      <th>intercept</th>\n",
       "      <th>STUSPS</th>\n",
       "      <th>prevailingDPR</th>\n",
       "      <th>continuousDPR</th>\n",
       "      <th>rank</th>\n",
       "      <th>prevailingCPD</th>\n",
       "    </tr>\n",
       "  </thead>\n",
       "  <tbody>\n",
       "    <tr>\n",
       "      <th>1</th>\n",
       "      <td>2021-02-06</td>\n",
       "      <td>0.0142495</td>\n",
       "      <td>0.00777958</td>\n",
       "      <td>0.0390838</td>\n",
       "      <td>8.92102e-07</td>\n",
       "      <td>0.787929</td>\n",
       "      <td>-65.6254</td>\n",
       "      <td>AK</td>\n",
       "      <td>1.42495</td>\n",
       "      <td>0.523658</td>\n",
       "      <td>48.0</td>\n",
       "      <td>70.1778</td>\n",
       "    </tr>\n",
       "    <tr>\n",
       "      <th>5</th>\n",
       "      <td>2021-02-06</td>\n",
       "      <td>0.012097</td>\n",
       "      <td>0.00989631</td>\n",
       "      <td>0.01345</td>\n",
       "      <td>9.99508e-21</td>\n",
       "      <td>0.99553</td>\n",
       "      <td>14.4498</td>\n",
       "      <td>CO</td>\n",
       "      <td>1.2097</td>\n",
       "      <td>1.415196</td>\n",
       "      <td>49.0</td>\n",
       "      <td>82.6653</td>\n",
       "    </tr>\n",
       "    <tr>\n",
       "      <th>46</th>\n",
       "      <td>2021-02-06</td>\n",
       "      <td>0.0124764</td>\n",
       "      <td>0.00992415</td>\n",
       "      <td>0.0176724</td>\n",
       "      <td>6.66768e-16</td>\n",
       "      <td>0.981296</td>\n",
       "      <td>2.05703</td>\n",
       "      <td>VA</td>\n",
       "      <td>1.24764</td>\n",
       "      <td>1.287212</td>\n",
       "      <td>50.0</td>\n",
       "      <td>80.1515</td>\n",
       "    </tr>\n",
       "    <tr>\n",
       "      <th>27</th>\n",
       "      <td>2021-02-06</td>\n",
       "      <td>0.0107227</td>\n",
       "      <td>0.00657922</td>\n",
       "      <td>0.021234</td>\n",
       "      <td>2.0911e-12</td>\n",
       "      <td>0.9576</td>\n",
       "      <td>-6.11418</td>\n",
       "      <td>NE</td>\n",
       "      <td>1.07227</td>\n",
       "      <td>1.017470</td>\n",
       "      <td>51.0</td>\n",
       "      <td>93.2605</td>\n",
       "    </tr>\n",
       "    <tr>\n",
       "      <th>44</th>\n",
       "      <td>2021-02-06</td>\n",
       "      <td>0.00800215</td>\n",
       "      <td>0.0068923</td>\n",
       "      <td>0.0107639</td>\n",
       "      <td>1.16454e-16</td>\n",
       "      <td>0.987517</td>\n",
       "      <td>-34.3753</td>\n",
       "      <td>UT</td>\n",
       "      <td>0.800215</td>\n",
       "      <td>0.489963</td>\n",
       "      <td>52.0</td>\n",
       "      <td>124.966</td>\n",
       "    </tr>\n",
       "  </tbody>\n",
       "</table>\n",
       "</div>"
      ],
      "text/plain": [
       "   datetimeobject    gradient gradientLCI gradientUCI       pvalue  rsquared  \\\n",
       "1      2021-02-06   0.0142495  0.00777958   0.0390838  8.92102e-07  0.787929   \n",
       "5      2021-02-06    0.012097  0.00989631     0.01345  9.99508e-21   0.99553   \n",
       "46     2021-02-06   0.0124764  0.00992415   0.0176724  6.66768e-16  0.981296   \n",
       "27     2021-02-06   0.0107227  0.00657922    0.021234   2.0911e-12    0.9576   \n",
       "44     2021-02-06  0.00800215   0.0068923   0.0107639  1.16454e-16  0.987517   \n",
       "\n",
       "   intercept STUSPS prevailingDPR  continuousDPR  rank prevailingCPD  \n",
       "1   -65.6254     AK       1.42495       0.523658  48.0       70.1778  \n",
       "5    14.4498     CO        1.2097       1.415196  49.0       82.6653  \n",
       "46   2.05703     VA       1.24764       1.287212  50.0       80.1515  \n",
       "27  -6.11418     NE       1.07227       1.017470  51.0       93.2605  \n",
       "44  -34.3753     UT      0.800215       0.489963  52.0       124.966  "
      ]
     },
     "execution_count": 30,
     "metadata": {},
     "output_type": "execute_result"
    }
   ],
   "source": [
    "dpr.loc[:, 'prevailingCPD'] = np.where(dpr['prevailingDPR'] > 0, dpr['prevailingDPR'].rdiv(100), 0)\n",
    "dpr.rename(columns={'lowerconfidenceinterval': 'gradientLCI', 'upperconfidenceinterval': 'gradientUCI', \n",
    "                    'deathPositiveRate': 'continuousDPR'},\n",
    "          inplace=True)\n",
    "dpr.to_csv(path_or_buf=os.path.join(warehouse, 'dpr.csv'), index=False, header=True, encoding='utf-8')\n",
    "dpr.to_json(path_or_buf=os.path.join(warehouse, 'dpr.json'), orient='values')\n",
    "\n",
    "dpr.tail()"
   ]
  },
  {
   "cell_type": "markdown",
   "metadata": {},
   "source": [
    "<br>\n",
    "<br>\n",
    "\n",
    "### **hospitalizations vs. positives**"
   ]
  },
  {
   "cell_type": "code",
   "execution_count": 31,
   "metadata": {},
   "outputs": [],
   "source": [
    "del formula, regressor, prospects, estimates, predictions"
   ]
  },
  {
   "cell_type": "markdown",
   "metadata": {},
   "source": [
    "<br>\n",
    "\n",
    "**Analysis**"
   ]
  },
  {
   "cell_type": "code",
   "execution_count": 32,
   "metadata": {},
   "outputs": [],
   "source": [
    "formula = 'hospitalizedRate ~ positiveRate'\n",
    "regressor = 'positiveRate'\n",
    "\n",
    "prospects = atlantic.investigations.prospects.Prospects(data=hospitalizations, partitionby=partitionby, periods=periods, \n",
    "                                                 formula=formula, regressor=regressor, step=10, num=5, latestdate=latestdate)"
   ]
  },
  {
   "cell_type": "code",
   "execution_count": 33,
   "metadata": {},
   "outputs": [],
   "source": [
    "estimates, predictions = prospects.exc(partitions=hospitalizations[partitionby].unique())"
   ]
  },
  {
   "cell_type": "markdown",
   "metadata": {},
   "source": [
    "<br>\n",
    "\n",
    "**State of Affairs**"
   ]
  },
  {
   "cell_type": "code",
   "execution_count": 34,
   "metadata": {},
   "outputs": [],
   "source": [
    "hpr = estimates"
   ]
  },
  {
   "cell_type": "markdown",
   "metadata": {},
   "source": [
    "<br>\n",
    "\n",
    "Prevailing Hospitalised Positive Rate"
   ]
  },
  {
   "cell_type": "code",
   "execution_count": 35,
   "metadata": {},
   "outputs": [],
   "source": [
    "hpr.loc[:, 'prevailingHPR'] = 100 * hpr['gradient']\n",
    "hpr.loc[:, 'rank'] = hpr['prevailingHPR'].rank(method='min', ascending=False)\n",
    "hpr.sort_values(by='rank', ascending=True, inplace=True)"
   ]
  },
  {
   "cell_type": "markdown",
   "metadata": {},
   "source": [
    "<br>\n",
    "\n",
    "Structuring"
   ]
  },
  {
   "cell_type": "code",
   "execution_count": 36,
   "metadata": {},
   "outputs": [
    {
     "data": {
      "text/html": [
       "<div>\n",
       "<style scoped>\n",
       "    .dataframe tbody tr th:only-of-type {\n",
       "        vertical-align: middle;\n",
       "    }\n",
       "\n",
       "    .dataframe tbody tr th {\n",
       "        vertical-align: top;\n",
       "    }\n",
       "\n",
       "    .dataframe thead th {\n",
       "        text-align: right;\n",
       "    }\n",
       "</style>\n",
       "<table border=\"1\" class=\"dataframe\">\n",
       "  <thead>\n",
       "    <tr style=\"text-align: right;\">\n",
       "      <th></th>\n",
       "      <th>datetimeobject</th>\n",
       "      <th>gradient</th>\n",
       "      <th>gradientLCI</th>\n",
       "      <th>gradientUCI</th>\n",
       "      <th>pvalue</th>\n",
       "      <th>rsquared</th>\n",
       "      <th>intercept</th>\n",
       "      <th>STUSPS</th>\n",
       "      <th>prevailingHPR</th>\n",
       "      <th>rank</th>\n",
       "      <th>continuousHPR</th>\n",
       "      <th>prevailingCPH</th>\n",
       "    </tr>\n",
       "  </thead>\n",
       "  <tbody>\n",
       "    <tr>\n",
       "      <th>32</th>\n",
       "      <td>2021-02-06</td>\n",
       "      <td>0.0182468</td>\n",
       "      <td>0.00720771</td>\n",
       "      <td>0.0434783</td>\n",
       "      <td>1.00335e-07</td>\n",
       "      <td>0.860954</td>\n",
       "      <td>123.811</td>\n",
       "      <td>MA</td>\n",
       "      <td>1.82468</td>\n",
       "      <td>33.0</td>\n",
       "      <td>3.402567</td>\n",
       "      <td>54.8042</td>\n",
       "    </tr>\n",
       "    <tr>\n",
       "      <th>33</th>\n",
       "      <td>2021-02-06</td>\n",
       "      <td>0.0109579</td>\n",
       "      <td>-0.000341541</td>\n",
       "      <td>0.036688</td>\n",
       "      <td>1.15593e-07</td>\n",
       "      <td>0.831716</td>\n",
       "      <td>191.601</td>\n",
       "      <td>MS</td>\n",
       "      <td>1.09579</td>\n",
       "      <td>34.0</td>\n",
       "      <td>3.125957</td>\n",
       "      <td>91.2582</td>\n",
       "    </tr>\n",
       "    <tr>\n",
       "      <th>34</th>\n",
       "      <td>2021-02-06</td>\n",
       "      <td>0.00866671</td>\n",
       "      <td>0.00606254</td>\n",
       "      <td>0.0102613</td>\n",
       "      <td>1.03259e-18</td>\n",
       "      <td>0.987106</td>\n",
       "      <td>34.0887</td>\n",
       "      <td>NH</td>\n",
       "      <td>0.866671</td>\n",
       "      <td>35.0</td>\n",
       "      <td>1.548611</td>\n",
       "      <td>115.384</td>\n",
       "    </tr>\n",
       "    <tr>\n",
       "      <th>35</th>\n",
       "      <td>2021-02-06</td>\n",
       "      <td>4.16334e-17</td>\n",
       "      <td>-1.47682e-14</td>\n",
       "      <td>1.47682e-14</td>\n",
       "      <td>0.799755</td>\n",
       "      <td>-221.852</td>\n",
       "      <td>343.787</td>\n",
       "      <td>CT</td>\n",
       "      <td>4.16334e-15</td>\n",
       "      <td>36.0</td>\n",
       "      <td>4.725645</td>\n",
       "      <td>2.40192e+16</td>\n",
       "    </tr>\n",
       "    <tr>\n",
       "      <th>36</th>\n",
       "      <td>2021-02-06</td>\n",
       "      <td>0</td>\n",
       "      <td>-4.82688e-15</td>\n",
       "      <td>5.27097e-15</td>\n",
       "      <td>0.739939</td>\n",
       "      <td>-39.1</td>\n",
       "      <td>462.615</td>\n",
       "      <td>NY</td>\n",
       "      <td>0</td>\n",
       "      <td>36.0</td>\n",
       "      <td>6.160889</td>\n",
       "      <td>0</td>\n",
       "    </tr>\n",
       "  </tbody>\n",
       "</table>\n",
       "</div>"
      ],
      "text/plain": [
       "   datetimeobject     gradient  gradientLCI  gradientUCI       pvalue  \\\n",
       "32     2021-02-06    0.0182468   0.00720771    0.0434783  1.00335e-07   \n",
       "33     2021-02-06    0.0109579 -0.000341541     0.036688  1.15593e-07   \n",
       "34     2021-02-06   0.00866671   0.00606254    0.0102613  1.03259e-18   \n",
       "35     2021-02-06  4.16334e-17 -1.47682e-14  1.47682e-14     0.799755   \n",
       "36     2021-02-06            0 -4.82688e-15  5.27097e-15     0.739939   \n",
       "\n",
       "    rsquared intercept STUSPS prevailingHPR  rank  continuousHPR prevailingCPH  \n",
       "32  0.860954   123.811     MA       1.82468  33.0       3.402567       54.8042  \n",
       "33  0.831716   191.601     MS       1.09579  34.0       3.125957       91.2582  \n",
       "34  0.987106   34.0887     NH      0.866671  35.0       1.548611       115.384  \n",
       "35  -221.852   343.787     CT   4.16334e-15  36.0       4.725645   2.40192e+16  \n",
       "36     -39.1   462.615     NY             0  36.0       6.160889             0  "
      ]
     },
     "execution_count": 36,
     "metadata": {},
     "output_type": "execute_result"
    }
   ],
   "source": [
    "hpr = hpr.merge(hospitalizations[['datetimeobject', 'STUSPS', 'hospitalizedPositiveRate']], \n",
    "                how='left', on=['datetimeobject', 'STUSPS'])\n",
    "hpr.loc[:, 'prevailingCPH'] = np.where(hpr['prevailingHPR'] > 0, hpr['prevailingHPR'].rdiv(100), 0)\n",
    "\n",
    "hpr.rename(columns={'lowerconfidenceinterval': 'gradientLCI', 'upperconfidenceinterval': 'gradientUCI', \n",
    "                    'hospitalizedPositiveRate': 'continuousHPR'}, \n",
    "           inplace=True)\n",
    "\n",
    "hpr.to_csv(path_or_buf=os.path.join(warehouse, 'hpr.csv'), index=False, header=True, encoding='utf-8')\n",
    "hpr.to_json(path_or_buf=os.path.join(warehouse, 'hpr.json'), orient='values')\n",
    "\n",
    "hpr.tail()"
   ]
  },
  {
   "cell_type": "markdown",
   "metadata": {},
   "source": [
    "<br>\n",
    "<br>\n",
    "\n",
    "### **deaths vs. hospitalizations**"
   ]
  },
  {
   "cell_type": "code",
   "execution_count": 37,
   "metadata": {},
   "outputs": [],
   "source": [
    "del formula, regressor, prospects, estimates, predictions"
   ]
  },
  {
   "cell_type": "markdown",
   "metadata": {},
   "source": [
    "<br>\n",
    "\n",
    "**Analysis**"
   ]
  },
  {
   "cell_type": "code",
   "execution_count": 38,
   "metadata": {},
   "outputs": [],
   "source": [
    "formula = 'deathRate ~ hospitalizedRate'\n",
    "regressor = 'hospitalizedRate'\n",
    "\n",
    "prospects = atlantic.investigations.prospects.Prospects(data=hospitalizations, partitionby=partitionby, periods=periods, \n",
    "                                                 formula=formula, regressor=regressor, step=10, num=5, latestdate=latestdate)"
   ]
  },
  {
   "cell_type": "code",
   "execution_count": 39,
   "metadata": {},
   "outputs": [],
   "source": [
    "estimates, predictions = prospects.exc(partitions=hospitalizations[partitionby].unique())"
   ]
  },
  {
   "cell_type": "markdown",
   "metadata": {},
   "source": [
    "<br>\n",
    "\n",
    "**State of Affairs**"
   ]
  },
  {
   "cell_type": "code",
   "execution_count": 40,
   "metadata": {},
   "outputs": [],
   "source": [
    "dhr = estimates"
   ]
  },
  {
   "cell_type": "markdown",
   "metadata": {},
   "source": [
    "<br>\n",
    "\n",
    "Prevailing"
   ]
  },
  {
   "cell_type": "code",
   "execution_count": 41,
   "metadata": {},
   "outputs": [],
   "source": [
    "dhr.loc[:, 'prevailingDHR'] = 100 * dhr['gradient']\n",
    "dhr.loc[:, 'rank'] = dhr['prevailingDHR'].rank(method='min', ascending=False)\n",
    "dhr.sort_values(by='rank', ascending=True, inplace=True)"
   ]
  },
  {
   "cell_type": "markdown",
   "metadata": {},
   "source": [
    "<br>\n",
    "\n",
    "Structuring"
   ]
  },
  {
   "cell_type": "code",
   "execution_count": 42,
   "metadata": {},
   "outputs": [
    {
     "data": {
      "text/html": [
       "<div>\n",
       "<style scoped>\n",
       "    .dataframe tbody tr th:only-of-type {\n",
       "        vertical-align: middle;\n",
       "    }\n",
       "\n",
       "    .dataframe tbody tr th {\n",
       "        vertical-align: top;\n",
       "    }\n",
       "\n",
       "    .dataframe thead th {\n",
       "        text-align: right;\n",
       "    }\n",
       "</style>\n",
       "<table border=\"1\" class=\"dataframe\">\n",
       "  <thead>\n",
       "    <tr style=\"text-align: right;\">\n",
       "      <th></th>\n",
       "      <th>datetimeobject</th>\n",
       "      <th>gradient</th>\n",
       "      <th>gradientLCI</th>\n",
       "      <th>gradientUCI</th>\n",
       "      <th>pvalue</th>\n",
       "      <th>rsquared</th>\n",
       "      <th>intercept</th>\n",
       "      <th>STUSPS</th>\n",
       "      <th>prevailingDHR</th>\n",
       "      <th>rank</th>\n",
       "      <th>continuousDHR</th>\n",
       "      <th>prevailingHPD</th>\n",
       "    </tr>\n",
       "  </thead>\n",
       "  <tbody>\n",
       "    <tr>\n",
       "      <th>32</th>\n",
       "      <td>2021-02-06</td>\n",
       "      <td>0.240101</td>\n",
       "      <td>0.214768</td>\n",
       "      <td>0.260853</td>\n",
       "      <td>6.75698e-22</td>\n",
       "      <td>0.996166</td>\n",
       "      <td>-9.35099</td>\n",
       "      <td>MD</td>\n",
       "      <td>24.0101</td>\n",
       "      <td>33.0</td>\n",
       "      <td>22.301677</td>\n",
       "      <td>4.16491</td>\n",
       "    </tr>\n",
       "    <tr>\n",
       "      <th>33</th>\n",
       "      <td>2021-02-06</td>\n",
       "      <td>0.213879</td>\n",
       "      <td>0.116296</td>\n",
       "      <td>0.287406</td>\n",
       "      <td>1.45465e-13</td>\n",
       "      <td>0.969594</td>\n",
       "      <td>16.3986</td>\n",
       "      <td>CO</td>\n",
       "      <td>21.3879</td>\n",
       "      <td>34.0</td>\n",
       "      <td>25.681196</td>\n",
       "      <td>4.67553</td>\n",
       "    </tr>\n",
       "    <tr>\n",
       "      <th>34</th>\n",
       "      <td>2021-02-06</td>\n",
       "      <td>0.194017</td>\n",
       "      <td>0.126073</td>\n",
       "      <td>0.240629</td>\n",
       "      <td>3.86598e-15</td>\n",
       "      <td>0.97708</td>\n",
       "      <td>53.7534</td>\n",
       "      <td>RI</td>\n",
       "      <td>19.4017</td>\n",
       "      <td>35.0</td>\n",
       "      <td>26.121871</td>\n",
       "      <td>5.15418</td>\n",
       "    </tr>\n",
       "    <tr>\n",
       "      <th>35</th>\n",
       "      <td>2021-02-06</td>\n",
       "      <td>0.183215</td>\n",
       "      <td>0.0992797</td>\n",
       "      <td>0.566019</td>\n",
       "      <td>2.98824e-10</td>\n",
       "      <td>0.893893</td>\n",
       "      <td>116.998</td>\n",
       "      <td>NJ</td>\n",
       "      <td>18.3215</td>\n",
       "      <td>36.0</td>\n",
       "      <td>35.741717</td>\n",
       "      <td>5.45808</td>\n",
       "    </tr>\n",
       "    <tr>\n",
       "      <th>36</th>\n",
       "      <td>2021-02-06</td>\n",
       "      <td>0.181281</td>\n",
       "      <td>0.150804</td>\n",
       "      <td>0.226891</td>\n",
       "      <td>4.96619e-16</td>\n",
       "      <td>0.986582</td>\n",
       "      <td>-24.1213</td>\n",
       "      <td>UT</td>\n",
       "      <td>18.1281</td>\n",
       "      <td>37.0</td>\n",
       "      <td>12.532543</td>\n",
       "      <td>5.51629</td>\n",
       "    </tr>\n",
       "  </tbody>\n",
       "</table>\n",
       "</div>"
      ],
      "text/plain": [
       "   datetimeobject  gradient gradientLCI gradientUCI       pvalue  rsquared  \\\n",
       "32     2021-02-06  0.240101    0.214768    0.260853  6.75698e-22  0.996166   \n",
       "33     2021-02-06  0.213879    0.116296    0.287406  1.45465e-13  0.969594   \n",
       "34     2021-02-06  0.194017    0.126073    0.240629  3.86598e-15   0.97708   \n",
       "35     2021-02-06  0.183215   0.0992797    0.566019  2.98824e-10  0.893893   \n",
       "36     2021-02-06  0.181281    0.150804    0.226891  4.96619e-16  0.986582   \n",
       "\n",
       "   intercept STUSPS prevailingDHR  rank  continuousDHR prevailingHPD  \n",
       "32  -9.35099     MD       24.0101  33.0      22.301677       4.16491  \n",
       "33   16.3986     CO       21.3879  34.0      25.681196       4.67553  \n",
       "34   53.7534     RI       19.4017  35.0      26.121871       5.15418  \n",
       "35   116.998     NJ       18.3215  36.0      35.741717       5.45808  \n",
       "36  -24.1213     UT       18.1281  37.0      12.532543       5.51629  "
      ]
     },
     "execution_count": 42,
     "metadata": {},
     "output_type": "execute_result"
    }
   ],
   "source": [
    "dhr = dhr.merge(hospitalizations[['datetimeobject', 'STUSPS', 'deathHospitalizedRate']], \n",
    "                how='left', on=['datetimeobject', 'STUSPS'])\n",
    "dhr.loc[:, 'prevailingHPD'] = np.where(dhr['prevailingDHR'] > 0, dhr['prevailingDHR'].rdiv(100), 0)\n",
    "\n",
    "dhr.rename(columns={'lowerconfidenceinterval': 'gradientLCI', 'upperconfidenceinterval': 'gradientUCI', \n",
    "                    'deathHospitalizedRate': 'continuousDHR'}, \n",
    "           inplace=True)\n",
    "\n",
    "dhr.to_csv(path_or_buf=os.path.join(warehouse, 'dhr.csv'), index=False, header=True, encoding='utf-8')\n",
    "dhr.to_json(path_or_buf=os.path.join(warehouse, 'dhr.json'), orient='values')\n",
    "\n",
    "dhr.tail()"
   ]
  },
  {
   "cell_type": "markdown",
   "metadata": {},
   "source": [
    "<br>\n",
    "<br>\n",
    "\n",
    "## Clean-up"
   ]
  },
  {
   "cell_type": "code",
   "execution_count": 43,
   "metadata": {},
   "outputs": [],
   "source": [
    "!rm -rf *.log\n",
    "!rm -rf *.pdf\n",
    "!rm -rf states"
   ]
  },
  {
   "cell_type": "markdown",
   "metadata": {},
   "source": [
    "<br>\n",
    "<br>\n",
    "\n",
    "## End"
   ]
  },
  {
   "cell_type": "code",
   "execution_count": 44,
   "metadata": {},
   "outputs": [
    {
     "name": "stdout",
     "output_type": "stream",
     "text": [
      "2021-02-07 17:16:27\n"
     ]
    }
   ],
   "source": [
    "%%bash\n",
    "\n",
    "date +\"%Y-%m-%d %T\""
   ]
  }
 ],
 "metadata": {
  "colab": {
   "collapsed_sections": [],
   "name": "foresights.ipynb",
   "provenance": [],
   "toc_visible": true
  },
  "kernelspec": {
   "display_name": "Python 3",
   "language": "python",
   "name": "python3"
  },
  "language_info": {
   "codemirror_mode": {
    "name": "ipython",
    "version": 3
   },
   "file_extension": ".py",
   "mimetype": "text/x-python",
   "name": "python",
   "nbconvert_exporter": "python",
   "pygments_lexer": "ipython3",
   "version": "3.7.7"
  }
 },
 "nbformat": 4,
 "nbformat_minor": 4
}
