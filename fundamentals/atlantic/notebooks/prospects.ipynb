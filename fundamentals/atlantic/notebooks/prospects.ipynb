{
 "cells": [
  {
   "cell_type": "markdown",
   "metadata": {
    "id": "qYxtyKBSegLi"
   },
   "source": [
    "This notebook continuously estimates the prevailing, realtime, positivity values via \n",
    "\n",
    "* $positives_{c, \\small{100K}, \\tau} \\;\\; vs.\\ \\; tests_{c, \\small{100K}, \\tau}$\n",
    "\n",
    "curves, wherein\n",
    "\n",
    "$\\qquad \\qquad \\qquad positives_{c, \\small{100K}, \\tau} \\; = \\; \\small{100\\,000} \\times \\displaystyle \\left(\\sum_{\\substack{\n",
    "   start \\\\\n",
    "   date\n",
    "  }}^{\\tau}{P_{\\delta}}  \\right) \\times \\frac{1}{population}$\n",
    "\n",
    "\n",
    "$\\qquad \\qquad \\qquad \\qquad  tests_{c, \\small{100K}, \\tau} \\; = \\; \\small{100\\,000} \\times \\displaystyle \\left(\\sum_{\\substack{\n",
    "   start \\\\\n",
    "   date\n",
    "  }}^{\\tau}{T_{\\delta}} \\right) \\times \\frac{1}{population}$  \n",
    "\n",
    "<br>\n",
    "\n",
    "which are the positive cases per hundred thousand and test numbers per hundred thousand, respectively, based on their cumulative values and\n",
    "\n",
    "<br>\n",
    "\n",
    "<table style=\"width:35%; text-align: left; border: 0px solid black; float:left; margin-left: 50px\">\n",
    "    <tr>\n",
    "        <th style=\"width:20%;\">$\\mathcal{Variable} \\qquad$</th><th></th> \n",
    "    </tr>\n",
    "    <tr>\n",
    "        <td>$\\tau$</td><td>end date</td>\n",
    "    </tr>\n",
    "    <tr>\n",
    "        <td>$\\delta$</td><td>a series date</td>\n",
    "    </tr>\n",
    "    <tr>\n",
    "      <td>$P_{\\delta}$</td><td>The number of positive cases on date $\\delta$.</td>\n",
    "    </tr>\n",
    "    <tr>\n",
    "      <td>$T_{\\delta}$</td><td>The number of tests on date $\\delta$.</td>\n",
    "    </tr>\n",
    "    \n",
    "</table>\n",
    "\n",
    "\n",
    "<br>"
   ]
  },
  {
   "cell_type": "markdown",
   "metadata": {},
   "source": [
    "<br>\n",
    "\n",
    "The subscript $c$ denotes cumulative.   The graph image below illustrates the curves in question.  In brief \n",
    "\n",
    "* The quotient of the coordinates of a point along a curve is the cumulative positivity value. \n",
    "\n",
    "* The gradient of a modelled secant line to a sequential set of curve rear points estimates the prevailing positivity value.\n",
    "\n",
    "* The aforementioned secant line model predicts the expected values of $positives_{c, \\small{100K}}$ as $tests_{c, \\small{100K}}$ increases.\n"
   ]
  },
  {
   "cell_type": "markdown",
   "metadata": {
    "id": "fBo-NZiRj3Jk"
   },
   "source": [
    "<div style=\"margin-left: 100px;\">\n",
    "    <img src=\"https://github.com/briefings/sars/raw/develop/fundamentals/atlantic/docs/ptr.png\" longdesc=\"surveillance\" width=\"40%\" style=\"float:center\">\n",
    "</div>\n",
    "\n",
    "<br>\n",
    "\n",
    "Upcoming: Link this image to the interactive graph.\n",
    "\n"
   ]
  },
  {
   "cell_type": "markdown",
   "metadata": {
    "id": "VphP1R94t3MG"
   },
   "source": [
    "<br>\n",
    "\n",
    "## Preliminaries"
   ]
  },
  {
   "cell_type": "markdown",
   "metadata": {
    "id": "GHv0WS-ft3NU"
   },
   "source": [
    "### Libraries"
   ]
  },
  {
   "cell_type": "code",
   "execution_count": 1,
   "metadata": {
    "id": "Rmvhg4BGt3NV"
   },
   "outputs": [],
   "source": [
    "import pandas as pd\n",
    "import geopandas as gpd\n",
    "import numpy as np\n",
    "import dask\n",
    "\n",
    "import logging\n",
    "\n",
    "import os\n",
    "import pathlib\n",
    "import sys\n",
    "\n",
    "import statsmodels.regression.linear_model\n"
   ]
  },
  {
   "cell_type": "code",
   "execution_count": 2,
   "metadata": {},
   "outputs": [],
   "source": [
    "from statsmodels.formula.api import ols"
   ]
  },
  {
   "cell_type": "markdown",
   "metadata": {},
   "source": [
    "<br>\n",
    "\n",
    "### Paths"
   ]
  },
  {
   "cell_type": "code",
   "execution_count": 3,
   "metadata": {},
   "outputs": [],
   "source": [
    "child = os.getcwd()\n",
    "parent = str(pathlib.Path(child).parent)"
   ]
  },
  {
   "cell_type": "code",
   "execution_count": 4,
   "metadata": {},
   "outputs": [],
   "source": [
    "root = os.path.join(child, 'warehouse')\n",
    "warehouse = os.path.join(root, 'prospects')"
   ]
  },
  {
   "cell_type": "markdown",
   "metadata": {},
   "source": [
    "<br>\n",
    "\n",
    "Appending paths"
   ]
  },
  {
   "cell_type": "code",
   "execution_count": 5,
   "metadata": {},
   "outputs": [],
   "source": [
    "sys.path.append(parent)"
   ]
  },
  {
   "cell_type": "markdown",
   "metadata": {},
   "source": [
    "<br>\n",
    "\n",
    "### Logging"
   ]
  },
  {
   "cell_type": "code",
   "execution_count": 6,
   "metadata": {},
   "outputs": [],
   "source": [
    "logging.basicConfig(level=logging.INFO)\n",
    "logger = logging.getLogger(__name__)"
   ]
  },
  {
   "cell_type": "markdown",
   "metadata": {
    "id": "XBdw0goyNV84"
   },
   "source": [
    "<br>\n",
    "\n",
    "### Custom"
   ]
  },
  {
   "cell_type": "markdown",
   "metadata": {},
   "source": [
    "Import"
   ]
  },
  {
   "cell_type": "code",
   "execution_count": 7,
   "metadata": {
    "id": "MK-SkdR98nB6"
   },
   "outputs": [],
   "source": [
    "import cartographs.boundaries.us.boundaries\n",
    "import cartographs.boundaries.us.settings"
   ]
  },
  {
   "cell_type": "code",
   "execution_count": 8,
   "metadata": {
    "id": "_OkEqJAXT1v_"
   },
   "outputs": [],
   "source": [
    "import algorithms.curves.estimates\n",
    "import algorithms.curves.predictions\n",
    "import algorithms.curves.secants"
   ]
  },
  {
   "cell_type": "code",
   "execution_count": 9,
   "metadata": {},
   "outputs": [],
   "source": [
    "import atlantic.base.directories\n",
    "import atlantic.investigations.prospects\n",
    "import atlantic.investigations.hospitalizations"
   ]
  },
  {
   "cell_type": "markdown",
   "metadata": {},
   "source": [
    "<br>\n",
    "\n",
    "Set-up directories"
   ]
  },
  {
   "cell_type": "code",
   "execution_count": 10,
   "metadata": {},
   "outputs": [],
   "source": [
    "directories = atlantic.base.directories.Directories()\n",
    "directories.cleanup(listof=[warehouse])\n",
    "directories.create(listof=[warehouse])"
   ]
  },
  {
   "cell_type": "markdown",
   "metadata": {
    "id": "2JDnqRVDrNXi"
   },
   "source": [
    "<br>\n",
    "<br>\n",
    "\n",
    "### Classes"
   ]
  },
  {
   "cell_type": "markdown",
   "metadata": {
    "id": "xd1LJpXYFcjz"
   },
   "source": [
    "**Boundaries**"
   ]
  },
  {
   "cell_type": "code",
   "execution_count": 11,
   "metadata": {
    "id": "7rrYl9wp_MV9"
   },
   "outputs": [],
   "source": [
    "settings = cartographs.boundaries.us.settings.Settings()\n",
    "boundaries = cartographs.boundaries.us.boundaries.Boundaries(settings.crs)"
   ]
  },
  {
   "cell_type": "code",
   "execution_count": 12,
   "metadata": {
    "colab": {
     "base_uri": "https://localhost:8080/",
     "height": 329
    },
    "id": "QKZE8EyfpnDQ",
    "outputId": "f17971ed-b866-49cf-a770-da754f7d7957"
   },
   "outputs": [
    {
     "name": "stdout",
     "output_type": "stream",
     "text": [
      "<class 'geopandas.geodataframe.GeoDataFrame'>\n",
      "RangeIndex: 56 entries, 0 to 55\n",
      "Data columns (total 10 columns):\n",
      " #   Column    Non-Null Count  Dtype   \n",
      "---  ------    --------------  -----   \n",
      " 0   STATEFP   56 non-null     object  \n",
      " 1   STATENS   56 non-null     object  \n",
      " 2   AFFGEOID  56 non-null     object  \n",
      " 3   GEOID     56 non-null     object  \n",
      " 4   STUSPS    56 non-null     object  \n",
      " 5   NAME      56 non-null     object  \n",
      " 6   LSAD      56 non-null     object  \n",
      " 7   ALAND     56 non-null     int64   \n",
      " 8   AWATER    56 non-null     int64   \n",
      " 9   geometry  56 non-null     geometry\n",
      "dtypes: geometry(1), int64(2), object(7)\n",
      "memory usage: 4.5+ KB\n"
     ]
    }
   ],
   "source": [
    "states = boundaries.states(year=settings.latest)\n",
    "states.info()"
   ]
  },
  {
   "cell_type": "markdown",
   "metadata": {
    "id": "waQQqdxSs9Qa"
   },
   "source": [
    "<br>\n",
    "<br>\n",
    "\n",
    "## Data"
   ]
  },
  {
   "cell_type": "markdown",
   "metadata": {
    "id": "fWohNa74Fp1X"
   },
   "source": [
    "<br>\n",
    "\n",
    "**Attributes**"
   ]
  },
  {
   "cell_type": "code",
   "execution_count": 13,
   "metadata": {
    "id": "tTGEezhNx7So"
   },
   "outputs": [],
   "source": [
    "fields = ['datetimeobject', 'STUSPS', 'positiveIncrease', 'testIncrease', 'deathIncrease', 'hospitalizedIncrease', \n",
    "          'positiveCumulative', 'testCumulative',  'deathCumulative', 'hospitalizedCumulative', \n",
    "          'positiveRate', 'testRate', 'deathRate', 'hospitalizedRate', 'ndays']\n",
    "\n",
    "dtype = {'STUSPS': 'str', 'positiveIncrease': np.float64, 'testIncrease': np.float64, 'deathIncrease': np.float64, \n",
    "         'hospitalizedIncrease': np.float64, 'positiveCumulative': np.float64, 'testCumulative': np.float64, \n",
    "         'deathCumulative': np.float64, 'hospitalizedCumulative': np.float64, 'positiveRate': np.float64, \n",
    "         'testRate': np.float64, 'deathRate': np.float64, 'hospitalizedRate': np.float64, 'ndays': np.int64}        \n",
    "\n",
    "parse_dates = ['datetimeobject']"
   ]
  },
  {
   "cell_type": "markdown",
   "metadata": {
    "id": "zM5-hsOeFs3H"
   },
   "source": [
    "<br>\n",
    "<br>\n",
    "\n",
    "**The URL strings of the sources**"
   ]
  },
  {
   "cell_type": "code",
   "execution_count": 14,
   "metadata": {},
   "outputs": [],
   "source": [
    "uribaseline = os.path.join(parent, 'warehouse', 'baselines.csv')\n",
    "urihospitalizations = os.path.join(parent, 'warehouse', 'hospitalizations.csv')"
   ]
  },
  {
   "cell_type": "markdown",
   "metadata": {
    "id": "X51nrjBDXObX"
   },
   "source": [
    "<br>\n",
    "<br>\n",
    "\n",
    "**Baseline**"
   ]
  },
  {
   "cell_type": "code",
   "execution_count": 15,
   "metadata": {
    "colab": {
     "base_uri": "https://localhost:8080/",
     "height": 329
    },
    "id": "Am1PH5nYyVK_",
    "outputId": "b189e92b-d418-4de1-9f44-12bd6a860f94"
   },
   "outputs": [
    {
     "name": "stderr",
     "output_type": "stream",
     "text": [
      "INFO:__main__:None\n"
     ]
    },
    {
     "name": "stdout",
     "output_type": "stream",
     "text": [
      "<class 'pandas.core.frame.DataFrame'>\n",
      "RangeIndex: 17628 entries, 0 to 17627\n",
      "Data columns (total 17 columns):\n",
      " #   Column                  Non-Null Count  Dtype         \n",
      "---  ------                  --------------  -----         \n",
      " 0   datetimeobject          17628 non-null  datetime64[ns]\n",
      " 1   STUSPS                  17628 non-null  object        \n",
      " 2   deathIncrease           17628 non-null  float64       \n",
      " 3   deathCumulative         17628 non-null  float64       \n",
      " 4   positiveIncrease        17628 non-null  float64       \n",
      " 5   positiveCumulative      17628 non-null  float64       \n",
      " 6   testIncrease            17628 non-null  float64       \n",
      " 7   testCumulative          17628 non-null  float64       \n",
      " 8   hospitalizedIncrease    17628 non-null  float64       \n",
      " 9   hospitalizedCumulative  17628 non-null  float64       \n",
      " 10  deathRate               17628 non-null  float64       \n",
      " 11  positiveRate            17628 non-null  float64       \n",
      " 12  testRate                17628 non-null  float64       \n",
      " 13  hospitalizedRate        17628 non-null  float64       \n",
      " 14  ndays                   17628 non-null  int64         \n",
      " 15  positiveTestRate        17628 non-null  float64       \n",
      " 16  deathPositiveRate       17628 non-null  float64       \n",
      "dtypes: datetime64[ns](1), float64(14), int64(1), object(1)\n",
      "memory usage: 2.3+ MB\n"
     ]
    }
   ],
   "source": [
    "baselines = pd.read_csv(filepath_or_buffer=uribaseline, header=0, usecols=fields, \n",
    "                        dtype=dtype, encoding='utf-8', parse_dates=parse_dates)\n",
    "\n",
    "baselines.loc[:, 'positiveTestRate'] = np.where(\n",
    "    baselines['testRate'] > 0, 100 * baselines['positiveRate'] / baselines['testRate'], 0)\n",
    "baselines.loc[:, 'deathPositiveRate'] = np.where(\n",
    "    baselines['positiveRate'] > 0, 100 * baselines['deathRate'] / baselines['positiveRate'], 0)\n",
    "\n",
    "logger.info(baselines.info())"
   ]
  },
  {
   "cell_type": "markdown",
   "metadata": {},
   "source": [
    "<br>\n",
    "<br>\n",
    "\n",
    "**Hospitalizations**"
   ]
  },
  {
   "cell_type": "code",
   "execution_count": 16,
   "metadata": {},
   "outputs": [
    {
     "name": "stderr",
     "output_type": "stream",
     "text": [
      "INFO:__main__:None\n"
     ]
    },
    {
     "name": "stdout",
     "output_type": "stream",
     "text": [
      "<class 'pandas.core.frame.DataFrame'>\n",
      "RangeIndex: 12543 entries, 0 to 12542\n",
      "Data columns (total 17 columns):\n",
      " #   Column                    Non-Null Count  Dtype         \n",
      "---  ------                    --------------  -----         \n",
      " 0   datetimeobject            12543 non-null  datetime64[ns]\n",
      " 1   STUSPS                    12543 non-null  object        \n",
      " 2   deathIncrease             12543 non-null  float64       \n",
      " 3   deathCumulative           12543 non-null  float64       \n",
      " 4   positiveIncrease          12543 non-null  float64       \n",
      " 5   positiveCumulative        12543 non-null  float64       \n",
      " 6   testIncrease              12543 non-null  float64       \n",
      " 7   testCumulative            12543 non-null  float64       \n",
      " 8   hospitalizedIncrease      12543 non-null  float64       \n",
      " 9   hospitalizedCumulative    12543 non-null  float64       \n",
      " 10  deathRate                 12543 non-null  float64       \n",
      " 11  positiveRate              12543 non-null  float64       \n",
      " 12  testRate                  12543 non-null  float64       \n",
      " 13  hospitalizedRate          12543 non-null  float64       \n",
      " 14  ndays                     12543 non-null  int64         \n",
      " 15  hospitalizedPositiveRate  12543 non-null  float64       \n",
      " 16  deathHospitalizedRate     12543 non-null  float64       \n",
      "dtypes: datetime64[ns](1), float64(14), int64(1), object(1)\n",
      "memory usage: 1.6+ MB\n"
     ]
    }
   ],
   "source": [
    "hospitalizations = pd.read_csv(filepath_or_buffer=urihospitalizations, header=0, \n",
    "                               usecols=fields,dtype=dtype, encoding='utf-8', parse_dates=parse_dates)\n",
    "\n",
    "hospitalizations.loc[:, 'hospitalizedPositiveRate'] =  np.where(\n",
    "    hospitalizations['positiveRate'] > 0, 100 * hospitalizations['hospitalizedRate'] / hospitalizations['positiveRate'], 0)\n",
    "hospitalizations.loc[:, 'deathHospitalizedRate'] =  np.where(\n",
    "    hospitalizations['hospitalizedRate'] > 0, 100 * hospitalizations['deathRate'] / hospitalizations['hospitalizedRate'], 0)\n",
    "\n",
    "logger.info(hospitalizations.info())"
   ]
  },
  {
   "cell_type": "markdown",
   "metadata": {
    "id": "tJDW4w4FioAn"
   },
   "source": [
    "<br>\n",
    "<br>\n",
    "\n",
    "## Regression"
   ]
  },
  {
   "cell_type": "markdown",
   "metadata": {
    "id": "aG96g5vxHfi0"
   },
   "source": [
    "<br>\n",
    "\n",
    "**Latest Date**"
   ]
  },
  {
   "cell_type": "code",
   "execution_count": 17,
   "metadata": {
    "colab": {
     "base_uri": "https://localhost:8080/",
     "height": 35
    },
    "id": "EutsQfFe_TAc",
    "outputId": "07bcd2cb-b840-4e8d-8d24-3d81ad798aee"
   },
   "outputs": [
    {
     "name": "stderr",
     "output_type": "stream",
     "text": [
      "INFO:__main__:<class 'pandas._libs.tslibs.timestamps.Timestamp'>\n",
      "INFO:__main__:2021-02-10 00:00:00\n"
     ]
    }
   ],
   "source": [
    "latestdate = baselines.datetimeobject.max()\n",
    "logger.info(type(latestdate))\n",
    "logger.info(latestdate)"
   ]
  },
  {
   "cell_type": "markdown",
   "metadata": {},
   "source": [
    "<br>\n",
    "<br>\n",
    "\n",
    "**Periods**"
   ]
  },
  {
   "cell_type": "markdown",
   "metadata": {
    "id": "nc5wL7foy8Yy"
   },
   "source": [
    "Within the context of the aforementioned $positives_{c, \\small{100K}, \\tau} \\;\\; vs.\\ \\; tests_{c, \\small{100K}, \\tau}$ curves, each value of this array is the number of data points, starting from the end of a curve, that are used to develop **a regression model of the tangent/secant line to the points**.\n",
    "\n",
    "Key points:\n",
    "\n",
    "* The model predicts the expected $positives_{c, \\small{100K}}$ as $tests_{c, \\small{100K}, \\tau}$ increases.\n",
    "\n",
    "* The gradient of each model is an estimate of the prevailing positivity rate; an estimate of the current daily positivity value. [cf. continous positivity value] "
   ]
  },
  {
   "cell_type": "code",
   "execution_count": 18,
   "metadata": {
    "colab": {
     "base_uri": "https://localhost:8080/",
     "height": 54
    },
    "id": "Ecz7HPDpy-6j",
    "outputId": "b66f859e-5678-420c-ec15-89988b8e65e9"
   },
   "outputs": [
    {
     "name": "stderr",
     "output_type": "stream",
     "text": [
      "INFO:__main__:[ 8  9 10 11 12 13 14 15 16 17 18 19 20 21 22 23 24 25 26 27 28]\n"
     ]
    }
   ],
   "source": [
    "periods = np.arange(8, 29)\n",
    "logger.info( periods)"
   ]
  },
  {
   "cell_type": "markdown",
   "metadata": {
    "id": "62eUabmoCmn0"
   },
   "source": [
    "<br>\n",
    "<br>\n",
    "\n",
    "**Partitions**"
   ]
  },
  {
   "cell_type": "code",
   "execution_count": 19,
   "metadata": {
    "colab": {
     "base_uri": "https://localhost:8080/",
     "height": 109
    },
    "id": "pZ7AuQYpnymS",
    "outputId": "6fe80e70-aaee-4e09-ad4e-024fa0b5b83d"
   },
   "outputs": [
    {
     "name": "stderr",
     "output_type": "stream",
     "text": [
      "INFO:__main__:['AL' 'AK' 'AZ' 'AR' 'CA' 'CO' 'CT' 'DE' 'DC' 'FL' 'GA' 'HI' 'ID' 'IL'\n",
      " 'IN' 'IA' 'KS' 'KY' 'LA' 'ME' 'MD' 'MA' 'MI' 'MN' 'MS' 'MO' 'MT' 'NE'\n",
      " 'NV' 'NH' 'NJ' 'NM' 'NY' 'NC' 'ND' 'OH' 'OK' 'OR' 'PA' 'RI' 'SC' 'SD'\n",
      " 'TN' 'TX' 'UT' 'VT' 'VA' 'WA' 'WV' 'WI' 'WY' 'PR']\n"
     ]
    }
   ],
   "source": [
    "partitionby = 'STUSPS'\n",
    "partitions = baselines[partitionby].unique()\n",
    "logger.info(partitions)"
   ]
  },
  {
   "cell_type": "markdown",
   "metadata": {
    "id": "fSpAylLKjVaq"
   },
   "source": [
    "<br>\n",
    "<br>\n",
    "\n",
    "### **positives vs. tests**"
   ]
  },
  {
   "cell_type": "markdown",
   "metadata": {},
   "source": [
    "<br>\n",
    "\n",
    "**Analysis**"
   ]
  },
  {
   "cell_type": "code",
   "execution_count": 20,
   "metadata": {
    "id": "K3T98kHYaByi"
   },
   "outputs": [],
   "source": [
    "formula = 'positiveRate ~ testRate'\n",
    "regressor = 'testRate'\n",
    "\n",
    "prospects = atlantic.investigations.prospects.Prospects(data=baselines, partitionby=partitionby, periods=periods, \n",
    "                                                 formula=formula, regressor=regressor, step=100, num=5, latestdate=latestdate)"
   ]
  },
  {
   "cell_type": "code",
   "execution_count": 21,
   "metadata": {},
   "outputs": [],
   "source": [
    "estimates, predictions = prospects.exc(partitions=baselines[partitionby].unique())"
   ]
  },
  {
   "cell_type": "markdown",
   "metadata": {
    "id": "ZwTkYgMRR2zC"
   },
   "source": [
    "<br>\n",
    "\n",
    "**State of affairs**"
   ]
  },
  {
   "cell_type": "code",
   "execution_count": 22,
   "metadata": {},
   "outputs": [],
   "source": [
    "ptr = estimates"
   ]
  },
  {
   "cell_type": "markdown",
   "metadata": {},
   "source": [
    "<br>\n",
    "\n",
    "Prevailing Positive Test Rate"
   ]
  },
  {
   "cell_type": "code",
   "execution_count": 23,
   "metadata": {},
   "outputs": [],
   "source": [
    "ptr.loc[:, 'prevailingPTR'] = 100 * ptr['gradient']\n",
    "ptr = ptr.merge(baselines[['datetimeobject', 'STUSPS', 'positiveTestRate']], how='left', on=['datetimeobject', 'STUSPS'])\n",
    "ptr.loc[:, 'cf'] = ptr[['prevailingPTR', 'positiveTestRate']].max(axis=1)\n",
    "\n",
    "ptr.loc[:, 'rank'] = ptr['cf'].rank(method='min', ascending=False)\n",
    "ptr.sort_values(by='rank', ascending=True, inplace=True)\n",
    "ptr.drop(columns=['cf'], inplace=True)"
   ]
  },
  {
   "cell_type": "markdown",
   "metadata": {},
   "source": [
    "<br>\n",
    "\n",
    "Structuring"
   ]
  },
  {
   "cell_type": "code",
   "execution_count": 24,
   "metadata": {
    "colab": {
     "base_uri": "https://localhost:8080/",
     "height": 1000
    },
    "id": "t6sMy86OHV52",
    "outputId": "c262d2d3-abd8-4cf6-daea-28ff495a974d"
   },
   "outputs": [
    {
     "data": {
      "text/html": [
       "<div>\n",
       "<style scoped>\n",
       "    .dataframe tbody tr th:only-of-type {\n",
       "        vertical-align: middle;\n",
       "    }\n",
       "\n",
       "    .dataframe tbody tr th {\n",
       "        vertical-align: top;\n",
       "    }\n",
       "\n",
       "    .dataframe thead th {\n",
       "        text-align: right;\n",
       "    }\n",
       "</style>\n",
       "<table border=\"1\" class=\"dataframe\">\n",
       "  <thead>\n",
       "    <tr style=\"text-align: right;\">\n",
       "      <th></th>\n",
       "      <th>datetimeobject</th>\n",
       "      <th>gradient</th>\n",
       "      <th>gradientLCI</th>\n",
       "      <th>gradientUCI</th>\n",
       "      <th>pvalue</th>\n",
       "      <th>rsquared</th>\n",
       "      <th>intercept</th>\n",
       "      <th>STUSPS</th>\n",
       "      <th>prevailingPTR</th>\n",
       "      <th>continuousPTR</th>\n",
       "      <th>rank</th>\n",
       "      <th>prevailingTPC</th>\n",
       "    </tr>\n",
       "  </thead>\n",
       "  <tbody>\n",
       "    <tr>\n",
       "      <th>1</th>\n",
       "      <td>2021-02-10</td>\n",
       "      <td>0.0208662</td>\n",
       "      <td>0.0195781</td>\n",
       "      <td>0.0236456</td>\n",
       "      <td>7.96445e-24</td>\n",
       "      <td>0.997247</td>\n",
       "      <td>2902.18</td>\n",
       "      <td>AK</td>\n",
       "      <td>2.08662</td>\n",
       "      <td>3.443347</td>\n",
       "      <td>48.0</td>\n",
       "      <td>47.9245</td>\n",
       "    </tr>\n",
       "    <tr>\n",
       "      <th>8</th>\n",
       "      <td>2021-02-10</td>\n",
       "      <td>0.0319281</td>\n",
       "      <td>0.0282677</td>\n",
       "      <td>0.0365151</td>\n",
       "      <td>4.73382e-20</td>\n",
       "      <td>0.995751</td>\n",
       "      <td>251.636</td>\n",
       "      <td>DC</td>\n",
       "      <td>3.19281</td>\n",
       "      <td>3.345410</td>\n",
       "      <td>49.0</td>\n",
       "      <td>31.3204</td>\n",
       "    </tr>\n",
       "    <tr>\n",
       "      <th>19</th>\n",
       "      <td>2021-02-10</td>\n",
       "      <td>0.0322714</td>\n",
       "      <td>0.0177562</td>\n",
       "      <td>0.0397619</td>\n",
       "      <td>3.07744e-14</td>\n",
       "      <td>0.974952</td>\n",
       "      <td>-415.659</td>\n",
       "      <td>ME</td>\n",
       "      <td>3.22714</td>\n",
       "      <td>2.837992</td>\n",
       "      <td>50.0</td>\n",
       "      <td>30.9872</td>\n",
       "    </tr>\n",
       "    <tr>\n",
       "      <th>11</th>\n",
       "      <td>2021-02-10</td>\n",
       "      <td>0.0222835</td>\n",
       "      <td>0.0126952</td>\n",
       "      <td>0.0278676</td>\n",
       "      <td>8.34307e-13</td>\n",
       "      <td>0.968635</td>\n",
       "      <td>339.016</td>\n",
       "      <td>HI</td>\n",
       "      <td>2.22835</td>\n",
       "      <td>2.693224</td>\n",
       "      <td>51.0</td>\n",
       "      <td>44.8763</td>\n",
       "    </tr>\n",
       "    <tr>\n",
       "      <th>45</th>\n",
       "      <td>2021-02-10</td>\n",
       "      <td>0.022864</td>\n",
       "      <td>0.0146444</td>\n",
       "      <td>0.0257324</td>\n",
       "      <td>1.2819e-13</td>\n",
       "      <td>0.980851</td>\n",
       "      <td>-1329</td>\n",
       "      <td>VT</td>\n",
       "      <td>2.2864</td>\n",
       "      <td>1.392525</td>\n",
       "      <td>52.0</td>\n",
       "      <td>43.7368</td>\n",
       "    </tr>\n",
       "  </tbody>\n",
       "</table>\n",
       "</div>"
      ],
      "text/plain": [
       "   datetimeobject   gradient gradientLCI gradientUCI       pvalue  rsquared  \\\n",
       "1      2021-02-10  0.0208662   0.0195781   0.0236456  7.96445e-24  0.997247   \n",
       "8      2021-02-10  0.0319281   0.0282677   0.0365151  4.73382e-20  0.995751   \n",
       "19     2021-02-10  0.0322714   0.0177562   0.0397619  3.07744e-14  0.974952   \n",
       "11     2021-02-10  0.0222835   0.0126952   0.0278676  8.34307e-13  0.968635   \n",
       "45     2021-02-10   0.022864   0.0146444   0.0257324   1.2819e-13  0.980851   \n",
       "\n",
       "   intercept STUSPS prevailingPTR  continuousPTR  rank prevailingTPC  \n",
       "1    2902.18     AK       2.08662       3.443347  48.0       47.9245  \n",
       "8    251.636     DC       3.19281       3.345410  49.0       31.3204  \n",
       "19  -415.659     ME       3.22714       2.837992  50.0       30.9872  \n",
       "11   339.016     HI       2.22835       2.693224  51.0       44.8763  \n",
       "45     -1329     VT        2.2864       1.392525  52.0       43.7368  "
      ]
     },
     "execution_count": 24,
     "metadata": {},
     "output_type": "execute_result"
    }
   ],
   "source": [
    "ptr.loc[:, 'prevailingTPC'] = np.where(ptr['prevailingPTR'] > 0, ptr['prevailingPTR'].rdiv(100), 0)\n",
    "ptr.rename(columns={'lowerconfidenceinterval': 'gradientLCI', 'upperconfidenceinterval': 'gradientUCI', \n",
    "                    'positiveTestRate': 'continuousPTR'},\n",
    "          inplace=True)\n",
    "ptr.to_csv(path_or_buf=os.path.join(warehouse, 'ptr.csv'), index=False, header=True, encoding='utf-8')\n",
    "ptr.to_json(path_or_buf=os.path.join(warehouse, 'ptr.json'), orient='values')\n",
    "\n",
    "ptr.tail()"
   ]
  },
  {
   "cell_type": "markdown",
   "metadata": {},
   "source": [
    "<br>\n",
    "<br>\n",
    "\n",
    "### **deaths vs. positives**"
   ]
  },
  {
   "cell_type": "code",
   "execution_count": 25,
   "metadata": {},
   "outputs": [],
   "source": [
    "del formula, regressor, prospects, estimates, predictions"
   ]
  },
  {
   "cell_type": "markdown",
   "metadata": {},
   "source": [
    "<br>\n",
    "\n",
    "**Analysis**"
   ]
  },
  {
   "cell_type": "code",
   "execution_count": 26,
   "metadata": {},
   "outputs": [],
   "source": [
    "formula = 'deathRate ~ positiveRate'\n",
    "regressor = 'positiveRate'\n",
    "\n",
    "prospects = atlantic.investigations.prospects.Prospects(data=baselines, partitionby=partitionby, periods=periods, \n",
    "                                                 formula=formula, regressor=regressor, step=20, num=5, latestdate=latestdate)"
   ]
  },
  {
   "cell_type": "code",
   "execution_count": 27,
   "metadata": {},
   "outputs": [],
   "source": [
    "estimates, predictions = prospects.exc(partitions=baselines[partitionby].unique())"
   ]
  },
  {
   "cell_type": "markdown",
   "metadata": {},
   "source": [
    "<br>\n",
    "\n",
    "**State of Affairs**"
   ]
  },
  {
   "cell_type": "code",
   "execution_count": 28,
   "metadata": {},
   "outputs": [],
   "source": [
    "dpr = estimates"
   ]
  },
  {
   "cell_type": "markdown",
   "metadata": {},
   "source": [
    "<br>\n",
    "\n",
    "Prevailing Death Positive Rate"
   ]
  },
  {
   "cell_type": "code",
   "execution_count": 29,
   "metadata": {},
   "outputs": [],
   "source": [
    "dpr.loc[:, 'prevailingDPR'] = 100 * dpr['gradient']\n",
    "dpr = dpr.merge(baselines[['datetimeobject', 'STUSPS', 'deathPositiveRate']], how='left', on=['datetimeobject', 'STUSPS'])\n",
    "dpr.loc[:, 'cf'] = dpr[['prevailingDPR', 'deathPositiveRate']].max(axis=1)\n",
    "\n",
    "dpr.loc[:, 'rank'] = dpr['cf'].rank(method='min', ascending=False)\n",
    "dpr.sort_values(by='rank', ascending=True, inplace=True)\n",
    "dpr.drop(columns=['cf'], inplace=True)"
   ]
  },
  {
   "cell_type": "markdown",
   "metadata": {},
   "source": [
    "<br>\n",
    "\n",
    "Structuring"
   ]
  },
  {
   "cell_type": "code",
   "execution_count": 30,
   "metadata": {},
   "outputs": [
    {
     "data": {
      "text/html": [
       "<div>\n",
       "<style scoped>\n",
       "    .dataframe tbody tr th:only-of-type {\n",
       "        vertical-align: middle;\n",
       "    }\n",
       "\n",
       "    .dataframe tbody tr th {\n",
       "        vertical-align: top;\n",
       "    }\n",
       "\n",
       "    .dataframe thead th {\n",
       "        text-align: right;\n",
       "    }\n",
       "</style>\n",
       "<table border=\"1\" class=\"dataframe\">\n",
       "  <thead>\n",
       "    <tr style=\"text-align: right;\">\n",
       "      <th></th>\n",
       "      <th>datetimeobject</th>\n",
       "      <th>gradient</th>\n",
       "      <th>gradientLCI</th>\n",
       "      <th>gradientUCI</th>\n",
       "      <th>pvalue</th>\n",
       "      <th>rsquared</th>\n",
       "      <th>intercept</th>\n",
       "      <th>STUSPS</th>\n",
       "      <th>prevailingDPR</th>\n",
       "      <th>continuousDPR</th>\n",
       "      <th>rank</th>\n",
       "      <th>prevailingCPD</th>\n",
       "    </tr>\n",
       "  </thead>\n",
       "  <tbody>\n",
       "    <tr>\n",
       "      <th>5</th>\n",
       "      <td>2021-02-10</td>\n",
       "      <td>0.0119086</td>\n",
       "      <td>0.00944444</td>\n",
       "      <td>0.0131194</td>\n",
       "      <td>1.46996e-18</td>\n",
       "      <td>0.992771</td>\n",
       "      <td>15.7355</td>\n",
       "      <td>CO</td>\n",
       "      <td>1.19086</td>\n",
       "      <td>1.414392</td>\n",
       "      <td>48.0</td>\n",
       "      <td>83.9727</td>\n",
       "    </tr>\n",
       "    <tr>\n",
       "      <th>46</th>\n",
       "      <td>2021-02-10</td>\n",
       "      <td>0.0138082</td>\n",
       "      <td>0.0107641</td>\n",
       "      <td>0.0166002</td>\n",
       "      <td>2.88284e-18</td>\n",
       "      <td>0.987121</td>\n",
       "      <td>-5.86478</td>\n",
       "      <td>VA</td>\n",
       "      <td>1.38082</td>\n",
       "      <td>1.290116</td>\n",
       "      <td>49.0</td>\n",
       "      <td>72.421</td>\n",
       "    </tr>\n",
       "    <tr>\n",
       "      <th>27</th>\n",
       "      <td>2021-02-10</td>\n",
       "      <td>0.0124391</td>\n",
       "      <td>0.00993223</td>\n",
       "      <td>0.0237526</td>\n",
       "      <td>1.05141e-11</td>\n",
       "      <td>0.965224</td>\n",
       "      <td>-22.934</td>\n",
       "      <td>NE</td>\n",
       "      <td>1.24391</td>\n",
       "      <td>1.020403</td>\n",
       "      <td>50.0</td>\n",
       "      <td>80.3918</td>\n",
       "    </tr>\n",
       "    <tr>\n",
       "      <th>1</th>\n",
       "      <td>2021-02-10</td>\n",
       "      <td>0.0116665</td>\n",
       "      <td>-0.00172982</td>\n",
       "      <td>0.0192179</td>\n",
       "      <td>1.00501e-06</td>\n",
       "      <td>0.784793</td>\n",
       "      <td>-47.1967</td>\n",
       "      <td>AK</td>\n",
       "      <td>1.16665</td>\n",
       "      <td>0.518605</td>\n",
       "      <td>51.0</td>\n",
       "      <td>85.7158</td>\n",
       "    </tr>\n",
       "    <tr>\n",
       "      <th>44</th>\n",
       "      <td>2021-02-10</td>\n",
       "      <td>0.00821371</td>\n",
       "      <td>0.00671653</td>\n",
       "      <td>0.00999202</td>\n",
       "      <td>1.78897e-16</td>\n",
       "      <td>0.986829</td>\n",
       "      <td>-36.6706</td>\n",
       "      <td>UT</td>\n",
       "      <td>0.821371</td>\n",
       "      <td>0.493930</td>\n",
       "      <td>52.0</td>\n",
       "      <td>121.748</td>\n",
       "    </tr>\n",
       "  </tbody>\n",
       "</table>\n",
       "</div>"
      ],
      "text/plain": [
       "   datetimeobject    gradient gradientLCI gradientUCI       pvalue  rsquared  \\\n",
       "5      2021-02-10   0.0119086  0.00944444   0.0131194  1.46996e-18  0.992771   \n",
       "46     2021-02-10   0.0138082   0.0107641   0.0166002  2.88284e-18  0.987121   \n",
       "27     2021-02-10   0.0124391  0.00993223   0.0237526  1.05141e-11  0.965224   \n",
       "1      2021-02-10   0.0116665 -0.00172982   0.0192179  1.00501e-06  0.784793   \n",
       "44     2021-02-10  0.00821371  0.00671653  0.00999202  1.78897e-16  0.986829   \n",
       "\n",
       "   intercept STUSPS prevailingDPR  continuousDPR  rank prevailingCPD  \n",
       "5    15.7355     CO       1.19086       1.414392  48.0       83.9727  \n",
       "46  -5.86478     VA       1.38082       1.290116  49.0        72.421  \n",
       "27   -22.934     NE       1.24391       1.020403  50.0       80.3918  \n",
       "1   -47.1967     AK       1.16665       0.518605  51.0       85.7158  \n",
       "44  -36.6706     UT      0.821371       0.493930  52.0       121.748  "
      ]
     },
     "execution_count": 30,
     "metadata": {},
     "output_type": "execute_result"
    }
   ],
   "source": [
    "dpr.loc[:, 'prevailingCPD'] = np.where(dpr['prevailingDPR'] > 0, dpr['prevailingDPR'].rdiv(100), 0)\n",
    "dpr.rename(columns={'lowerconfidenceinterval': 'gradientLCI', 'upperconfidenceinterval': 'gradientUCI', \n",
    "                    'deathPositiveRate': 'continuousDPR'},\n",
    "          inplace=True)\n",
    "dpr.to_csv(path_or_buf=os.path.join(warehouse, 'dpr.csv'), index=False, header=True, encoding='utf-8')\n",
    "dpr.to_json(path_or_buf=os.path.join(warehouse, 'dpr.json'), orient='values')\n",
    "\n",
    "dpr.tail()"
   ]
  },
  {
   "cell_type": "markdown",
   "metadata": {},
   "source": [
    "<br>\n",
    "<br>\n",
    "\n",
    "### **hospitalizations vs. positives**"
   ]
  },
  {
   "cell_type": "code",
   "execution_count": 31,
   "metadata": {},
   "outputs": [],
   "source": [
    "del formula, regressor, prospects, estimates, predictions"
   ]
  },
  {
   "cell_type": "markdown",
   "metadata": {},
   "source": [
    "<br>\n",
    "\n",
    "**Analysis**"
   ]
  },
  {
   "cell_type": "code",
   "execution_count": 32,
   "metadata": {},
   "outputs": [],
   "source": [
    "formula = 'hospitalizedRate ~ positiveRate'\n",
    "regressor = 'positiveRate'\n",
    "\n",
    "prospects = atlantic.investigations.prospects.Prospects(data=hospitalizations, partitionby=partitionby, periods=periods, \n",
    "                                                 formula=formula, regressor=regressor, step=10, num=5, latestdate=latestdate)"
   ]
  },
  {
   "cell_type": "code",
   "execution_count": 33,
   "metadata": {},
   "outputs": [],
   "source": [
    "estimates, predictions = prospects.exc(partitions=hospitalizations[partitionby].unique())"
   ]
  },
  {
   "cell_type": "markdown",
   "metadata": {},
   "source": [
    "<br>\n",
    "\n",
    "**State of Affairs**"
   ]
  },
  {
   "cell_type": "code",
   "execution_count": 34,
   "metadata": {},
   "outputs": [],
   "source": [
    "hpr = estimates"
   ]
  },
  {
   "cell_type": "markdown",
   "metadata": {},
   "source": [
    "<br>\n",
    "\n",
    "Prevailing Hospitalised Positive Rate"
   ]
  },
  {
   "cell_type": "code",
   "execution_count": 35,
   "metadata": {},
   "outputs": [],
   "source": [
    "hpr.loc[:, 'prevailingHPR'] = 100 * hpr['gradient']\n",
    "hpr.loc[:, 'rank'] = hpr['prevailingHPR'].rank(method='min', ascending=False)\n",
    "hpr.sort_values(by='rank', ascending=True, inplace=True)"
   ]
  },
  {
   "cell_type": "markdown",
   "metadata": {},
   "source": [
    "<br>\n",
    "\n",
    "Structuring"
   ]
  },
  {
   "cell_type": "code",
   "execution_count": 36,
   "metadata": {},
   "outputs": [
    {
     "data": {
      "text/html": [
       "<div>\n",
       "<style scoped>\n",
       "    .dataframe tbody tr th:only-of-type {\n",
       "        vertical-align: middle;\n",
       "    }\n",
       "\n",
       "    .dataframe tbody tr th {\n",
       "        vertical-align: top;\n",
       "    }\n",
       "\n",
       "    .dataframe thead th {\n",
       "        text-align: right;\n",
       "    }\n",
       "</style>\n",
       "<table border=\"1\" class=\"dataframe\">\n",
       "  <thead>\n",
       "    <tr style=\"text-align: right;\">\n",
       "      <th></th>\n",
       "      <th>datetimeobject</th>\n",
       "      <th>gradient</th>\n",
       "      <th>gradientLCI</th>\n",
       "      <th>gradientUCI</th>\n",
       "      <th>pvalue</th>\n",
       "      <th>rsquared</th>\n",
       "      <th>intercept</th>\n",
       "      <th>STUSPS</th>\n",
       "      <th>prevailingHPR</th>\n",
       "      <th>rank</th>\n",
       "      <th>continuousHPR</th>\n",
       "      <th>prevailingCPH</th>\n",
       "    </tr>\n",
       "  </thead>\n",
       "  <tbody>\n",
       "    <tr>\n",
       "      <th>32</th>\n",
       "      <td>2021-02-10</td>\n",
       "      <td>0.0158093</td>\n",
       "      <td>0.00499295</td>\n",
       "      <td>0.0209094</td>\n",
       "      <td>5.10517e-11</td>\n",
       "      <td>0.945336</td>\n",
       "      <td>50.9816</td>\n",
       "      <td>AK</td>\n",
       "      <td>1.58093</td>\n",
       "      <td>33.0</td>\n",
       "      <td>2.265192</td>\n",
       "      <td>63.2537</td>\n",
       "    </tr>\n",
       "    <tr>\n",
       "      <th>33</th>\n",
       "      <td>2021-02-10</td>\n",
       "      <td>0.013674</td>\n",
       "      <td>-0.00109535</td>\n",
       "      <td>0.0366718</td>\n",
       "      <td>1.04474e-06</td>\n",
       "      <td>0.783763</td>\n",
       "      <td>166.737</td>\n",
       "      <td>MS</td>\n",
       "      <td>1.3674</td>\n",
       "      <td>34.0</td>\n",
       "      <td>3.137236</td>\n",
       "      <td>73.1316</td>\n",
       "    </tr>\n",
       "    <tr>\n",
       "      <th>34</th>\n",
       "      <td>2021-02-10</td>\n",
       "      <td>0.00890499</td>\n",
       "      <td>0.00756406</td>\n",
       "      <td>0.0107246</td>\n",
       "      <td>6.2007e-18</td>\n",
       "      <td>0.991302</td>\n",
       "      <td>32.96</td>\n",
       "      <td>NH</td>\n",
       "      <td>0.890499</td>\n",
       "      <td>35.0</td>\n",
       "      <td>1.538062</td>\n",
       "      <td>112.297</td>\n",
       "    </tr>\n",
       "    <tr>\n",
       "      <th>35</th>\n",
       "      <td>2021-02-10</td>\n",
       "      <td>-2.08167e-17</td>\n",
       "      <td>-1.86294e-14</td>\n",
       "      <td>1.88514e-14</td>\n",
       "      <td>0.879754</td>\n",
       "      <td>-237.8</td>\n",
       "      <td>343.787</td>\n",
       "      <td>CT</td>\n",
       "      <td>-2.08167e-15</td>\n",
       "      <td>36.0</td>\n",
       "      <td>4.616659</td>\n",
       "      <td>0</td>\n",
       "    </tr>\n",
       "    <tr>\n",
       "      <th>36</th>\n",
       "      <td>2021-02-10</td>\n",
       "      <td>-1.38778e-17</td>\n",
       "      <td>-2.81717e-14</td>\n",
       "      <td>2.82827e-14</td>\n",
       "      <td>0.882551</td>\n",
       "      <td>-509.288</td>\n",
       "      <td>462.615</td>\n",
       "      <td>NY</td>\n",
       "      <td>-1.38778e-15</td>\n",
       "      <td>36.0</td>\n",
       "      <td>6.023363</td>\n",
       "      <td>0</td>\n",
       "    </tr>\n",
       "  </tbody>\n",
       "</table>\n",
       "</div>"
      ],
      "text/plain": [
       "   datetimeobject     gradient  gradientLCI  gradientUCI       pvalue  \\\n",
       "32     2021-02-10    0.0158093   0.00499295    0.0209094  5.10517e-11   \n",
       "33     2021-02-10     0.013674  -0.00109535    0.0366718  1.04474e-06   \n",
       "34     2021-02-10   0.00890499   0.00756406    0.0107246   6.2007e-18   \n",
       "35     2021-02-10 -2.08167e-17 -1.86294e-14  1.88514e-14     0.879754   \n",
       "36     2021-02-10 -1.38778e-17 -2.81717e-14  2.82827e-14     0.882551   \n",
       "\n",
       "    rsquared intercept STUSPS prevailingHPR  rank  continuousHPR prevailingCPH  \n",
       "32  0.945336   50.9816     AK       1.58093  33.0       2.265192       63.2537  \n",
       "33  0.783763   166.737     MS        1.3674  34.0       3.137236       73.1316  \n",
       "34  0.991302     32.96     NH      0.890499  35.0       1.538062       112.297  \n",
       "35    -237.8   343.787     CT  -2.08167e-15  36.0       4.616659             0  \n",
       "36  -509.288   462.615     NY  -1.38778e-15  36.0       6.023363             0  "
      ]
     },
     "execution_count": 36,
     "metadata": {},
     "output_type": "execute_result"
    }
   ],
   "source": [
    "hpr = hpr.merge(hospitalizations[['datetimeobject', 'STUSPS', 'hospitalizedPositiveRate']], \n",
    "                how='left', on=['datetimeobject', 'STUSPS'])\n",
    "hpr.loc[:, 'prevailingCPH'] = np.where(hpr['prevailingHPR'] > 0, hpr['prevailingHPR'].rdiv(100), 0)\n",
    "\n",
    "hpr.rename(columns={'lowerconfidenceinterval': 'gradientLCI', 'upperconfidenceinterval': 'gradientUCI', \n",
    "                    'hospitalizedPositiveRate': 'continuousHPR'}, \n",
    "           inplace=True)\n",
    "\n",
    "hpr.to_csv(path_or_buf=os.path.join(warehouse, 'hpr.csv'), index=False, header=True, encoding='utf-8')\n",
    "hpr.to_json(path_or_buf=os.path.join(warehouse, 'hpr.json'), orient='values')\n",
    "\n",
    "hpr.tail()"
   ]
  },
  {
   "cell_type": "markdown",
   "metadata": {},
   "source": [
    "<br>\n",
    "<br>\n",
    "\n",
    "### **deaths vs. hospitalizations**"
   ]
  },
  {
   "cell_type": "code",
   "execution_count": 37,
   "metadata": {},
   "outputs": [],
   "source": [
    "del formula, regressor, prospects, estimates, predictions"
   ]
  },
  {
   "cell_type": "markdown",
   "metadata": {},
   "source": [
    "<br>\n",
    "\n",
    "**Analysis**"
   ]
  },
  {
   "cell_type": "code",
   "execution_count": 38,
   "metadata": {},
   "outputs": [],
   "source": [
    "formula = 'deathRate ~ hospitalizedRate'\n",
    "regressor = 'hospitalizedRate'\n",
    "\n",
    "prospects = atlantic.investigations.prospects.Prospects(data=hospitalizations, partitionby=partitionby, periods=periods, \n",
    "                                                 formula=formula, regressor=regressor, step=10, num=5, latestdate=latestdate)"
   ]
  },
  {
   "cell_type": "code",
   "execution_count": 39,
   "metadata": {},
   "outputs": [],
   "source": [
    "estimates, predictions = prospects.exc(partitions=hospitalizations[partitionby].unique())"
   ]
  },
  {
   "cell_type": "markdown",
   "metadata": {},
   "source": [
    "<br>\n",
    "\n",
    "**State of Affairs**"
   ]
  },
  {
   "cell_type": "code",
   "execution_count": 40,
   "metadata": {},
   "outputs": [],
   "source": [
    "dhr = estimates"
   ]
  },
  {
   "cell_type": "markdown",
   "metadata": {},
   "source": [
    "<br>\n",
    "\n",
    "Prevailing"
   ]
  },
  {
   "cell_type": "code",
   "execution_count": 41,
   "metadata": {},
   "outputs": [],
   "source": [
    "dhr.loc[:, 'prevailingDHR'] = 100 * dhr['gradient']\n",
    "dhr.loc[:, 'rank'] = dhr['prevailingDHR'].rank(method='min', ascending=False)\n",
    "dhr.sort_values(by='rank', ascending=True, inplace=True)"
   ]
  },
  {
   "cell_type": "markdown",
   "metadata": {},
   "source": [
    "<br>\n",
    "\n",
    "Structuring"
   ]
  },
  {
   "cell_type": "code",
   "execution_count": 42,
   "metadata": {},
   "outputs": [
    {
     "data": {
      "text/html": [
       "<div>\n",
       "<style scoped>\n",
       "    .dataframe tbody tr th:only-of-type {\n",
       "        vertical-align: middle;\n",
       "    }\n",
       "\n",
       "    .dataframe tbody tr th {\n",
       "        vertical-align: top;\n",
       "    }\n",
       "\n",
       "    .dataframe thead th {\n",
       "        text-align: right;\n",
       "    }\n",
       "</style>\n",
       "<table border=\"1\" class=\"dataframe\">\n",
       "  <thead>\n",
       "    <tr style=\"text-align: right;\">\n",
       "      <th></th>\n",
       "      <th>datetimeobject</th>\n",
       "      <th>gradient</th>\n",
       "      <th>gradientLCI</th>\n",
       "      <th>gradientUCI</th>\n",
       "      <th>pvalue</th>\n",
       "      <th>rsquared</th>\n",
       "      <th>intercept</th>\n",
       "      <th>STUSPS</th>\n",
       "      <th>prevailingDHR</th>\n",
       "      <th>rank</th>\n",
       "      <th>continuousDHR</th>\n",
       "      <th>prevailingHPD</th>\n",
       "    </tr>\n",
       "  </thead>\n",
       "  <tbody>\n",
       "    <tr>\n",
       "      <th>32</th>\n",
       "      <td>2021-02-10</td>\n",
       "      <td>0.238111</td>\n",
       "      <td>0.142782</td>\n",
       "      <td>0.29021</td>\n",
       "      <td>2.08241e-16</td>\n",
       "      <td>0.984946</td>\n",
       "      <td>7.09275</td>\n",
       "      <td>MN</td>\n",
       "      <td>23.8111</td>\n",
       "      <td>33.0</td>\n",
       "      <td>25.353073</td>\n",
       "      <td>4.19972</td>\n",
       "    </tr>\n",
       "    <tr>\n",
       "      <th>33</th>\n",
       "      <td>2021-02-10</td>\n",
       "      <td>0.235174</td>\n",
       "      <td>0.183898</td>\n",
       "      <td>0.249952</td>\n",
       "      <td>3.93346e-19</td>\n",
       "      <td>0.995345</td>\n",
       "      <td>-6.77784</td>\n",
       "      <td>MD</td>\n",
       "      <td>23.5174</td>\n",
       "      <td>34.0</td>\n",
       "      <td>22.294748</td>\n",
       "      <td>4.25217</td>\n",
       "    </tr>\n",
       "    <tr>\n",
       "      <th>34</th>\n",
       "      <td>2021-02-10</td>\n",
       "      <td>0.213672</td>\n",
       "      <td>0.177631</td>\n",
       "      <td>0.291497</td>\n",
       "      <td>1.15017e-14</td>\n",
       "      <td>0.980112</td>\n",
       "      <td>38.8146</td>\n",
       "      <td>RI</td>\n",
       "      <td>21.3672</td>\n",
       "      <td>35.0</td>\n",
       "      <td>26.221706</td>\n",
       "      <td>4.68007</td>\n",
       "    </tr>\n",
       "    <tr>\n",
       "      <th>35</th>\n",
       "      <td>2021-02-10</td>\n",
       "      <td>0.209757</td>\n",
       "      <td>0.108802</td>\n",
       "      <td>0.264091</td>\n",
       "      <td>2.57144e-12</td>\n",
       "      <td>0.956493</td>\n",
       "      <td>17.9633</td>\n",
       "      <td>CO</td>\n",
       "      <td>20.9757</td>\n",
       "      <td>36.0</td>\n",
       "      <td>25.512911</td>\n",
       "      <td>4.76741</td>\n",
       "    </tr>\n",
       "    <tr>\n",
       "      <th>36</th>\n",
       "      <td>2021-02-10</td>\n",
       "      <td>0.178969</td>\n",
       "      <td>0.129545</td>\n",
       "      <td>0.207069</td>\n",
       "      <td>4.56139e-17</td>\n",
       "      <td>0.988896</td>\n",
       "      <td>-23.1993</td>\n",
       "      <td>UT</td>\n",
       "      <td>17.8969</td>\n",
       "      <td>37.0</td>\n",
       "      <td>12.600842</td>\n",
       "      <td>5.58755</td>\n",
       "    </tr>\n",
       "  </tbody>\n",
       "</table>\n",
       "</div>"
      ],
      "text/plain": [
       "   datetimeobject  gradient gradientLCI gradientUCI       pvalue  rsquared  \\\n",
       "32     2021-02-10  0.238111    0.142782     0.29021  2.08241e-16  0.984946   \n",
       "33     2021-02-10  0.235174    0.183898    0.249952  3.93346e-19  0.995345   \n",
       "34     2021-02-10  0.213672    0.177631    0.291497  1.15017e-14  0.980112   \n",
       "35     2021-02-10  0.209757    0.108802    0.264091  2.57144e-12  0.956493   \n",
       "36     2021-02-10  0.178969    0.129545    0.207069  4.56139e-17  0.988896   \n",
       "\n",
       "   intercept STUSPS prevailingDHR  rank  continuousDHR prevailingHPD  \n",
       "32   7.09275     MN       23.8111  33.0      25.353073       4.19972  \n",
       "33  -6.77784     MD       23.5174  34.0      22.294748       4.25217  \n",
       "34   38.8146     RI       21.3672  35.0      26.221706       4.68007  \n",
       "35   17.9633     CO       20.9757  36.0      25.512911       4.76741  \n",
       "36  -23.1993     UT       17.8969  37.0      12.600842       5.58755  "
      ]
     },
     "execution_count": 42,
     "metadata": {},
     "output_type": "execute_result"
    }
   ],
   "source": [
    "dhr = dhr.merge(hospitalizations[['datetimeobject', 'STUSPS', 'deathHospitalizedRate']], \n",
    "                how='left', on=['datetimeobject', 'STUSPS'])\n",
    "dhr.loc[:, 'prevailingHPD'] = np.where(dhr['prevailingDHR'] > 0, dhr['prevailingDHR'].rdiv(100), 0)\n",
    "\n",
    "dhr.rename(columns={'lowerconfidenceinterval': 'gradientLCI', 'upperconfidenceinterval': 'gradientUCI', \n",
    "                    'deathHospitalizedRate': 'continuousDHR'}, \n",
    "           inplace=True)\n",
    "\n",
    "dhr.to_csv(path_or_buf=os.path.join(warehouse, 'dhr.csv'), index=False, header=True, encoding='utf-8')\n",
    "dhr.to_json(path_or_buf=os.path.join(warehouse, 'dhr.json'), orient='values')\n",
    "\n",
    "dhr.tail()"
   ]
  },
  {
   "cell_type": "markdown",
   "metadata": {},
   "source": [
    "<br>\n",
    "<br>\n",
    "\n",
    "## Clean-up"
   ]
  },
  {
   "cell_type": "code",
   "execution_count": 43,
   "metadata": {},
   "outputs": [],
   "source": [
    "!rm -rf *.log\n",
    "!rm -rf *.pdf\n",
    "!rm -rf states"
   ]
  },
  {
   "cell_type": "markdown",
   "metadata": {},
   "source": [
    "<br>\n",
    "<br>\n",
    "\n",
    "## End"
   ]
  },
  {
   "cell_type": "code",
   "execution_count": 44,
   "metadata": {},
   "outputs": [
    {
     "name": "stdout",
     "output_type": "stream",
     "text": [
      "2021-02-11 19:16:59\n"
     ]
    }
   ],
   "source": [
    "%%bash\n",
    "\n",
    "date +\"%Y-%m-%d %T\""
   ]
  }
 ],
 "metadata": {
  "colab": {
   "collapsed_sections": [],
   "name": "foresights.ipynb",
   "provenance": [],
   "toc_visible": true
  },
  "kernelspec": {
   "display_name": "Python 3",
   "language": "python",
   "name": "python3"
  },
  "language_info": {
   "codemirror_mode": {
    "name": "ipython",
    "version": 3
   },
   "file_extension": ".py",
   "mimetype": "text/x-python",
   "name": "python",
   "nbconvert_exporter": "python",
   "pygments_lexer": "ipython3",
   "version": "3.7.7"
  }
 },
 "nbformat": 4,
 "nbformat_minor": 4
}
