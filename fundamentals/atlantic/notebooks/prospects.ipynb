{
 "cells": [
  {
   "cell_type": "markdown",
   "metadata": {
    "id": "qYxtyKBSegLi"
   },
   "source": [
    "This notebook continuously estimates the prevailing, realtime, positivity values via \n",
    "\n",
    "* $positives_{c, \\small{100K}, \\tau} \\;\\; vs.\\ \\; tests_{c, \\small{100K}, \\tau}$\n",
    "\n",
    "curves, wherein\n",
    "\n",
    "$\\qquad \\qquad \\qquad positives_{c, \\small{100K}, \\tau} \\; = \\; \\small{100\\,000} \\times \\displaystyle \\left(\\sum_{\\substack{\n",
    "   start \\\\\n",
    "   date\n",
    "  }}^{\\tau}{P_{\\delta}}  \\right) \\times \\frac{1}{population}$\n",
    "\n",
    "\n",
    "$\\qquad \\qquad \\qquad \\qquad  tests_{c, \\small{100K}, \\tau} \\; = \\; \\small{100\\,000} \\times \\displaystyle \\left(\\sum_{\\substack{\n",
    "   start \\\\\n",
    "   date\n",
    "  }}^{\\tau}{T_{\\delta}} \\right) \\times \\frac{1}{population}$  \n",
    "\n",
    "<br>\n",
    "\n",
    "which are the positive cases per hundred thousand and test numbers per hundred thousand, respectively, based on their cumulative values and\n",
    "\n",
    "<br>\n",
    "\n",
    "<table style=\"width:35%; text-align: left; border: 0px solid black; float:left; margin-left: 50px\">\n",
    "    <tr>\n",
    "        <th style=\"width:20%;\">$\\mathcal{Variable} \\qquad$</th><th></th> \n",
    "    </tr>\n",
    "    <tr>\n",
    "        <td>$\\tau$</td><td>end date</td>\n",
    "    </tr>\n",
    "    <tr>\n",
    "        <td>$\\delta$</td><td>a series date</td>\n",
    "    </tr>\n",
    "    <tr>\n",
    "      <td>$P_{\\delta}$</td><td>The number of positive cases on date $\\delta$.</td>\n",
    "    </tr>\n",
    "    <tr>\n",
    "      <td>$T_{\\delta}$</td><td>The number of tests on date $\\delta$.</td>\n",
    "    </tr>\n",
    "    \n",
    "</table>\n",
    "\n",
    "\n",
    "<br>"
   ]
  },
  {
   "cell_type": "markdown",
   "metadata": {},
   "source": [
    "<br>\n",
    "\n",
    "The subscript $c$ denotes cumulative.   The graph image below illustrates the curves in question.  In brief \n",
    "\n",
    "* The quotient of the coordinates of a point along a curve is the cumulative positivity value. \n",
    "\n",
    "* The gradient of a modelled secant line to a sequential set of curve rear points estimates the prevailing positivity value.\n",
    "\n",
    "* The aforementioned secant line model predicts the expected values of $positives_{c, \\small{100K}}$ as $tests_{c, \\small{100K}}$ increases.\n"
   ]
  },
  {
   "cell_type": "markdown",
   "metadata": {
    "id": "fBo-NZiRj3Jk"
   },
   "source": [
    "<div style=\"margin-left: 100px;\">\n",
    "    <img src=\"https://github.com/briefings/sars/raw/develop/fundamentals/atlantic/docs/ptr.png\" longdesc=\"surveillance\" width=\"40%\" style=\"float:center\">\n",
    "</div>\n",
    "\n",
    "<br>\n",
    "\n",
    "Upcoming: Link this image to the interactive graph.\n",
    "\n"
   ]
  },
  {
   "cell_type": "markdown",
   "metadata": {
    "id": "VphP1R94t3MG"
   },
   "source": [
    "<br>\n",
    "\n",
    "## Preliminaries"
   ]
  },
  {
   "cell_type": "markdown",
   "metadata": {
    "id": "GHv0WS-ft3NU"
   },
   "source": [
    "### Libraries"
   ]
  },
  {
   "cell_type": "code",
   "execution_count": 1,
   "metadata": {
    "id": "Rmvhg4BGt3NV"
   },
   "outputs": [],
   "source": [
    "import pandas as pd\n",
    "import geopandas as gpd\n",
    "import numpy as np\n",
    "import dask\n",
    "\n",
    "import logging\n",
    "\n",
    "import os\n",
    "import pathlib\n",
    "import sys\n",
    "\n",
    "import statsmodels.regression.linear_model\n"
   ]
  },
  {
   "cell_type": "code",
   "execution_count": 2,
   "metadata": {},
   "outputs": [],
   "source": [
    "from statsmodels.formula.api import ols"
   ]
  },
  {
   "cell_type": "markdown",
   "metadata": {},
   "source": [
    "<br>\n",
    "\n",
    "### Paths"
   ]
  },
  {
   "cell_type": "code",
   "execution_count": 3,
   "metadata": {},
   "outputs": [],
   "source": [
    "child = os.getcwd()\n",
    "parent = str(pathlib.Path(child).parent)"
   ]
  },
  {
   "cell_type": "code",
   "execution_count": 4,
   "metadata": {},
   "outputs": [],
   "source": [
    "root = os.path.join(child, 'warehouse')\n",
    "warehouse = os.path.join(root, 'prospects')"
   ]
  },
  {
   "cell_type": "markdown",
   "metadata": {},
   "source": [
    "<br>\n",
    "\n",
    "Appending paths"
   ]
  },
  {
   "cell_type": "code",
   "execution_count": 5,
   "metadata": {},
   "outputs": [],
   "source": [
    "sys.path.append(parent)"
   ]
  },
  {
   "cell_type": "markdown",
   "metadata": {},
   "source": [
    "<br>\n",
    "\n",
    "### Logging"
   ]
  },
  {
   "cell_type": "code",
   "execution_count": 6,
   "metadata": {},
   "outputs": [],
   "source": [
    "logging.basicConfig(level=logging.INFO)\n",
    "logger = logging.getLogger(__name__)"
   ]
  },
  {
   "cell_type": "markdown",
   "metadata": {
    "id": "XBdw0goyNV84"
   },
   "source": [
    "<br>\n",
    "\n",
    "### Custom"
   ]
  },
  {
   "cell_type": "markdown",
   "metadata": {},
   "source": [
    "Import"
   ]
  },
  {
   "cell_type": "code",
   "execution_count": 7,
   "metadata": {
    "id": "MK-SkdR98nB6"
   },
   "outputs": [],
   "source": [
    "import cartographs.boundaries.us.boundaries\n",
    "import cartographs.boundaries.us.settings"
   ]
  },
  {
   "cell_type": "code",
   "execution_count": 8,
   "metadata": {
    "id": "_OkEqJAXT1v_"
   },
   "outputs": [],
   "source": [
    "import algorithms.curves.estimates\n",
    "import algorithms.curves.predictions\n",
    "import algorithms.curves.secants"
   ]
  },
  {
   "cell_type": "code",
   "execution_count": 9,
   "metadata": {},
   "outputs": [],
   "source": [
    "import atlantic.base.directories\n",
    "import atlantic.investigations.prospects\n",
    "import atlantic.investigations.hospitalizations"
   ]
  },
  {
   "cell_type": "markdown",
   "metadata": {},
   "source": [
    "<br>\n",
    "\n",
    "Set-up directories"
   ]
  },
  {
   "cell_type": "code",
   "execution_count": 10,
   "metadata": {},
   "outputs": [],
   "source": [
    "directories = atlantic.base.directories.Directories()\n",
    "directories.cleanup(listof=[warehouse])\n",
    "directories.create(listof=[warehouse])"
   ]
  },
  {
   "cell_type": "markdown",
   "metadata": {
    "id": "2JDnqRVDrNXi"
   },
   "source": [
    "<br>\n",
    "<br>\n",
    "\n",
    "### Classes"
   ]
  },
  {
   "cell_type": "markdown",
   "metadata": {
    "id": "xd1LJpXYFcjz"
   },
   "source": [
    "**Boundaries**"
   ]
  },
  {
   "cell_type": "code",
   "execution_count": 11,
   "metadata": {
    "id": "7rrYl9wp_MV9"
   },
   "outputs": [],
   "source": [
    "settings = cartographs.boundaries.us.settings.Settings()\n",
    "boundaries = cartographs.boundaries.us.boundaries.Boundaries(settings.crs)"
   ]
  },
  {
   "cell_type": "code",
   "execution_count": 12,
   "metadata": {
    "colab": {
     "base_uri": "https://localhost:8080/",
     "height": 329
    },
    "id": "QKZE8EyfpnDQ",
    "outputId": "f17971ed-b866-49cf-a770-da754f7d7957"
   },
   "outputs": [
    {
     "name": "stdout",
     "output_type": "stream",
     "text": [
      "<class 'geopandas.geodataframe.GeoDataFrame'>\n",
      "RangeIndex: 56 entries, 0 to 55\n",
      "Data columns (total 10 columns):\n",
      " #   Column    Non-Null Count  Dtype   \n",
      "---  ------    --------------  -----   \n",
      " 0   STATEFP   56 non-null     object  \n",
      " 1   STATENS   56 non-null     object  \n",
      " 2   AFFGEOID  56 non-null     object  \n",
      " 3   GEOID     56 non-null     object  \n",
      " 4   STUSPS    56 non-null     object  \n",
      " 5   NAME      56 non-null     object  \n",
      " 6   LSAD      56 non-null     object  \n",
      " 7   ALAND     56 non-null     int64   \n",
      " 8   AWATER    56 non-null     int64   \n",
      " 9   geometry  56 non-null     geometry\n",
      "dtypes: geometry(1), int64(2), object(7)\n",
      "memory usage: 4.5+ KB\n"
     ]
    }
   ],
   "source": [
    "states = boundaries.states(year=settings.latest)\n",
    "states.info()"
   ]
  },
  {
   "cell_type": "markdown",
   "metadata": {
    "id": "waQQqdxSs9Qa"
   },
   "source": [
    "<br>\n",
    "<br>\n",
    "\n",
    "## Data"
   ]
  },
  {
   "cell_type": "markdown",
   "metadata": {
    "id": "fWohNa74Fp1X"
   },
   "source": [
    "<br>\n",
    "\n",
    "**Attributes**"
   ]
  },
  {
   "cell_type": "code",
   "execution_count": 13,
   "metadata": {
    "id": "tTGEezhNx7So"
   },
   "outputs": [],
   "source": [
    "fields = ['datetimeobject', 'STUSPS', 'positiveIncrease', 'testIncrease', 'deathIncrease', 'hospitalizedIncrease', \n",
    "          'positiveCumulative', 'testCumulative',  'deathCumulative', 'hospitalizedCumulative', \n",
    "          'positiveRate', 'testRate', 'deathRate', 'hospitalizedRate', 'ndays']\n",
    "\n",
    "dtype = {'STUSPS': 'str', 'positiveIncrease': np.float64, 'testIncrease': np.float64, 'deathIncrease': np.float64, \n",
    "         'hospitalizedIncrease': np.float64, 'positiveCumulative': np.float64, 'testCumulative': np.float64, \n",
    "         'deathCumulative': np.float64, 'hospitalizedCumulative': np.float64, 'positiveRate': np.float64, \n",
    "         'testRate': np.float64, 'deathRate': np.float64, 'hospitalizedRate': np.float64, 'ndays': np.int64}        \n",
    "\n",
    "parse_dates = ['datetimeobject']"
   ]
  },
  {
   "cell_type": "markdown",
   "metadata": {
    "id": "zM5-hsOeFs3H"
   },
   "source": [
    "<br>\n",
    "<br>\n",
    "\n",
    "**The URL strings of the sources**"
   ]
  },
  {
   "cell_type": "code",
   "execution_count": 14,
   "metadata": {},
   "outputs": [],
   "source": [
    "uribaseline = os.path.join(parent, 'warehouse', 'baselines.csv')\n",
    "urihospitalizations = os.path.join(parent, 'warehouse', 'hospitalizations.csv')"
   ]
  },
  {
   "cell_type": "markdown",
   "metadata": {
    "id": "X51nrjBDXObX"
   },
   "source": [
    "<br>\n",
    "<br>\n",
    "\n",
    "**Baseline**"
   ]
  },
  {
   "cell_type": "code",
   "execution_count": 15,
   "metadata": {
    "colab": {
     "base_uri": "https://localhost:8080/",
     "height": 329
    },
    "id": "Am1PH5nYyVK_",
    "outputId": "b189e92b-d418-4de1-9f44-12bd6a860f94"
   },
   "outputs": [
    {
     "name": "stderr",
     "output_type": "stream",
     "text": [
      "INFO:__main__:None\n"
     ]
    },
    {
     "name": "stdout",
     "output_type": "stream",
     "text": [
      "<class 'pandas.core.frame.DataFrame'>\n",
      "RangeIndex: 18200 entries, 0 to 18199\n",
      "Data columns (total 17 columns):\n",
      " #   Column                  Non-Null Count  Dtype         \n",
      "---  ------                  --------------  -----         \n",
      " 0   datetimeobject          18200 non-null  datetime64[ns]\n",
      " 1   STUSPS                  18200 non-null  object        \n",
      " 2   deathIncrease           18200 non-null  float64       \n",
      " 3   deathCumulative         18200 non-null  float64       \n",
      " 4   positiveIncrease        18200 non-null  float64       \n",
      " 5   positiveCumulative      18200 non-null  float64       \n",
      " 6   hospitalizedIncrease    18200 non-null  float64       \n",
      " 7   hospitalizedCumulative  18200 non-null  float64       \n",
      " 8   testIncrease            18200 non-null  float64       \n",
      " 9   testCumulative          18200 non-null  float64       \n",
      " 10  deathRate               18200 non-null  float64       \n",
      " 11  positiveRate            18200 non-null  float64       \n",
      " 12  testRate                18200 non-null  float64       \n",
      " 13  hospitalizedRate        18200 non-null  float64       \n",
      " 14  ndays                   18200 non-null  int64         \n",
      " 15  positiveTestRate        18200 non-null  float64       \n",
      " 16  deathPositiveRate       18200 non-null  float64       \n",
      "dtypes: datetime64[ns](1), float64(14), int64(1), object(1)\n",
      "memory usage: 2.4+ MB\n"
     ]
    }
   ],
   "source": [
    "baselines = pd.read_csv(filepath_or_buffer=uribaseline, header=0, usecols=fields, \n",
    "                        dtype=dtype, encoding='utf-8', parse_dates=parse_dates)\n",
    "\n",
    "baselines.loc[:, 'positiveTestRate'] = np.where(\n",
    "    baselines['testRate'] > 0, 100 * baselines['positiveRate'] / baselines['testRate'], 0)\n",
    "baselines.loc[:, 'deathPositiveRate'] = np.where(\n",
    "    baselines['positiveRate'] > 0, 100 * baselines['deathRate'] / baselines['positiveRate'], 0)\n",
    "\n",
    "logger.info(baselines.info())"
   ]
  },
  {
   "cell_type": "markdown",
   "metadata": {},
   "source": [
    "<br>\n",
    "<br>\n",
    "\n",
    "**Hospitalizations**"
   ]
  },
  {
   "cell_type": "code",
   "execution_count": 16,
   "metadata": {},
   "outputs": [
    {
     "name": "stderr",
     "output_type": "stream",
     "text": [
      "INFO:__main__:None\n"
     ]
    },
    {
     "name": "stdout",
     "output_type": "stream",
     "text": [
      "<class 'pandas.core.frame.DataFrame'>\n",
      "RangeIndex: 12950 entries, 0 to 12949\n",
      "Data columns (total 17 columns):\n",
      " #   Column                    Non-Null Count  Dtype         \n",
      "---  ------                    --------------  -----         \n",
      " 0   datetimeobject            12950 non-null  datetime64[ns]\n",
      " 1   STUSPS                    12950 non-null  object        \n",
      " 2   deathIncrease             12950 non-null  float64       \n",
      " 3   deathCumulative           12950 non-null  float64       \n",
      " 4   positiveIncrease          12950 non-null  float64       \n",
      " 5   positiveCumulative        12950 non-null  float64       \n",
      " 6   hospitalizedIncrease      12950 non-null  float64       \n",
      " 7   hospitalizedCumulative    12950 non-null  float64       \n",
      " 8   testIncrease              12950 non-null  float64       \n",
      " 9   testCumulative            12950 non-null  float64       \n",
      " 10  deathRate                 12950 non-null  float64       \n",
      " 11  positiveRate              12950 non-null  float64       \n",
      " 12  testRate                  12950 non-null  float64       \n",
      " 13  hospitalizedRate          12950 non-null  float64       \n",
      " 14  ndays                     12950 non-null  int64         \n",
      " 15  hospitalizedPositiveRate  12950 non-null  float64       \n",
      " 16  deathHospitalizedRate     12950 non-null  float64       \n",
      "dtypes: datetime64[ns](1), float64(14), int64(1), object(1)\n",
      "memory usage: 1.7+ MB\n"
     ]
    }
   ],
   "source": [
    "hospitalizations = pd.read_csv(filepath_or_buffer=urihospitalizations, header=0, \n",
    "                               usecols=fields,dtype=dtype, encoding='utf-8', parse_dates=parse_dates)\n",
    "\n",
    "hospitalizations.loc[:, 'hospitalizedPositiveRate'] =  np.where(hospitalizations['positiveRate'] > 0, \n",
    "                                                                100 * hospitalizations['hospitalizedRate'] / hospitalizations['positiveRate'], 0)\n",
    "hospitalizations.loc[:, 'deathHospitalizedRate'] =  np.where(hospitalizations['hospitalizedRate'] > 0, \n",
    "                                                             100 * hospitalizations['deathRate'] / hospitalizations['hospitalizedRate'], 0)\n",
    "\n",
    "logger.info(hospitalizations.info())"
   ]
  },
  {
   "cell_type": "markdown",
   "metadata": {
    "id": "tJDW4w4FioAn"
   },
   "source": [
    "<br>\n",
    "<br>\n",
    "\n",
    "## Regression"
   ]
  },
  {
   "cell_type": "markdown",
   "metadata": {
    "id": "aG96g5vxHfi0"
   },
   "source": [
    "<br>\n",
    "\n",
    "**Latest Date**"
   ]
  },
  {
   "cell_type": "code",
   "execution_count": 17,
   "metadata": {
    "colab": {
     "base_uri": "https://localhost:8080/",
     "height": 35
    },
    "id": "EutsQfFe_TAc",
    "outputId": "07bcd2cb-b840-4e8d-8d24-3d81ad798aee"
   },
   "outputs": [
    {
     "name": "stderr",
     "output_type": "stream",
     "text": [
      "INFO:__main__:<class 'pandas._libs.tslibs.timestamps.Timestamp'>\n",
      "INFO:__main__:2021-01-05 00:00:00\n"
     ]
    }
   ],
   "source": [
    "latestdate = baselines.datetimeobject.max()\n",
    "logger.info(type(latestdate))\n",
    "logger.info(latestdate)"
   ]
  },
  {
   "cell_type": "markdown",
   "metadata": {},
   "source": [
    "<br>\n",
    "<br>\n",
    "\n",
    "**Periods**"
   ]
  },
  {
   "cell_type": "markdown",
   "metadata": {
    "id": "nc5wL7foy8Yy"
   },
   "source": [
    "Within the context of the aforementioned $positives_{c, \\small{100K}, \\tau} \\;\\; vs.\\ \\; tests_{c, \\small{100K}, \\tau}$ curves, each value of this array is the number of data points, starting from the end of a curve, that are used to develop **a regression model of the tangent/secant line to the points**.\n",
    "\n",
    "Key points:\n",
    "\n",
    "* The model predicts the expected $positives_{c, \\small{100K}}$ as $tests_{c, \\small{100K}, \\tau}$ increases.\n",
    "\n",
    "* The gradient of each model is an estimate of the prevailing positivity rate; an estimate of the current daily positivity value. [cf. continous positivity value] "
   ]
  },
  {
   "cell_type": "code",
   "execution_count": 18,
   "metadata": {
    "colab": {
     "base_uri": "https://localhost:8080/",
     "height": 54
    },
    "id": "Ecz7HPDpy-6j",
    "outputId": "b66f859e-5678-420c-ec15-89988b8e65e9"
   },
   "outputs": [
    {
     "name": "stderr",
     "output_type": "stream",
     "text": [
      "INFO:__main__:[ 8  9 10 11 12 13 14 15 16 17 18 19 20 21 22 23 24 25 26 27 28]\n"
     ]
    }
   ],
   "source": [
    "periods = np.arange(8, 29)\n",
    "logger.info( periods)"
   ]
  },
  {
   "cell_type": "markdown",
   "metadata": {
    "id": "62eUabmoCmn0"
   },
   "source": [
    "<br>\n",
    "<br>\n",
    "\n",
    "**Partitions**"
   ]
  },
  {
   "cell_type": "code",
   "execution_count": 19,
   "metadata": {
    "colab": {
     "base_uri": "https://localhost:8080/",
     "height": 109
    },
    "id": "pZ7AuQYpnymS",
    "outputId": "6fe80e70-aaee-4e09-ad4e-024fa0b5b83d"
   },
   "outputs": [
    {
     "name": "stderr",
     "output_type": "stream",
     "text": [
      "INFO:__main__:['AL' 'AK' 'AZ' 'AR' 'CA' 'CO' 'CT' 'DE' 'DC' 'FL' 'GA' 'HI' 'ID' 'IL'\n",
      " 'IN' 'IA' 'KS' 'KY' 'LA' 'ME' 'MD' 'MA' 'MI' 'MN' 'MS' 'MO' 'MT' 'NE'\n",
      " 'NV' 'NH' 'NJ' 'NM' 'NY' 'NC' 'ND' 'OH' 'OK' 'OR' 'PA' 'RI' 'SC' 'SD'\n",
      " 'TN' 'TX' 'UT' 'VT' 'VA' 'WA' 'WV' 'WI' 'WY' 'PR']\n"
     ]
    }
   ],
   "source": [
    "partitionby = 'STUSPS'\n",
    "partitions = baselines[partitionby].unique()\n",
    "logger.info(partitions)"
   ]
  },
  {
   "cell_type": "markdown",
   "metadata": {
    "id": "fSpAylLKjVaq"
   },
   "source": [
    "<br>\n",
    "<br>\n",
    "\n",
    "### **positives vs. tests**"
   ]
  },
  {
   "cell_type": "markdown",
   "metadata": {},
   "source": [
    "<br>\n",
    "\n",
    "**Analysis**"
   ]
  },
  {
   "cell_type": "code",
   "execution_count": 20,
   "metadata": {
    "id": "K3T98kHYaByi"
   },
   "outputs": [],
   "source": [
    "formula = 'positiveRate ~ testRate'\n",
    "regressor = 'testRate'\n",
    "\n",
    "prospects = atlantic.investigations.prospects.Prospects(data=baselines, partitionby=partitionby, periods=periods, \n",
    "                                                 formula=formula, regressor=regressor, step=100, num=5, latestdate=latestdate)"
   ]
  },
  {
   "cell_type": "code",
   "execution_count": 21,
   "metadata": {},
   "outputs": [],
   "source": [
    "estimates, predictions = prospects.exc(partitions=baselines[partitionby].unique())"
   ]
  },
  {
   "cell_type": "markdown",
   "metadata": {
    "id": "ZwTkYgMRR2zC"
   },
   "source": [
    "<br>\n",
    "\n",
    "**State of affairs**"
   ]
  },
  {
   "cell_type": "code",
   "execution_count": 22,
   "metadata": {},
   "outputs": [],
   "source": [
    "ptr = estimates"
   ]
  },
  {
   "cell_type": "markdown",
   "metadata": {},
   "source": [
    "<br>\n",
    "\n",
    "Prevailing Positive Test Rate"
   ]
  },
  {
   "cell_type": "code",
   "execution_count": 23,
   "metadata": {},
   "outputs": [],
   "source": [
    "ptr.loc[:, 'prevailingPTR'] = 100 * ptr['gradient']\n",
    "ptr = ptr.merge(baselines[['datetimeobject', 'STUSPS', 'positiveTestRate']], how='left', on=['datetimeobject', 'STUSPS'])\n",
    "ptr.loc[:, 'cf'] = ptr[['prevailingPTR', 'positiveTestRate']].max(axis=1)\n",
    "\n",
    "ptr.loc[:, 'rank'] = ptr['cf'].rank(method='min', ascending=False)\n",
    "ptr.sort_values(by='rank', ascending=True, inplace=True)\n",
    "ptr.drop(columns=['cf'], inplace=True)"
   ]
  },
  {
   "cell_type": "markdown",
   "metadata": {},
   "source": [
    "<br>\n",
    "\n",
    "Structuring"
   ]
  },
  {
   "cell_type": "code",
   "execution_count": 24,
   "metadata": {
    "colab": {
     "base_uri": "https://localhost:8080/",
     "height": 1000
    },
    "id": "t6sMy86OHV52",
    "outputId": "c262d2d3-abd8-4cf6-daea-28ff495a974d"
   },
   "outputs": [
    {
     "data": {
      "text/html": [
       "<div>\n",
       "<style scoped>\n",
       "    .dataframe tbody tr th:only-of-type {\n",
       "        vertical-align: middle;\n",
       "    }\n",
       "\n",
       "    .dataframe tbody tr th {\n",
       "        vertical-align: top;\n",
       "    }\n",
       "\n",
       "    .dataframe thead th {\n",
       "        text-align: right;\n",
       "    }\n",
       "</style>\n",
       "<table border=\"1\" class=\"dataframe\">\n",
       "  <thead>\n",
       "    <tr style=\"text-align: right;\">\n",
       "      <th></th>\n",
       "      <th>datetimeobject</th>\n",
       "      <th>gradient</th>\n",
       "      <th>gradientLCI</th>\n",
       "      <th>gradientUCI</th>\n",
       "      <th>pvalue</th>\n",
       "      <th>rsquared</th>\n",
       "      <th>intercept</th>\n",
       "      <th>STUSPS</th>\n",
       "      <th>prevailingPTR</th>\n",
       "      <th>continuousPTR</th>\n",
       "      <th>rank</th>\n",
       "      <th>prevailingTPC</th>\n",
       "    </tr>\n",
       "  </thead>\n",
       "  <tbody>\n",
       "    <tr>\n",
       "      <th>32</th>\n",
       "      <td>2021-01-05</td>\n",
       "      <td>0.0674088</td>\n",
       "      <td>0.0579574</td>\n",
       "      <td>0.0797725</td>\n",
       "      <td>1.49551e-18</td>\n",
       "      <td>0.992755</td>\n",
       "      <td>-3747.99</td>\n",
       "      <td>NY</td>\n",
       "      <td>6.74088</td>\n",
       "      <td>3.983139</td>\n",
       "      <td>48.0</td>\n",
       "      <td>14.8349</td>\n",
       "    </tr>\n",
       "    <tr>\n",
       "      <th>6</th>\n",
       "      <td>2021-01-05</td>\n",
       "      <td>0.0626857</td>\n",
       "      <td>0.0593802</td>\n",
       "      <td>0.0719007</td>\n",
       "      <td>4.39375e-22</td>\n",
       "      <td>0.997729</td>\n",
       "      <td>-2395.49</td>\n",
       "      <td>CT</td>\n",
       "      <td>6.26857</td>\n",
       "      <td>4.377538</td>\n",
       "      <td>49.0</td>\n",
       "      <td>15.9526</td>\n",
       "    </tr>\n",
       "    <tr>\n",
       "      <th>37</th>\n",
       "      <td>2021-01-05</td>\n",
       "      <td>0.057559</td>\n",
       "      <td>0.0248933</td>\n",
       "      <td>0.0972964</td>\n",
       "      <td>5.36361e-12</td>\n",
       "      <td>0.952316</td>\n",
       "      <td>-900.929</td>\n",
       "      <td>OR</td>\n",
       "      <td>5.7559</td>\n",
       "      <td>4.350558</td>\n",
       "      <td>50.0</td>\n",
       "      <td>17.3735</td>\n",
       "    </tr>\n",
       "    <tr>\n",
       "      <th>1</th>\n",
       "      <td>2021-01-05</td>\n",
       "      <td>0.0436615</td>\n",
       "      <td>0.0390728</td>\n",
       "      <td>0.0606617</td>\n",
       "      <td>2.35222e-15</td>\n",
       "      <td>0.989681</td>\n",
       "      <td>-1379.13</td>\n",
       "      <td>AK</td>\n",
       "      <td>4.36615</td>\n",
       "      <td>3.607912</td>\n",
       "      <td>51.0</td>\n",
       "      <td>22.9035</td>\n",
       "    </tr>\n",
       "    <tr>\n",
       "      <th>8</th>\n",
       "      <td>2021-01-05</td>\n",
       "      <td>0.0360915</td>\n",
       "      <td>0.0334779</td>\n",
       "      <td>0.0461111</td>\n",
       "      <td>2.20166e-18</td>\n",
       "      <td>0.993327</td>\n",
       "      <td>-486.407</td>\n",
       "      <td>DC</td>\n",
       "      <td>3.60915</td>\n",
       "      <td>3.255147</td>\n",
       "      <td>52.0</td>\n",
       "      <td>27.7074</td>\n",
       "    </tr>\n",
       "  </tbody>\n",
       "</table>\n",
       "</div>"
      ],
      "text/plain": [
       "   datetimeobject   gradient gradientLCI gradientUCI       pvalue  rsquared  \\\n",
       "32     2021-01-05  0.0674088   0.0579574   0.0797725  1.49551e-18  0.992755   \n",
       "6      2021-01-05  0.0626857   0.0593802   0.0719007  4.39375e-22  0.997729   \n",
       "37     2021-01-05   0.057559   0.0248933   0.0972964  5.36361e-12  0.952316   \n",
       "1      2021-01-05  0.0436615   0.0390728   0.0606617  2.35222e-15  0.989681   \n",
       "8      2021-01-05  0.0360915   0.0334779   0.0461111  2.20166e-18  0.993327   \n",
       "\n",
       "   intercept STUSPS prevailingPTR  continuousPTR  rank prevailingTPC  \n",
       "32  -3747.99     NY       6.74088       3.983139  48.0       14.8349  \n",
       "6   -2395.49     CT       6.26857       4.377538  49.0       15.9526  \n",
       "37  -900.929     OR        5.7559       4.350558  50.0       17.3735  \n",
       "1   -1379.13     AK       4.36615       3.607912  51.0       22.9035  \n",
       "8   -486.407     DC       3.60915       3.255147  52.0       27.7074  "
      ]
     },
     "execution_count": 24,
     "metadata": {},
     "output_type": "execute_result"
    }
   ],
   "source": [
    "ptr.loc[:, 'prevailingTPC'] = np.where(ptr['prevailingPTR'] > 0, ptr['prevailingPTR'].rdiv(100), 0)\n",
    "ptr.rename(columns={'lowerconfidenceinterval': 'gradientLCI', 'upperconfidenceinterval': 'gradientUCI', \n",
    "                    'positiveTestRate': 'continuousPTR'},\n",
    "          inplace=True)\n",
    "ptr.to_csv(path_or_buf=os.path.join(warehouse, 'ptr.csv'), index=False, header=True, encoding='utf-8')\n",
    "ptr.to_json(path_or_buf=os.path.join(warehouse, 'ptr.json'), orient='values')\n",
    "\n",
    "ptr.tail()"
   ]
  },
  {
   "cell_type": "markdown",
   "metadata": {},
   "source": [
    "<br>\n",
    "<br>\n",
    "\n",
    "### **deaths vs. positives**"
   ]
  },
  {
   "cell_type": "code",
   "execution_count": 25,
   "metadata": {},
   "outputs": [],
   "source": [
    "del formula, regressor, prospects, estimates, predictions"
   ]
  },
  {
   "cell_type": "markdown",
   "metadata": {},
   "source": [
    "<br>\n",
    "\n",
    "**Analysis**"
   ]
  },
  {
   "cell_type": "code",
   "execution_count": 26,
   "metadata": {},
   "outputs": [],
   "source": [
    "formula = 'deathRate ~ positiveRate'\n",
    "regressor = 'positiveRate'\n",
    "\n",
    "prospects = atlantic.investigations.prospects.Prospects(data=baselines, partitionby=partitionby, periods=periods, \n",
    "                                                 formula=formula, regressor=regressor, step=20, num=5, latestdate=latestdate)"
   ]
  },
  {
   "cell_type": "code",
   "execution_count": 27,
   "metadata": {},
   "outputs": [],
   "source": [
    "estimates, predictions = prospects.exc(partitions=baselines[partitionby].unique())"
   ]
  },
  {
   "cell_type": "markdown",
   "metadata": {},
   "source": [
    "<br>\n",
    "\n",
    "**State of Affairs**"
   ]
  },
  {
   "cell_type": "code",
   "execution_count": 28,
   "metadata": {},
   "outputs": [],
   "source": [
    "dpr = estimates"
   ]
  },
  {
   "cell_type": "markdown",
   "metadata": {},
   "source": [
    "<br>\n",
    "\n",
    "Prevailing Death Positive Rate"
   ]
  },
  {
   "cell_type": "code",
   "execution_count": 29,
   "metadata": {},
   "outputs": [],
   "source": [
    "dpr.loc[:, 'prevailingDPR'] = 100 * dpr['gradient']\n",
    "dpr = dpr.merge(baselines[['datetimeobject', 'STUSPS', 'deathPositiveRate']], how='left', on=['datetimeobject', 'STUSPS'])\n",
    "dpr.loc[:, 'cf'] = dpr[['prevailingDPR', 'deathPositiveRate']].max(axis=1)\n",
    "\n",
    "dpr.loc[:, 'rank'] = dpr['cf'].rank(method='min', ascending=False)\n",
    "dpr.sort_values(by='rank', ascending=True, inplace=True)\n",
    "dpr.drop(columns=['cf'], inplace=True)"
   ]
  },
  {
   "cell_type": "markdown",
   "metadata": {},
   "source": [
    "<br>\n",
    "\n",
    "Structuring"
   ]
  },
  {
   "cell_type": "code",
   "execution_count": 30,
   "metadata": {},
   "outputs": [
    {
     "data": {
      "text/html": [
       "<div>\n",
       "<style scoped>\n",
       "    .dataframe tbody tr th:only-of-type {\n",
       "        vertical-align: middle;\n",
       "    }\n",
       "\n",
       "    .dataframe tbody tr th {\n",
       "        vertical-align: top;\n",
       "    }\n",
       "\n",
       "    .dataframe thead th {\n",
       "        text-align: right;\n",
       "    }\n",
       "</style>\n",
       "<table border=\"1\" class=\"dataframe\">\n",
       "  <thead>\n",
       "    <tr style=\"text-align: right;\">\n",
       "      <th></th>\n",
       "      <th>datetimeobject</th>\n",
       "      <th>gradient</th>\n",
       "      <th>gradientLCI</th>\n",
       "      <th>gradientUCI</th>\n",
       "      <th>pvalue</th>\n",
       "      <th>rsquared</th>\n",
       "      <th>intercept</th>\n",
       "      <th>STUSPS</th>\n",
       "      <th>prevailingDPR</th>\n",
       "      <th>continuousDPR</th>\n",
       "      <th>rank</th>\n",
       "      <th>prevailingCPD</th>\n",
       "    </tr>\n",
       "  </thead>\n",
       "  <tbody>\n",
       "    <tr>\n",
       "      <th>4</th>\n",
       "      <td>2021-01-05</td>\n",
       "      <td>0.00738601</td>\n",
       "      <td>0.00613445</td>\n",
       "      <td>0.0106027</td>\n",
       "      <td>3.37138e-15</td>\n",
       "      <td>0.98117</td>\n",
       "      <td>22.1829</td>\n",
       "      <td>CA</td>\n",
       "      <td>0.738601</td>\n",
       "      <td>1.101114</td>\n",
       "      <td>48.0</td>\n",
       "      <td>135.391</td>\n",
       "    </tr>\n",
       "    <tr>\n",
       "      <th>17</th>\n",
       "      <td>2021-01-05</td>\n",
       "      <td>0.00972207</td>\n",
       "      <td>0.00847763</td>\n",
       "      <td>0.010182</td>\n",
       "      <td>7.25073e-21</td>\n",
       "      <td>0.996895</td>\n",
       "      <td>0.913218</td>\n",
       "      <td>KY</td>\n",
       "      <td>0.972207</td>\n",
       "      <td>0.987053</td>\n",
       "      <td>49.0</td>\n",
       "      <td>102.859</td>\n",
       "    </tr>\n",
       "    <tr>\n",
       "      <th>36</th>\n",
       "      <td>2021-01-05</td>\n",
       "      <td>0.00751881</td>\n",
       "      <td>0.00393736</td>\n",
       "      <td>0.0086253</td>\n",
       "      <td>3.06683e-14</td>\n",
       "      <td>0.974963</td>\n",
       "      <td>6.85312</td>\n",
       "      <td>OK</td>\n",
       "      <td>0.751881</td>\n",
       "      <td>0.834015</td>\n",
       "      <td>50.0</td>\n",
       "      <td>133</td>\n",
       "    </tr>\n",
       "    <tr>\n",
       "      <th>1</th>\n",
       "      <td>2021-01-05</td>\n",
       "      <td>0.00646305</td>\n",
       "      <td>0.00512847</td>\n",
       "      <td>0.00883711</td>\n",
       "      <td>6.07479e-12</td>\n",
       "      <td>0.960207</td>\n",
       "      <td>-11.7242</td>\n",
       "      <td>AK</td>\n",
       "      <td>0.646305</td>\n",
       "      <td>0.463771</td>\n",
       "      <td>51.0</td>\n",
       "      <td>154.726</td>\n",
       "    </tr>\n",
       "    <tr>\n",
       "      <th>44</th>\n",
       "      <td>2021-01-05</td>\n",
       "      <td>0.0042881</td>\n",
       "      <td>0.00327475</td>\n",
       "      <td>0.00511372</td>\n",
       "      <td>4.68885e-18</td>\n",
       "      <td>0.987673</td>\n",
       "      <td>2.54072</td>\n",
       "      <td>UT</td>\n",
       "      <td>0.42881</td>\n",
       "      <td>0.454056</td>\n",
       "      <td>52.0</td>\n",
       "      <td>233.203</td>\n",
       "    </tr>\n",
       "  </tbody>\n",
       "</table>\n",
       "</div>"
      ],
      "text/plain": [
       "   datetimeobject    gradient gradientLCI gradientUCI       pvalue  rsquared  \\\n",
       "4      2021-01-05  0.00738601  0.00613445   0.0106027  3.37138e-15   0.98117   \n",
       "17     2021-01-05  0.00972207  0.00847763    0.010182  7.25073e-21  0.996895   \n",
       "36     2021-01-05  0.00751881  0.00393736   0.0086253  3.06683e-14  0.974963   \n",
       "1      2021-01-05  0.00646305  0.00512847  0.00883711  6.07479e-12  0.960207   \n",
       "44     2021-01-05   0.0042881  0.00327475  0.00511372  4.68885e-18  0.987673   \n",
       "\n",
       "   intercept STUSPS prevailingDPR  continuousDPR  rank prevailingCPD  \n",
       "4    22.1829     CA      0.738601       1.101114  48.0       135.391  \n",
       "17  0.913218     KY      0.972207       0.987053  49.0       102.859  \n",
       "36   6.85312     OK      0.751881       0.834015  50.0           133  \n",
       "1   -11.7242     AK      0.646305       0.463771  51.0       154.726  \n",
       "44   2.54072     UT       0.42881       0.454056  52.0       233.203  "
      ]
     },
     "execution_count": 30,
     "metadata": {},
     "output_type": "execute_result"
    }
   ],
   "source": [
    "dpr.loc[:, 'prevailingCPD'] = np.where(dpr['prevailingDPR'] > 0, dpr['prevailingDPR'].rdiv(100), 0)\n",
    "dpr.rename(columns={'lowerconfidenceinterval': 'gradientLCI', 'upperconfidenceinterval': 'gradientUCI', \n",
    "                    'deathPositiveRate': 'continuousDPR'},\n",
    "          inplace=True)\n",
    "dpr.to_csv(path_or_buf=os.path.join(warehouse, 'dpr.csv'), index=False, header=True, encoding='utf-8')\n",
    "dpr.to_json(path_or_buf=os.path.join(warehouse, 'dpr.json'), orient='values')\n",
    "\n",
    "dpr.tail()"
   ]
  },
  {
   "cell_type": "markdown",
   "metadata": {},
   "source": [
    "<br>\n",
    "<br>\n",
    "\n",
    "### **hospitalizations vs. positives**"
   ]
  },
  {
   "cell_type": "code",
   "execution_count": 31,
   "metadata": {},
   "outputs": [],
   "source": [
    "del formula, regressor, prospects, estimates, predictions"
   ]
  },
  {
   "cell_type": "markdown",
   "metadata": {},
   "source": [
    "<br>\n",
    "\n",
    "**Analysis**"
   ]
  },
  {
   "cell_type": "code",
   "execution_count": 32,
   "metadata": {},
   "outputs": [],
   "source": [
    "formula = 'hospitalizedRate ~ positiveRate'\n",
    "regressor = 'positiveRate'\n",
    "\n",
    "prospects = atlantic.investigations.prospects.Prospects(data=hospitalizations, partitionby=partitionby, periods=periods, \n",
    "                                                 formula=formula, regressor=regressor, step=10, num=5, latestdate=latestdate)"
   ]
  },
  {
   "cell_type": "code",
   "execution_count": 33,
   "metadata": {},
   "outputs": [],
   "source": [
    "estimates, predictions = prospects.exc(partitions=hospitalizations[partitionby].unique())"
   ]
  },
  {
   "cell_type": "markdown",
   "metadata": {},
   "source": [
    "<br>\n",
    "\n",
    "**State of Affairs**"
   ]
  },
  {
   "cell_type": "code",
   "execution_count": 34,
   "metadata": {},
   "outputs": [],
   "source": [
    "hpr = estimates"
   ]
  },
  {
   "cell_type": "markdown",
   "metadata": {},
   "source": [
    "<br>\n",
    "\n",
    "Prevailing Hospitalised Positive Rate"
   ]
  },
  {
   "cell_type": "code",
   "execution_count": 35,
   "metadata": {},
   "outputs": [],
   "source": [
    "hpr.loc[:, 'prevailingHPR'] = 100 * hpr['gradient']\n",
    "hpr.loc[:, 'rank'] = hpr['prevailingHPR'].rank(method='min', ascending=False)\n",
    "hpr.sort_values(by='rank', ascending=True, inplace=True)"
   ]
  },
  {
   "cell_type": "markdown",
   "metadata": {},
   "source": [
    "<br>\n",
    "\n",
    "Structuring"
   ]
  },
  {
   "cell_type": "code",
   "execution_count": 36,
   "metadata": {},
   "outputs": [
    {
     "data": {
      "text/html": [
       "<div>\n",
       "<style scoped>\n",
       "    .dataframe tbody tr th:only-of-type {\n",
       "        vertical-align: middle;\n",
       "    }\n",
       "\n",
       "    .dataframe tbody tr th {\n",
       "        vertical-align: top;\n",
       "    }\n",
       "\n",
       "    .dataframe thead th {\n",
       "        text-align: right;\n",
       "    }\n",
       "</style>\n",
       "<table border=\"1\" class=\"dataframe\">\n",
       "  <thead>\n",
       "    <tr style=\"text-align: right;\">\n",
       "      <th></th>\n",
       "      <th>datetimeobject</th>\n",
       "      <th>gradient</th>\n",
       "      <th>gradientLCI</th>\n",
       "      <th>gradientUCI</th>\n",
       "      <th>pvalue</th>\n",
       "      <th>rsquared</th>\n",
       "      <th>intercept</th>\n",
       "      <th>STUSPS</th>\n",
       "      <th>prevailingHPR</th>\n",
       "      <th>rank</th>\n",
       "      <th>continuousHPR</th>\n",
       "      <th>prevailingCPH</th>\n",
       "    </tr>\n",
       "  </thead>\n",
       "  <tbody>\n",
       "    <tr>\n",
       "      <th>32</th>\n",
       "      <td>2021-01-05</td>\n",
       "      <td>0.0105028</td>\n",
       "      <td>0.00105146</td>\n",
       "      <td>0.0154915</td>\n",
       "      <td>1.14378e-06</td>\n",
       "      <td>0.781337</td>\n",
       "      <td>175.211</td>\n",
       "      <td>MA</td>\n",
       "      <td>1.05028</td>\n",
       "      <td>33.0</td>\n",
       "      <td>4.052850</td>\n",
       "      <td>95.213</td>\n",
       "    </tr>\n",
       "    <tr>\n",
       "      <th>33</th>\n",
       "      <td>2021-01-05</td>\n",
       "      <td>0.0082916</td>\n",
       "      <td>-0.000326957</td>\n",
       "      <td>0.0140946</td>\n",
       "      <td>1.54372e-07</td>\n",
       "      <td>0.829212</td>\n",
       "      <td>213.702</td>\n",
       "      <td>MS</td>\n",
       "      <td>0.82916</td>\n",
       "      <td>34.0</td>\n",
       "      <td>3.663881</td>\n",
       "      <td>120.604</td>\n",
       "    </tr>\n",
       "    <tr>\n",
       "      <th>34</th>\n",
       "      <td>2021-01-05</td>\n",
       "      <td>0.00292661</td>\n",
       "      <td>0.00217853</td>\n",
       "      <td>0.00435523</td>\n",
       "      <td>1.63715e-11</td>\n",
       "      <td>0.950714</td>\n",
       "      <td>57.0905</td>\n",
       "      <td>NH</td>\n",
       "      <td>0.292661</td>\n",
       "      <td>35.0</td>\n",
       "      <td>1.912819</td>\n",
       "      <td>341.693</td>\n",
       "    </tr>\n",
       "    <tr>\n",
       "      <th>35</th>\n",
       "      <td>2021-01-05</td>\n",
       "      <td>-2.77556e-17</td>\n",
       "      <td>-3.31195e-15</td>\n",
       "      <td>3.25644e-15</td>\n",
       "      <td>0.700249</td>\n",
       "      <td>-65</td>\n",
       "      <td>462.615</td>\n",
       "      <td>NY</td>\n",
       "      <td>-2.77556e-15</td>\n",
       "      <td>36.0</td>\n",
       "      <td>8.644820</td>\n",
       "      <td>0</td>\n",
       "    </tr>\n",
       "    <tr>\n",
       "      <th>36</th>\n",
       "      <td>2021-01-05</td>\n",
       "      <td>5.55112e-17</td>\n",
       "      <td>-6.75652e-15</td>\n",
       "      <td>6.97856e-15</td>\n",
       "      <td>0.720254</td>\n",
       "      <td>-46.5</td>\n",
       "      <td>343.787</td>\n",
       "      <td>CT</td>\n",
       "      <td>5.55112e-15</td>\n",
       "      <td>36.0</td>\n",
       "      <td>6.222838</td>\n",
       "      <td>1.80144e+16</td>\n",
       "    </tr>\n",
       "  </tbody>\n",
       "</table>\n",
       "</div>"
      ],
      "text/plain": [
       "   datetimeobject     gradient  gradientLCI  gradientUCI       pvalue  \\\n",
       "32     2021-01-05    0.0105028   0.00105146    0.0154915  1.14378e-06   \n",
       "33     2021-01-05    0.0082916 -0.000326957    0.0140946  1.54372e-07   \n",
       "34     2021-01-05   0.00292661   0.00217853   0.00435523  1.63715e-11   \n",
       "35     2021-01-05 -2.77556e-17 -3.31195e-15  3.25644e-15     0.700249   \n",
       "36     2021-01-05  5.55112e-17 -6.75652e-15  6.97856e-15     0.720254   \n",
       "\n",
       "    rsquared intercept STUSPS prevailingHPR  rank  continuousHPR prevailingCPH  \n",
       "32  0.781337   175.211     MA       1.05028  33.0       4.052850        95.213  \n",
       "33  0.829212   213.702     MS       0.82916  34.0       3.663881       120.604  \n",
       "34  0.950714   57.0905     NH      0.292661  35.0       1.912819       341.693  \n",
       "35       -65   462.615     NY  -2.77556e-15  36.0       8.644820             0  \n",
       "36     -46.5   343.787     CT   5.55112e-15  36.0       6.222838   1.80144e+16  "
      ]
     },
     "execution_count": 36,
     "metadata": {},
     "output_type": "execute_result"
    }
   ],
   "source": [
    "hpr = hpr.merge(hospitalizations[['datetimeobject', 'STUSPS', 'hospitalizedPositiveRate']], how='left', on=['datetimeobject', 'STUSPS'])\n",
    "hpr.loc[:, 'prevailingCPH'] = np.where(hpr['prevailingHPR'] > 0, hpr['prevailingHPR'].rdiv(100), 0)\n",
    "\n",
    "hpr.rename(columns={'lowerconfidenceinterval': 'gradientLCI', 'upperconfidenceinterval': 'gradientUCI', 'hospitalizedPositiveRate': 'continuousHPR'}, \n",
    "           inplace=True)\n",
    "\n",
    "hpr.to_csv(path_or_buf=os.path.join(warehouse, 'hpr.csv'), index=False, header=True, encoding='utf-8')\n",
    "hpr.to_json(path_or_buf=os.path.join(warehouse, 'hpr.json'), orient='values')\n",
    "\n",
    "hpr.tail()"
   ]
  },
  {
   "cell_type": "markdown",
   "metadata": {},
   "source": [
    "<br>\n",
    "<br>\n",
    "\n",
    "### **deaths vs. hospitalizations**"
   ]
  },
  {
   "cell_type": "code",
   "execution_count": 37,
   "metadata": {},
   "outputs": [],
   "source": [
    "del formula, regressor, prospects, estimates, predictions"
   ]
  },
  {
   "cell_type": "markdown",
   "metadata": {},
   "source": [
    "<br>\n",
    "\n",
    "**Analysis**"
   ]
  },
  {
   "cell_type": "code",
   "execution_count": 38,
   "metadata": {},
   "outputs": [],
   "source": [
    "formula = 'deathRate ~ hospitalizedRate'\n",
    "regressor = 'hospitalizedRate'\n",
    "\n",
    "prospects = atlantic.investigations.prospects.Prospects(data=hospitalizations, partitionby=partitionby, periods=periods, \n",
    "                                                 formula=formula, regressor=regressor, step=10, num=5, latestdate=latestdate)"
   ]
  },
  {
   "cell_type": "code",
   "execution_count": 39,
   "metadata": {},
   "outputs": [],
   "source": [
    "estimates, predictions = prospects.exc(partitions=hospitalizations[partitionby].unique())"
   ]
  },
  {
   "cell_type": "markdown",
   "metadata": {},
   "source": [
    "<br>\n",
    "\n",
    "**State of Affairs**"
   ]
  },
  {
   "cell_type": "code",
   "execution_count": 40,
   "metadata": {},
   "outputs": [],
   "source": [
    "dhr = estimates"
   ]
  },
  {
   "cell_type": "markdown",
   "metadata": {},
   "source": [
    "<br>\n",
    "\n",
    "Prevailing"
   ]
  },
  {
   "cell_type": "code",
   "execution_count": 41,
   "metadata": {},
   "outputs": [],
   "source": [
    "dhr.loc[:, 'prevailingDHR'] = 100 * dhr['gradient']\n",
    "dhr.loc[:, 'rank'] = dhr['prevailingDHR'].rank(method='min', ascending=False)\n",
    "dhr.sort_values(by='rank', ascending=True, inplace=True)"
   ]
  },
  {
   "cell_type": "markdown",
   "metadata": {},
   "source": [
    "<br>\n",
    "\n",
    "Structuring"
   ]
  },
  {
   "cell_type": "code",
   "execution_count": 42,
   "metadata": {},
   "outputs": [
    {
     "data": {
      "text/html": [
       "<div>\n",
       "<style scoped>\n",
       "    .dataframe tbody tr th:only-of-type {\n",
       "        vertical-align: middle;\n",
       "    }\n",
       "\n",
       "    .dataframe tbody tr th {\n",
       "        vertical-align: top;\n",
       "    }\n",
       "\n",
       "    .dataframe thead th {\n",
       "        text-align: right;\n",
       "    }\n",
       "</style>\n",
       "<table border=\"1\" class=\"dataframe\">\n",
       "  <thead>\n",
       "    <tr style=\"text-align: right;\">\n",
       "      <th></th>\n",
       "      <th>datetimeobject</th>\n",
       "      <th>gradient</th>\n",
       "      <th>gradientLCI</th>\n",
       "      <th>gradientUCI</th>\n",
       "      <th>pvalue</th>\n",
       "      <th>rsquared</th>\n",
       "      <th>intercept</th>\n",
       "      <th>STUSPS</th>\n",
       "      <th>prevailingDHR</th>\n",
       "      <th>rank</th>\n",
       "      <th>continuousDHR</th>\n",
       "      <th>prevailingHPD</th>\n",
       "    </tr>\n",
       "  </thead>\n",
       "  <tbody>\n",
       "    <tr>\n",
       "      <th>32</th>\n",
       "      <td>2021-01-05</td>\n",
       "      <td>0.1686</td>\n",
       "      <td>0.0887461</td>\n",
       "      <td>0.212879</td>\n",
       "      <td>1.5505e-14</td>\n",
       "      <td>0.971088</td>\n",
       "      <td>33.7502</td>\n",
       "      <td>AZ</td>\n",
       "      <td>16.86</td>\n",
       "      <td>33.0</td>\n",
       "      <td>23.117386</td>\n",
       "      <td>5.9312</td>\n",
       "    </tr>\n",
       "    <tr>\n",
       "      <th>33</th>\n",
       "      <td>2021-01-05</td>\n",
       "      <td>0.154418</td>\n",
       "      <td>0.133139</td>\n",
       "      <td>0.159899</td>\n",
       "      <td>4.9484e-21</td>\n",
       "      <td>0.997145</td>\n",
       "      <td>-3.56841</td>\n",
       "      <td>OK</td>\n",
       "      <td>15.4418</td>\n",
       "      <td>34.0</td>\n",
       "      <td>14.646234</td>\n",
       "      <td>6.47595</td>\n",
       "    </tr>\n",
       "    <tr>\n",
       "      <th>34</th>\n",
       "      <td>2021-01-05</td>\n",
       "      <td>0.130661</td>\n",
       "      <td>0.105132</td>\n",
       "      <td>0.161757</td>\n",
       "      <td>2.7348e-17</td>\n",
       "      <td>0.988921</td>\n",
       "      <td>-5.11795</td>\n",
       "      <td>UT</td>\n",
       "      <td>13.0661</td>\n",
       "      <td>35.0</td>\n",
       "      <td>11.553364</td>\n",
       "      <td>7.6534</td>\n",
       "    </tr>\n",
       "    <tr>\n",
       "      <th>35</th>\n",
       "      <td>2021-01-05</td>\n",
       "      <td>0.101291</td>\n",
       "      <td>0.0192259</td>\n",
       "      <td>0.13983</td>\n",
       "      <td>3.39858e-09</td>\n",
       "      <td>0.907795</td>\n",
       "      <td>27.7689</td>\n",
       "      <td>AL</td>\n",
       "      <td>10.1291</td>\n",
       "      <td>36.0</td>\n",
       "      <td>13.790573</td>\n",
       "      <td>9.87257</td>\n",
       "    </tr>\n",
       "    <tr>\n",
       "      <th>36</th>\n",
       "      <td>2021-01-05</td>\n",
       "      <td>0.0514204</td>\n",
       "      <td>-0.000382916</td>\n",
       "      <td>0.123551</td>\n",
       "      <td>3.27546e-07</td>\n",
       "      <td>0.805599</td>\n",
       "      <td>13.8913</td>\n",
       "      <td>HI</td>\n",
       "      <td>5.14204</td>\n",
       "      <td>37.0</td>\n",
       "      <td>15.905338</td>\n",
       "      <td>19.4475</td>\n",
       "    </tr>\n",
       "  </tbody>\n",
       "</table>\n",
       "</div>"
      ],
      "text/plain": [
       "   datetimeobject   gradient  gradientLCI gradientUCI       pvalue  rsquared  \\\n",
       "32     2021-01-05     0.1686    0.0887461    0.212879   1.5505e-14  0.971088   \n",
       "33     2021-01-05   0.154418     0.133139    0.159899   4.9484e-21  0.997145   \n",
       "34     2021-01-05   0.130661     0.105132    0.161757   2.7348e-17  0.988921   \n",
       "35     2021-01-05   0.101291    0.0192259     0.13983  3.39858e-09  0.907795   \n",
       "36     2021-01-05  0.0514204 -0.000382916    0.123551  3.27546e-07  0.805599   \n",
       "\n",
       "   intercept STUSPS prevailingDHR  rank  continuousDHR prevailingHPD  \n",
       "32   33.7502     AZ         16.86  33.0      23.117386        5.9312  \n",
       "33  -3.56841     OK       15.4418  34.0      14.646234       6.47595  \n",
       "34  -5.11795     UT       13.0661  35.0      11.553364        7.6534  \n",
       "35   27.7689     AL       10.1291  36.0      13.790573       9.87257  \n",
       "36   13.8913     HI       5.14204  37.0      15.905338       19.4475  "
      ]
     },
     "execution_count": 42,
     "metadata": {},
     "output_type": "execute_result"
    }
   ],
   "source": [
    "dhr = dhr.merge(hospitalizations[['datetimeobject', 'STUSPS', 'deathHospitalizedRate']], how='left', on=['datetimeobject', 'STUSPS'])\n",
    "dhr.loc[:, 'prevailingHPD'] = np.where(dhr['prevailingDHR'] > 0, dhr['prevailingDHR'].rdiv(100), 0)\n",
    "\n",
    "dhr.rename(columns={'lowerconfidenceinterval': 'gradientLCI', 'upperconfidenceinterval': 'gradientUCI', 'deathHospitalizedRate': 'continuousDHR'}, \n",
    "           inplace=True)\n",
    "\n",
    "dhr.to_csv(path_or_buf=os.path.join(warehouse, 'dhr.csv'), index=False, header=True, encoding='utf-8')\n",
    "dhr.to_json(path_or_buf=os.path.join(warehouse, 'dhr.json'), orient='values')\n",
    "\n",
    "dhr.tail()"
   ]
  },
  {
   "cell_type": "markdown",
   "metadata": {},
   "source": [
    "<br>\n",
    "<br>\n",
    "\n",
    "## Clean-up"
   ]
  },
  {
   "cell_type": "code",
   "execution_count": 43,
   "metadata": {},
   "outputs": [],
   "source": [
    "!rm -rf *.log\n",
    "!rm -rf *.pdf\n",
    "!rm -rf states"
   ]
  },
  {
   "cell_type": "markdown",
   "metadata": {},
   "source": [
    "<br>\n",
    "<br>\n",
    "\n",
    "## End"
   ]
  },
  {
   "cell_type": "code",
   "execution_count": 44,
   "metadata": {},
   "outputs": [
    {
     "name": "stdout",
     "output_type": "stream",
     "text": [
      "2021-01-06 13:17:45\n"
     ]
    }
   ],
   "source": [
    "%%bash\n",
    "\n",
    "date +\"%Y-%m-%d %T\""
   ]
  }
 ],
 "metadata": {
  "colab": {
   "collapsed_sections": [],
   "name": "foresights.ipynb",
   "provenance": [],
   "toc_visible": true
  },
  "kernelspec": {
   "display_name": "Python 3",
   "language": "python",
   "name": "python3"
  },
  "language_info": {
   "codemirror_mode": {
    "name": "ipython",
    "version": 3
   },
   "file_extension": ".py",
   "mimetype": "text/x-python",
   "name": "python",
   "nbconvert_exporter": "python",
   "pygments_lexer": "ipython3",
   "version": "3.7.7"
  }
 },
 "nbformat": 4,
 "nbformat_minor": 4
}
