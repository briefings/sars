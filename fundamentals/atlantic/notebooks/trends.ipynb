{
 "cells": [
  {
   "cell_type": "markdown",
   "metadata": {},
   "source": [
    "**In Progress.**  This notebook is focused on continous-time COVID-19 trends calculations.  The calculations feed interactive data products.\n",
    "<br>"
   ]
  },
  {
   "cell_type": "markdown",
   "metadata": {},
   "source": [
    "# Preliminaries"
   ]
  },
  {
   "cell_type": "markdown",
   "metadata": {},
   "source": [
    "!rm -rf *.log\n",
    "!rm -rf *.pdf"
   ]
  },
  {
   "cell_type": "markdown",
   "metadata": {},
   "source": [
    "<br>\n",
    "\n",
    "## Libraries"
   ]
  },
  {
   "cell_type": "code",
   "execution_count": 1,
   "metadata": {},
   "outputs": [],
   "source": [
    "import pandas as pd\n",
    "import numpy as np\n",
    "\n",
    "import logging\n",
    "\n",
    "import os\n",
    "import pathlib\n",
    "import sys\n",
    "\n",
    "import zipfile\n",
    "import requests\n",
    "import io"
   ]
  },
  {
   "cell_type": "markdown",
   "metadata": {},
   "source": [
    "<br>\n",
    "\n",
    "## Paths"
   ]
  },
  {
   "cell_type": "code",
   "execution_count": 2,
   "metadata": {},
   "outputs": [],
   "source": [
    "child = os.getcwd()\n",
    "parent = str(pathlib.Path(child).parent)"
   ]
  },
  {
   "cell_type": "code",
   "execution_count": 3,
   "metadata": {},
   "outputs": [],
   "source": [
    "root = os.path.join(child, 'warehouse')\n",
    "warehouse = os.path.join(root, 'trends')"
   ]
  },
  {
   "cell_type": "markdown",
   "metadata": {},
   "source": [
    "<br>\n",
    "\n",
    "Appending paths"
   ]
  },
  {
   "cell_type": "code",
   "execution_count": 4,
   "metadata": {},
   "outputs": [],
   "source": [
    "sys.path.append(parent)"
   ]
  },
  {
   "cell_type": "markdown",
   "metadata": {},
   "source": [
    "<br>\n",
    "\n",
    "## Logging"
   ]
  },
  {
   "cell_type": "code",
   "execution_count": 5,
   "metadata": {},
   "outputs": [],
   "source": [
    "logging.basicConfig(level=logging.INFO)\n",
    "logger = logging.getLogger(__name__)"
   ]
  },
  {
   "cell_type": "markdown",
   "metadata": {},
   "source": [
    "<br>\n",
    "\n",
    "## Custom Classes"
   ]
  },
  {
   "cell_type": "markdown",
   "metadata": {},
   "source": [
    "<br>\n",
    "\n",
    "Import"
   ]
  },
  {
   "cell_type": "code",
   "execution_count": 6,
   "metadata": {},
   "outputs": [],
   "source": [
    "import algorithms.base.delta\n",
    "import algorithms.base.differences\n",
    "import algorithms.base.quantiles\n",
    "import algorithms.misc.doublet\n",
    "\n",
    "import atlantic.base.directories"
   ]
  },
  {
   "cell_type": "markdown",
   "metadata": {},
   "source": [
    "<br>\n",
    "\n",
    "Set-up directories"
   ]
  },
  {
   "cell_type": "code",
   "execution_count": 7,
   "metadata": {},
   "outputs": [],
   "source": [
    "directories = atlantic.base.directories.Directories()\n",
    "directories.cleanup(listof=[warehouse])\n",
    "directories.create(listof=[warehouse])"
   ]
  },
  {
   "cell_type": "markdown",
   "metadata": {},
   "source": [
    "<br>\n",
    "<br>\n",
    "\n",
    "# Curves"
   ]
  },
  {
   "cell_type": "markdown",
   "metadata": {},
   "source": [
    "## The Data"
   ]
  },
  {
   "cell_type": "code",
   "execution_count": 8,
   "metadata": {},
   "outputs": [],
   "source": [
    "datauri = os.path.join(parent, 'warehouse', 'baselines.csv')\n",
    "\n",
    "parse_dates = ['datetimeobject']\n",
    "baselines = pd.read_csv(filepath_or_buffer=datauri, header=0, encoding='utf-8', parse_dates=parse_dates)"
   ]
  },
  {
   "cell_type": "markdown",
   "metadata": {},
   "source": [
    "<br>\n",
    "\n",
    "**Daily Positive Test Rate**"
   ]
  },
  {
   "cell_type": "code",
   "execution_count": 9,
   "metadata": {},
   "outputs": [
    {
     "data": {
      "text/plain": [
       "array([0., 0., 0., ..., 1., 1., 1.])"
      ]
     },
     "execution_count": 9,
     "metadata": {},
     "output_type": "execute_result"
    }
   ],
   "source": [
    "series = (baselines.positiveIncrease / baselines.testIncrease).fillna(value=0).values\n",
    "series = np.where(np.isinf(series), 0, series)\n",
    "series"
   ]
  },
  {
   "cell_type": "code",
   "execution_count": 10,
   "metadata": {},
   "outputs": [],
   "source": [
    "baselines.loc[:, 'dailyPositiveTestRate'] = 100 * series"
   ]
  },
  {
   "cell_type": "markdown",
   "metadata": {},
   "source": [
    "<br>\n",
    "\n",
    "**Preview**"
   ]
  },
  {
   "cell_type": "code",
   "execution_count": 11,
   "metadata": {},
   "outputs": [
    {
     "name": "stderr",
     "output_type": "stream",
     "text": [
      "INFO:__main__:\n",
      "None\n"
     ]
    },
    {
     "name": "stdout",
     "output_type": "stream",
     "text": [
      "<class 'pandas.core.frame.DataFrame'>\n",
      "RangeIndex: 17576 entries, 0 to 17575\n",
      "Data columns (total 28 columns):\n",
      " #   Column                     Non-Null Count  Dtype         \n",
      "---  ------                     --------------  -----         \n",
      " 0   datetimeobject             17576 non-null  datetime64[ns]\n",
      " 1   STUSPS                     17576 non-null  object        \n",
      " 2   hospitalizedCurrently      17576 non-null  float64       \n",
      " 3   icuCurrently               17576 non-null  float64       \n",
      " 4   deathIncrease              17576 non-null  float64       \n",
      " 5   deathCumulative            17576 non-null  float64       \n",
      " 6   positiveIncrease           17576 non-null  float64       \n",
      " 7   positiveCumulative         17576 non-null  float64       \n",
      " 8   testIncrease               17576 non-null  float64       \n",
      " 9   testCumulative             17576 non-null  float64       \n",
      " 10  icuIncrease                17576 non-null  float64       \n",
      " 11  icuCumulative              17576 non-null  float64       \n",
      " 12  hospitalizedIncrease       17576 non-null  float64       \n",
      " 13  hospitalizedCumulative     17576 non-null  float64       \n",
      " 14  deathRate                  17576 non-null  float64       \n",
      " 15  positiveRate               17576 non-null  float64       \n",
      " 16  testRate                   17576 non-null  float64       \n",
      " 17  icuRate                    17576 non-null  float64       \n",
      " 18  hospitalizedRate           17576 non-null  float64       \n",
      " 19  deathIncreaseRate          17576 non-null  float64       \n",
      " 20  positiveIncreaseRate       17576 non-null  float64       \n",
      " 21  testIncreaseRate           17576 non-null  float64       \n",
      " 22  icuIncreaseRate            17576 non-null  float64       \n",
      " 23  hospitalizedIncreaseRate   17576 non-null  float64       \n",
      " 24  icuCurrentlyRate           17576 non-null  float64       \n",
      " 25  hospitalizedCurrentlyRate  17576 non-null  float64       \n",
      " 26  ndays                      17576 non-null  int64         \n",
      " 27  dailyPositiveTestRate      17576 non-null  float64       \n",
      "dtypes: datetime64[ns](1), float64(25), int64(1), object(1)\n",
      "memory usage: 3.8+ MB\n"
     ]
    }
   ],
   "source": [
    "logger.info('\\n{}'.format(baselines.info()))"
   ]
  },
  {
   "cell_type": "markdown",
   "metadata": {},
   "source": [
    "<br>\n",
    "\n",
    "**Periods, Places**\n",
    "\n",
    "* Case Hopkins: periods $\\rightarrow$ $\\small{array([3,  7,  9, 13, 15, 18, 21])}$"
   ]
  },
  {
   "cell_type": "code",
   "execution_count": 12,
   "metadata": {},
   "outputs": [
    {
     "data": {
      "text/plain": [
       "array([ 1,  3,  4,  5,  7,  8,  9, 13, 14, 15, 18, 19, 21, 23])"
      ]
     },
     "execution_count": 12,
     "metadata": {},
     "output_type": "execute_result"
    }
   ],
   "source": [
    "periods = np.concatenate((np.array([1]), np.arange(3, 6, 1), np.arange(7, 10, 1), np.arange(13, 16, 1), \n",
    "                          np.array([18]), np.arange(19, 24, 2)))\n",
    "periods"
   ]
  },
  {
   "cell_type": "code",
   "execution_count": 13,
   "metadata": {},
   "outputs": [
    {
     "data": {
      "text/plain": [
       "'STUSPS'"
      ]
     },
     "execution_count": 13,
     "metadata": {},
     "output_type": "execute_result"
    }
   ],
   "source": [
    "placestype = 'STUSPS'\n",
    "placestype"
   ]
  },
  {
   "cell_type": "code",
   "execution_count": 14,
   "metadata": {},
   "outputs": [
    {
     "data": {
      "text/plain": [
       "array(['AL', 'AK', 'AZ', 'AR', 'CA', 'CO', 'CT', 'DE', 'DC', 'FL', 'GA',\n",
       "       'HI', 'ID', 'IL', 'IN', 'IA', 'KS', 'KY', 'LA', 'ME', 'MD', 'MA',\n",
       "       'MI', 'MN', 'MS', 'MO', 'MT', 'NE', 'NV', 'NH', 'NJ', 'NM', 'NY',\n",
       "       'NC', 'ND', 'OH', 'OK', 'OR', 'PA', 'RI', 'SC', 'SD', 'TN', 'TX',\n",
       "       'UT', 'VT', 'VA', 'WA', 'WV', 'WI', 'WY', 'PR'], dtype=object)"
      ]
     },
     "execution_count": 14,
     "metadata": {},
     "output_type": "execute_result"
    }
   ],
   "source": [
    "places = baselines[placestype].unique()\n",
    "places"
   ]
  },
  {
   "cell_type": "markdown",
   "metadata": {},
   "source": [
    "<br>\n",
    "<br>\n",
    "\n",
    "## Positive Test Rate"
   ]
  },
  {
   "cell_type": "markdown",
   "metadata": {},
   "source": [
    "### Periodic"
   ]
  },
  {
   "cell_type": "markdown",
   "metadata": {},
   "source": [
    "<br>\n",
    "\n",
    "Foremost, the **Positive Test Rates** for varying periods are evaluated via\n",
    "\n",
    "$\\qquad \\qquad \\rho_{\\tau, \\Delta} = 100 * \\Large{ \\frac{P_{\\tau} - P_{\\tau - \\Delta}}{T_{\\tau} - T_{\\tau - \\Delta}} }$\n",
    "\n",
    "wherein\n",
    "\n",
    "<table style=\"width:45%; text-align: left; border: 0px solid black; float:left; margin-left: 60px\">\n",
    "    <tr>\n",
    "        <th style=\"width:20%\">Variable</th><th>Description</th> \n",
    "    </tr>\n",
    "    <tr>\n",
    "        <td>$\\tau$</td><td>date</td>\n",
    "    </tr>\n",
    "    <tr>\n",
    "        <td>$\\Delta$</td><td>days</td>\n",
    "    </tr>\n",
    "    <tr>\n",
    "        <td>$\\rho_{\\tau, \\Delta}$</td>\n",
    "        <td>The positive test rate on date $\\tau$ w.r.t. starting date $\\tau$ - $\\Delta$</td>\n",
    "    </tr>\n",
    "    <tr>\n",
    "      <td>$P_{\\tau}$</td><td>The cumulative number of positive cases by date $\\tau$.</td>\n",
    "    </tr>\n",
    "    <tr>\n",
    "      <td>$P_{\\tau - \\Delta}$</td>\n",
    "      <td>The cumulative number of positive cases by starting date $\\tau$ - $\\Delta$</td>\n",
    "    </tr>\n",
    "    <tr>\n",
    "      <td>$T_{\\tau}$</td><td>The cumulative number of tests by date $\\tau$.</td>\n",
    "    </tr>\n",
    "    <tr>\n",
    "      <td>$T_{\\tau - \\Delta}$</td><td>The cumulative number of tests by starting date $\\tau$ - $\\Delta$.</td>\n",
    "    </tr>\n",
    "</table>\n"
   ]
  },
  {
   "cell_type": "code",
   "execution_count": 15,
   "metadata": {},
   "outputs": [],
   "source": [
    "numerator = 'positiveCumulative'\n",
    "denominator = 'testCumulative'\n",
    "\n",
    "doublet = algorithms.misc.doublet.Doublet(blob=baselines, periods=periods, places=places, placestype=placestype)\n",
    "ptr = doublet.exc(numerator=numerator, denominator=denominator)\n",
    "ptr.rename(columns={'rates': 'positiveTestRate'}, inplace=True)"
   ]
  },
  {
   "cell_type": "markdown",
   "metadata": {},
   "source": [
    "<br>\n",
    "<br>\n",
    "\n",
    "The **Tests/Case** for varying periods is evaluated via\n",
    "\n",
    "$\\qquad \\qquad \\text{tpc}_{_{\\tau, \\Delta}} = \\Large{\\frac{100}{\\rho_{\\tau, \\Delta}}}$\n",
    "\n",
    "and, similar to previous definitions,\n",
    "\n",
    "<table style=\"width:45%; text-align: left; border: 0px solid black; float:left; margin-left: 60px\">\n",
    "    <tr>\n",
    "        <th style=\"width:20%\">Variable</th><th>Description</th> \n",
    "    </tr>\n",
    "    <tr>\n",
    "        <td>$\\tau$</td><td>date</td>\n",
    "    </tr>\n",
    "    <tr>\n",
    "        <td>$\\Delta$</td><td>days</td>\n",
    "    </tr>\n",
    "    <tr>\n",
    "        <td>$\\rho_{\\tau, \\Delta}$</td>\n",
    "        <td>The positive test rate on date $\\tau$ w.r.t. starting date $\\tau$ - $\\Delta$</td>\n",
    "    </tr>\n",
    "    <tr>\n",
    "      <td>$\\text{tpc}_{_{\\tau, \\Delta}}$</td><td>The tests per case value on date $\\tau$ w.r.t. starting date $\\tau$ - $\\Delta$.</td>\n",
    "    </tr>\n",
    "</table>\n",
    "\n",
    "\n"
   ]
  },
  {
   "cell_type": "code",
   "execution_count": 16,
   "metadata": {},
   "outputs": [],
   "source": [
    "ptr.loc[:, 'testsPerCase'] = np.where(ptr['positiveTestRate'] > 0, ptr['positiveTestRate'].rdiv(100), 0 )"
   ]
  },
  {
   "cell_type": "markdown",
   "metadata": {},
   "source": [
    "<br>\n",
    "<br>\n",
    "\n",
    "**Write**"
   ]
  },
  {
   "cell_type": "code",
   "execution_count": 17,
   "metadata": {},
   "outputs": [],
   "source": [
    "ptr.to_csv(path_or_buf=os.path.join(warehouse, 'ptrPeriodic.csv'), header=True, index=False, encoding='utf-8')"
   ]
  },
  {
   "cell_type": "code",
   "execution_count": 18,
   "metadata": {},
   "outputs": [
    {
     "name": "stderr",
     "output_type": "stream",
     "text": [
      "INFO:__main__:\n",
      "None\n"
     ]
    },
    {
     "name": "stdout",
     "output_type": "stream",
     "text": [
      "<class 'pandas.core.frame.DataFrame'>\n",
      "Int64Index: 238472 entries, 0 to 238471\n",
      "Data columns (total 5 columns):\n",
      " #   Column            Non-Null Count   Dtype         \n",
      "---  ------            --------------   -----         \n",
      " 0   datetimeobject    238472 non-null  datetime64[ns]\n",
      " 1   STUSPS            238472 non-null  object        \n",
      " 2   period            238472 non-null  object        \n",
      " 3   positiveTestRate  238472 non-null  float64       \n",
      " 4   testsPerCase      238472 non-null  float64       \n",
      "dtypes: datetime64[ns](1), float64(2), object(2)\n",
      "memory usage: 10.9+ MB\n"
     ]
    }
   ],
   "source": [
    "logger.info('\\n{}'.format(ptr.info()))"
   ]
  },
  {
   "cell_type": "markdown",
   "metadata": {},
   "source": [
    "<br>\n",
    "<br>\n",
    "\n",
    "### Running Medians Across Varying Days"
   ]
  },
  {
   "cell_type": "code",
   "execution_count": 19,
   "metadata": {},
   "outputs": [],
   "source": [
    "event = 'dailyPositiveTestRate'\n",
    "\n",
    "# Focus on\n",
    "base = baselines[['datetimeobject', 'STUSPS', event]].copy()\n",
    "\n",
    "# Pivot -> such that each field is a place, and each instance of a field is a date in time\n",
    "segment = base.pivot(index='datetimeobject', columns='STUSPS', values=event)\n",
    "\n",
    "# Quantiles\n",
    "quantiles = algorithms.base.quantiles.Quantiles(data=segment, places=places, placestype=placestype)\n",
    "matrix = quantiles.exc(periods=np.concatenate((np.array([1]), periods)), quantile=0.5, fieldname=(event + 'Median'))\n"
   ]
  },
  {
   "cell_type": "code",
   "execution_count": 20,
   "metadata": {},
   "outputs": [],
   "source": [
    "matrix.rename(columns={'dailyPositiveTestRateMedian': 'dailyPTRM'}, inplace=True)"
   ]
  },
  {
   "cell_type": "code",
   "execution_count": 21,
   "metadata": {},
   "outputs": [],
   "source": [
    "matrix.loc[:, 'dailyTPCM'] = np.where(matrix['dailyPTRM'] > 0, matrix['dailyPTRM'].rdiv(100), 0 )"
   ]
  },
  {
   "cell_type": "markdown",
   "metadata": {},
   "source": [
    "<br>\n",
    "\n",
    "**Write**"
   ]
  },
  {
   "cell_type": "code",
   "execution_count": 22,
   "metadata": {},
   "outputs": [],
   "source": [
    "matrix[['datetimeobject', 'STUSPS', 'period', 'dailyPTRM', 'dailyTPCM']\n",
    "      ].to_csv(path_or_buf=os.path.join(warehouse, 'ptrDaily.csv'), header=True, index=False, encoding='utf-8')"
   ]
  },
  {
   "cell_type": "code",
   "execution_count": 23,
   "metadata": {},
   "outputs": [
    {
     "name": "stderr",
     "output_type": "stream",
     "text": [
      "INFO:__main__:\n",
      "None\n"
     ]
    },
    {
     "name": "stdout",
     "output_type": "stream",
     "text": [
      "<class 'pandas.core.frame.DataFrame'>\n",
      "RangeIndex: 256048 entries, 0 to 256047\n",
      "Data columns (total 5 columns):\n",
      " #   Column          Non-Null Count   Dtype         \n",
      "---  ------          --------------   -----         \n",
      " 0   datetimeobject  256048 non-null  datetime64[ns]\n",
      " 1   STUSPS          256048 non-null  object        \n",
      " 2   dailyPTRM       256048 non-null  float64       \n",
      " 3   period          256048 non-null  object        \n",
      " 4   dailyTPCM       256048 non-null  float64       \n",
      "dtypes: datetime64[ns](1), float64(2), object(2)\n",
      "memory usage: 9.8+ MB\n"
     ]
    }
   ],
   "source": [
    "logger.info('\\n{}'.format(matrix.info()))"
   ]
  },
  {
   "cell_type": "markdown",
   "metadata": {},
   "source": [
    "<br>\n",
    "<br>\n",
    "\n",
    "## Observations/100K"
   ]
  },
  {
   "cell_type": "markdown",
   "metadata": {},
   "source": [
    "### Running Medians Across Varying Days"
   ]
  },
  {
   "cell_type": "markdown",
   "metadata": {},
   "source": [
    "For each `increase/100K` type\n",
    "\n",
    "$\\qquad \\qquad \\hat{\\mu}_{\\tau, \\Delta} = median(S_{\\tau - \\Delta}, \\; \\ldots, \\; S_{\\tau -1}, \\;  S_{\\tau})$\n",
    "\n",
    "wherein\n",
    "\n",
    "<table style=\"width:45%; text-align: left; border: 0px solid black; float:left; margin-left: 60px\">\n",
    "    <tr>\n",
    "        <th style=\"width:20%\">Variable</th><th>Description</th> \n",
    "    </tr>\n",
    "    <tr>\n",
    "        <td>$\\tau$</td><td>date</td>\n",
    "    </tr>\n",
    "    <tr>\n",
    "        <td>$\\Delta$</td><td>days</td>\n",
    "    </tr>\n",
    "    <tr>\n",
    "        <td>$\\hat{\\mu}_{\\tau, \\Delta}$</td>\n",
    "        <td>The median on date $\\tau$ starting $\\tau - \\Delta$ days ago</td>\n",
    "    </tr>\n",
    "    <tr>\n",
    "      <td>$S$</td><td>A series, e.g., $(deaths \\: increase)/100K$</td>\n",
    "    </tr>\n",
    "    <tr>\n",
    "      <td>$S_{\\tau}$</td>\n",
    "      <td>The series data value on date $\\tau$</td>\n",
    "    </tr>\n",
    "</table>\n",
    "\n",
    "<br>\n"
   ]
  },
  {
   "cell_type": "code",
   "execution_count": 24,
   "metadata": {},
   "outputs": [],
   "source": [
    "medians: pd.DataFrame = pd.DataFrame()\n",
    "\n",
    "for event in ['positiveIncreaseRate', 'testIncreaseRate', 'deathIncreaseRate', 'icuIncreaseRate', 'hospitalizedIncreaseRate']:\n",
    "\n",
    "    # Focus on\n",
    "    base = baselines[['datetimeobject', 'STUSPS', event]].copy()\n",
    "\n",
    "    # Pivot -> such that each field is a place, and each instance of a field is a date in time\n",
    "    segment = base.pivot(index='datetimeobject', columns='STUSPS', values=event)\n",
    "\n",
    "    # Quantiles\n",
    "    quantiles = algorithms.base.quantiles.Quantiles(data=segment, places=places, placestype=placestype)\n",
    "    values = quantiles.exc(periods=periods, quantile=0.5, fieldname=(event + 'Median'))\n",
    "\n",
    "    # Structuring\n",
    "    if medians.empty:\n",
    "        medians = values\n",
    "    else:\n",
    "        medians = medians.merge(values, how='inner', on=['datetimeobject', 'STUSPS', 'period'])\n"
   ]
  },
  {
   "cell_type": "code",
   "execution_count": 25,
   "metadata": {},
   "outputs": [],
   "source": [
    "names = {i: i.replace('IncreaseRateMedian', 'IRM') for i in \n",
    "         ['positiveIncreaseRateMedian', 'testIncreaseRateMedian', 'deathIncreaseRateMedian', \n",
    "          'icuIncreaseRateMedian', 'hospitalizedIncreaseRateMedian']}\n",
    "\n",
    "medians.rename(columns=names, inplace=True)\n",
    "\n",
    "medians = medians[['datetimeobject', 'STUSPS', 'period', 'positiveIRM', 'testIRM', 'deathIRM', 'icuIRM', 'hospitalizedIRM']]"
   ]
  },
  {
   "cell_type": "markdown",
   "metadata": {},
   "source": [
    "<br>\n",
    "<br>\n",
    "\n",
    "**Write**"
   ]
  },
  {
   "cell_type": "code",
   "execution_count": 26,
   "metadata": {},
   "outputs": [],
   "source": [
    "medians.to_csv(path_or_buf=os.path.join(warehouse, 'medians.csv'), header=True, index=False, encoding='utf-8')"
   ]
  },
  {
   "cell_type": "code",
   "execution_count": 27,
   "metadata": {},
   "outputs": [
    {
     "name": "stderr",
     "output_type": "stream",
     "text": [
      "INFO:__main__:\n",
      "None\n"
     ]
    },
    {
     "name": "stdout",
     "output_type": "stream",
     "text": [
      "<class 'pandas.core.frame.DataFrame'>\n",
      "Int64Index: 238472 entries, 0 to 238471\n",
      "Data columns (total 8 columns):\n",
      " #   Column           Non-Null Count   Dtype         \n",
      "---  ------           --------------   -----         \n",
      " 0   datetimeobject   238472 non-null  datetime64[ns]\n",
      " 1   STUSPS           238472 non-null  object        \n",
      " 2   period           238472 non-null  object        \n",
      " 3   positiveIRM      238472 non-null  float64       \n",
      " 4   testIRM          238472 non-null  float64       \n",
      " 5   deathIRM         238472 non-null  float64       \n",
      " 6   icuIRM           238472 non-null  float64       \n",
      " 7   hospitalizedIRM  238472 non-null  float64       \n",
      "dtypes: datetime64[ns](1), float64(5), object(2)\n",
      "memory usage: 16.4+ MB\n"
     ]
    }
   ],
   "source": [
    "logger.info('\\n{}'.format(medians.info()))"
   ]
  },
  {
   "cell_type": "markdown",
   "metadata": {},
   "source": [
    "<br>\n",
    "<br>\n",
    "\n",
    "### Running Percentage Change w.r.t Time Periods"
   ]
  },
  {
   "cell_type": "markdown",
   "metadata": {},
   "source": [
    "The **running percentage change** w.r.t. defined **periods** for each cumulative [observations per 100K] value type is\n",
    "\n",
    "\n",
    "$\\qquad \\qquad \\text{pc}_{\\tau, \\Delta} = 100 * \\Large{ \\frac{C_{\\tau} \\; - \\; C_{\\tau - \\Delta}}{C_{\\tau - \\Delta}} }$\n",
    "\n",
    "wherein\n",
    "\n",
    "<table style=\"width:45%; text-align: left; border: 0px solid black; float:left; margin-left: 60px\">\n",
    "    <tr>\n",
    "        <th style=\"width:20%\">Variable</th><th>Description</th> \n",
    "    </tr>\n",
    "    <tr>\n",
    "        <td>$\\tau$</td><td>date</td>\n",
    "    </tr>\n",
    "    <tr>\n",
    "        <td>$\\Delta$</td><td>days</td>\n",
    "    </tr>\n",
    "    <tr>\n",
    "        <td>$\\text{pc}_{\\tau, \\Delta}$</td>\n",
    "        <td>The percentage change on date $\\tau$ w.r.t. initial date $\\tau$ - $\\Delta$</td>\n",
    "    </tr>\n",
    "    <tr>\n",
    "      <td>$C_{\\tau}$</td><td>The cumulative value on date $\\tau$.</td>\n",
    "    </tr>\n",
    "    <tr>\n",
    "      <td>$C_{\\tau - \\Delta}$</td>\n",
    "      <td>The cumulative value on initial date $\\tau$ - $\\Delta$.</td>\n",
    "    </tr>\n",
    "</table>\n",
    "\n",
    "<br>\n"
   ]
  },
  {
   "cell_type": "code",
   "execution_count": 28,
   "metadata": {},
   "outputs": [],
   "source": [
    "percentages = pd.DataFrame()\n",
    "\n",
    "for event in ['deathRate', 'positiveRate', 'testRate', 'icuRate', 'hospitalizedRate', 'hospitalizedCurrentlyRate']:\n",
    "\n",
    "    # Focus on\n",
    "    base = baselines[['datetimeobject', 'STUSPS', event]]\n",
    "        \n",
    "    # Pivot -> such that each field is a place, and each instance of a field is a date in time\n",
    "    segment = base.pivot(index='datetimeobject', columns='STUSPS', values=event)\n",
    "\n",
    "    # The percentage differences\n",
    "    delta = algorithms.base.delta.Delta(data=segment, places=places, placestype=placestype)\n",
    "    dataset = delta.exc(periods=periods, fieldname=(event + 'Delta'))\n",
    "        \n",
    "        \n",
    "    # Include the variable the delta calculations are based on\n",
    "    dataset = dataset.merge(base, how='left', on=['datetimeobject', 'STUSPS'])\n",
    "\n",
    "\n",
    "    if percentages.empty:\n",
    "        percentages = dataset\n",
    "    else:\n",
    "        percentages = percentages.merge(dataset, how='inner', on=['datetimeobject', 'STUSPS', 'period'])\n"
   ]
  },
  {
   "cell_type": "code",
   "execution_count": 29,
   "metadata": {},
   "outputs": [],
   "source": [
    "percentages = percentages[['datetimeobject', 'STUSPS', 'period', 'deathRateDelta', 'deathRate', \n",
    "                           'positiveRateDelta', 'positiveRate', 'testRateDelta', 'testRate',\n",
    "                            'icuRateDelta', 'icuRate', 'hospitalizedRateDelta', 'hospitalizedRate',\n",
    "                          'hospitalizedCurrentlyRateDelta', 'hospitalizedCurrentlyRate']]"
   ]
  },
  {
   "cell_type": "markdown",
   "metadata": {},
   "source": [
    "<br>\n",
    "<br>\n",
    "\n",
    "**Write**"
   ]
  },
  {
   "cell_type": "code",
   "execution_count": 30,
   "metadata": {},
   "outputs": [],
   "source": [
    "percentages.to_csv(path_or_buf=os.path.join(warehouse, 'percentages.csv'), header=True, index=False, encoding='utf-8')"
   ]
  },
  {
   "cell_type": "code",
   "execution_count": 31,
   "metadata": {},
   "outputs": [
    {
     "name": "stderr",
     "output_type": "stream",
     "text": [
      "INFO:__main__:\n",
      "None\n",
      "\n"
     ]
    },
    {
     "name": "stdout",
     "output_type": "stream",
     "text": [
      "<class 'pandas.core.frame.DataFrame'>\n",
      "Int64Index: 238472 entries, 0 to 238471\n",
      "Data columns (total 15 columns):\n",
      " #   Column                          Non-Null Count   Dtype         \n",
      "---  ------                          --------------   -----         \n",
      " 0   datetimeobject                  238472 non-null  datetime64[ns]\n",
      " 1   STUSPS                          238472 non-null  object        \n",
      " 2   period                          238472 non-null  object        \n",
      " 3   deathRateDelta                  238472 non-null  float64       \n",
      " 4   deathRate                       238472 non-null  float64       \n",
      " 5   positiveRateDelta               238472 non-null  float64       \n",
      " 6   positiveRate                    238472 non-null  float64       \n",
      " 7   testRateDelta                   238472 non-null  float64       \n",
      " 8   testRate                        238472 non-null  float64       \n",
      " 9   icuRateDelta                    238472 non-null  float64       \n",
      " 10  icuRate                         238472 non-null  float64       \n",
      " 11  hospitalizedRateDelta           238472 non-null  float64       \n",
      " 12  hospitalizedRate                238472 non-null  float64       \n",
      " 13  hospitalizedCurrentlyRateDelta  238472 non-null  float64       \n",
      " 14  hospitalizedCurrentlyRate       238472 non-null  float64       \n",
      "dtypes: datetime64[ns](1), float64(12), object(2)\n",
      "memory usage: 29.1+ MB\n"
     ]
    }
   ],
   "source": [
    "logger.info('\\n{}\\n'.format(percentages.info()))"
   ]
  },
  {
   "cell_type": "markdown",
   "metadata": {},
   "source": [
    "<br>\n",
    "\n",
    "## Clean-up"
   ]
  },
  {
   "cell_type": "code",
   "execution_count": 32,
   "metadata": {},
   "outputs": [],
   "source": [
    "!rm -rf *.log\n",
    "!rm -rf *.pdf"
   ]
  },
  {
   "cell_type": "markdown",
   "metadata": {},
   "source": [
    "<br>\n",
    "<br>\n",
    "\n",
    "## End"
   ]
  },
  {
   "cell_type": "code",
   "execution_count": 33,
   "metadata": {},
   "outputs": [
    {
     "name": "stdout",
     "output_type": "stream",
     "text": [
      "2021-02-10 17:36:54\n"
     ]
    }
   ],
   "source": [
    "%%bash\n",
    "\n",
    "date +\"%Y-%m-%d %T\""
   ]
  }
 ],
 "metadata": {
  "kernelspec": {
   "display_name": "Python 3",
   "language": "python",
   "name": "python3"
  },
  "language_info": {
   "codemirror_mode": {
    "name": "ipython",
    "version": 3
   },
   "file_extension": ".py",
   "mimetype": "text/x-python",
   "name": "python",
   "nbconvert_exporter": "python",
   "pygments_lexer": "ipython3",
   "version": "3.7.7"
  }
 },
 "nbformat": 4,
 "nbformat_minor": 4
}
