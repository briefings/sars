{
 "cells": [
  {
   "cell_type": "markdown",
   "metadata": {},
   "source": [
    "**In Progress.**  This notebook is focused on continous-time COVID-19 trends calculations.  The calculations feed interactive data products that states, counties, or federal entities can use ...\n",
    "\n",
    "<br>"
   ]
  },
  {
   "cell_type": "markdown",
   "metadata": {},
   "source": [
    "## Preliminaries"
   ]
  },
  {
   "cell_type": "code",
   "execution_count": 1,
   "metadata": {},
   "outputs": [],
   "source": [
    "!rm -rf *.log\n",
    "!rm -rf *.pdf"
   ]
  },
  {
   "cell_type": "markdown",
   "metadata": {},
   "source": [
    "<br>\n",
    "\n",
    "### Libraries"
   ]
  },
  {
   "cell_type": "code",
   "execution_count": 2,
   "metadata": {},
   "outputs": [],
   "source": [
    "import pandas as pd\n",
    "import numpy as np\n",
    "\n",
    "import logging\n",
    "\n",
    "import os\n",
    "import pathlib\n",
    "import sys\n",
    "\n",
    "import zipfile\n",
    "import requests\n",
    "import io"
   ]
  },
  {
   "cell_type": "markdown",
   "metadata": {},
   "source": [
    "<br>\n",
    "\n",
    "### Paths"
   ]
  },
  {
   "cell_type": "code",
   "execution_count": 3,
   "metadata": {},
   "outputs": [],
   "source": [
    "child = os.getcwd()\n",
    "parent = str(pathlib.Path(child).parent)"
   ]
  },
  {
   "cell_type": "code",
   "execution_count": 4,
   "metadata": {},
   "outputs": [],
   "source": [
    "root = os.path.join(child, 'warehouse')\n",
    "warehouse = os.path.join(root, 'trends')"
   ]
  },
  {
   "cell_type": "markdown",
   "metadata": {},
   "source": [
    "<br>\n",
    "\n",
    "Appending paths"
   ]
  },
  {
   "cell_type": "code",
   "execution_count": 5,
   "metadata": {},
   "outputs": [],
   "source": [
    "sys.path.append(parent)"
   ]
  },
  {
   "cell_type": "markdown",
   "metadata": {},
   "source": [
    "<br>\n",
    "\n",
    "### Logging"
   ]
  },
  {
   "cell_type": "code",
   "execution_count": 6,
   "metadata": {},
   "outputs": [],
   "source": [
    "logging.basicConfig(level=logging.INFO)\n",
    "logger = logging.getLogger(__name__)"
   ]
  },
  {
   "cell_type": "markdown",
   "metadata": {},
   "source": [
    "<br>\n",
    "\n",
    "### Custom Classes"
   ]
  },
  {
   "cell_type": "markdown",
   "metadata": {},
   "source": [
    "<br>\n",
    "\n",
    "Import"
   ]
  },
  {
   "cell_type": "code",
   "execution_count": 7,
   "metadata": {},
   "outputs": [],
   "source": [
    "import algorithms.base.delta\n",
    "import algorithms.base.differences\n",
    "import algorithms.base.quantiles\n",
    "import algorithms.misc.doublet\n",
    "\n",
    "import atlantic.base.directories"
   ]
  },
  {
   "cell_type": "markdown",
   "metadata": {},
   "source": [
    "<br>\n",
    "\n",
    "Set-up directories"
   ]
  },
  {
   "cell_type": "code",
   "execution_count": 8,
   "metadata": {},
   "outputs": [],
   "source": [
    "directories = atlantic.base.directories.Directories()\n",
    "directories.cleanup(listof=[warehouse])\n",
    "directories.create(listof=[warehouse])"
   ]
  },
  {
   "cell_type": "markdown",
   "metadata": {},
   "source": [
    "<br>\n",
    "<br>\n",
    "\n",
    "## Measures & Metrics"
   ]
  },
  {
   "cell_type": "markdown",
   "metadata": {},
   "source": [
    "### The Data"
   ]
  },
  {
   "cell_type": "code",
   "execution_count": 9,
   "metadata": {},
   "outputs": [],
   "source": [
    "datauri = os.path.join(parent, 'warehouse', 'baselines.csv')\n",
    "\n",
    "parse_dates = ['datetimeobject']\n",
    "baselines = pd.read_csv(filepath_or_buffer=datauri, header=0, encoding='utf-8', parse_dates=parse_dates)"
   ]
  },
  {
   "cell_type": "markdown",
   "metadata": {},
   "source": [
    "<br>\n",
    "\n",
    "**Daily Positive Test Rate**"
   ]
  },
  {
   "cell_type": "code",
   "execution_count": 10,
   "metadata": {},
   "outputs": [
    {
     "data": {
      "text/plain": [
       "array([0., 0., 0., ..., 1., 1., 1.])"
      ]
     },
     "execution_count": 10,
     "metadata": {},
     "output_type": "execute_result"
    }
   ],
   "source": [
    "series = (baselines.positiveIncrease / baselines.testIncrease).fillna(value=0).values\n",
    "series = np.where(np.isinf(series), 0, series)\n",
    "series"
   ]
  },
  {
   "cell_type": "code",
   "execution_count": 11,
   "metadata": {},
   "outputs": [],
   "source": [
    "baselines.loc[:, 'dailyPositiveTestRate'] = 100 * series"
   ]
  },
  {
   "cell_type": "markdown",
   "metadata": {},
   "source": [
    "<br>\n",
    "\n",
    "**Preview**"
   ]
  },
  {
   "cell_type": "code",
   "execution_count": 12,
   "metadata": {},
   "outputs": [
    {
     "name": "stderr",
     "output_type": "stream",
     "text": [
      "INFO:__main__:\n",
      "None\n"
     ]
    },
    {
     "name": "stdout",
     "output_type": "stream",
     "text": [
      "<class 'pandas.core.frame.DataFrame'>\n",
      "RangeIndex: 13156 entries, 0 to 13155\n",
      "Data columns (total 24 columns):\n",
      " #   Column                    Non-Null Count  Dtype         \n",
      "---  ------                    --------------  -----         \n",
      " 0   datetimeobject            13156 non-null  datetime64[ns]\n",
      " 1   STUSPS                    13156 non-null  object        \n",
      " 2   deathIncrease             13156 non-null  float64       \n",
      " 3   deathCumulative           13156 non-null  float64       \n",
      " 4   positiveIncrease          13156 non-null  float64       \n",
      " 5   positiveCumulative        13156 non-null  float64       \n",
      " 6   icuIncrease               13156 non-null  float64       \n",
      " 7   icuCumulative             13156 non-null  float64       \n",
      " 8   hospitalizedIncrease      13156 non-null  float64       \n",
      " 9   hospitalizedCumulative    13156 non-null  float64       \n",
      " 10  testIncrease              13156 non-null  float64       \n",
      " 11  testCumulative            13156 non-null  float64       \n",
      " 12  deathRate                 13156 non-null  float64       \n",
      " 13  positiveRate              13156 non-null  float64       \n",
      " 14  testRate                  13156 non-null  float64       \n",
      " 15  icuRate                   13156 non-null  float64       \n",
      " 16  hospitalizedRate          13156 non-null  float64       \n",
      " 17  deathIncreaseRate         13156 non-null  float64       \n",
      " 18  positiveIncreaseRate      13156 non-null  float64       \n",
      " 19  testIncreaseRate          13156 non-null  float64       \n",
      " 20  icuIncreaseRate           13156 non-null  float64       \n",
      " 21  hospitalizedIncreaseRate  13156 non-null  float64       \n",
      " 22  ndays                     13156 non-null  int64         \n",
      " 23  dailyPositiveTestRate     13156 non-null  float64       \n",
      "dtypes: datetime64[ns](1), float64(21), int64(1), object(1)\n",
      "memory usage: 2.4+ MB\n"
     ]
    }
   ],
   "source": [
    "logger.info('\\n{}'.format(baselines.info()))"
   ]
  },
  {
   "cell_type": "markdown",
   "metadata": {},
   "source": [
    "<br>\n",
    "\n",
    "**Periods, Places**\n",
    "\n",
    "* Case Hopkins: periods $\\rightarrow$ $\\small{array([3, 4, 5, 7, 8, 9, 13, 14, 15, 18, 21])}$"
   ]
  },
  {
   "cell_type": "code",
   "execution_count": 13,
   "metadata": {},
   "outputs": [
    {
     "data": {
      "text/plain": [
       "array([ 3,  4,  5,  7,  8,  9, 13, 14, 15, 18, 19, 20, 21, 22, 23])"
      ]
     },
     "execution_count": 13,
     "metadata": {},
     "output_type": "execute_result"
    }
   ],
   "source": [
    "periods = np.concatenate((np.arange(3, 6, 1), np.arange(7, 10, 1), np.arange(13, 16, 1), np.arange(18, 24)))\n",
    "periods"
   ]
  },
  {
   "cell_type": "code",
   "execution_count": 14,
   "metadata": {},
   "outputs": [
    {
     "data": {
      "text/plain": [
       "'STUSPS'"
      ]
     },
     "execution_count": 14,
     "metadata": {},
     "output_type": "execute_result"
    }
   ],
   "source": [
    "placestype = 'STUSPS'\n",
    "placestype"
   ]
  },
  {
   "cell_type": "code",
   "execution_count": 15,
   "metadata": {},
   "outputs": [
    {
     "data": {
      "text/plain": [
       "array(['AL', 'AK', 'AZ', 'AR', 'CA', 'CO', 'CT', 'DE', 'DC', 'FL', 'GA',\n",
       "       'HI', 'ID', 'IL', 'IN', 'IA', 'KS', 'KY', 'LA', 'ME', 'MD', 'MA',\n",
       "       'MI', 'MN', 'MS', 'MO', 'MT', 'NE', 'NV', 'NH', 'NJ', 'NM', 'NY',\n",
       "       'NC', 'ND', 'OH', 'OK', 'OR', 'PA', 'RI', 'SC', 'SD', 'TN', 'TX',\n",
       "       'UT', 'VT', 'VA', 'WA', 'WV', 'WI', 'WY', 'PR'], dtype=object)"
      ]
     },
     "execution_count": 15,
     "metadata": {},
     "output_type": "execute_result"
    }
   ],
   "source": [
    "places = baselines[placestype].unique()\n",
    "places"
   ]
  },
  {
   "cell_type": "markdown",
   "metadata": {},
   "source": [
    "<br>\n",
    "<br>\n",
    "\n",
    "### Positive Test Rate: Periodic"
   ]
  },
  {
   "cell_type": "markdown",
   "metadata": {},
   "source": [
    "<br>\n",
    "\n",
    "Foremost, the **Positive Test Rates** for varying periods are evaluated via\n",
    "\n",
    "$\\qquad \\qquad \\rho_{\\tau, \\Delta} = 100 * \\Large{ \\frac{P_{\\tau} - P_{\\tau - \\Delta + 1}}{T_{\\tau} - T_{\\tau - \\Delta + 1}} }$\n",
    "\n",
    "wherein\n",
    "\n",
    "<table style=\"width:45%; text-align: left; border: 0px solid black; float:left; margin-left: 60px\">\n",
    "    <tr>\n",
    "        <th style=\"width:20%\">Variable</th><th>Description</th> \n",
    "    </tr>\n",
    "    <tr>\n",
    "        <td>$\\tau$</td><td>date</td>\n",
    "    </tr>\n",
    "    <tr>\n",
    "        <td>$\\Delta$</td><td>days</td>\n",
    "    </tr>\n",
    "    <tr>\n",
    "        <td>$\\rho_{\\tau, \\Delta}$</td>\n",
    "        <td>The positive test rate on date $\\tau$ w.r.t. starting date $\\tau$ - ($\\Delta$ - 1)</td>\n",
    "    </tr>\n",
    "    <tr>\n",
    "      <td>$P_{\\tau}$</td><td>The cumulative number of positive cases by date $\\tau$.</td>\n",
    "    </tr>\n",
    "    <tr>\n",
    "      <td>$P_{\\tau - \\Delta + 1}$</td>\n",
    "      <td>The cumulative number of positive cases by starting date $\\tau$ - ($\\Delta$ - 1)</td>\n",
    "    </tr>\n",
    "    <tr>\n",
    "      <td>$T_{\\tau}$</td><td>The cumulative number of tests by date $\\tau$.</td>\n",
    "    </tr>\n",
    "    <tr>\n",
    "      <td>$T_{\\tau - \\Delta + 1}$</td><td>The cumulative number of tests by starting date $\\tau$ - ($\\Delta$ - 1).</td>\n",
    "    </tr>\n",
    "</table>\n"
   ]
  },
  {
   "cell_type": "code",
   "execution_count": 16,
   "metadata": {},
   "outputs": [],
   "source": [
    "numerator = 'positiveCumulative'\n",
    "denominator = 'testCumulative'\n",
    "\n",
    "doublet = algorithms.misc.doublet.Doublet(blob=baselines, periods=periods, places=places, placestype=placestype)\n",
    "ptr = doublet.exc(numerator=numerator, denominator=denominator)\n",
    "ptr.rename(columns={'rates': 'positiveTestRate'}, inplace=True)"
   ]
  },
  {
   "cell_type": "markdown",
   "metadata": {},
   "source": [
    "<br>\n",
    "<br>\n",
    "\n",
    "The **Tests/Case** for varying periods is evaluated via\n",
    "\n",
    "$\\qquad \\qquad \\text{tpc}_{_{\\tau, \\Delta}} = \\Large{\\frac{100}{\\rho_{\\tau, \\Delta}}}$\n",
    "\n",
    "and, similar to previous definitions,\n",
    "\n",
    "<table style=\"width:45%; text-align: left; border: 0px solid black; float:left; margin-left: 60px\">\n",
    "    <tr>\n",
    "        <th style=\"width:20%\">Variable</th><th>Description</th> \n",
    "    </tr>\n",
    "    <tr>\n",
    "        <td>$\\tau$</td><td>date</td>\n",
    "    </tr>\n",
    "    <tr>\n",
    "        <td>$\\Delta$</td><td>days</td>\n",
    "    </tr>\n",
    "    <tr>\n",
    "        <td>$\\rho_{\\tau, \\Delta}$</td>\n",
    "        <td>The positive test rate on date $\\tau$ w.r.t. starting date $\\tau$ - ($\\Delta$ - 1)</td>\n",
    "    </tr>\n",
    "    <tr>\n",
    "      <td>$\\text{tpc}_{_{\\tau, \\Delta}}$</td><td>The tests per case value on date $\\tau$ w.r.t. starting date $\\tau$ - ($\\Delta$ - 1).</td>\n",
    "    </tr>\n",
    "</table>\n",
    "\n",
    "\n"
   ]
  },
  {
   "cell_type": "code",
   "execution_count": 17,
   "metadata": {},
   "outputs": [],
   "source": [
    "ptr.loc[:, 'testsPerCase'] = np.where(ptr['positiveTestRate'] > 0, ptr['positiveTestRate'].rdiv(100), 0 )"
   ]
  },
  {
   "cell_type": "markdown",
   "metadata": {},
   "source": [
    "<br>\n",
    "<br>\n",
    "\n",
    "**Write**"
   ]
  },
  {
   "cell_type": "code",
   "execution_count": 18,
   "metadata": {},
   "outputs": [],
   "source": [
    "ptr.to_csv(path_or_buf=os.path.join(warehouse, 'ptrPeriodic.csv'), header=True, index=False, encoding='utf-8')"
   ]
  },
  {
   "cell_type": "code",
   "execution_count": 19,
   "metadata": {},
   "outputs": [
    {
     "name": "stderr",
     "output_type": "stream",
     "text": [
      "INFO:__main__:\n",
      "None\n"
     ]
    },
    {
     "name": "stdout",
     "output_type": "stream",
     "text": [
      "<class 'pandas.core.frame.DataFrame'>\n",
      "Int64Index: 187668 entries, 0 to 187667\n",
      "Data columns (total 5 columns):\n",
      " #   Column            Non-Null Count   Dtype         \n",
      "---  ------            --------------   -----         \n",
      " 0   datetimeobject    187668 non-null  datetime64[ns]\n",
      " 1   STUSPS            187668 non-null  object        \n",
      " 2   period            187668 non-null  object        \n",
      " 3   positiveTestRate  187668 non-null  float64       \n",
      " 4   testsPerCase      187668 non-null  float64       \n",
      "dtypes: datetime64[ns](1), float64(2), object(2)\n",
      "memory usage: 8.6+ MB\n"
     ]
    }
   ],
   "source": [
    "logger.info('\\n{}'.format(ptr.info()))"
   ]
  },
  {
   "cell_type": "markdown",
   "metadata": {},
   "source": [
    "<br>\n",
    "<br>\n",
    "\n",
    "### Positive Test Rate: Running Medians Across Varying Days"
   ]
  },
  {
   "cell_type": "code",
   "execution_count": 20,
   "metadata": {},
   "outputs": [],
   "source": [
    "event = 'dailyPositiveTestRate'\n",
    "\n",
    "# Focus on\n",
    "base = baselines[['datetimeobject', 'STUSPS', event]].copy()\n",
    "\n",
    "# Pivot -> such that each field is a place, and each instance of a field is a date in time\n",
    "segment = base.pivot(index='datetimeobject', columns='STUSPS', values=event)\n",
    "\n",
    "# Quantiles\n",
    "quantiles = algorithms.base.quantiles.Quantiles(data=segment, places=places, placestype=placestype)\n",
    "matrix = quantiles.exc(periods=np.concatenate((np.array([1]), periods)), quantile=0.5, fieldname=(event + 'Median'))\n"
   ]
  },
  {
   "cell_type": "code",
   "execution_count": 21,
   "metadata": {},
   "outputs": [],
   "source": [
    "matrix.rename(columns={'dailyPositiveTestRateMedian': 'dailyPTRM'}, inplace=True)"
   ]
  },
  {
   "cell_type": "code",
   "execution_count": 22,
   "metadata": {},
   "outputs": [],
   "source": [
    "matrix.loc[:, 'dailyTPCM'] = np.where(matrix['dailyPTRM'] > 0, matrix['dailyPTRM'].rdiv(100), 0 )"
   ]
  },
  {
   "cell_type": "markdown",
   "metadata": {},
   "source": [
    "<br>\n",
    "\n",
    "**Write**"
   ]
  },
  {
   "cell_type": "code",
   "execution_count": 23,
   "metadata": {},
   "outputs": [],
   "source": [
    "matrix[['datetimeobject', 'STUSPS', 'period', 'dailyPTRM', 'dailyTPCM']\n",
    "      ].to_csv(path_or_buf=os.path.join(warehouse, 'ptrDaily.csv'), header=True, index=False, encoding='utf-8')"
   ]
  },
  {
   "cell_type": "code",
   "execution_count": 24,
   "metadata": {},
   "outputs": [
    {
     "name": "stderr",
     "output_type": "stream",
     "text": [
      "INFO:__main__:\n",
      "None\n"
     ]
    },
    {
     "name": "stdout",
     "output_type": "stream",
     "text": [
      "<class 'pandas.core.frame.DataFrame'>\n",
      "RangeIndex: 200824 entries, 0 to 200823\n",
      "Data columns (total 5 columns):\n",
      " #   Column          Non-Null Count   Dtype         \n",
      "---  ------          --------------   -----         \n",
      " 0   datetimeobject  200824 non-null  datetime64[ns]\n",
      " 1   STUSPS          200824 non-null  object        \n",
      " 2   dailyPTRM       200824 non-null  float64       \n",
      " 3   period          200824 non-null  object        \n",
      " 4   dailyTPCM       200824 non-null  float64       \n",
      "dtypes: datetime64[ns](1), float64(2), object(2)\n",
      "memory usage: 7.7+ MB\n"
     ]
    }
   ],
   "source": [
    "logger.info('\\n{}'.format(matrix.info()))"
   ]
  },
  {
   "cell_type": "markdown",
   "metadata": {},
   "source": [
    "<br>\n",
    "<br>\n",
    "\n",
    "### $inc./100K$: Running Medians Across Varying Days"
   ]
  },
  {
   "cell_type": "markdown",
   "metadata": {},
   "source": [
    "For each `increase/100K` type\n",
    "\n",
    "$\\qquad \\qquad \\hat{\\mu}_{\\tau, \\Delta} = median(S_{\\tau - \\Delta + 1}, \\; \\ldots, \\; S_{\\tau -1}, \\;  S_{\\tau})$\n",
    "\n",
    "wherein\n",
    "\n",
    "<table style=\"width:45%; text-align: left; border: 0px solid black; float:left; margin-left: 60px\">\n",
    "    <tr>\n",
    "        <th style=\"width:20%\">Variable</th><th>Description</th> \n",
    "    </tr>\n",
    "    <tr>\n",
    "        <td>$\\tau$</td><td>date</td>\n",
    "    </tr>\n",
    "    <tr>\n",
    "        <td>$\\Delta$</td><td>days</td>\n",
    "    </tr>\n",
    "    <tr>\n",
    "        <td>$\\hat{\\mu}_{\\tau, \\Delta}$</td>\n",
    "        <td>The median on date $\\tau$ w.r.t. the $\\Delta$ days ending on date $\\tau$</td>\n",
    "    </tr>\n",
    "    <tr>\n",
    "      <td>$S$</td><td>A series, e.g., $(deaths \\: increase)/100K$</td>\n",
    "    </tr>\n",
    "    <tr>\n",
    "      <td>$S_{\\tau}$</td>\n",
    "      <td>The series data value on date $\\tau$</td>\n",
    "    </tr>\n",
    "</table>\n",
    "\n",
    "<br>\n"
   ]
  },
  {
   "cell_type": "code",
   "execution_count": 25,
   "metadata": {},
   "outputs": [],
   "source": [
    "medians: pd.DataFrame = pd.DataFrame()\n",
    "\n",
    "for event in ['positiveIncreaseRate', 'testIncreaseRate', 'deathIncreaseRate', 'icuIncreaseRate', 'hospitalizedIncreaseRate']:\n",
    "\n",
    "    # Focus on\n",
    "    base = baselines[['datetimeobject', 'STUSPS', event]].copy()\n",
    "\n",
    "    # Pivot -> such that each field is a place, and each instance of a field is a date in time\n",
    "    segment = base.pivot(index='datetimeobject', columns='STUSPS', values=event)\n",
    "\n",
    "    # Quantiles\n",
    "    quantiles = algorithms.base.quantiles.Quantiles(data=segment, places=places, placestype=placestype)\n",
    "    values = quantiles.exc(periods=periods, quantile=0.5, fieldname=(event + 'Median'))\n",
    "\n",
    "    # Structuring\n",
    "    if medians.empty:\n",
    "        medians = values\n",
    "    else:\n",
    "        medians = medians.merge(values, how='inner', on=['datetimeobject', 'STUSPS', 'period'])\n"
   ]
  },
  {
   "cell_type": "code",
   "execution_count": 26,
   "metadata": {},
   "outputs": [],
   "source": [
    "names = {i: i.replace('IncreaseRateMedian', 'IRM') for i in \n",
    "         ['positiveIncreaseRateMedian', 'testIncreaseRateMedian', 'deathIncreaseRateMedian', \n",
    "          'icuIncreaseRateMedian', 'hospitalizedIncreaseRateMedian']}\n",
    "\n",
    "medians.rename(columns=names, inplace=True)\n",
    "\n",
    "medians = medians[['datetimeobject', 'STUSPS', 'period', 'positiveIRM', 'testIRM', 'deathIRM', 'icuIRM', 'hospitalizedIRM']]"
   ]
  },
  {
   "cell_type": "markdown",
   "metadata": {},
   "source": [
    "<br>\n",
    "<br>\n",
    "\n",
    "**Write**"
   ]
  },
  {
   "cell_type": "code",
   "execution_count": 27,
   "metadata": {},
   "outputs": [],
   "source": [
    "medians.to_csv(path_or_buf=os.path.join(warehouse, 'medians.csv'), header=True, index=False, encoding='utf-8')"
   ]
  },
  {
   "cell_type": "code",
   "execution_count": 28,
   "metadata": {},
   "outputs": [
    {
     "name": "stderr",
     "output_type": "stream",
     "text": [
      "INFO:__main__:\n",
      "None\n"
     ]
    },
    {
     "name": "stdout",
     "output_type": "stream",
     "text": [
      "<class 'pandas.core.frame.DataFrame'>\n",
      "Int64Index: 187668 entries, 0 to 187667\n",
      "Data columns (total 8 columns):\n",
      " #   Column           Non-Null Count   Dtype         \n",
      "---  ------           --------------   -----         \n",
      " 0   datetimeobject   187668 non-null  datetime64[ns]\n",
      " 1   STUSPS           187668 non-null  object        \n",
      " 2   period           187668 non-null  object        \n",
      " 3   positiveIRM      187668 non-null  float64       \n",
      " 4   testIRM          187668 non-null  float64       \n",
      " 5   deathIRM         187668 non-null  float64       \n",
      " 6   icuIRM           187668 non-null  float64       \n",
      " 7   hospitalizedIRM  187668 non-null  float64       \n",
      "dtypes: datetime64[ns](1), float64(5), object(2)\n",
      "memory usage: 12.9+ MB\n"
     ]
    }
   ],
   "source": [
    "logger.info('\\n{}'.format(medians.info()))"
   ]
  },
  {
   "cell_type": "markdown",
   "metadata": {},
   "source": [
    "<br>\n",
    "<br>\n",
    "\n",
    "### $cum./100K$: Percentage Change Across Varying Days"
   ]
  },
  {
   "cell_type": "markdown",
   "metadata": {},
   "source": [
    "The **running percentage change** w.r.t. defined **periods** for each `cumulative value per 100K` type\n",
    "\n",
    "\n",
    "$\\qquad \\qquad \\text{pc}_{\\tau, \\Delta} = 100 * \\Large{ \\frac{C_{\\tau} \\; - \\; C_{\\tau - \\Delta + 1}}{C_{\\tau - \\Delta + 1}} }$\n",
    "\n",
    "wherein\n",
    "\n",
    "<table style=\"width:45%; text-align: left; border: 0px solid black; float:left; margin-left: 60px\">\n",
    "    <tr>\n",
    "        <th style=\"width:20%\">Variable</th><th>Description</th> \n",
    "    </tr>\n",
    "    <tr>\n",
    "        <td>$\\tau$</td><td>date</td>\n",
    "    </tr>\n",
    "    <tr>\n",
    "        <td>$\\Delta$</td><td>days</td>\n",
    "    </tr>\n",
    "    <tr>\n",
    "        <td>$\\text{pc}_{\\tau, \\Delta}$</td>\n",
    "        <td>The percentage change on date $\\tau$ w.r.t. initial date $\\tau$ - ($\\Delta$ - 1)</td>\n",
    "    </tr>\n",
    "    <tr>\n",
    "      <td>$C_{\\tau}$</td><td>The cumulative value on date $\\tau$.</td>\n",
    "    </tr>\n",
    "    <tr>\n",
    "      <td>$C_{\\tau - \\Delta + 1}$</td>\n",
    "      <td>The cumulative value on initial date $\\tau$ - ($\\Delta$ - 1).</td>\n",
    "    </tr>\n",
    "</table>\n",
    "\n",
    "<br>\n"
   ]
  },
  {
   "cell_type": "code",
   "execution_count": 29,
   "metadata": {},
   "outputs": [],
   "source": [
    "percentages = pd.DataFrame()\n",
    "\n",
    "for event in ['deathRate', 'positiveRate', 'testRate', 'icuRate', 'hospitalizedRate']:\n",
    "\n",
    "    # Focus on\n",
    "    base = baselines[['datetimeobject', 'STUSPS', event]]\n",
    "        \n",
    "    # Pivot -> such that each field is a place, and each instance of a field is a date in time\n",
    "    segment = base.pivot(index='datetimeobject', columns='STUSPS', values=event)\n",
    "\n",
    "    # The percentage differences\n",
    "    delta = algorithms.base.delta.Delta(data=segment, places=places, placestype=placestype)\n",
    "    dataset = delta.exc(periods=periods, fieldname=(event + 'Delta'))\n",
    "        \n",
    "        \n",
    "    # Include the variable the delta calculations are based on\n",
    "    dataset = dataset.merge(base, how='left', on=['datetimeobject', 'STUSPS'])\n",
    "\n",
    "\n",
    "    if percentages.empty:\n",
    "        percentages = dataset\n",
    "    else:\n",
    "        percentages = percentages.merge(dataset, how='inner', on=['datetimeobject', 'STUSPS', 'period'])\n"
   ]
  },
  {
   "cell_type": "code",
   "execution_count": 30,
   "metadata": {},
   "outputs": [],
   "source": [
    "percentages = percentages[['datetimeobject', 'STUSPS', 'period', 'deathRateDelta', 'deathRate', \n",
    "                           'positiveRateDelta', 'positiveRate', 'testRateDelta', 'testRate',\n",
    "                            'icuRateDelta', 'icuRate', 'hospitalizedRateDelta', 'hospitalizedRate']]"
   ]
  },
  {
   "cell_type": "markdown",
   "metadata": {},
   "source": [
    "<br>\n",
    "<br>\n",
    "\n",
    "**Write**"
   ]
  },
  {
   "cell_type": "code",
   "execution_count": 31,
   "metadata": {},
   "outputs": [],
   "source": [
    "percentages.to_csv(path_or_buf=os.path.join(warehouse, 'percentages.csv'), header=True, index=False, encoding='utf-8')"
   ]
  },
  {
   "cell_type": "code",
   "execution_count": 32,
   "metadata": {},
   "outputs": [
    {
     "name": "stderr",
     "output_type": "stream",
     "text": [
      "INFO:__main__:\n",
      "None\n",
      "\n"
     ]
    },
    {
     "name": "stdout",
     "output_type": "stream",
     "text": [
      "<class 'pandas.core.frame.DataFrame'>\n",
      "Int64Index: 187668 entries, 0 to 187667\n",
      "Data columns (total 13 columns):\n",
      " #   Column                 Non-Null Count   Dtype         \n",
      "---  ------                 --------------   -----         \n",
      " 0   datetimeobject         187668 non-null  datetime64[ns]\n",
      " 1   STUSPS                 187668 non-null  object        \n",
      " 2   period                 187668 non-null  object        \n",
      " 3   deathRateDelta         187668 non-null  float64       \n",
      " 4   deathRate              187668 non-null  float64       \n",
      " 5   positiveRateDelta      187668 non-null  float64       \n",
      " 6   positiveRate           187668 non-null  float64       \n",
      " 7   testRateDelta          187668 non-null  float64       \n",
      " 8   testRate               187668 non-null  float64       \n",
      " 9   icuRateDelta           187668 non-null  float64       \n",
      " 10  icuRate                187668 non-null  float64       \n",
      " 11  hospitalizedRateDelta  187668 non-null  float64       \n",
      " 12  hospitalizedRate       187668 non-null  float64       \n",
      "dtypes: datetime64[ns](1), float64(10), object(2)\n",
      "memory usage: 20.0+ MB\n"
     ]
    }
   ],
   "source": [
    "logger.info('\\n{}\\n'.format(percentages.info()))"
   ]
  },
  {
   "cell_type": "markdown",
   "metadata": {},
   "source": [
    "<br>\n",
    "\n",
    "## Clean-up"
   ]
  },
  {
   "cell_type": "code",
   "execution_count": 33,
   "metadata": {},
   "outputs": [],
   "source": [
    "!rm -rf *.log\n",
    "!rm -rf *.pdf"
   ]
  }
 ],
 "metadata": {
  "kernelspec": {
   "display_name": "Python 3",
   "language": "python",
   "name": "python3"
  },
  "language_info": {
   "codemirror_mode": {
    "name": "ipython",
    "version": 3
   },
   "file_extension": ".py",
   "mimetype": "text/x-python",
   "name": "python",
   "nbconvert_exporter": "python",
   "pygments_lexer": "ipython3",
   "version": "3.7.7"
  }
 },
 "nbformat": 4,
 "nbformat_minor": 4
}
