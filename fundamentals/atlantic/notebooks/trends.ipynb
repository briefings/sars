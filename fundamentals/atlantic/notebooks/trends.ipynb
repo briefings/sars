{
 "cells": [
  {
   "cell_type": "markdown",
   "metadata": {},
   "source": [
    "**In Progress.**  This notebook is focused on continous-time COVID-19 trends calculations.  The calculations feed interactive data products that states, counties, or federal entities can ...\n",
    "\n",
    "<br>"
   ]
  },
  {
   "cell_type": "markdown",
   "metadata": {},
   "source": [
    "## Preliminaries"
   ]
  },
  {
   "cell_type": "code",
   "execution_count": 1,
   "metadata": {},
   "outputs": [],
   "source": [
    "!rm -rf *.log\n",
    "!rm -rf *.pdf\n",
    "!rm -rf algorithms*\n",
    "!rm -rf warehouse*"
   ]
  },
  {
   "cell_type": "markdown",
   "metadata": {},
   "source": [
    "<br>\n",
    "\n",
    "### Libraries"
   ]
  },
  {
   "cell_type": "code",
   "execution_count": 2,
   "metadata": {},
   "outputs": [],
   "source": [
    "import pandas as pd\n",
    "import numpy as np\n",
    "import logging\n",
    "import os\n",
    "import pathlib\n",
    "\n",
    "import zipfile\n",
    "import requests\n",
    "import io"
   ]
  },
  {
   "cell_type": "markdown",
   "metadata": {},
   "source": [
    "<br>\n",
    "\n",
    "### Logging"
   ]
  },
  {
   "cell_type": "code",
   "execution_count": 3,
   "metadata": {},
   "outputs": [],
   "source": [
    "logging.basicConfig(level=logging.INFO)\n",
    "logger = logging.getLogger(__name__)"
   ]
  },
  {
   "cell_type": "markdown",
   "metadata": {},
   "source": [
    "<br>\n",
    "\n",
    "### Custom Classes"
   ]
  },
  {
   "cell_type": "markdown",
   "metadata": {},
   "source": [
    "From GitHub"
   ]
  },
  {
   "cell_type": "code",
   "execution_count": 4,
   "metadata": {},
   "outputs": [],
   "source": [
    "url = 'https://github.com/briefings/sars/raw/develop/fundamentals/algorithms/algorithms.zip'\n",
    "\n",
    "try:\n",
    "    req = requests.get(url=url)\n",
    "    req.raise_for_status()\n",
    "except requests.exceptions.RequestException as err:\n",
    "    raise err"
   ]
  },
  {
   "cell_type": "code",
   "execution_count": 5,
   "metadata": {},
   "outputs": [],
   "source": [
    "obj = zipfile.ZipFile(io.BytesIO(req.content))\n",
    "obj.extractall()"
   ]
  },
  {
   "cell_type": "markdown",
   "metadata": {},
   "source": [
    "<br>\n",
    "\n",
    "Import"
   ]
  },
  {
   "cell_type": "code",
   "execution_count": 6,
   "metadata": {},
   "outputs": [],
   "source": [
    "import algorithms.base.delta\n",
    "import algorithms.base.differences\n",
    "import algorithms.base.quantiles\n",
    "import algorithms.misc.doublet"
   ]
  },
  {
   "cell_type": "markdown",
   "metadata": {},
   "source": [
    "<br>\n",
    "\n",
    "### Directories"
   ]
  },
  {
   "cell_type": "code",
   "execution_count": 7,
   "metadata": {},
   "outputs": [],
   "source": [
    "warehouse = 'warehouse'\n",
    "if not os.path.exists(warehouse):\n",
    "    os.makedirs(warehouse)"
   ]
  },
  {
   "cell_type": "markdown",
   "metadata": {},
   "source": [
    "<br>\n",
    "<br>\n",
    "\n",
    "## Measures & Metrics"
   ]
  },
  {
   "cell_type": "code",
   "execution_count": 8,
   "metadata": {},
   "outputs": [
    {
     "data": {
      "text/plain": [
       "'J:\\\\library\\\\projects\\\\sars\\\\fundamentals\\\\atlantic'"
      ]
     },
     "execution_count": 8,
     "metadata": {},
     "output_type": "execute_result"
    }
   ],
   "source": [
    "parent = str(pathlib.Path(os.getcwd()).parent)\n",
    "parent"
   ]
  },
  {
   "cell_type": "markdown",
   "metadata": {},
   "source": [
    "### The Data"
   ]
  },
  {
   "cell_type": "code",
   "execution_count": 9,
   "metadata": {},
   "outputs": [],
   "source": [
    "datauri = os.path.join(parent, 'warehouse', 'baselines.csv')\n",
    "\n",
    "parse_dates = ['datetimeobject']\n",
    "baselines = pd.read_csv(filepath_or_buffer=datauri, header=0, encoding='utf-8', parse_dates=parse_dates)"
   ]
  },
  {
   "cell_type": "markdown",
   "metadata": {},
   "source": [
    "<br>\n",
    "\n",
    "**Daily Positive Test Rate**"
   ]
  },
  {
   "cell_type": "code",
   "execution_count": 10,
   "metadata": {},
   "outputs": [
    {
     "data": {
      "text/plain": [
       "array([0., 0., 0., ..., 1., 1., 1.])"
      ]
     },
     "execution_count": 10,
     "metadata": {},
     "output_type": "execute_result"
    }
   ],
   "source": [
    "series = (baselines.positiveIncrease / baselines.testIncrease).fillna(value=0).values\n",
    "series = np.where(np.isinf(series), 0, series)\n",
    "series"
   ]
  },
  {
   "cell_type": "code",
   "execution_count": 11,
   "metadata": {},
   "outputs": [],
   "source": [
    "baselines.loc[:, 'dailyPositiveTestRate'] = 100 * series"
   ]
  },
  {
   "cell_type": "markdown",
   "metadata": {},
   "source": [
    "<br>\n",
    "\n",
    "**Preview**"
   ]
  },
  {
   "cell_type": "code",
   "execution_count": 12,
   "metadata": {},
   "outputs": [
    {
     "name": "stderr",
     "output_type": "stream",
     "text": [
      "INFO:__main__:\n",
      "None\n"
     ]
    },
    {
     "name": "stdout",
     "output_type": "stream",
     "text": [
      "<class 'pandas.core.frame.DataFrame'>\n",
      "RangeIndex: 12688 entries, 0 to 12687\n",
      "Data columns (total 24 columns):\n",
      " #   Column                    Non-Null Count  Dtype         \n",
      "---  ------                    --------------  -----         \n",
      " 0   datetimeobject            12688 non-null  datetime64[ns]\n",
      " 1   STUSPS                    12688 non-null  object        \n",
      " 2   deathIncrease             12688 non-null  float64       \n",
      " 3   deathCumulative           12688 non-null  float64       \n",
      " 4   positiveIncrease          12688 non-null  float64       \n",
      " 5   positiveCumulative        12688 non-null  float64       \n",
      " 6   icuIncrease               12688 non-null  float64       \n",
      " 7   icuCumulative             12688 non-null  float64       \n",
      " 8   hospitalizedIncrease      12688 non-null  float64       \n",
      " 9   hospitalizedCumulative    12688 non-null  float64       \n",
      " 10  testIncrease              12688 non-null  float64       \n",
      " 11  testCumulative            12688 non-null  float64       \n",
      " 12  deathRate                 12688 non-null  float64       \n",
      " 13  positiveRate              12688 non-null  float64       \n",
      " 14  testRate                  12688 non-null  float64       \n",
      " 15  icuRate                   12688 non-null  float64       \n",
      " 16  hospitalizedRate          12688 non-null  float64       \n",
      " 17  deathIncreaseRate         12688 non-null  float64       \n",
      " 18  positiveIncreaseRate      12688 non-null  float64       \n",
      " 19  testIncreaseRate          12688 non-null  float64       \n",
      " 20  icuIncreaseRate           12688 non-null  float64       \n",
      " 21  hospitalizedIncreaseRate  12688 non-null  float64       \n",
      " 22  ndays                     12688 non-null  int64         \n",
      " 23  dailyPositiveTestRate     12688 non-null  float64       \n",
      "dtypes: datetime64[ns](1), float64(21), int64(1), object(1)\n",
      "memory usage: 2.3+ MB\n"
     ]
    }
   ],
   "source": [
    "logger.info('\\n{}'.format(baselines.info()))"
   ]
  },
  {
   "cell_type": "markdown",
   "metadata": {},
   "source": [
    "<br>\n",
    "\n",
    "**Periods, Places**"
   ]
  },
  {
   "cell_type": "code",
   "execution_count": 13,
   "metadata": {},
   "outputs": [
    {
     "data": {
      "text/plain": [
       "array([ 6,  7,  8,  9, 10, 11, 12, 13, 14, 15, 16, 17, 18, 19, 20, 21])"
      ]
     },
     "execution_count": 13,
     "metadata": {},
     "output_type": "execute_result"
    }
   ],
   "source": [
    "periods = np.arange(6, 22, 1)\n",
    "periods"
   ]
  },
  {
   "cell_type": "code",
   "execution_count": 14,
   "metadata": {},
   "outputs": [
    {
     "data": {
      "text/plain": [
       "'STUSPS'"
      ]
     },
     "execution_count": 14,
     "metadata": {},
     "output_type": "execute_result"
    }
   ],
   "source": [
    "placestype = 'STUSPS'\n",
    "placestype"
   ]
  },
  {
   "cell_type": "code",
   "execution_count": 15,
   "metadata": {},
   "outputs": [
    {
     "data": {
      "text/plain": [
       "array(['AL', 'AK', 'AZ', 'AR', 'CA', 'CO', 'CT', 'DE', 'DC', 'FL', 'GA',\n",
       "       'HI', 'ID', 'IL', 'IN', 'IA', 'KS', 'KY', 'LA', 'ME', 'MD', 'MA',\n",
       "       'MI', 'MN', 'MS', 'MO', 'MT', 'NE', 'NV', 'NH', 'NJ', 'NM', 'NY',\n",
       "       'NC', 'ND', 'OH', 'OK', 'OR', 'PA', 'RI', 'SC', 'SD', 'TN', 'TX',\n",
       "       'UT', 'VT', 'VA', 'WA', 'WV', 'WI', 'WY', 'PR'], dtype=object)"
      ]
     },
     "execution_count": 15,
     "metadata": {},
     "output_type": "execute_result"
    }
   ],
   "source": [
    "places = baselines[placestype].unique()\n",
    "places"
   ]
  },
  {
   "cell_type": "markdown",
   "metadata": {},
   "source": [
    "<br>\n",
    "<br>\n",
    "\n",
    "### Positive Test Rate: Periodic"
   ]
  },
  {
   "cell_type": "markdown",
   "metadata": {},
   "source": [
    "<br>\n",
    "\n",
    "Foremost, the **Positive Test Rates** for varying periods are evaluated via\n",
    "\n",
    "$\\qquad \\qquad \\rho_{\\tau, \\Delta} = 100 * \\Large{ \\frac{P_{\\tau} - P_{\\tau - \\Delta + 1}}{T_{\\tau} - T_{\\tau - \\Delta + 1}} }$\n",
    "\n",
    "wherein\n",
    "\n",
    "<table style=\"width:45%; text-align: left; border: 0px solid black; float:left; margin-left: 60px\">\n",
    "    <tr>\n",
    "        <th style=\"width:20%\">Variable</th><th>Description</th> \n",
    "    </tr>\n",
    "    <tr>\n",
    "        <td>$\\tau$</td><td>date</td>\n",
    "    </tr>\n",
    "    <tr>\n",
    "        <td>$\\Delta$</td><td>days</td>\n",
    "    </tr>\n",
    "    <tr>\n",
    "        <td>$\\rho_{\\tau, \\Delta}$</td>\n",
    "        <td>The positive test rate on date $\\tau$ w.r.t. starting date $\\tau$ - ($\\Delta$ - 1)</td>\n",
    "    </tr>\n",
    "    <tr>\n",
    "      <td>$P_{\\tau}$</td><td>The cumulative number of positive cases by date $\\tau$.</td>\n",
    "    </tr>\n",
    "    <tr>\n",
    "      <td>$P_{\\tau - \\Delta + 1}$</td>\n",
    "      <td>The cumulative number of positive cases by starting date $\\tau$ - ($\\Delta$ - 1)</td>\n",
    "    </tr>\n",
    "    <tr>\n",
    "      <td>$T_{\\tau}$</td><td>The cumulative number of tests by date $\\tau$.</td>\n",
    "    </tr>\n",
    "    <tr>\n",
    "      <td>$T_{\\tau - \\Delta + 1}$</td><td>The cumulative number of tests by starting date $\\tau$ - ($\\Delta$ - 1).</td>\n",
    "    </tr>\n",
    "</table>\n"
   ]
  },
  {
   "cell_type": "code",
   "execution_count": 16,
   "metadata": {},
   "outputs": [],
   "source": [
    "numerator = 'positiveCumulative'\n",
    "denominator = 'testCumulative'\n",
    "\n",
    "doublet = algorithms.misc.doublet.Doublet(blob=baselines, periods=periods, places=places, placestype=placestype)\n",
    "ptr = doublet.exc(numerator=numerator, denominator=denominator)\n",
    "ptr.rename(columns={'rates': 'positiveTestRate'}, inplace=True)"
   ]
  },
  {
   "cell_type": "markdown",
   "metadata": {},
   "source": [
    "<br>\n",
    "<br>\n",
    "\n",
    "The **Tests/Case** for varying periods is evaluated via\n",
    "\n",
    "$\\qquad \\qquad \\text{tpc}_{_{\\tau, \\Delta}} = \\Large{\\frac{100}{\\rho_{\\tau, \\Delta}}}$\n",
    "\n",
    "and, similar to previous definitions,\n",
    "\n",
    "<table style=\"width:45%; text-align: left; border: 0px solid black; float:left; margin-left: 60px\">\n",
    "    <tr>\n",
    "        <th style=\"width:20%\">Variable</th><th>Description</th> \n",
    "    </tr>\n",
    "    <tr>\n",
    "        <td>$\\tau$</td><td>date</td>\n",
    "    </tr>\n",
    "    <tr>\n",
    "        <td>$\\Delta$</td><td>days</td>\n",
    "    </tr>\n",
    "    <tr>\n",
    "        <td>$\\rho_{\\tau, \\Delta}$</td>\n",
    "        <td>The positive test rate on date $\\tau$ w.r.t. starting date $\\tau$ - ($\\Delta$ - 1)</td>\n",
    "    </tr>\n",
    "    <tr>\n",
    "      <td>$\\text{tpc}_{_{\\tau, \\Delta}}$</td><td>The tests per case value on date $\\tau$ w.r.t. starting date $\\tau$ - ($\\Delta$ - 1).</td>\n",
    "    </tr>\n",
    "</table>\n",
    "\n",
    "\n"
   ]
  },
  {
   "cell_type": "code",
   "execution_count": 17,
   "metadata": {},
   "outputs": [],
   "source": [
    "ptr.loc[:, 'testsPerCase'] = np.where(ptr['positiveTestRate'] > 0, ptr['positiveTestRate'].rdiv(100), 0 )"
   ]
  },
  {
   "cell_type": "markdown",
   "metadata": {},
   "source": [
    "<br>\n",
    "<br>\n",
    "\n",
    "**Write**"
   ]
  },
  {
   "cell_type": "code",
   "execution_count": 18,
   "metadata": {},
   "outputs": [],
   "source": [
    "ptr.to_csv(path_or_buf=os.path.join(warehouse, 'ptrPeriodic.csv'), header=True, index=False, encoding='utf-8')"
   ]
  },
  {
   "cell_type": "code",
   "execution_count": 19,
   "metadata": {},
   "outputs": [
    {
     "name": "stderr",
     "output_type": "stream",
     "text": [
      "INFO:__main__:\n",
      "None\n"
     ]
    },
    {
     "name": "stdout",
     "output_type": "stream",
     "text": [
      "<class 'pandas.core.frame.DataFrame'>\n",
      "Int64Index: 192608 entries, 0 to 192607\n",
      "Data columns (total 5 columns):\n",
      " #   Column            Non-Null Count   Dtype         \n",
      "---  ------            --------------   -----         \n",
      " 0   datetimeobject    192608 non-null  datetime64[ns]\n",
      " 1   STUSPS            192608 non-null  object        \n",
      " 2   period            192608 non-null  object        \n",
      " 3   positiveTestRate  192608 non-null  float64       \n",
      " 4   testsPerCase      192608 non-null  float64       \n",
      "dtypes: datetime64[ns](1), float64(2), object(2)\n",
      "memory usage: 8.8+ MB\n"
     ]
    }
   ],
   "source": [
    "logger.info('\\n{}'.format(ptr.info()))"
   ]
  },
  {
   "cell_type": "markdown",
   "metadata": {},
   "source": [
    "<br>\n",
    "<br>\n",
    "\n",
    "### Positive Test Rate: Running Medians Across Varying Days"
   ]
  },
  {
   "cell_type": "code",
   "execution_count": 20,
   "metadata": {},
   "outputs": [],
   "source": [
    "event = 'dailyPositiveTestRate'\n",
    "\n",
    "# Focus on\n",
    "base = baselines[['datetimeobject', 'STUSPS', event]].copy()\n",
    "\n",
    "# Pivot -> such that each field is a place, and each instance of a field is a date in time\n",
    "segment = base.pivot(index='datetimeobject', columns='STUSPS', values=event)\n",
    "\n",
    "# Quantiles\n",
    "quantiles = algorithms.base.quantiles.Quantiles(data=segment, places=places, placestype=placestype)\n",
    "matrix = quantiles.exc(periods=np.concatenate((np.array([1]), periods)), quantile=0.5, fieldname=(event + 'Median'))\n"
   ]
  },
  {
   "cell_type": "code",
   "execution_count": 21,
   "metadata": {},
   "outputs": [],
   "source": [
    "matrix.rename(columns={'dailyPositiveTestRateMedian': 'dailyPTRM'}, inplace=True)"
   ]
  },
  {
   "cell_type": "code",
   "execution_count": 22,
   "metadata": {},
   "outputs": [],
   "source": [
    "matrix.loc[:, 'dailyTPCM'] = np.where(matrix['dailyPTRM'] > 0, matrix['dailyPTRM'].rdiv(100), 0 )"
   ]
  },
  {
   "cell_type": "markdown",
   "metadata": {},
   "source": [
    "<br>\n",
    "\n",
    "**Write**"
   ]
  },
  {
   "cell_type": "code",
   "execution_count": 23,
   "metadata": {},
   "outputs": [],
   "source": [
    "matrix[['datetimeobject', 'STUSPS', 'period', 'dailyPTRM', 'dailyTPCM']\n",
    "      ].to_csv(path_or_buf=os.path.join(warehouse, 'ptrDaily.csv'), header=True, index=False, encoding='utf-8')"
   ]
  },
  {
   "cell_type": "code",
   "execution_count": 24,
   "metadata": {},
   "outputs": [
    {
     "name": "stderr",
     "output_type": "stream",
     "text": [
      "INFO:__main__:\n",
      "None\n"
     ]
    },
    {
     "name": "stdout",
     "output_type": "stream",
     "text": [
      "<class 'pandas.core.frame.DataFrame'>\n",
      "RangeIndex: 205296 entries, 0 to 205295\n",
      "Data columns (total 5 columns):\n",
      " #   Column          Non-Null Count   Dtype         \n",
      "---  ------          --------------   -----         \n",
      " 0   datetimeobject  205296 non-null  datetime64[ns]\n",
      " 1   STUSPS          205296 non-null  object        \n",
      " 2   dailyPTRM       205296 non-null  float64       \n",
      " 3   period          205296 non-null  object        \n",
      " 4   dailyTPCM       205296 non-null  float64       \n",
      "dtypes: datetime64[ns](1), float64(2), object(2)\n",
      "memory usage: 7.8+ MB\n"
     ]
    }
   ],
   "source": [
    "logger.info('\\n{}'.format(matrix.info()))"
   ]
  },
  {
   "cell_type": "markdown",
   "metadata": {},
   "source": [
    "<br>\n",
    "<br>\n",
    "\n",
    "### $inc./100K$: Running Medians Across Varying Days"
   ]
  },
  {
   "cell_type": "markdown",
   "metadata": {},
   "source": [
    "For each `increase/100K` type\n",
    "\n",
    "$\\qquad \\qquad \\hat{\\mu}_{\\tau, \\Delta} = median(S_{\\tau - \\Delta + 1}, \\; \\ldots, \\; S_{\\tau -1}, \\;  S_{\\tau})$\n",
    "\n",
    "wherein\n",
    "\n",
    "<table style=\"width:45%; text-align: left; border: 0px solid black; float:left; margin-left: 60px\">\n",
    "    <tr>\n",
    "        <th style=\"width:20%\">Variable</th><th>Description</th> \n",
    "    </tr>\n",
    "    <tr>\n",
    "        <td>$\\tau$</td><td>date</td>\n",
    "    </tr>\n",
    "    <tr>\n",
    "        <td>$\\Delta$</td><td>days</td>\n",
    "    </tr>\n",
    "    <tr>\n",
    "        <td>$\\hat{\\mu}_{\\tau, \\Delta}$</td>\n",
    "        <td>The median on date $\\tau$ w.r.t. the $\\Delta$ days ending on date $\\tau$</td>\n",
    "    </tr>\n",
    "    <tr>\n",
    "      <td>$S$</td><td>A series, e.g., daily $deaths/100K$</td>\n",
    "    </tr>\n",
    "    <tr>\n",
    "      <td>$S_{\\tau}$</td>\n",
    "      <td>The series data value on date $\\tau$</td>\n",
    "    </tr>\n",
    "</table>\n",
    "\n",
    "<br>\n"
   ]
  },
  {
   "cell_type": "code",
   "execution_count": 25,
   "metadata": {},
   "outputs": [],
   "source": [
    "medians: pd.DataFrame = pd.DataFrame()\n",
    "\n",
    "for event in ['positiveIncreaseRate', 'testIncreaseRate', 'deathIncreaseRate', 'icuIncreaseRate', 'hospitalizedIncreaseRate']:\n",
    "\n",
    "    # Focus on\n",
    "    base = baselines[['datetimeobject', 'STUSPS', event]].copy()\n",
    "\n",
    "    # Pivot -> such that each field is a place, and each instance of a field is a date in time\n",
    "    segment = base.pivot(index='datetimeobject', columns='STUSPS', values=event)\n",
    "\n",
    "    # Quantiles\n",
    "    quantiles = algorithms.base.quantiles.Quantiles(data=segment, places=places, placestype=placestype)\n",
    "    values = quantiles.exc(periods=periods, quantile=0.5, fieldname=(event + 'Median'))\n",
    "\n",
    "    # Structuring\n",
    "    if medians.empty:\n",
    "        medians = values\n",
    "    else:\n",
    "        medians = medians.merge(values, how='inner', on=['datetimeobject', 'STUSPS', 'period'])\n"
   ]
  },
  {
   "cell_type": "code",
   "execution_count": 26,
   "metadata": {},
   "outputs": [],
   "source": [
    "names = {i: i.replace('IncreaseRateMedian', 'IRM') for i in \n",
    "         ['positiveIncreaseRateMedian', 'testIncreaseRateMedian', 'deathIncreaseRateMedian', \n",
    "          'icuIncreaseRateMedian', 'hospitalizedIncreaseRateMedian']}\n",
    "\n",
    "medians.rename(columns=names, inplace=True)\n",
    "\n",
    "medians = medians[['datetimeobject', 'STUSPS', 'period', 'positiveIRM', 'testIRM', 'deathIRM', 'icuIRM', 'hospitalizedIRM']]"
   ]
  },
  {
   "cell_type": "markdown",
   "metadata": {},
   "source": [
    "<br>\n",
    "<br>\n",
    "\n",
    "**Write**"
   ]
  },
  {
   "cell_type": "code",
   "execution_count": 27,
   "metadata": {},
   "outputs": [],
   "source": [
    "medians.to_csv(path_or_buf=os.path.join(warehouse, 'medians.csv'), header=True, index=False, encoding='utf-8')"
   ]
  },
  {
   "cell_type": "code",
   "execution_count": 28,
   "metadata": {},
   "outputs": [
    {
     "name": "stderr",
     "output_type": "stream",
     "text": [
      "INFO:__main__:\n",
      "None\n"
     ]
    },
    {
     "name": "stdout",
     "output_type": "stream",
     "text": [
      "<class 'pandas.core.frame.DataFrame'>\n",
      "Int64Index: 192608 entries, 0 to 192607\n",
      "Data columns (total 8 columns):\n",
      " #   Column           Non-Null Count   Dtype         \n",
      "---  ------           --------------   -----         \n",
      " 0   datetimeobject   192608 non-null  datetime64[ns]\n",
      " 1   STUSPS           192608 non-null  object        \n",
      " 2   period           192608 non-null  object        \n",
      " 3   positiveIRM      192608 non-null  float64       \n",
      " 4   testIRM          192608 non-null  float64       \n",
      " 5   deathIRM         192608 non-null  float64       \n",
      " 6   icuIRM           192608 non-null  float64       \n",
      " 7   hospitalizedIRM  192608 non-null  float64       \n",
      "dtypes: datetime64[ns](1), float64(5), object(2)\n",
      "memory usage: 13.2+ MB\n"
     ]
    }
   ],
   "source": [
    "logger.info('\\n{}'.format(medians.info()))"
   ]
  },
  {
   "cell_type": "markdown",
   "metadata": {},
   "source": [
    "<br>\n",
    "<br>\n",
    "\n",
    "### $cum./100K$: Percentage Change Across Varying Days"
   ]
  },
  {
   "cell_type": "markdown",
   "metadata": {},
   "source": [
    "The **running percentage change** w.r.t. defined **periods** for each `cumulative value per 100K` type\n",
    "\n",
    "\n",
    "$\\qquad \\qquad \\text{pc}_{\\tau, \\Delta} = 100 * \\Large{ \\frac{C_{\\tau} \\; - \\; C_{\\tau - \\Delta + 1}}{C_{\\tau - \\Delta + 1}} }$\n",
    "\n",
    "wherein\n",
    "\n",
    "<table style=\"width:45%; text-align: left; border: 0px solid black; float:left; margin-left: 60px\">\n",
    "    <tr>\n",
    "        <th style=\"width:20%\">Variable</th><th>Description</th> \n",
    "    </tr>\n",
    "    <tr>\n",
    "        <td>$\\tau$</td><td>date</td>\n",
    "    </tr>\n",
    "    <tr>\n",
    "        <td>$\\Delta$</td><td>days</td>\n",
    "    </tr>\n",
    "    <tr>\n",
    "        <td>$\\text{pc}_{\\tau, \\Delta}$</td>\n",
    "        <td>The percentage change on date $\\tau$ w.r.t. initial date $\\tau$ - ($\\Delta$ - 1)</td>\n",
    "    </tr>\n",
    "    <tr>\n",
    "      <td>$C_{\\tau}$</td><td>The cumulative value on date $\\tau$.</td>\n",
    "    </tr>\n",
    "    <tr>\n",
    "      <td>$C_{\\tau - \\Delta + 1}$</td>\n",
    "      <td>The cumulative value on initial date $\\tau$ - ($\\Delta$ - 1).</td>\n",
    "    </tr>\n",
    "</table>\n",
    "\n",
    "<br>\n"
   ]
  },
  {
   "cell_type": "code",
   "execution_count": 29,
   "metadata": {},
   "outputs": [],
   "source": [
    "percentages = pd.DataFrame()\n",
    "\n",
    "for event in ['deathRate', 'positiveRate', 'testRate', 'icuRate', 'hospitalizedRate']:\n",
    "\n",
    "    # Focus on\n",
    "    base = baselines[['datetimeobject', 'STUSPS', event]]\n",
    "        \n",
    "    # Pivot -> such that each field is a place, and each instance of a field is a date in time\n",
    "    segment = base.pivot(index='datetimeobject', columns='STUSPS', values=event)\n",
    "\n",
    "    # The percentage differences\n",
    "    delta = algorithms.base.delta.Delta(data=segment, places=places, placestype=placestype)\n",
    "    dataset = delta.exc(periods=periods, fieldname=(event + 'Delta'))\n",
    "        \n",
    "        \n",
    "    # Include the variable the delta calculations are based on\n",
    "    dataset = dataset.merge(base, how='left', on=['datetimeobject', 'STUSPS'])\n",
    "\n",
    "\n",
    "    if percentages.empty:\n",
    "        percentages = dataset\n",
    "    else:\n",
    "        percentages = percentages.merge(dataset, how='inner', on=['datetimeobject', 'STUSPS', 'period'])\n"
   ]
  },
  {
   "cell_type": "code",
   "execution_count": 30,
   "metadata": {},
   "outputs": [],
   "source": [
    "percentages = percentages[['datetimeobject', 'STUSPS', 'period', 'deathRateDelta', 'deathRate', \n",
    "                           'positiveRateDelta', 'positiveRate', 'testRateDelta', 'testRate',\n",
    "                            'icuRateDelta', 'icuRate', 'hospitalizedRateDelta', 'hospitalizedRate']]"
   ]
  },
  {
   "cell_type": "markdown",
   "metadata": {},
   "source": [
    "<br>\n",
    "<br>\n",
    "\n",
    "**Write**"
   ]
  },
  {
   "cell_type": "code",
   "execution_count": 31,
   "metadata": {},
   "outputs": [],
   "source": [
    "percentages.to_csv(path_or_buf=os.path.join(warehouse, 'percentages.csv'), header=True, index=False, encoding='utf-8')"
   ]
  },
  {
   "cell_type": "code",
   "execution_count": 32,
   "metadata": {},
   "outputs": [
    {
     "name": "stderr",
     "output_type": "stream",
     "text": [
      "INFO:__main__:\n",
      "None\n",
      "\n"
     ]
    },
    {
     "name": "stdout",
     "output_type": "stream",
     "text": [
      "<class 'pandas.core.frame.DataFrame'>\n",
      "Int64Index: 192608 entries, 0 to 192607\n",
      "Data columns (total 13 columns):\n",
      " #   Column                 Non-Null Count   Dtype         \n",
      "---  ------                 --------------   -----         \n",
      " 0   datetimeobject         192608 non-null  datetime64[ns]\n",
      " 1   STUSPS                 192608 non-null  object        \n",
      " 2   period                 192608 non-null  object        \n",
      " 3   deathRateDelta         192608 non-null  float64       \n",
      " 4   deathRate              192608 non-null  float64       \n",
      " 5   positiveRateDelta      192608 non-null  float64       \n",
      " 6   positiveRate           192608 non-null  float64       \n",
      " 7   testRateDelta          192608 non-null  float64       \n",
      " 8   testRate               192608 non-null  float64       \n",
      " 9   icuRateDelta           192608 non-null  float64       \n",
      " 10  icuRate                192608 non-null  float64       \n",
      " 11  hospitalizedRateDelta  192608 non-null  float64       \n",
      " 12  hospitalizedRate       192608 non-null  float64       \n",
      "dtypes: datetime64[ns](1), float64(10), object(2)\n",
      "memory usage: 20.6+ MB\n"
     ]
    }
   ],
   "source": [
    "logger.info('\\n{}\\n'.format(percentages.info()))"
   ]
  },
  {
   "cell_type": "markdown",
   "metadata": {},
   "source": [
    "<br>\n",
    "\n",
    "## Clean-up"
   ]
  },
  {
   "cell_type": "code",
   "execution_count": 33,
   "metadata": {},
   "outputs": [],
   "source": [
    "!rm -rf *.log\n",
    "!rm -rf *.pdf\n",
    "!rm -rf algorithms*"
   ]
  }
 ],
 "metadata": {
  "kernelspec": {
   "display_name": "Python 3",
   "language": "python",
   "name": "python3"
  },
  "language_info": {
   "codemirror_mode": {
    "name": "ipython",
    "version": 3
   },
   "file_extension": ".py",
   "mimetype": "text/x-python",
   "name": "python",
   "nbconvert_exporter": "python",
   "pygments_lexer": "ipython3",
   "version": "3.7.7"
  }
 },
 "nbformat": 4,
 "nbformat_minor": 4
}
