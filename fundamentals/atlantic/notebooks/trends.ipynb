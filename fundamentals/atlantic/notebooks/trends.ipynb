{
 "cells": [
  {
   "cell_type": "markdown",
   "metadata": {},
   "source": [
    "**In Progress.**  This notebook is focused on continous-time COVID-19 trends calculations.  The calculations feed interactive data products that states, counties, or federal entities can ...\n",
    "\n",
    "<br>"
   ]
  },
  {
   "cell_type": "markdown",
   "metadata": {},
   "source": [
    "## Preliminaries"
   ]
  },
  {
   "cell_type": "code",
   "execution_count": 1,
   "metadata": {},
   "outputs": [],
   "source": [
    "!rm -rf *.log\n",
    "!rm -rf *.pdf\n",
    "!rm -rf algorithms*\n",
    "!rm -rf warehouse*"
   ]
  },
  {
   "cell_type": "markdown",
   "metadata": {},
   "source": [
    "<br>\n",
    "\n",
    "### Libraries"
   ]
  },
  {
   "cell_type": "code",
   "execution_count": 2,
   "metadata": {},
   "outputs": [],
   "source": [
    "import pandas as pd\n",
    "import numpy as np\n",
    "import logging\n",
    "import os\n",
    "\n",
    "import zipfile\n",
    "import requests\n",
    "import io"
   ]
  },
  {
   "cell_type": "markdown",
   "metadata": {},
   "source": [
    "<br>\n",
    "\n",
    "### Logging"
   ]
  },
  {
   "cell_type": "code",
   "execution_count": 3,
   "metadata": {},
   "outputs": [],
   "source": [
    "logging.basicConfig(level=logging.INFO)\n",
    "logger = logging.getLogger(__name__)"
   ]
  },
  {
   "cell_type": "markdown",
   "metadata": {},
   "source": [
    "<br>\n",
    "\n",
    "### Custom Classes"
   ]
  },
  {
   "cell_type": "markdown",
   "metadata": {},
   "source": [
    "From GitHub"
   ]
  },
  {
   "cell_type": "code",
   "execution_count": 4,
   "metadata": {},
   "outputs": [],
   "source": [
    "url = 'https://github.com/briefings/sars/raw/develop/fundamentals/algorithms/algorithms.zip'\n",
    "\n",
    "try:\n",
    "    req = requests.get(url=url)\n",
    "    req.raise_for_status()\n",
    "except requests.exceptions.RequestException as err:\n",
    "    raise err"
   ]
  },
  {
   "cell_type": "code",
   "execution_count": 5,
   "metadata": {},
   "outputs": [],
   "source": [
    "obj = zipfile.ZipFile(io.BytesIO(req.content))\n",
    "obj.extractall()"
   ]
  },
  {
   "cell_type": "markdown",
   "metadata": {},
   "source": [
    "<br>\n",
    "\n",
    "Import"
   ]
  },
  {
   "cell_type": "code",
   "execution_count": 6,
   "metadata": {},
   "outputs": [],
   "source": [
    "import algorithms.base.delta\n",
    "import algorithms.base.difference\n",
    "import algorithms.base.quantiles\n",
    "import algorithms.misc.doublet"
   ]
  },
  {
   "cell_type": "markdown",
   "metadata": {},
   "source": [
    "<br>\n",
    "\n",
    "### Directories"
   ]
  },
  {
   "cell_type": "code",
   "execution_count": 7,
   "metadata": {},
   "outputs": [],
   "source": [
    "warehouse = 'warehouse'\n",
    "if not os.path.exists(warehouse):\n",
    "    os.makedirs(warehouse)"
   ]
  },
  {
   "cell_type": "markdown",
   "metadata": {},
   "source": [
    "<br>\n",
    "<br>\n",
    "\n",
    "## Analysis"
   ]
  },
  {
   "cell_type": "markdown",
   "metadata": {},
   "source": [
    "### Data"
   ]
  },
  {
   "cell_type": "markdown",
   "metadata": {},
   "source": [
    "<br>\n",
    "\n",
    "**Get**"
   ]
  },
  {
   "cell_type": "code",
   "execution_count": 8,
   "metadata": {},
   "outputs": [],
   "source": [
    "dataurl = 'https://raw.githubusercontent.com/briefings/sars/develop/fundamentals/atlantic/warehouse/baselines.csv'\n",
    "\n",
    "parse_dates = ['datetimeobject']\n",
    "baselines = pd.read_csv(filepath_or_buffer=dataurl, header=0, encoding='utf-8', parse_dates=parse_dates)"
   ]
  },
  {
   "cell_type": "code",
   "execution_count": 9,
   "metadata": {},
   "outputs": [
    {
     "name": "stderr",
     "output_type": "stream",
     "text": [
      "INFO:__main__:\n",
      "None\n"
     ]
    },
    {
     "name": "stdout",
     "output_type": "stream",
     "text": [
      "<class 'pandas.core.frame.DataFrame'>\n",
      "RangeIndex: 12012 entries, 0 to 12011\n",
      "Data columns (total 23 columns):\n",
      " #   Column                    Non-Null Count  Dtype         \n",
      "---  ------                    --------------  -----         \n",
      " 0   datetimeobject            12012 non-null  datetime64[ns]\n",
      " 1   STUSPS                    12012 non-null  object        \n",
      " 2   deathIncrease             12012 non-null  float64       \n",
      " 3   deathCumulative           12012 non-null  float64       \n",
      " 4   positiveIncrease          12012 non-null  float64       \n",
      " 5   positiveCumulative        12012 non-null  float64       \n",
      " 6   icuIncrease               12012 non-null  float64       \n",
      " 7   icuCumulative             12012 non-null  float64       \n",
      " 8   hospitalizedIncrease      12012 non-null  float64       \n",
      " 9   hospitalizedCumulative    12012 non-null  float64       \n",
      " 10  testIncrease              12012 non-null  float64       \n",
      " 11  testCumulative            12012 non-null  float64       \n",
      " 12  deathRate                 12012 non-null  float64       \n",
      " 13  positiveRate              12012 non-null  float64       \n",
      " 14  testRate                  12012 non-null  float64       \n",
      " 15  icuRate                   12012 non-null  float64       \n",
      " 16  hospitalizedRate          12012 non-null  float64       \n",
      " 17  deathIncreaseRate         12012 non-null  float64       \n",
      " 18  positiveIncreaseRate      12012 non-null  float64       \n",
      " 19  testIncreaseRate          12012 non-null  float64       \n",
      " 20  icuIncreaseRate           12012 non-null  float64       \n",
      " 21  hospitalizedIncreaseRate  12012 non-null  float64       \n",
      " 22  ndays                     12012 non-null  int64         \n",
      "dtypes: datetime64[ns](1), float64(20), int64(1), object(1)\n",
      "memory usage: 2.1+ MB\n"
     ]
    }
   ],
   "source": [
    "logger.info('\\n{}'.format(baselines.info()))"
   ]
  },
  {
   "cell_type": "markdown",
   "metadata": {},
   "source": [
    "<br>\n",
    "\n",
    "**Periods, Places**"
   ]
  },
  {
   "cell_type": "code",
   "execution_count": 10,
   "metadata": {},
   "outputs": [
    {
     "data": {
      "text/plain": [
       "array([ 6,  7,  8,  9, 10, 11, 12, 13, 14, 15, 16, 17, 18, 19, 20, 21])"
      ]
     },
     "execution_count": 10,
     "metadata": {},
     "output_type": "execute_result"
    }
   ],
   "source": [
    "periods = np.arange(6, 22, 1)\n",
    "periods"
   ]
  },
  {
   "cell_type": "code",
   "execution_count": 11,
   "metadata": {},
   "outputs": [
    {
     "data": {
      "text/plain": [
       "'STUSPS'"
      ]
     },
     "execution_count": 11,
     "metadata": {},
     "output_type": "execute_result"
    }
   ],
   "source": [
    "placestype = 'STUSPS'\n",
    "placestype"
   ]
  },
  {
   "cell_type": "code",
   "execution_count": 12,
   "metadata": {},
   "outputs": [
    {
     "data": {
      "text/plain": [
       "array(['AL', 'AK', 'AZ', 'AR', 'CA', 'CO', 'CT', 'DE', 'DC', 'FL', 'GA',\n",
       "       'HI', 'ID', 'IL', 'IN', 'IA', 'KS', 'KY', 'LA', 'ME', 'MD', 'MA',\n",
       "       'MI', 'MN', 'MS', 'MO', 'MT', 'NE', 'NV', 'NH', 'NJ', 'NM', 'NY',\n",
       "       'NC', 'ND', 'OH', 'OK', 'OR', 'PA', 'RI', 'SC', 'SD', 'TN', 'TX',\n",
       "       'UT', 'VT', 'VA', 'WA', 'WV', 'WI', 'WY', 'PR'], dtype=object)"
      ]
     },
     "execution_count": 12,
     "metadata": {},
     "output_type": "execute_result"
    }
   ],
   "source": [
    "places = baselines[placestype].unique()\n",
    "places"
   ]
  },
  {
   "cell_type": "markdown",
   "metadata": {},
   "source": [
    "<br>\n",
    "\n",
    "### Positive Test Rate"
   ]
  },
  {
   "cell_type": "markdown",
   "metadata": {},
   "source": [
    "Positive test rates for varying periods\n",
    "\n",
    "$\\qquad \\qquad \\rho_{\\tau, \\Delta} = 100 * \\Large{ \\frac{C_{\\tau} - C_{\\tau - \\Delta}}{T_{\\tau} - T_{\\tau - \\Delta}} }$\n",
    "\n",
    "* $\\tau$: date\n",
    "* $\\Delta$: days\n",
    "* $\\rho_{\\tau, \\Delta}$: The positive test rate on date $\\tau$ w.r.t. a delay of $\\Delta$ days, i.e., relative to $\\Delta$ days previously.\n",
    "\n",
    "* $C_{\\tau}$: the cumulative number of positive cases by date $\\tau$.\n",
    "* $C_{\\tau - \\Delta}$: the cumulative number of positive cases by $\\Delta$ days previously, relative to date $\\tau$.\n",
    "\n",
    "* $T_{\\tau}$: the cumulative number of tests by date $\\tau$.\n",
    "* $T_{\\tau - \\Delta}$: the cumulative number of tests by $\\Delta$ days previously, relative to date $\\tau$.\n"
   ]
  },
  {
   "cell_type": "code",
   "execution_count": 13,
   "metadata": {},
   "outputs": [],
   "source": [
    "numerator = 'positiveCumulative'\n",
    "denominator = 'testCumulative'\n",
    "\n",
    "doublet = algorithms.misc.doublet.Doublet(blob=baselines, periods=periods, places=places, placestype=placestype)\n",
    "ptr = doublet.exc(numerator=numerator, denominator=denominator)\n",
    "ptr.rename(columns={'rates': 'positiveTestRate'}, inplace=True)"
   ]
  },
  {
   "cell_type": "markdown",
   "metadata": {},
   "source": [
    "<br>\n",
    "\n",
    "### Tests/Case"
   ]
  },
  {
   "cell_type": "markdown",
   "metadata": {},
   "source": [
    "Tests per case for varying periods, i.e.,\n",
    "\n",
    "$\\qquad \\qquad \\large{{tpc}_{_{\\tau, \\Delta}}} = \\Large{\\frac{100}{\\rho_{\\tau, \\Delta}}}$\n"
   ]
  },
  {
   "cell_type": "code",
   "execution_count": 14,
   "metadata": {},
   "outputs": [
    {
     "name": "stderr",
     "output_type": "stream",
     "text": [
      "INFO:__main__:\n",
      "       datetimeobject STUSPS   period  positiveTestRate  testsPerCase\n",
      "181787     2020-09-04     PR  21 days             100.0           1.0\n",
      "181788     2020-09-05     PR  21 days             100.0           1.0\n",
      "181789     2020-09-06     PR  21 days             100.0           1.0\n",
      "181790     2020-09-07     PR  21 days             100.0           1.0\n",
      "181791     2020-09-08     PR  21 days             100.0           1.0\n"
     ]
    }
   ],
   "source": [
    "ptr.loc[:, 'testsPerCase'] = np.where(ptr['positiveTestRate'] > 0, ptr['positiveTestRate'].rdiv(100), 0 )\n",
    "logger.info('\\n{}'.format(ptr.tail()))"
   ]
  },
  {
   "cell_type": "markdown",
   "metadata": {},
   "source": [
    "<br>\n",
    "\n",
    "### Rolling Quantiles"
   ]
  },
  {
   "cell_type": "markdown",
   "metadata": {},
   "source": [
    "Medians"
   ]
  },
  {
   "cell_type": "code",
   "execution_count": 15,
   "metadata": {},
   "outputs": [],
   "source": [
    "medians: pd.DataFrame = pd.DataFrame()\n",
    "\n",
    "for event in ['positiveIncreaseRate', 'testIncreaseRate', 'deathIncreaseRate', 'icuIncreaseRate', 'hospitalizedIncreaseRate']:\n",
    "\n",
    "    # Focus on\n",
    "    base = baselines[['datetimeobject', 'STUSPS', event]].copy()\n",
    "\n",
    "    # Pivot -> such that each field is a place, and each instance of a field is a date in time\n",
    "    segment = base.pivot(index='datetimeobject', columns='STUSPS', values=event)\n",
    "\n",
    "    # Quantiles\n",
    "    quantiles = algorithms.base.quantiles.Quantiles(data=segment, places=places, placestype=placestype)\n",
    "    values = quantiles.exc(periods=periods, quantile=0.5, quantiletype=event + 'Median')\n",
    "\n",
    "    # Structuring\n",
    "    if medians.empty:\n",
    "        medians = values\n",
    "    else:\n",
    "        medians = medians.merge(values, how='inner', on=['datetimeobject', 'STUSPS', 'period'])\n"
   ]
  },
  {
   "cell_type": "code",
   "execution_count": 16,
   "metadata": {},
   "outputs": [],
   "source": [
    "names = {i: i.replace('IncreaseRateMedian', 'IRM') for i in \n",
    "         ['positiveIncreaseRateMedian', 'testIncreaseRateMedian', 'deathIncreaseRateMedian', \n",
    "          'icuIncreaseRateMedian', 'hospitalizedIncreaseRateMedian']}\n",
    "\n",
    "medians.rename(columns=names, inplace=True)"
   ]
  },
  {
   "cell_type": "code",
   "execution_count": 17,
   "metadata": {},
   "outputs": [
    {
     "name": "stderr",
     "output_type": "stream",
     "text": [
      "INFO:__main__:\n",
      "None\n"
     ]
    },
    {
     "name": "stdout",
     "output_type": "stream",
     "text": [
      "<class 'pandas.core.frame.DataFrame'>\n",
      "Int64Index: 181792 entries, 0 to 181791\n",
      "Data columns (total 8 columns):\n",
      " #   Column           Non-Null Count   Dtype         \n",
      "---  ------           --------------   -----         \n",
      " 0   datetimeobject   181792 non-null  datetime64[ns]\n",
      " 1   STUSPS           181792 non-null  object        \n",
      " 2   positiveIRM      181792 non-null  float64       \n",
      " 3   period           181792 non-null  object        \n",
      " 4   testIRM          181792 non-null  float64       \n",
      " 5   deathIRM         181792 non-null  float64       \n",
      " 6   icuIRM           181792 non-null  float64       \n",
      " 7   hospitalizedIRM  181792 non-null  float64       \n",
      "dtypes: datetime64[ns](1), float64(5), object(2)\n",
      "memory usage: 12.5+ MB\n"
     ]
    }
   ],
   "source": [
    "logger.info('\\n{}'.format(medians.info()))"
   ]
  },
  {
   "cell_type": "markdown",
   "metadata": {},
   "source": [
    "<br>\n",
    "\n",
    "### Merge"
   ]
  },
  {
   "cell_type": "code",
   "execution_count": 18,
   "metadata": {},
   "outputs": [],
   "source": [
    "calculations = medians.merge(ptr, how='inner', on=['datetimeobject', 'STUSPS', 'period'])"
   ]
  },
  {
   "cell_type": "code",
   "execution_count": 19,
   "metadata": {},
   "outputs": [
    {
     "name": "stderr",
     "output_type": "stream",
     "text": [
      "INFO:__main__:\n",
      "None\n"
     ]
    },
    {
     "name": "stdout",
     "output_type": "stream",
     "text": [
      "<class 'pandas.core.frame.DataFrame'>\n",
      "Int64Index: 181792 entries, 0 to 181791\n",
      "Data columns (total 10 columns):\n",
      " #   Column            Non-Null Count   Dtype         \n",
      "---  ------            --------------   -----         \n",
      " 0   datetimeobject    181792 non-null  datetime64[ns]\n",
      " 1   STUSPS            181792 non-null  object        \n",
      " 2   positiveIRM       181792 non-null  float64       \n",
      " 3   period            181792 non-null  object        \n",
      " 4   testIRM           181792 non-null  float64       \n",
      " 5   deathIRM          181792 non-null  float64       \n",
      " 6   icuIRM            181792 non-null  float64       \n",
      " 7   hospitalizedIRM   181792 non-null  float64       \n",
      " 8   positiveTestRate  181792 non-null  float64       \n",
      " 9   testsPerCase      181792 non-null  float64       \n",
      "dtypes: datetime64[ns](1), float64(7), object(2)\n",
      "memory usage: 15.3+ MB\n"
     ]
    }
   ],
   "source": [
    "logger.info('\\n{}'.format(calculations.info()))"
   ]
  },
  {
   "cell_type": "markdown",
   "metadata": {},
   "source": [
    "<br>\n",
    "\n",
    "## Write"
   ]
  },
  {
   "cell_type": "code",
   "execution_count": 20,
   "metadata": {},
   "outputs": [],
   "source": [
    "select = ['datetimeobject', 'STUSPS', 'positiveTestRate', 'testsPerCase', 'positiveIRM', \n",
    "          'testIRM', 'deathIRM', 'icuIRM', 'hospitalizedIRM', 'period']"
   ]
  },
  {
   "cell_type": "code",
   "execution_count": 21,
   "metadata": {},
   "outputs": [],
   "source": [
    "calculations[select].to_csv(path_or_buf=os.path.join(warehouse, 'trends.csv'), header=True, index=False, encoding='utf-8')"
   ]
  },
  {
   "cell_type": "markdown",
   "metadata": {},
   "source": [
    "<br>\n",
    "\n",
    "## Clean-up"
   ]
  },
  {
   "cell_type": "code",
   "execution_count": 22,
   "metadata": {},
   "outputs": [],
   "source": [
    "!rm -rf *.log\n",
    "!rm -rf *.pdf\n",
    "!rm -rf algorithms*"
   ]
  }
 ],
 "metadata": {
  "kernelspec": {
   "display_name": "Python 3",
   "language": "python",
   "name": "python3"
  },
  "language_info": {
   "codemirror_mode": {
    "name": "ipython",
    "version": 3
   },
   "file_extension": ".py",
   "mimetype": "text/x-python",
   "name": "python",
   "nbconvert_exporter": "python",
   "pygments_lexer": "ipython3",
   "version": "3.7.7"
  }
 },
 "nbformat": 4,
 "nbformat_minor": 4
}
