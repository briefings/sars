{
 "cells": [
  {
   "cell_type": "markdown",
   "metadata": {},
   "source": [
    "## Preliminaries"
   ]
  },
  {
   "cell_type": "markdown",
   "metadata": {},
   "source": [
    "### Libraries"
   ]
  },
  {
   "cell_type": "code",
   "execution_count": 1,
   "metadata": {},
   "outputs": [],
   "source": [
    "import glob\n",
    "import os\n",
    "\n",
    "import numpy as np\n",
    "import pandas as pd\n",
    "import dask.dataframe as dd\n",
    "\n",
    "import pathlib\n",
    "import sys"
   ]
  },
  {
   "cell_type": "markdown",
   "metadata": {},
   "source": [
    "<br>\n",
    "\n",
    "### Paths"
   ]
  },
  {
   "cell_type": "markdown",
   "metadata": {},
   "source": [
    "Environment paths"
   ]
  },
  {
   "cell_type": "code",
   "execution_count": 2,
   "metadata": {},
   "outputs": [],
   "source": [
    "child = os.getcwd()\n",
    "parent = str(pathlib.Path(child).parent)"
   ]
  },
  {
   "cell_type": "markdown",
   "metadata": {},
   "source": [
    "<br>\n",
    "\n",
    "Appending paths"
   ]
  },
  {
   "cell_type": "code",
   "execution_count": 3,
   "metadata": {},
   "outputs": [],
   "source": [
    "sys.path.append(parent)"
   ]
  },
  {
   "cell_type": "markdown",
   "metadata": {},
   "source": [
    "<br>\n",
    "\n",
    "Local warehouse paths"
   ]
  },
  {
   "cell_type": "code",
   "execution_count": 4,
   "metadata": {},
   "outputs": [],
   "source": [
    "warehouse = os.path.join(child, 'warehouse')\n",
    "statespath = os.path.join(warehouse, 'states')\n",
    "candlespath = os.path.join(warehouse, 'states', 'candles')"
   ]
  },
  {
   "cell_type": "markdown",
   "metadata": {},
   "source": [
    "<br>\n",
    "\n",
    "Data source path"
   ]
  },
  {
   "cell_type": "code",
   "execution_count": 5,
   "metadata": {},
   "outputs": [],
   "source": [
    "sourcepath = os.path.join(parent, 'warehouse')"
   ]
  },
  {
   "cell_type": "markdown",
   "metadata": {},
   "source": [
    "<br>\n",
    "<br>\n",
    "\n",
    "### Custom"
   ]
  },
  {
   "cell_type": "code",
   "execution_count": 6,
   "metadata": {},
   "outputs": [],
   "source": [
    "import hopkins.base.directories\n",
    "import candles.candlesticks\n",
    "import hopkins.algorithms.gridlines\n",
    "import config"
   ]
  },
  {
   "cell_type": "markdown",
   "metadata": {},
   "source": [
    "<br>\n",
    "\n",
    "Directories"
   ]
  },
  {
   "cell_type": "code",
   "execution_count": 7,
   "metadata": {},
   "outputs": [],
   "source": [
    "directories = hopkins.base.directories.Directories()\n",
    "directories.create(listof=[statespath, candlespath])"
   ]
  },
  {
   "cell_type": "markdown",
   "metadata": {},
   "source": [
    "<br>\n",
    "<br>\n",
    "\n",
    "## Gazetteer"
   ]
  },
  {
   "cell_type": "markdown",
   "metadata": {},
   "source": [
    "Initially"
   ]
  },
  {
   "cell_type": "code",
   "execution_count": 8,
   "metadata": {},
   "outputs": [],
   "source": [
    "initial = pd.read_csv(\n",
    "    filepath_or_buffer=os.path.join(sourcepath, 'gazetteer.csv'), header=0, encoding='utf-8', \n",
    "    usecols=['STATEFP', 'STUSPS', 'STATE', 'STATESQMETRES', 'REGIONFP', 'REGION', \n",
    "             'DIVISIONFP', 'DIVISION', 'COUNTYGEOID', 'POPESTIMATE2019'], \n",
    "    dtype={'STATEFP': str, 'STUSPS': str, 'STATE': str, 'STATESQMETRES': np.longlong, 'REGIONFP': int, 'REGION': str, \n",
    "           'DIVISIONFP': int, 'DIVISION': str, 'COUNTYGEOID': str, 'POPESTIMATE2019': np.longlong})"
   ]
  },
  {
   "cell_type": "code",
   "execution_count": 9,
   "metadata": {},
   "outputs": [
    {
     "name": "stdout",
     "output_type": "stream",
     "text": [
      "<class 'pandas.core.frame.DataFrame'>\n",
      "RangeIndex: 3220 entries, 0 to 3219\n",
      "Data columns (total 10 columns):\n",
      " #   Column           Non-Null Count  Dtype \n",
      "---  ------           --------------  ----- \n",
      " 0   STATEFP          3220 non-null   object\n",
      " 1   STUSPS           3220 non-null   object\n",
      " 2   STATE            3220 non-null   object\n",
      " 3   STATESQMETRES    3220 non-null   int64 \n",
      " 4   COUNTYGEOID      3220 non-null   object\n",
      " 5   REGIONFP         3220 non-null   int32 \n",
      " 6   DIVISIONFP       3220 non-null   int32 \n",
      " 7   REGION           3220 non-null   object\n",
      " 8   DIVISION         3220 non-null   object\n",
      " 9   POPESTIMATE2019  3220 non-null   int64 \n",
      "dtypes: int32(2), int64(2), object(6)\n",
      "memory usage: 226.5+ KB\n"
     ]
    }
   ],
   "source": [
    "initial.info()"
   ]
  },
  {
   "cell_type": "markdown",
   "metadata": {},
   "source": [
    "<br>\n",
    "\n",
    "Gazetteer"
   ]
  },
  {
   "cell_type": "code",
   "execution_count": 10,
   "metadata": {},
   "outputs": [],
   "source": [
    "gazetteer = initial.groupby(by=['STATEFP', 'STUSPS', 'STATE', 'STATESQMETRES', 'REGIONFP', 'REGION', 'DIVISIONFP', 'DIVISION']).sum()\n",
    "gazetteer.reset_index(drop=False, inplace=True)\n",
    "gazetteer.rename(columns={'STATESQMETRES': 'ALAND'}, inplace=True)"
   ]
  },
  {
   "cell_type": "code",
   "execution_count": 11,
   "metadata": {},
   "outputs": [],
   "source": [
    "gazetteer.to_csv(path_or_buf=os.path.join(statespath, 'gazetteer.csv'), index=False, header=True, encoding='utf-8')"
   ]
  },
  {
   "cell_type": "code",
   "execution_count": 12,
   "metadata": {},
   "outputs": [
    {
     "name": "stdout",
     "output_type": "stream",
     "text": [
      "<class 'pandas.core.frame.DataFrame'>\n",
      "RangeIndex: 52 entries, 0 to 51\n",
      "Data columns (total 9 columns):\n",
      " #   Column           Non-Null Count  Dtype \n",
      "---  ------           --------------  ----- \n",
      " 0   STATEFP          52 non-null     object\n",
      " 1   STUSPS           52 non-null     object\n",
      " 2   STATE            52 non-null     object\n",
      " 3   ALAND            52 non-null     int64 \n",
      " 4   REGIONFP         52 non-null     int64 \n",
      " 5   REGION           52 non-null     object\n",
      " 6   DIVISIONFP       52 non-null     int64 \n",
      " 7   DIVISION         52 non-null     object\n",
      " 8   POPESTIMATE2019  52 non-null     int64 \n",
      "dtypes: int64(4), object(5)\n",
      "memory usage: 3.8+ KB\n"
     ]
    }
   ],
   "source": [
    "gazetteer.info()"
   ]
  },
  {
   "cell_type": "markdown",
   "metadata": {},
   "source": [
    "<br>\n",
    "<br>\n",
    "\n",
    "## Data"
   ]
  },
  {
   "cell_type": "markdown",
   "metadata": {},
   "source": [
    "### Background"
   ]
  },
  {
   "cell_type": "markdown",
   "metadata": {},
   "source": [
    "<br>\n",
    "\n",
    "Attributes\n"
   ]
  },
  {
   "cell_type": "code",
   "execution_count": 13,
   "metadata": {},
   "outputs": [],
   "source": [
    "fields = ['datetimeobject', 'epochmilli', 'STUSPS', 'COUNTYGEOID', \n",
    "          'positiveIncrease', 'positiveCumulative', 'deathIncrease', 'deathCumulative', 'ndays']\n",
    "\n",
    "dtype = {'epochmilli': np.longlong, 'STUSPS': str,  'COUNTYGEOID': str, 'positiveIncrease': np.float64, 'positiveCumulative': np.float64, \n",
    "         'deathIncrease': np.float64, 'deathCumulative': np.float64, 'ndays': np.int64}\n",
    "\n",
    "parse_dates = ['datetimeobject']\n",
    "\n",
    "kwargs = {'usecols': fields, 'encoding': 'UTF-8', 'header': 0, 'dtype': dtype, 'parse_dates': parse_dates}"
   ]
  },
  {
   "cell_type": "markdown",
   "metadata": {},
   "source": [
    "<br>\n",
    "\n",
    "URI/URL Strings"
   ]
  },
  {
   "cell_type": "code",
   "execution_count": 14,
   "metadata": {},
   "outputs": [],
   "source": [
    "uristrings = glob.glob(os.path.join(sourcepath, 'baselines', '*.csv'))"
   ]
  },
  {
   "cell_type": "markdown",
   "metadata": {},
   "source": [
    "<br>\n",
    "\n",
    "### The Baseline"
   ]
  },
  {
   "cell_type": "markdown",
   "metadata": {},
   "source": [
    "* Dask Scheduler: *distributed, multiprocessing, processes, single-threaded, sync, synchronous, threading, threads*"
   ]
  },
  {
   "cell_type": "code",
   "execution_count": 15,
   "metadata": {},
   "outputs": [],
   "source": [
    "try:\n",
    "    streams = dd.read_csv(urlpath=uristrings, blocksize=None, **kwargs)\n",
    "except OSError as err:\n",
    "    raise err"
   ]
  },
  {
   "cell_type": "code",
   "execution_count": 16,
   "metadata": {},
   "outputs": [],
   "source": [
    "streams = streams.drop(columns=['COUNTYGEOID'])\n",
    "computations = streams.groupby(by=['datetimeobject', 'epochmilli', 'STUSPS', 'ndays']).sum()\n",
    "\n",
    "computations.visualize(filename='try', format='pdf')\n",
    "baselines = computations.compute(scheduler='processes')\n",
    "baselines.reset_index(drop=False, inplace=True)"
   ]
  },
  {
   "cell_type": "code",
   "execution_count": 17,
   "metadata": {},
   "outputs": [
    {
     "name": "stdout",
     "output_type": "stream",
     "text": [
      "<class 'pandas.core.frame.DataFrame'>\n",
      "RangeIndex: 22620 entries, 0 to 22619\n",
      "Data columns (total 8 columns):\n",
      " #   Column              Non-Null Count  Dtype         \n",
      "---  ------              --------------  -----         \n",
      " 0   datetimeobject      22620 non-null  datetime64[ns]\n",
      " 1   epochmilli          22620 non-null  int64         \n",
      " 2   STUSPS              22620 non-null  object        \n",
      " 3   ndays               22620 non-null  int64         \n",
      " 4   positiveIncrease    22620 non-null  float64       \n",
      " 5   positiveCumulative  22620 non-null  float64       \n",
      " 6   deathIncrease       22620 non-null  float64       \n",
      " 7   deathCumulative     22620 non-null  float64       \n",
      "dtypes: datetime64[ns](1), float64(4), int64(2), object(1)\n",
      "memory usage: 1.4+ MB\n"
     ]
    }
   ],
   "source": [
    "baselines.info()"
   ]
  },
  {
   "cell_type": "markdown",
   "metadata": {},
   "source": [
    "<br>\n",
    "\n",
    "### Enhancing the baseline"
   ]
  },
  {
   "cell_type": "markdown",
   "metadata": {},
   "source": [
    "Include population values"
   ]
  },
  {
   "cell_type": "code",
   "execution_count": 18,
   "metadata": {},
   "outputs": [],
   "source": [
    "baselines = baselines.merge(gazetteer[['STUSPS', 'POPESTIMATE2019']], how='left', on='STUSPS')"
   ]
  },
  {
   "cell_type": "markdown",
   "metadata": {},
   "source": [
    "<br>\n",
    "\n",
    "The $values/100K$ calculations"
   ]
  },
  {
   "cell_type": "code",
   "execution_count": 19,
   "metadata": {},
   "outputs": [],
   "source": [
    "supplement = 100000 * baselines[['positiveIncrease', 'positiveCumulative', 'deathIncrease', \n",
    "                                 'deathCumulative']].div(baselines['POPESTIMATE2019'], axis=0)\n",
    "supplement.rename(columns={'positiveIncrease': 'positiveIncreaseRate', 'positiveCumulative': 'positiveRate', \n",
    "                       'deathIncrease': 'deathIncreaseRate', 'deathCumulative': 'deathRate'}, inplace=True)"
   ]
  },
  {
   "cell_type": "markdown",
   "metadata": {},
   "source": [
    "<br>\n",
    "\n",
    "Altogether"
   ]
  },
  {
   "cell_type": "code",
   "execution_count": 20,
   "metadata": {},
   "outputs": [],
   "source": [
    "baselines = baselines.join(supplement)"
   ]
  },
  {
   "cell_type": "code",
   "execution_count": 21,
   "metadata": {},
   "outputs": [
    {
     "name": "stdout",
     "output_type": "stream",
     "text": [
      "<class 'pandas.core.frame.DataFrame'>\n",
      "Int64Index: 22620 entries, 0 to 22619\n",
      "Data columns (total 13 columns):\n",
      " #   Column                Non-Null Count  Dtype         \n",
      "---  ------                --------------  -----         \n",
      " 0   datetimeobject        22620 non-null  datetime64[ns]\n",
      " 1   epochmilli            22620 non-null  int64         \n",
      " 2   STUSPS                22620 non-null  object        \n",
      " 3   ndays                 22620 non-null  int64         \n",
      " 4   positiveIncrease      22620 non-null  float64       \n",
      " 5   positiveCumulative    22620 non-null  float64       \n",
      " 6   deathIncrease         22620 non-null  float64       \n",
      " 7   deathCumulative       22620 non-null  float64       \n",
      " 8   POPESTIMATE2019       22620 non-null  int64         \n",
      " 9   positiveIncreaseRate  22620 non-null  float64       \n",
      " 10  positiveRate          22620 non-null  float64       \n",
      " 11  deathIncreaseRate     22620 non-null  float64       \n",
      " 12  deathRate             22620 non-null  float64       \n",
      "dtypes: datetime64[ns](1), float64(8), int64(3), object(1)\n",
      "memory usage: 3.0+ MB\n"
     ]
    }
   ],
   "source": [
    "baselines.info()"
   ]
  },
  {
   "cell_type": "markdown",
   "metadata": {},
   "source": [
    "<br>\n",
    "\n",
    "### Surveillance"
   ]
  },
  {
   "cell_type": "code",
   "execution_count": 22,
   "metadata": {},
   "outputs": [],
   "source": [
    "capita = baselines[['datetimeobject', 'epochmilli', 'STUSPS', 'positiveRate', 'deathRate']]\n",
    "\n",
    "gridlines = hopkins.algorithms.gridlines.GridLines(death_rate_max=capita['deathRate'].max(), \n",
    "                                                   positive_rate_max=capita['positiveRate'].max()).dpr()\n",
    "\n",
    "capita = pd.concat([capita, gridlines.drop(columns=['COUNTYGEOID'])], axis=0, ignore_index=True)"
   ]
  },
  {
   "cell_type": "markdown",
   "metadata": {},
   "source": [
    "<br>\n",
    "\n",
    "### Write"
   ]
  },
  {
   "cell_type": "code",
   "execution_count": 23,
   "metadata": {},
   "outputs": [],
   "source": [
    "baselines.to_csv(path_or_buf=os.path.join(statespath, 'baselines.csv'), index=False, header=True, encoding='utf-8')\n",
    "capita.to_csv(path_or_buf=os.path.join(statespath, 'capita.csv'), index=False, header=True, encoding='utf-8')"
   ]
  },
  {
   "cell_type": "markdown",
   "metadata": {},
   "source": [
    "<br>\n",
    "<br>\n",
    "\n",
    "## Candles"
   ]
  },
  {
   "cell_type": "code",
   "execution_count": 24,
   "metadata": {},
   "outputs": [],
   "source": [
    "days = baselines[['epochmilli']].drop_duplicates()\n",
    "days.sort_values(by='epochmilli', axis=0, ascending=True, inplace=True)\n",
    "\n",
    "points = np.array((0.1, 0.25, 0.5, 0.75, 0.9))\n",
    "candlesticks = candles.candlesticks.CandleSticks(days=days, points=points)"
   ]
  },
  {
   "cell_type": "code",
   "execution_count": 25,
   "metadata": {},
   "outputs": [],
   "source": [
    "via = 'STUSPS'\n",
    "variables = ['positiveIncrease', 'positiveIncreaseRate', 'positiveCumulative', 'positiveRate',\n",
    "            'deathIncrease', 'deathIncreaseRate', 'deathCumulative', 'deathRate']"
   ]
  },
  {
   "cell_type": "code",
   "execution_count": 26,
   "metadata": {},
   "outputs": [],
   "source": [
    "for variable in variables:\n",
    "    \n",
    "    readings = baselines[['epochmilli', via, variable]]\n",
    "    pivoted = readings.pivot(index=via, columns='epochmilli', values=variable)\n",
    "    patterns = candlesticks.execute(data=pivoted, fields=days['epochmilli'].values)\n",
    "\n",
    "    if variable.endswith('Rate'):\n",
    "        patterns.drop(columns=['tally'], inplace=True)\n",
    "\n",
    "    if variable.endswith('Increase'):\n",
    "        patterns.loc[:, 'tallycumulative'] = patterns['tally'].cumsum(axis=0)\n",
    "\n",
    "    patterns.to_json(path_or_buf=os.path.join(candlespath, '{}.json'.format(variable)), orient='values')"
   ]
  },
  {
   "cell_type": "markdown",
   "metadata": {},
   "source": [
    "<br>\n",
    "<br>\n",
    "\n",
    "## End"
   ]
  },
  {
   "cell_type": "markdown",
   "metadata": {},
   "source": [
    "Clean-up"
   ]
  },
  {
   "cell_type": "raw",
   "metadata": {},
   "source": [
    "configurations = config.Config()\n",
    "utilities_list = [os.path.join(parent, directory) for directory in configurations.utilities_list]\n",
    "utilities_list.remove('algorithms').remove('candles')\n",
    "hopkins.base.directories.Directories().cleanup(listof=utilities_list)"
   ]
  },
  {
   "cell_type": "markdown",
   "metadata": {},
   "source": [
    "<br>\n",
    "\n",
    "Time"
   ]
  },
  {
   "cell_type": "code",
   "execution_count": 27,
   "metadata": {},
   "outputs": [
    {
     "name": "stdout",
     "output_type": "stream",
     "text": [
      "2021-05-18 19:22:10\n"
     ]
    }
   ],
   "source": [
    "%%bash\n",
    "\n",
    "date +\"%Y-%m-%d %T\""
   ]
  }
 ],
 "metadata": {
  "kernelspec": {
   "display_name": "Python 3",
   "language": "python",
   "name": "python3"
  },
  "language_info": {
   "codemirror_mode": {
    "name": "ipython",
    "version": 3
   },
   "file_extension": ".py",
   "mimetype": "text/x-python",
   "name": "python",
   "nbconvert_exporter": "python",
   "pygments_lexer": "ipython3",
   "version": "3.7.7"
  }
 },
 "nbformat": 4,
 "nbformat_minor": 4
}
