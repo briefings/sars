{
  "nbformat": 4,
  "nbformat_minor": 0,
  "metadata": {
    "colab": {
      "name": "risks.ipynb",
      "provenance": [],
      "collapsed_sections": [],
      "toc_visible": true
    },
    "kernelspec": {
      "name": "python3",
      "display_name": "Python 3"
    }
  },
  "cells": [
    {
      "cell_type": "markdown",
      "metadata": {
        "id": "dS3e4szaMx6N",
        "colab_type": "text"
      },
      "source": [
        "## Preliminaries\n",
        "\n"
      ]
    },
    {
      "cell_type": "markdown",
      "metadata": {
        "id": "9SwPGNq9BVgh",
        "colab_type": "text"
      },
      "source": [
        "Prepare"
      ]
    },
    {
      "cell_type": "code",
      "metadata": {
        "id": "6jIDykjxUYmg",
        "colab_type": "code",
        "colab": {}
      },
      "source": [
        "%%bash\n",
        "rm -rf counties && rm -rf states\n",
        "\n",
        "rm -rf *.log\n",
        "\n",
        "rm -rf *.zip && rm -rf *.csv\n",
        "\n",
        "wget -q https://github.com/miscellane/cartographs/raw/develop/cartographs.zip"
      ],
      "execution_count": 1,
      "outputs": []
    },
    {
      "cell_type": "markdown",
      "metadata": {
        "id": "dkx_9j04Ulzg",
        "colab_type": "text"
      },
      "source": [
        "<br>\n",
        "\n",
        "Unzip"
      ]
    },
    {
      "cell_type": "code",
      "metadata": {
        "id": "nYzt3nuiUkoZ",
        "colab_type": "code",
        "colab": {}
      },
      "source": [
        "%%bash\n",
        "rm -rf cartographs\n",
        "unzip -u -q cartographs.zip\n",
        "rm -r cartographs.zip"
      ],
      "execution_count": 2,
      "outputs": []
    },
    {
      "cell_type": "markdown",
      "metadata": {
        "id": "sZVcfoJOUfL8",
        "colab_type": "text"
      },
      "source": [
        "<br>\n",
        "\n",
        "### Packages"
      ]
    },
    {
      "cell_type": "code",
      "metadata": {
        "id": "xW1ue45YU0bf",
        "colab_type": "code",
        "colab": {}
      },
      "source": [
        "!pip install geopandas &> geopandas.log"
      ],
      "execution_count": 3,
      "outputs": []
    },
    {
      "cell_type": "code",
      "metadata": {
        "id": "RQGebnj0PLdB",
        "colab_type": "code",
        "colab": {}
      },
      "source": [
        "!pip install dask[complete] &> dask.log"
      ],
      "execution_count": 4,
      "outputs": []
    },
    {
      "cell_type": "markdown",
      "metadata": {
        "id": "I1OYlKzCUUny",
        "colab_type": "text"
      },
      "source": [
        "<br>\n",
        "\n",
        "### Libraries"
      ]
    },
    {
      "cell_type": "code",
      "metadata": {
        "id": "-mZ2eqHaMvwD",
        "colab_type": "code",
        "colab": {}
      },
      "source": [
        "import pandas as pd\n",
        "import numpy as np\n",
        "import os\n",
        "import logging\n",
        "import dask"
      ],
      "execution_count": 5,
      "outputs": []
    },
    {
      "cell_type": "markdown",
      "metadata": {
        "id": "Q45WfAH_ovYm",
        "colab_type": "text"
      },
      "source": [
        "<br>\n",
        "\n",
        "### Logging"
      ]
    },
    {
      "cell_type": "code",
      "metadata": {
        "id": "2xHy8txFojaG",
        "colab_type": "code",
        "colab": {}
      },
      "source": [
        "logging.basicConfig(level=logging.INFO)\n",
        "logger = logging.getLogger(__name__)"
      ],
      "execution_count": 6,
      "outputs": []
    },
    {
      "cell_type": "markdown",
      "metadata": {
        "id": "nw7JRxTXVhHg",
        "colab_type": "text"
      },
      "source": [
        "<br>\n",
        "<br>\n",
        "\n",
        "## Custom Classes"
      ]
    },
    {
      "cell_type": "code",
      "metadata": {
        "id": "s8etvbBTVmB8",
        "colab_type": "code",
        "colab": {}
      },
      "source": [
        "import cartographs.boundaries.us.boundaries\n",
        "import cartographs.boundaries.us.settings"
      ],
      "execution_count": 7,
      "outputs": []
    },
    {
      "cell_type": "markdown",
      "metadata": {
        "id": "2JDnqRVDrNXi",
        "colab_type": "text"
      },
      "source": [
        "<br>\n",
        "<br>\n",
        "\n",
        "### Boundaries"
      ]
    },
    {
      "cell_type": "markdown",
      "metadata": {
        "id": "rRnSzOb50Mk8",
        "colab_type": "text"
      },
      "source": [
        "Important notes courtesy of Wikipedia\n",
        "\n",
        "* **Shannon County**: Shannon County has been renamed Oglala Lakota County (Shannon County until May 2015)\n",
        "* **Wade Hampton County**: Wade Hampton County/Census Area has been renamed Kusilvak Census Area.  The Governor of Alaska formally notified the U.S. Census Bureau in July 2015."
      ]
    },
    {
      "cell_type": "code",
      "metadata": {
        "id": "7rrYl9wp_MV9",
        "colab_type": "code",
        "colab": {}
      },
      "source": [
        "settings = cartographs.boundaries.us.settings.Settings()\n",
        "boundaries = cartographs.boundaries.us.boundaries.Boundaries(settings.crs)"
      ],
      "execution_count": 8,
      "outputs": []
    },
    {
      "cell_type": "markdown",
      "metadata": {
        "id": "YQA6dLisH5wn",
        "colab_type": "text"
      },
      "source": [
        "<br>\n",
        "\n",
        "Counties"
      ]
    },
    {
      "cell_type": "code",
      "metadata": {
        "id": "2lvMISFv0_S3",
        "colab_type": "code",
        "colab": {
          "base_uri": "https://localhost:8080/",
          "height": 206
        },
        "outputId": "41166480-2b67-40b2-c972-f84238143422"
      },
      "source": [
        "counties = boundaries.counties(year=settings.latest)\n",
        "counties.rename(columns={'GEOID': 'COUNTYGEOID', 'NAME': 'COUNTY'}, inplace=True)\n",
        "counties.head()"
      ],
      "execution_count": 9,
      "outputs": [
        {
          "output_type": "execute_result",
          "data": {
            "text/html": [
              "<div>\n",
              "<style scoped>\n",
              "    .dataframe tbody tr th:only-of-type {\n",
              "        vertical-align: middle;\n",
              "    }\n",
              "\n",
              "    .dataframe tbody tr th {\n",
              "        vertical-align: top;\n",
              "    }\n",
              "\n",
              "    .dataframe thead th {\n",
              "        text-align: right;\n",
              "    }\n",
              "</style>\n",
              "<table border=\"1\" class=\"dataframe\">\n",
              "  <thead>\n",
              "    <tr style=\"text-align: right;\">\n",
              "      <th></th>\n",
              "      <th>STATEFP</th>\n",
              "      <th>COUNTYFP</th>\n",
              "      <th>COUNTYNS</th>\n",
              "      <th>AFFGEOID</th>\n",
              "      <th>COUNTYGEOID</th>\n",
              "      <th>COUNTY</th>\n",
              "      <th>LSAD</th>\n",
              "      <th>ALAND</th>\n",
              "      <th>AWATER</th>\n",
              "      <th>geometry</th>\n",
              "    </tr>\n",
              "  </thead>\n",
              "  <tbody>\n",
              "    <tr>\n",
              "      <th>0</th>\n",
              "      <td>21</td>\n",
              "      <td>007</td>\n",
              "      <td>00516850</td>\n",
              "      <td>0500000US21007</td>\n",
              "      <td>21007</td>\n",
              "      <td>Ballard</td>\n",
              "      <td>06</td>\n",
              "      <td>639387454</td>\n",
              "      <td>69473325</td>\n",
              "      <td>POLYGON ((-89.18137 37.04630, -89.17938 37.053...</td>\n",
              "    </tr>\n",
              "    <tr>\n",
              "      <th>1</th>\n",
              "      <td>21</td>\n",
              "      <td>017</td>\n",
              "      <td>00516855</td>\n",
              "      <td>0500000US21017</td>\n",
              "      <td>21017</td>\n",
              "      <td>Bourbon</td>\n",
              "      <td>06</td>\n",
              "      <td>750439351</td>\n",
              "      <td>4829777</td>\n",
              "      <td>POLYGON ((-84.44266 38.28324, -84.44114 38.283...</td>\n",
              "    </tr>\n",
              "    <tr>\n",
              "      <th>2</th>\n",
              "      <td>21</td>\n",
              "      <td>031</td>\n",
              "      <td>00516862</td>\n",
              "      <td>0500000US21031</td>\n",
              "      <td>21031</td>\n",
              "      <td>Butler</td>\n",
              "      <td>06</td>\n",
              "      <td>1103571974</td>\n",
              "      <td>13943044</td>\n",
              "      <td>POLYGON ((-86.94486 37.07341, -86.94346 37.074...</td>\n",
              "    </tr>\n",
              "    <tr>\n",
              "      <th>3</th>\n",
              "      <td>21</td>\n",
              "      <td>065</td>\n",
              "      <td>00516879</td>\n",
              "      <td>0500000US21065</td>\n",
              "      <td>21065</td>\n",
              "      <td>Estill</td>\n",
              "      <td>06</td>\n",
              "      <td>655509930</td>\n",
              "      <td>6516335</td>\n",
              "      <td>POLYGON ((-84.12662 37.64540, -84.12483 37.646...</td>\n",
              "    </tr>\n",
              "    <tr>\n",
              "      <th>4</th>\n",
              "      <td>21</td>\n",
              "      <td>069</td>\n",
              "      <td>00516881</td>\n",
              "      <td>0500000US21069</td>\n",
              "      <td>21069</td>\n",
              "      <td>Fleming</td>\n",
              "      <td>06</td>\n",
              "      <td>902727151</td>\n",
              "      <td>7182793</td>\n",
              "      <td>POLYGON ((-83.98428 38.44549, -83.98246 38.450...</td>\n",
              "    </tr>\n",
              "  </tbody>\n",
              "</table>\n",
              "</div>"
            ],
            "text/plain": [
              "  STATEFP COUNTYFP  ...    AWATER                                           geometry\n",
              "0      21      007  ...  69473325  POLYGON ((-89.18137 37.04630, -89.17938 37.053...\n",
              "1      21      017  ...   4829777  POLYGON ((-84.44266 38.28324, -84.44114 38.283...\n",
              "2      21      031  ...  13943044  POLYGON ((-86.94486 37.07341, -86.94346 37.074...\n",
              "3      21      065  ...   6516335  POLYGON ((-84.12662 37.64540, -84.12483 37.646...\n",
              "4      21      069  ...   7182793  POLYGON ((-83.98428 38.44549, -83.98246 38.450...\n",
              "\n",
              "[5 rows x 10 columns]"
            ]
          },
          "metadata": {
            "tags": []
          },
          "execution_count": 9
        }
      ]
    },
    {
      "cell_type": "markdown",
      "metadata": {
        "id": "eXgongPt5HT6",
        "colab_type": "text"
      },
      "source": [
        "<br>\n",
        "\n",
        "State"
      ]
    },
    {
      "cell_type": "code",
      "metadata": {
        "id": "_WFF5lxnsAuX",
        "colab_type": "code",
        "colab": {
          "base_uri": "https://localhost:8080/",
          "height": 206
        },
        "outputId": "2b875229-501a-4672-d36e-c79694b17d02"
      },
      "source": [
        "states = boundaries.states(year=settings.latest)\n",
        "states.rename(columns={'GEOID': 'STATEGEOID', 'NAME': 'STATE'}, inplace=True)\n",
        "states.head()"
      ],
      "execution_count": 10,
      "outputs": [
        {
          "output_type": "execute_result",
          "data": {
            "text/html": [
              "<div>\n",
              "<style scoped>\n",
              "    .dataframe tbody tr th:only-of-type {\n",
              "        vertical-align: middle;\n",
              "    }\n",
              "\n",
              "    .dataframe tbody tr th {\n",
              "        vertical-align: top;\n",
              "    }\n",
              "\n",
              "    .dataframe thead th {\n",
              "        text-align: right;\n",
              "    }\n",
              "</style>\n",
              "<table border=\"1\" class=\"dataframe\">\n",
              "  <thead>\n",
              "    <tr style=\"text-align: right;\">\n",
              "      <th></th>\n",
              "      <th>STATEFP</th>\n",
              "      <th>STATENS</th>\n",
              "      <th>AFFGEOID</th>\n",
              "      <th>STATEGEOID</th>\n",
              "      <th>STUSPS</th>\n",
              "      <th>STATE</th>\n",
              "      <th>LSAD</th>\n",
              "      <th>ALAND</th>\n",
              "      <th>AWATER</th>\n",
              "      <th>geometry</th>\n",
              "    </tr>\n",
              "  </thead>\n",
              "  <tbody>\n",
              "    <tr>\n",
              "      <th>0</th>\n",
              "      <td>28</td>\n",
              "      <td>01779790</td>\n",
              "      <td>0400000US28</td>\n",
              "      <td>28</td>\n",
              "      <td>MS</td>\n",
              "      <td>Mississippi</td>\n",
              "      <td>00</td>\n",
              "      <td>121533519481</td>\n",
              "      <td>3926919758</td>\n",
              "      <td>MULTIPOLYGON (((-88.50297 30.21523, -88.49176 ...</td>\n",
              "    </tr>\n",
              "    <tr>\n",
              "      <th>1</th>\n",
              "      <td>37</td>\n",
              "      <td>01027616</td>\n",
              "      <td>0400000US37</td>\n",
              "      <td>37</td>\n",
              "      <td>NC</td>\n",
              "      <td>North Carolina</td>\n",
              "      <td>00</td>\n",
              "      <td>125923656064</td>\n",
              "      <td>13466071395</td>\n",
              "      <td>MULTIPOLYGON (((-75.72681 35.93584, -75.71827 ...</td>\n",
              "    </tr>\n",
              "    <tr>\n",
              "      <th>2</th>\n",
              "      <td>40</td>\n",
              "      <td>01102857</td>\n",
              "      <td>0400000US40</td>\n",
              "      <td>40</td>\n",
              "      <td>OK</td>\n",
              "      <td>Oklahoma</td>\n",
              "      <td>00</td>\n",
              "      <td>177662925723</td>\n",
              "      <td>3374587997</td>\n",
              "      <td>POLYGON ((-103.00257 36.52659, -103.00219 36.6...</td>\n",
              "    </tr>\n",
              "    <tr>\n",
              "      <th>3</th>\n",
              "      <td>51</td>\n",
              "      <td>01779803</td>\n",
              "      <td>0400000US51</td>\n",
              "      <td>51</td>\n",
              "      <td>VA</td>\n",
              "      <td>Virginia</td>\n",
              "      <td>00</td>\n",
              "      <td>102257717110</td>\n",
              "      <td>8528531774</td>\n",
              "      <td>MULTIPOLYGON (((-75.74241 37.80835, -75.74151 ...</td>\n",
              "    </tr>\n",
              "    <tr>\n",
              "      <th>4</th>\n",
              "      <td>54</td>\n",
              "      <td>01779805</td>\n",
              "      <td>0400000US54</td>\n",
              "      <td>54</td>\n",
              "      <td>WV</td>\n",
              "      <td>West Virginia</td>\n",
              "      <td>00</td>\n",
              "      <td>62266474513</td>\n",
              "      <td>489028543</td>\n",
              "      <td>POLYGON ((-82.64320 38.16909, -82.64300 38.169...</td>\n",
              "    </tr>\n",
              "  </tbody>\n",
              "</table>\n",
              "</div>"
            ],
            "text/plain": [
              "  STATEFP  ...                                           geometry\n",
              "0      28  ...  MULTIPOLYGON (((-88.50297 30.21523, -88.49176 ...\n",
              "1      37  ...  MULTIPOLYGON (((-75.72681 35.93584, -75.71827 ...\n",
              "2      40  ...  POLYGON ((-103.00257 36.52659, -103.00219 36.6...\n",
              "3      51  ...  MULTIPOLYGON (((-75.74241 37.80835, -75.74151 ...\n",
              "4      54  ...  POLYGON ((-82.64320 38.16909, -82.64300 38.169...\n",
              "\n",
              "[5 rows x 10 columns]"
            ]
          },
          "metadata": {
            "tags": []
          },
          "execution_count": 10
        }
      ]
    },
    {
      "cell_type": "markdown",
      "metadata": {
        "id": "nD7PLKF1PG87",
        "colab_type": "text"
      },
      "source": [
        "<br>\n",
        "\n",
        "Tracts"
      ]
    },
    {
      "cell_type": "code",
      "metadata": {
        "id": "Uyo5so4dPJWb",
        "colab_type": "code",
        "colab": {
          "base_uri": "https://localhost:8080/",
          "height": 206
        },
        "outputId": "fef773a6-8ca8-4dbc-f5cf-990c60b33782"
      },
      "source": [
        "computations = [dask.delayed(boundaries.tracts)(stategeoid, settings.latest) for stategeoid in states.STATEGEOID.values]\n",
        "dask.visualize(computations, filename='tracts', format='pdf')\n",
        "\n",
        "matrix = dask.compute(computations, scheduler='processes')[0]\n",
        "\n",
        "tracts = pd.concat(matrix, axis=0, ignore_index=True)\n",
        "tracts.head()"
      ],
      "execution_count": 11,
      "outputs": [
        {
          "output_type": "execute_result",
          "data": {
            "text/html": [
              "<div>\n",
              "<style scoped>\n",
              "    .dataframe tbody tr th:only-of-type {\n",
              "        vertical-align: middle;\n",
              "    }\n",
              "\n",
              "    .dataframe tbody tr th {\n",
              "        vertical-align: top;\n",
              "    }\n",
              "\n",
              "    .dataframe thead th {\n",
              "        text-align: right;\n",
              "    }\n",
              "</style>\n",
              "<table border=\"1\" class=\"dataframe\">\n",
              "  <thead>\n",
              "    <tr style=\"text-align: right;\">\n",
              "      <th></th>\n",
              "      <th>STATEFP</th>\n",
              "      <th>COUNTYFP</th>\n",
              "      <th>TRACTCE</th>\n",
              "      <th>AFFGEOID</th>\n",
              "      <th>GEOID</th>\n",
              "      <th>NAME</th>\n",
              "      <th>LSAD</th>\n",
              "      <th>ALAND</th>\n",
              "      <th>AWATER</th>\n",
              "      <th>geometry</th>\n",
              "      <th>COUNTYGEOID</th>\n",
              "    </tr>\n",
              "  </thead>\n",
              "  <tbody>\n",
              "    <tr>\n",
              "      <th>0</th>\n",
              "      <td>28</td>\n",
              "      <td>075</td>\n",
              "      <td>000300</td>\n",
              "      <td>1400000US28075000300</td>\n",
              "      <td>28075000300</td>\n",
              "      <td>3</td>\n",
              "      <td>CT</td>\n",
              "      <td>2082376</td>\n",
              "      <td>0</td>\n",
              "      <td>POLYGON ((-88.71853 32.37918, -88.71708 32.379...</td>\n",
              "      <td>28075</td>\n",
              "    </tr>\n",
              "    <tr>\n",
              "      <th>1</th>\n",
              "      <td>28</td>\n",
              "      <td>075</td>\n",
              "      <td>000600</td>\n",
              "      <td>1400000US28075000600</td>\n",
              "      <td>28075000600</td>\n",
              "      <td>6</td>\n",
              "      <td>CT</td>\n",
              "      <td>3638314</td>\n",
              "      <td>0</td>\n",
              "      <td>POLYGON ((-88.72393 32.35019, -88.72332 32.352...</td>\n",
              "      <td>28075</td>\n",
              "    </tr>\n",
              "    <tr>\n",
              "      <th>2</th>\n",
              "      <td>28</td>\n",
              "      <td>077</td>\n",
              "      <td>960100</td>\n",
              "      <td>1400000US28077960100</td>\n",
              "      <td>28077960100</td>\n",
              "      <td>9601</td>\n",
              "      <td>CT</td>\n",
              "      <td>416065599</td>\n",
              "      <td>5340857</td>\n",
              "      <td>POLYGON ((-90.12452 31.65834, -90.12392 31.660...</td>\n",
              "      <td>28077</td>\n",
              "    </tr>\n",
              "    <tr>\n",
              "      <th>3</th>\n",
              "      <td>28</td>\n",
              "      <td>081</td>\n",
              "      <td>950301</td>\n",
              "      <td>1400000US28081950301</td>\n",
              "      <td>28081950301</td>\n",
              "      <td>9503.01</td>\n",
              "      <td>CT</td>\n",
              "      <td>62665855</td>\n",
              "      <td>122061</td>\n",
              "      <td>POLYGON ((-88.67838 34.28574, -88.67665 34.286...</td>\n",
              "      <td>28081</td>\n",
              "    </tr>\n",
              "    <tr>\n",
              "      <th>4</th>\n",
              "      <td>28</td>\n",
              "      <td>085</td>\n",
              "      <td>950600</td>\n",
              "      <td>1400000US28085950600</td>\n",
              "      <td>28085950600</td>\n",
              "      <td>9506</td>\n",
              "      <td>CT</td>\n",
              "      <td>18741571</td>\n",
              "      <td>82001</td>\n",
              "      <td>POLYGON ((-90.47957 31.56210, -90.47946 31.564...</td>\n",
              "      <td>28085</td>\n",
              "    </tr>\n",
              "  </tbody>\n",
              "</table>\n",
              "</div>"
            ],
            "text/plain": [
              "  STATEFP  ... COUNTYGEOID\n",
              "0      28  ...       28075\n",
              "1      28  ...       28075\n",
              "2      28  ...       28077\n",
              "3      28  ...       28081\n",
              "4      28  ...       28085\n",
              "\n",
              "[5 rows x 11 columns]"
            ]
          },
          "metadata": {
            "tags": []
          },
          "execution_count": 11
        }
      ]
    },
    {
      "cell_type": "markdown",
      "metadata": {
        "id": "3EeQvg6YV6BH",
        "colab_type": "text"
      },
      "source": [
        "<br>\n",
        "\n",
        "Gazetteer"
      ]
    },
    {
      "cell_type": "code",
      "metadata": {
        "id": "Up55h_ZtV9zM",
        "colab_type": "code",
        "colab": {
          "base_uri": "https://localhost:8080/",
          "height": 237
        },
        "outputId": "7eb603c6-800a-477f-8e5f-5bc3ac46c22c"
      },
      "source": [
        "gazetteer = counties[['STATEFP', 'COUNTYGEOID', 'COUNTY']].merge(states[['STATEFP', 'STUSPS', 'STATE']], how='left', on='STATEFP')\n",
        "gazetteer.info()"
      ],
      "execution_count": 12,
      "outputs": [
        {
          "output_type": "stream",
          "text": [
            "<class 'pandas.core.frame.DataFrame'>\n",
            "Int64Index: 3233 entries, 0 to 3232\n",
            "Data columns (total 5 columns):\n",
            " #   Column       Non-Null Count  Dtype \n",
            "---  ------       --------------  ----- \n",
            " 0   STATEFP      3233 non-null   object\n",
            " 1   COUNTYGEOID  3233 non-null   object\n",
            " 2   COUNTY       3233 non-null   object\n",
            " 3   STUSPS       3233 non-null   object\n",
            " 4   STATE        3233 non-null   object\n",
            "dtypes: object(5)\n",
            "memory usage: 151.5+ KB\n"
          ],
          "name": "stdout"
        }
      ]
    },
    {
      "cell_type": "markdown",
      "metadata": {
        "id": "2DMBs4xdlu6I",
        "colab_type": "text"
      },
      "source": [
        "<br>\n",
        "<br>\n",
        "\n",
        "### Anomalies"
      ]
    },
    {
      "cell_type": "markdown",
      "metadata": {
        "id": "FT0m-yRBoC8R",
        "colab_type": "text"
      },
      "source": [
        "* `zip(['Shannon', 'Wade Hampton'], ['46113', '02270'], ['Ogala Lakota', 'Kusilvak'], ['46102', '02158'])`"
      ]
    },
    {
      "cell_type": "code",
      "metadata": {
        "id": "sYLxaSsUmJLT",
        "colab_type": "code",
        "colab": {}
      },
      "source": [
        "obsolete =  {0: {'COUNTY': 'Shannon', 'COUNTYGEOID': '46113', 'COUNTY_': 'Ogala Lakota', 'COUNTYGEOID_': '46102'},\n",
        "                1: {'COUNTY': 'Wade Hampton', 'COUNTYGEOID': '02270', 'COUNTY_': 'Kusilvak', 'COUNTYGEOID_': '02158'}}"
      ],
      "execution_count": 13,
      "outputs": []
    },
    {
      "cell_type": "code",
      "metadata": {
        "id": "1db0iE4cl1RV",
        "colab_type": "code",
        "colab": {}
      },
      "source": [
        "class Anomalies:\n",
        "\n",
        "    def __init__(self, targets: dict):\n",
        "\n",
        "        self.targets = targets\n",
        "\n",
        "    def tractseries(self, blob: pd.DataFrame):\n",
        "\n",
        "        for k, v in self.targets.items():\n",
        "            condition = blob['Tract'].str.startswith(v['COUNTYGEOID'])\n",
        "            blob.loc[condition, 'Tract'] = blob[condition]['Tract'].str.replace(v['COUNTYGEOID'], v['COUNTYGEOID_'], regex=True)\n",
        "\n",
        "        return blob\n",
        "\n",
        "\n",
        "    def countyseries(self, blob: pd.DataFrame):\n",
        "\n",
        "        for k, v in self.targets.items():\n",
        "            condition = (blob['COUNTY'] == v['COUNTY']) & (blob['COUNTYGEOID'] == v['COUNTYGEOID'])\n",
        "            blob.loc[condition, ['COUNTY', 'COUNTYGEOID']] = [v['COUNTY_'], v['COUNTYGEOID_']]\n",
        "            blob.loc[condition, 'Tract'] = blob[condition]['Tract'].str.replace(v['COUNTYGEOID'], v['COUNTYGEOID_'], regex=True)\n",
        "\n",
        "        return blob"
      ],
      "execution_count": 14,
      "outputs": []
    },
    {
      "cell_type": "code",
      "metadata": {
        "id": "nBDJHa9wm7Vu",
        "colab_type": "code",
        "colab": {}
      },
      "source": [
        "anomalies = Anomalies(targets=obsolete)"
      ],
      "execution_count": 15,
      "outputs": []
    },
    {
      "cell_type": "markdown",
      "metadata": {
        "id": "pdz8cMa-M76P",
        "colab_type": "text"
      },
      "source": [
        "<br>\n",
        "<br>\n",
        "\n",
        "## Risks\n",
        "\n"
      ]
    },
    {
      "cell_type": "code",
      "metadata": {
        "id": "pM8An54S-D2v",
        "colab_type": "code",
        "colab": {}
      },
      "source": [
        "urlstrings = ['https://www.epa.gov/sites/production/files/2018-08/nata2014v2_national_cancerrisk_by_tract_srcgrp.xlsx',\n",
        "              'https://www.epa.gov/sites/production/files/2018-08/nata2014v2_national_cancerrisk_by_tract_poll.xlsx',\n",
        "              'https://www.epa.gov/sites/production/files/2018-08/nata2014v2_national_resphi_by_tract_srcgrp.xlsx',\n",
        "              'https://www.epa.gov/sites/production/files/2018-08/nata2014v2_national_resphi_by_tract_poll.xlsx',\n",
        "              'https://www.epa.gov/sites/production/files/2018-08/nata2014v2_national_neurhi_by_tract_srcgrp.xlsx', \n",
        "              'https://www.epa.gov/sites/production/files/2018-08/nata2014v2_national_neurhi_by_tract_poll.xlsx', \n",
        "              'https://www.epa.gov/sites/production/files/2018-08/nata2014v2_national_liverhi_by_tract_srcgrp.xlsx', \n",
        "              'https://www.epa.gov/sites/production/files/2018-08/nata2014v2_national_liverhi_by_tract_poll.xlsx', \n",
        "              'https://www.epa.gov/sites/production/files/2018-08/nata2014v2_national_kidnhi_by_tract_srcgrp.xlsx', \n",
        "              'https://www.epa.gov/sites/production/files/2018-08/nata2014v2_national_kidnhi_by_tract_poll.xlsx', \n",
        "              'https://www.epa.gov/sites/production/files/2018-08/nata2014v2_national_immuhi_by_tract_srcgrp.xlsx', \n",
        "              'https://www.epa.gov/sites/production/files/2018-08/nata2014v2_national_immuhi_by_tract_poll.xlsx']"
      ],
      "execution_count": 16,
      "outputs": []
    },
    {
      "cell_type": "code",
      "metadata": {
        "id": "uNxAawBkBoYN",
        "colab_type": "code",
        "colab": {}
      },
      "source": [
        "names = ['cancerRiskByGroup', 'cancerRiskByPollutant', 'respRiskByGroup', 'respRiskByPollutant', \n",
        "         'neurologicalRiskByGroup', 'neurologicalRiskByPollutant', 'liverRiskByGroup', 'liverRiskByPollutant',\n",
        "         'kidneyRiskByGroup', 'kidneyRiskByPollutant', 'immunologicalRiskByGroup', 'immunologicalRiskByPollutant']"
      ],
      "execution_count": 17,
      "outputs": []
    },
    {
      "cell_type": "markdown",
      "metadata": {
        "id": "d2wxodjAn9bF",
        "colab_type": "text"
      },
      "source": [
        "<br>\n",
        "\n",
        "### Risk Data"
      ]
    },
    {
      "cell_type": "code",
      "metadata": {
        "id": "fBcWADIrNvVe",
        "colab_type": "code",
        "colab": {
          "base_uri": "https://localhost:8080/",
          "height": 1000
        },
        "outputId": "ca6dd125-b8ac-4179-dbb9-97a02eba2146"
      },
      "source": [
        "\n",
        "for urlstring, name in zip(urlstrings, names):\n",
        "\n",
        "    # Reading-in\n",
        "    data = pd.read_excel(io=urlstring, header=0, sheet_name=0, dtype={'FIPS': str, 'Tract': str})\n",
        "    data.rename(columns={'State': 'STUSPS', 'County': 'COUNTY', 'FIPS': 'COUNTYGEOID'}, inplace=True)\n",
        "\n",
        "\n",
        "    # The counties that do not exist\n",
        "    # indices = ~data.COUNTYGEOID.isin(gazetteer.COUNTYGEOID.values) & ~data.COUNTY.str.contains('Entire State')\n",
        "    \n",
        "\n",
        "    # Anomalies\n",
        "    data = anomalies.countyseries(blob=data.copy())\n",
        "    \n",
        "\n",
        "    # Focus on valid county level records\n",
        "    readings = data.merge(gazetteer[['STUSPS', 'COUNTYGEOID', 'STATE']], how='inner', on=['STUSPS', 'COUNTYGEOID'])\n",
        "    readings.reset_index(drop=True, inplace=True)\n",
        "\n",
        "    readings = readings[readings['Tract'].str.endswith('000000')]\n",
        "    readings.reset_index(drop=True, inplace=True)\n",
        "\n",
        "    readings = readings.drop(columns=['EPA Region', 'Tract', 'COUNTY', 'STATE'], inplace=False)\n",
        "\n",
        "\n",
        "    # Melting\n",
        "    risks = readings.melt(id_vars=['STUSPS', 'COUNTYGEOID', 'Population'], var_name='riskType', value_name='risk')\n",
        "    logger.info('\\n\\n{}\\n'.format(risks.info()))\n",
        "\n",
        "    risks.to_csv(path_or_buf=os.path.join(os.getcwd(), name + '.csv'), header=True, index=False, encoding='utf-8')\n",
        "    logger.info('\\n\\n{}\\n'.format(risks.head()))\n"
      ],
      "execution_count": 18,
      "outputs": [
        {
          "output_type": "stream",
          "text": [
            "INFO:__main__:\n",
            "\n",
            "None\n",
            "\n"
          ],
          "name": "stderr"
        },
        {
          "output_type": "stream",
          "text": [
            "<class 'pandas.core.frame.DataFrame'>\n",
            "RangeIndex: 125697 entries, 0 to 125696\n",
            "Data columns (total 5 columns):\n",
            " #   Column       Non-Null Count   Dtype  \n",
            "---  ------       --------------   -----  \n",
            " 0   STUSPS       125697 non-null  object \n",
            " 1   COUNTYGEOID  125697 non-null  object \n",
            " 2   Population   125697 non-null  int64  \n",
            " 3   riskType     125697 non-null  object \n",
            " 4   risk         125697 non-null  float64\n",
            "dtypes: float64(1), int64(1), object(3)\n",
            "memory usage: 4.8+ MB\n"
          ],
          "name": "stdout"
        },
        {
          "output_type": "stream",
          "text": [
            "INFO:__main__:\n",
            "\n",
            "  STUSPS COUNTYGEOID  Population                         riskType       risk\n",
            "0     AL       01001       54571  Total Cancer Risk (per million)  49.511426\n",
            "1     AL       01003      182265  Total Cancer Risk (per million)  35.610599\n",
            "2     AL       01005       27457  Total Cancer Risk (per million)  45.671354\n",
            "3     AL       01007       22915  Total Cancer Risk (per million)  46.044593\n",
            "4     AL       01009       57322  Total Cancer Risk (per million)  39.198849\n",
            "\n",
            "INFO:__main__:\n",
            "\n",
            "None\n",
            "\n"
          ],
          "name": "stderr"
        },
        {
          "output_type": "stream",
          "text": [
            "<class 'pandas.core.frame.DataFrame'>\n",
            "RangeIndex: 232056 entries, 0 to 232055\n",
            "Data columns (total 5 columns):\n",
            " #   Column       Non-Null Count   Dtype  \n",
            "---  ------       --------------   -----  \n",
            " 0   STUSPS       232056 non-null  object \n",
            " 1   COUNTYGEOID  232056 non-null  object \n",
            " 2   Population   232056 non-null  int64  \n",
            " 3   riskType     232056 non-null  object \n",
            " 4   risk         232056 non-null  float64\n",
            "dtypes: float64(1), int64(1), object(3)\n",
            "memory usage: 8.9+ MB\n"
          ],
          "name": "stdout"
        },
        {
          "output_type": "stream",
          "text": [
            "INFO:__main__:\n",
            "\n",
            "  STUSPS COUNTYGEOID  Population                         riskType       risk\n",
            "0     AL       01001       54571  Total Cancer Risk (per million)  49.511426\n",
            "1     AL       01003      182265  Total Cancer Risk (per million)  35.610599\n",
            "2     AL       01005       27457  Total Cancer Risk (per million)  45.671354\n",
            "3     AL       01007       22915  Total Cancer Risk (per million)  46.044593\n",
            "4     AL       01009       57322  Total Cancer Risk (per million)  39.198849\n",
            "\n",
            "INFO:__main__:\n",
            "\n",
            "None\n",
            "\n"
          ],
          "name": "stderr"
        },
        {
          "output_type": "stream",
          "text": [
            "<class 'pandas.core.frame.DataFrame'>\n",
            "RangeIndex: 125697 entries, 0 to 125696\n",
            "Data columns (total 5 columns):\n",
            " #   Column       Non-Null Count   Dtype  \n",
            "---  ------       --------------   -----  \n",
            " 0   STUSPS       125697 non-null  object \n",
            " 1   COUNTYGEOID  125697 non-null  object \n",
            " 2   Population   125697 non-null  int64  \n",
            " 3   riskType     125697 non-null  object \n",
            " 4   risk         125697 non-null  float64\n",
            "dtypes: float64(1), int64(1), object(3)\n",
            "memory usage: 4.8+ MB\n"
          ],
          "name": "stdout"
        },
        {
          "output_type": "stream",
          "text": [
            "INFO:__main__:\n",
            "\n",
            "  STUSPS COUNTYGEOID  Population                             riskType      risk\n",
            "0     AL       01001       54571  Total Respiratory (hazard quotient)  0.799127\n",
            "1     AL       01003      182265  Total Respiratory (hazard quotient)  0.523780\n",
            "2     AL       01005       27457  Total Respiratory (hazard quotient)  0.807123\n",
            "3     AL       01007       22915  Total Respiratory (hazard quotient)  0.723578\n",
            "4     AL       01009       57322  Total Respiratory (hazard quotient)  0.572684\n",
            "\n",
            "INFO:__main__:\n",
            "\n",
            "None\n",
            "\n"
          ],
          "name": "stderr"
        },
        {
          "output_type": "stream",
          "text": [
            "<class 'pandas.core.frame.DataFrame'>\n",
            "RangeIndex: 141812 entries, 0 to 141811\n",
            "Data columns (total 5 columns):\n",
            " #   Column       Non-Null Count   Dtype  \n",
            "---  ------       --------------   -----  \n",
            " 0   STUSPS       141812 non-null  object \n",
            " 1   COUNTYGEOID  141812 non-null  object \n",
            " 2   Population   141812 non-null  int64  \n",
            " 3   riskType     141812 non-null  object \n",
            " 4   risk         141812 non-null  float64\n",
            "dtypes: float64(1), int64(1), object(3)\n",
            "memory usage: 5.4+ MB\n"
          ],
          "name": "stdout"
        },
        {
          "output_type": "stream",
          "text": [
            "INFO:__main__:\n",
            "\n",
            "  STUSPS COUNTYGEOID  Population                             riskType      risk\n",
            "0     AL       01001       54571  Total Respiratory (hazard quotient)  0.799127\n",
            "1     AL       01003      182265  Total Respiratory (hazard quotient)  0.523780\n",
            "2     AL       01005       27457  Total Respiratory (hazard quotient)  0.807123\n",
            "3     AL       01007       22915  Total Respiratory (hazard quotient)  0.723578\n",
            "4     AL       01009       57322  Total Respiratory (hazard quotient)  0.572684\n",
            "\n",
            "INFO:__main__:\n",
            "\n",
            "None\n",
            "\n"
          ],
          "name": "stderr"
        },
        {
          "output_type": "stream",
          "text": [
            "<class 'pandas.core.frame.DataFrame'>\n",
            "RangeIndex: 125697 entries, 0 to 125696\n",
            "Data columns (total 5 columns):\n",
            " #   Column       Non-Null Count   Dtype  \n",
            "---  ------       --------------   -----  \n",
            " 0   STUSPS       125697 non-null  object \n",
            " 1   COUNTYGEOID  125697 non-null  object \n",
            " 2   Population   125697 non-null  int64  \n",
            " 3   riskType     125697 non-null  object \n",
            " 4   risk         125697 non-null  float64\n",
            "dtypes: float64(1), int64(1), object(3)\n",
            "memory usage: 4.8+ MB\n"
          ],
          "name": "stdout"
        },
        {
          "output_type": "stream",
          "text": [
            "INFO:__main__:\n",
            "\n",
            "  STUSPS COUNTYGEOID  ...                              riskType      risk\n",
            "0     AL       01001  ...  Total Neurological (hazard quotient)  0.038198\n",
            "1     AL       01003  ...  Total Neurological (hazard quotient)  0.027525\n",
            "2     AL       01005  ...  Total Neurological (hazard quotient)  0.025123\n",
            "3     AL       01007  ...  Total Neurological (hazard quotient)  0.024480\n",
            "4     AL       01009  ...  Total Neurological (hazard quotient)  0.030272\n",
            "\n",
            "[5 rows x 5 columns]\n",
            "\n",
            "INFO:__main__:\n",
            "\n",
            "None\n",
            "\n"
          ],
          "name": "stderr"
        },
        {
          "output_type": "stream",
          "text": [
            "<class 'pandas.core.frame.DataFrame'>\n",
            "RangeIndex: 80575 entries, 0 to 80574\n",
            "Data columns (total 5 columns):\n",
            " #   Column       Non-Null Count  Dtype  \n",
            "---  ------       --------------  -----  \n",
            " 0   STUSPS       80575 non-null  object \n",
            " 1   COUNTYGEOID  80575 non-null  object \n",
            " 2   Population   80575 non-null  int64  \n",
            " 3   riskType     80575 non-null  object \n",
            " 4   risk         80575 non-null  float64\n",
            "dtypes: float64(1), int64(1), object(3)\n",
            "memory usage: 3.1+ MB\n"
          ],
          "name": "stdout"
        },
        {
          "output_type": "stream",
          "text": [
            "INFO:__main__:\n",
            "\n",
            "  STUSPS COUNTYGEOID  ...                              riskType      risk\n",
            "0     AL       01001  ...  Total Neurological (hazard quotient)  0.038198\n",
            "1     AL       01003  ...  Total Neurological (hazard quotient)  0.027525\n",
            "2     AL       01005  ...  Total Neurological (hazard quotient)  0.025123\n",
            "3     AL       01007  ...  Total Neurological (hazard quotient)  0.024480\n",
            "4     AL       01009  ...  Total Neurological (hazard quotient)  0.030272\n",
            "\n",
            "[5 rows x 5 columns]\n",
            "\n",
            "INFO:__main__:\n",
            "\n",
            "None\n",
            "\n"
          ],
          "name": "stderr"
        },
        {
          "output_type": "stream",
          "text": [
            "<class 'pandas.core.frame.DataFrame'>\n",
            "RangeIndex: 125697 entries, 0 to 125696\n",
            "Data columns (total 5 columns):\n",
            " #   Column       Non-Null Count   Dtype  \n",
            "---  ------       --------------   -----  \n",
            " 0   STUSPS       125697 non-null  object \n",
            " 1   COUNTYGEOID  125697 non-null  object \n",
            " 2   Population   125697 non-null  int64  \n",
            " 3   riskType     125697 non-null  object \n",
            " 4   risk         125697 non-null  float64\n",
            "dtypes: float64(1), int64(1), object(3)\n",
            "memory usage: 4.8+ MB\n"
          ],
          "name": "stdout"
        },
        {
          "output_type": "stream",
          "text": [
            "INFO:__main__:\n",
            "\n",
            "  STUSPS COUNTYGEOID  Population                       riskType      risk\n",
            "0     AL       01001       54571  Total Liver (hazard quotient)  0.011782\n",
            "1     AL       01003      182265  Total Liver (hazard quotient)  0.008522\n",
            "2     AL       01005       27457  Total Liver (hazard quotient)  0.008279\n",
            "3     AL       01007       22915  Total Liver (hazard quotient)  0.009019\n",
            "4     AL       01009       57322  Total Liver (hazard quotient)  0.009509\n",
            "\n",
            "INFO:__main__:\n",
            "\n",
            "None\n",
            "\n"
          ],
          "name": "stderr"
        },
        {
          "output_type": "stream",
          "text": [
            "<class 'pandas.core.frame.DataFrame'>\n",
            "RangeIndex: 93467 entries, 0 to 93466\n",
            "Data columns (total 5 columns):\n",
            " #   Column       Non-Null Count  Dtype  \n",
            "---  ------       --------------  -----  \n",
            " 0   STUSPS       93467 non-null  object \n",
            " 1   COUNTYGEOID  93467 non-null  object \n",
            " 2   Population   93467 non-null  int64  \n",
            " 3   riskType     93467 non-null  object \n",
            " 4   risk         93467 non-null  float64\n",
            "dtypes: float64(1), int64(1), object(3)\n",
            "memory usage: 3.6+ MB\n"
          ],
          "name": "stdout"
        },
        {
          "output_type": "stream",
          "text": [
            "INFO:__main__:\n",
            "\n",
            "  STUSPS COUNTYGEOID  Population                       riskType      risk\n",
            "0     AL       01001       54571  Total Liver (hazard quotient)  0.011782\n",
            "1     AL       01003      182265  Total Liver (hazard quotient)  0.008522\n",
            "2     AL       01005       27457  Total Liver (hazard quotient)  0.008279\n",
            "3     AL       01007       22915  Total Liver (hazard quotient)  0.009019\n",
            "4     AL       01009       57322  Total Liver (hazard quotient)  0.009509\n",
            "\n",
            "INFO:__main__:\n",
            "\n",
            "None\n",
            "\n"
          ],
          "name": "stderr"
        },
        {
          "output_type": "stream",
          "text": [
            "<class 'pandas.core.frame.DataFrame'>\n",
            "RangeIndex: 125697 entries, 0 to 125696\n",
            "Data columns (total 5 columns):\n",
            " #   Column       Non-Null Count   Dtype  \n",
            "---  ------       --------------   -----  \n",
            " 0   STUSPS       125697 non-null  object \n",
            " 1   COUNTYGEOID  125697 non-null  object \n",
            " 2   Population   125697 non-null  int64  \n",
            " 3   riskType     125697 non-null  object \n",
            " 4   risk         125697 non-null  float64\n",
            "dtypes: float64(1), int64(1), object(3)\n",
            "memory usage: 4.8+ MB\n"
          ],
          "name": "stdout"
        },
        {
          "output_type": "stream",
          "text": [
            "INFO:__main__:\n",
            "\n",
            "  STUSPS COUNTYGEOID  Population                        riskType      risk\n",
            "0     AL       01001       54571  Total Kidney (hazard quotient)  0.005948\n",
            "1     AL       01003      182265  Total Kidney (hazard quotient)  0.002870\n",
            "2     AL       01005       27457  Total Kidney (hazard quotient)  0.002833\n",
            "3     AL       01007       22915  Total Kidney (hazard quotient)  0.003757\n",
            "4     AL       01009       57322  Total Kidney (hazard quotient)  0.004126\n",
            "\n",
            "INFO:__main__:\n",
            "\n",
            "None\n",
            "\n",
            "INFO:__main__:\n",
            "\n",
            "  STUSPS COUNTYGEOID  Population                        riskType      risk\n",
            "0     AL       01001       54571  Total Kidney (hazard quotient)  0.005948\n",
            "1     AL       01003      182265  Total Kidney (hazard quotient)  0.002870\n",
            "2     AL       01005       27457  Total Kidney (hazard quotient)  0.002833\n",
            "3     AL       01007       22915  Total Kidney (hazard quotient)  0.003757\n",
            "4     AL       01009       57322  Total Kidney (hazard quotient)  0.004126\n",
            "\n"
          ],
          "name": "stderr"
        },
        {
          "output_type": "stream",
          "text": [
            "<class 'pandas.core.frame.DataFrame'>\n",
            "RangeIndex: 32230 entries, 0 to 32229\n",
            "Data columns (total 5 columns):\n",
            " #   Column       Non-Null Count  Dtype  \n",
            "---  ------       --------------  -----  \n",
            " 0   STUSPS       32230 non-null  object \n",
            " 1   COUNTYGEOID  32230 non-null  object \n",
            " 2   Population   32230 non-null  int64  \n",
            " 3   riskType     32230 non-null  object \n",
            " 4   risk         32230 non-null  float64\n",
            "dtypes: float64(1), int64(1), object(3)\n",
            "memory usage: 1.2+ MB\n"
          ],
          "name": "stdout"
        },
        {
          "output_type": "stream",
          "text": [
            "INFO:__main__:\n",
            "\n",
            "None\n",
            "\n"
          ],
          "name": "stderr"
        },
        {
          "output_type": "stream",
          "text": [
            "<class 'pandas.core.frame.DataFrame'>\n",
            "RangeIndex: 125697 entries, 0 to 125696\n",
            "Data columns (total 5 columns):\n",
            " #   Column       Non-Null Count   Dtype  \n",
            "---  ------       --------------   -----  \n",
            " 0   STUSPS       125697 non-null  object \n",
            " 1   COUNTYGEOID  125697 non-null  object \n",
            " 2   Population   125697 non-null  int64  \n",
            " 3   riskType     125697 non-null  object \n",
            " 4   risk         125697 non-null  float64\n",
            "dtypes: float64(1), int64(1), object(3)\n",
            "memory usage: 4.8+ MB\n"
          ],
          "name": "stdout"
        },
        {
          "output_type": "stream",
          "text": [
            "INFO:__main__:\n",
            "\n",
            "  STUSPS COUNTYGEOID  ...                               riskType      risk\n",
            "0     AL       01001  ...  Total Immunological (hazard quotient)  0.017973\n",
            "1     AL       01003  ...  Total Immunological (hazard quotient)  0.012382\n",
            "2     AL       01005  ...  Total Immunological (hazard quotient)  0.012559\n",
            "3     AL       01007  ...  Total Immunological (hazard quotient)  0.013410\n",
            "4     AL       01009  ...  Total Immunological (hazard quotient)  0.014146\n",
            "\n",
            "[5 rows x 5 columns]\n",
            "\n",
            "INFO:__main__:\n",
            "\n",
            "None\n",
            "\n",
            "INFO:__main__:\n",
            "\n",
            "  STUSPS COUNTYGEOID  ...                               riskType      risk\n",
            "0     AL       01001  ...  Total Immunological (hazard quotient)  0.017973\n",
            "1     AL       01003  ...  Total Immunological (hazard quotient)  0.012382\n",
            "2     AL       01005  ...  Total Immunological (hazard quotient)  0.012559\n",
            "3     AL       01007  ...  Total Immunological (hazard quotient)  0.013410\n",
            "4     AL       01009  ...  Total Immunological (hazard quotient)  0.014146\n",
            "\n",
            "[5 rows x 5 columns]\n",
            "\n"
          ],
          "name": "stderr"
        },
        {
          "output_type": "stream",
          "text": [
            "<class 'pandas.core.frame.DataFrame'>\n",
            "RangeIndex: 12892 entries, 0 to 12891\n",
            "Data columns (total 5 columns):\n",
            " #   Column       Non-Null Count  Dtype  \n",
            "---  ------       --------------  -----  \n",
            " 0   STUSPS       12892 non-null  object \n",
            " 1   COUNTYGEOID  12892 non-null  object \n",
            " 2   Population   12892 non-null  int64  \n",
            " 3   riskType     12892 non-null  object \n",
            " 4   risk         12892 non-null  float64\n",
            "dtypes: float64(1), int64(1), object(3)\n",
            "memory usage: 503.7+ KB\n"
          ],
          "name": "stdout"
        }
      ]
    },
    {
      "cell_type": "markdown",
      "metadata": {
        "id": "QJtRv0Dvs1Rr",
        "colab_type": "text"
      },
      "source": [
        "<br>\n",
        "<br>\n",
        "\n",
        "## Hazards"
      ]
    },
    {
      "cell_type": "code",
      "metadata": {
        "id": "yY0PuatN0Jow",
        "colab_type": "code",
        "colab": {}
      },
      "source": [
        "urlhazards = 'https://www.epa.gov/sites/production/files/2018-08/nata2014v2_national_allhi.xlsx'"
      ],
      "execution_count": 19,
      "outputs": []
    },
    {
      "cell_type": "markdown",
      "metadata": {
        "id": "CibqEGQKlj9p",
        "colab_type": "text"
      },
      "source": [
        "<br>\n",
        "<br>\n",
        "\n",
        "### Hazards Data"
      ]
    },
    {
      "cell_type": "code",
      "metadata": {
        "id": "Ssv9tjQBlf6I",
        "colab_type": "code",
        "colab": {
          "base_uri": "https://localhost:8080/",
          "height": 439
        },
        "outputId": "0f30bb28-1e15-461d-e632-0f15ad7b4650"
      },
      "source": [
        "hazards = pd.read_excel(io=urlhazards, header=0, sheet_name=0, dtype={'Tract': str})\n",
        "hazards.info()"
      ],
      "execution_count": 20,
      "outputs": [
        {
          "output_type": "stream",
          "text": [
            "<class 'pandas.core.frame.DataFrame'>\n",
            "RangeIndex: 76727 entries, 0 to 76726\n",
            "Data columns (total 16 columns):\n",
            " #   Column            Non-Null Count  Dtype  \n",
            "---  ------            --------------  -----  \n",
            " 0   Tract             76727 non-null  object \n",
            " 1   Population        76727 non-null  int64  \n",
            " 2   Respiratory HI    76727 non-null  float64\n",
            " 3   Neurological HI   76727 non-null  float64\n",
            " 4   Liver HI          76727 non-null  float64\n",
            " 5   Developmental HI  76727 non-null  float64\n",
            " 6   Reproductive HI   76727 non-null  float64\n",
            " 7   Kidney HI         76727 non-null  float64\n",
            " 8   Ocular HI         76727 non-null  float64\n",
            " 9   Endocrine HI      76727 non-null  float64\n",
            " 10  Hematological HI  76727 non-null  float64\n",
            " 11  Immunological HI  76727 non-null  float64\n",
            " 12  Skeletal HI       76727 non-null  float64\n",
            " 13  Spleen HI         76727 non-null  float64\n",
            " 14  Thyroid HI        76727 non-null  float64\n",
            " 15  Whole Body HI     76727 non-null  float64\n",
            "dtypes: float64(14), int64(1), object(1)\n",
            "memory usage: 9.4+ MB\n"
          ],
          "name": "stdout"
        }
      ]
    },
    {
      "cell_type": "markdown",
      "metadata": {
        "id": "0qqOvbe9L0YO",
        "colab_type": "text"
      },
      "source": [
        "<br>\n",
        "\n",
        "Anomalies\n",
        "\n",
        "* `indices = hazards.Tract.str.startswith('46113') | hazards.Tract.str.startswith('02270')`\n",
        "* `hazards[indices][['Tract']]`"
      ]
    },
    {
      "cell_type": "code",
      "metadata": {
        "id": "lLNTId5NK-R7",
        "colab_type": "code",
        "colab": {}
      },
      "source": [
        "hazards = anomalies.tractseries(blob=hazards.copy())"
      ],
      "execution_count": 21,
      "outputs": []
    },
    {
      "cell_type": "markdown",
      "metadata": {
        "id": "AEqatJ-jNX4c",
        "colab_type": "text"
      },
      "source": [
        "<br>\n",
        "\n",
        "Tracts Only"
      ]
    },
    {
      "cell_type": "code",
      "metadata": {
        "id": "g3XtjkxONgdd",
        "colab_type": "code",
        "colab": {
          "base_uri": "https://localhost:8080/",
          "height": 476
        },
        "outputId": "d22d03a1-6fe9-445c-eccd-2ea0bf249bb4"
      },
      "source": [
        "readings = hazards.merge(tracts[['STATEFP', 'COUNTYGEOID', 'GEOID']], how='inner', left_on='Tract', right_on='GEOID')\n",
        "readings.drop(columns=['GEOID'], inplace=True)\n",
        "readings.info()"
      ],
      "execution_count": 22,
      "outputs": [
        {
          "output_type": "stream",
          "text": [
            "<class 'pandas.core.frame.DataFrame'>\n",
            "Int64Index: 73430 entries, 0 to 73429\n",
            "Data columns (total 18 columns):\n",
            " #   Column            Non-Null Count  Dtype  \n",
            "---  ------            --------------  -----  \n",
            " 0   Tract             73430 non-null  object \n",
            " 1   Population        73430 non-null  int64  \n",
            " 2   Respiratory HI    73430 non-null  float64\n",
            " 3   Neurological HI   73430 non-null  float64\n",
            " 4   Liver HI          73430 non-null  float64\n",
            " 5   Developmental HI  73430 non-null  float64\n",
            " 6   Reproductive HI   73430 non-null  float64\n",
            " 7   Kidney HI         73430 non-null  float64\n",
            " 8   Ocular HI         73430 non-null  float64\n",
            " 9   Endocrine HI      73430 non-null  float64\n",
            " 10  Hematological HI  73430 non-null  float64\n",
            " 11  Immunological HI  73430 non-null  float64\n",
            " 12  Skeletal HI       73430 non-null  float64\n",
            " 13  Spleen HI         73430 non-null  float64\n",
            " 14  Thyroid HI        73430 non-null  float64\n",
            " 15  Whole Body HI     73430 non-null  float64\n",
            " 16  STATEFP           73430 non-null  object \n",
            " 17  COUNTYGEOID       73430 non-null  object \n",
            "dtypes: float64(14), int64(1), object(3)\n",
            "memory usage: 10.6+ MB\n"
          ],
          "name": "stdout"
        }
      ]
    },
    {
      "cell_type": "markdown",
      "metadata": {
        "id": "1vCdb1sc26Nr",
        "colab_type": "text"
      },
      "source": [
        "<br>\n",
        "\n",
        "Melt"
      ]
    },
    {
      "cell_type": "code",
      "metadata": {
        "id": "QSTuHwuu24TQ",
        "colab_type": "code",
        "colab": {
          "base_uri": "https://localhost:8080/",
          "height": 256
        },
        "outputId": "7fb50a0c-61dd-4dc9-d387-d89e18817e56"
      },
      "source": [
        "hazardindices = readings.melt(id_vars=['Tract', 'Population', 'STATEFP', 'COUNTYGEOID'], var_name='hazardIndexType', value_name='hazardIndex')\n",
        "hazardindices.info()"
      ],
      "execution_count": 23,
      "outputs": [
        {
          "output_type": "stream",
          "text": [
            "<class 'pandas.core.frame.DataFrame'>\n",
            "RangeIndex: 1028020 entries, 0 to 1028019\n",
            "Data columns (total 6 columns):\n",
            " #   Column           Non-Null Count    Dtype  \n",
            "---  ------           --------------    -----  \n",
            " 0   Tract            1028020 non-null  object \n",
            " 1   Population       1028020 non-null  int64  \n",
            " 2   STATEFP          1028020 non-null  object \n",
            " 3   COUNTYGEOID      1028020 non-null  object \n",
            " 4   hazardIndexType  1028020 non-null  object \n",
            " 5   hazardIndex      1028020 non-null  float64\n",
            "dtypes: float64(1), int64(1), object(4)\n",
            "memory usage: 47.1+ MB\n"
          ],
          "name": "stdout"
        }
      ]
    },
    {
      "cell_type": "code",
      "metadata": {
        "id": "ms4oREmy5BBw",
        "colab_type": "code",
        "colab": {
          "base_uri": "https://localhost:8080/",
          "height": 182
        },
        "outputId": "5fd64801-2a8b-42d3-f635-d90b1216ac5a"
      },
      "source": [
        "hazardindices.to_csv(path_or_buf=os.path.join(os.getcwd(), 'hazardIndices.csv'), header=True, index=False, encoding='utf-8')\n",
        "logger.info('\\n\\n{}\\n'.format(hazardindices.head()))"
      ],
      "execution_count": 24,
      "outputs": [
        {
          "output_type": "stream",
          "text": [
            "INFO:__main__:\n",
            "\n",
            "         Tract  Population STATEFP COUNTYGEOID hazardIndexType  hazardIndex\n",
            "0  01001020100        1912      01       01001  Respiratory HI     0.788052\n",
            "1  01001020200        2170      01       01001  Respiratory HI     0.808744\n",
            "2  01001020300        3373      01       01001  Respiratory HI     0.816773\n",
            "3  01001020400        4386      01       01001  Respiratory HI     0.835904\n",
            "4  01001020500       10766      01       01001  Respiratory HI     0.841417\n",
            "\n"
          ],
          "name": "stderr"
        }
      ]
    }
  ]
}