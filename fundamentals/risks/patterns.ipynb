{
  "nbformat": 4,
  "nbformat_minor": 0,
  "metadata": {
    "colab": {
      "name": "patterns.ipynb",
      "provenance": [],
      "collapsed_sections": [],
      "toc_visible": true
    },
    "kernelspec": {
      "name": "python3",
      "display_name": "Python 3"
    }
  },
  "cells": [
    {
      "cell_type": "markdown",
      "metadata": {
        "id": "7-zbtO-r4b2J"
      },
      "source": [
        "## Preliminaries"
      ]
    },
    {
      "cell_type": "markdown",
      "metadata": {
        "id": "hdIZndE94eqz"
      },
      "source": [
        "### Libraries"
      ]
    },
    {
      "cell_type": "code",
      "metadata": {
        "id": "SOc7nouH4gpM"
      },
      "source": [
        "import pandas as pd"
      ],
      "execution_count": 1,
      "outputs": []
    },
    {
      "cell_type": "markdown",
      "metadata": {
        "id": "y_WthEd-4AHS"
      },
      "source": [
        "<br>\n",
        "<br>\n",
        "\n",
        "## Names"
      ]
    },
    {
      "cell_type": "markdown",
      "metadata": {
        "id": "9UP5qf9p8dU7"
      },
      "source": [
        "### Details"
      ]
    },
    {
      "cell_type": "markdown",
      "metadata": {
        "id": "c-LKk6PU5AGv"
      },
      "source": [
        "The file names"
      ]
    },
    {
      "cell_type": "code",
      "metadata": {
        "id": "pJjBDLMk2-ZZ"
      },
      "source": [
        "files = ['cancerRiskByGroup.csv', 'cancerRiskByPollutant.csv', 'immunologicalRiskByGroup.csv', \n",
        "'immunologicalRiskByPollutant.csv', 'kidneyRiskByGroup.csv', 'kidneyRiskByPollutant.csv', \n",
        "'liverRiskByGroup.csv', 'liverRiskByPollutant.csv', 'neurologicalRiskByGroup.csv', \n",
        "'neurologicalRiskByPollutant.csv', 'respRiskByGroup.csv', 'respRiskByPollutant.csv']"
      ],
      "execution_count": 2,
      "outputs": []
    },
    {
      "cell_type": "markdown",
      "metadata": {
        "id": "pQVqQa9W5DKI"
      },
      "source": [
        "<br>\n",
        "\n",
        "Their in-file suffices"
      ]
    },
    {
      "cell_type": "code",
      "metadata": {
        "id": "OaRRTWne3EGM"
      },
      "source": [
        "suffices = ['Cancer Risk (per million)', 'Cancer Risk (per million)', 'Immunological (hazard quotient)',\n",
        "'Immunological (hazard quotient)', 'Kidney (hazard quotient)', 'Kidney (hazard quotient)',\n",
        "'Liver (hazard quotient)', 'Liver (hazard quotient)', 'Neurological (hazard quotient)', 'Neurological (hazard quotient)',\n",
        "'Respiratory (hazard quotient)', 'Respiratory (hazard quotient)']"
      ],
      "execution_count": 3,
      "outputs": []
    },
    {
      "cell_type": "markdown",
      "metadata": {
        "id": "YpPSTuW25QK_"
      },
      "source": [
        "<br>\n",
        "\n",
        "Altogether"
      ]
    },
    {
      "cell_type": "code",
      "metadata": {
        "id": "1iXI5hMX4yGm",
        "outputId": "756675e6-b140-4a5a-de88-a58939a621d6",
        "colab": {
          "base_uri": "https://localhost:8080/",
          "height": 206
        }
      },
      "source": [
        "data = pd.DataFrame(data={'file': files, 'suffice': suffices})\n",
        "data.tail()"
      ],
      "execution_count": 4,
      "outputs": [
        {
          "output_type": "execute_result",
          "data": {
            "text/html": [
              "<div>\n",
              "<style scoped>\n",
              "    .dataframe tbody tr th:only-of-type {\n",
              "        vertical-align: middle;\n",
              "    }\n",
              "\n",
              "    .dataframe tbody tr th {\n",
              "        vertical-align: top;\n",
              "    }\n",
              "\n",
              "    .dataframe thead th {\n",
              "        text-align: right;\n",
              "    }\n",
              "</style>\n",
              "<table border=\"1\" class=\"dataframe\">\n",
              "  <thead>\n",
              "    <tr style=\"text-align: right;\">\n",
              "      <th></th>\n",
              "      <th>file</th>\n",
              "      <th>suffice</th>\n",
              "    </tr>\n",
              "  </thead>\n",
              "  <tbody>\n",
              "    <tr>\n",
              "      <th>7</th>\n",
              "      <td>liverRiskByPollutant.csv</td>\n",
              "      <td>Liver (hazard quotient)</td>\n",
              "    </tr>\n",
              "    <tr>\n",
              "      <th>8</th>\n",
              "      <td>neurologicalRiskByGroup.csv</td>\n",
              "      <td>Neurological (hazard quotient)</td>\n",
              "    </tr>\n",
              "    <tr>\n",
              "      <th>9</th>\n",
              "      <td>neurologicalRiskByPollutant.csv</td>\n",
              "      <td>Neurological (hazard quotient)</td>\n",
              "    </tr>\n",
              "    <tr>\n",
              "      <th>10</th>\n",
              "      <td>respRiskByGroup.csv</td>\n",
              "      <td>Respiratory (hazard quotient)</td>\n",
              "    </tr>\n",
              "    <tr>\n",
              "      <th>11</th>\n",
              "      <td>respRiskByPollutant.csv</td>\n",
              "      <td>Respiratory (hazard quotient)</td>\n",
              "    </tr>\n",
              "  </tbody>\n",
              "</table>\n",
              "</div>"
            ],
            "text/plain": [
              "                               file                         suffice\n",
              "7          liverRiskByPollutant.csv         Liver (hazard quotient)\n",
              "8       neurologicalRiskByGroup.csv  Neurological (hazard quotient)\n",
              "9   neurologicalRiskByPollutant.csv  Neurological (hazard quotient)\n",
              "10              respRiskByGroup.csv   Respiratory (hazard quotient)\n",
              "11          respRiskByPollutant.csv   Respiratory (hazard quotient)"
            ]
          },
          "metadata": {
            "tags": []
          },
          "execution_count": 4
        }
      ]
    },
    {
      "cell_type": "markdown",
      "metadata": {
        "id": "HM_nAYqY5Xf6"
      },
      "source": [
        "<br>\n",
        "<br>\n",
        "\n",
        "### For Regular Expressions Logic"
      ]
    },
    {
      "cell_type": "code",
      "metadata": {
        "id": "cPjnWl0N5orH"
      },
      "source": [
        "data.loc[:, 'pattern'] = data['suffice'].str.replace(pat=r'[^a-zA-Z0-9]', repl='', regex=True).str.upper()"
      ],
      "execution_count": 5,
      "outputs": []
    },
    {
      "cell_type": "code",
      "metadata": {
        "id": "OSWtHlq79A4P"
      },
      "source": [
        "data.drop(columns='suffice', inplace=True)"
      ],
      "execution_count": 6,
      "outputs": []
    },
    {
      "cell_type": "code",
      "metadata": {
        "id": "1pQ6NB0X7Y1w",
        "outputId": "c7c9a243-d7de-44f2-fc1b-ad2f0eeefdc9",
        "colab": {
          "base_uri": "https://localhost:8080/",
          "height": 206
        }
      },
      "source": [
        "data.tail()"
      ],
      "execution_count": 7,
      "outputs": [
        {
          "output_type": "execute_result",
          "data": {
            "text/html": [
              "<div>\n",
              "<style scoped>\n",
              "    .dataframe tbody tr th:only-of-type {\n",
              "        vertical-align: middle;\n",
              "    }\n",
              "\n",
              "    .dataframe tbody tr th {\n",
              "        vertical-align: top;\n",
              "    }\n",
              "\n",
              "    .dataframe thead th {\n",
              "        text-align: right;\n",
              "    }\n",
              "</style>\n",
              "<table border=\"1\" class=\"dataframe\">\n",
              "  <thead>\n",
              "    <tr style=\"text-align: right;\">\n",
              "      <th></th>\n",
              "      <th>file</th>\n",
              "      <th>pattern</th>\n",
              "    </tr>\n",
              "  </thead>\n",
              "  <tbody>\n",
              "    <tr>\n",
              "      <th>7</th>\n",
              "      <td>liverRiskByPollutant.csv</td>\n",
              "      <td>LIVERHAZARDQUOTIENT</td>\n",
              "    </tr>\n",
              "    <tr>\n",
              "      <th>8</th>\n",
              "      <td>neurologicalRiskByGroup.csv</td>\n",
              "      <td>NEUROLOGICALHAZARDQUOTIENT</td>\n",
              "    </tr>\n",
              "    <tr>\n",
              "      <th>9</th>\n",
              "      <td>neurologicalRiskByPollutant.csv</td>\n",
              "      <td>NEUROLOGICALHAZARDQUOTIENT</td>\n",
              "    </tr>\n",
              "    <tr>\n",
              "      <th>10</th>\n",
              "      <td>respRiskByGroup.csv</td>\n",
              "      <td>RESPIRATORYHAZARDQUOTIENT</td>\n",
              "    </tr>\n",
              "    <tr>\n",
              "      <th>11</th>\n",
              "      <td>respRiskByPollutant.csv</td>\n",
              "      <td>RESPIRATORYHAZARDQUOTIENT</td>\n",
              "    </tr>\n",
              "  </tbody>\n",
              "</table>\n",
              "</div>"
            ],
            "text/plain": [
              "                               file                     pattern\n",
              "7          liverRiskByPollutant.csv         LIVERHAZARDQUOTIENT\n",
              "8       neurologicalRiskByGroup.csv  NEUROLOGICALHAZARDQUOTIENT\n",
              "9   neurologicalRiskByPollutant.csv  NEUROLOGICALHAZARDQUOTIENT\n",
              "10              respRiskByGroup.csv   RESPIRATORYHAZARDQUOTIENT\n",
              "11          respRiskByPollutant.csv   RESPIRATORYHAZARDQUOTIENT"
            ]
          },
          "metadata": {
            "tags": []
          },
          "execution_count": 7
        }
      ]
    },
    {
      "cell_type": "code",
      "metadata": {
        "id": "qrl33kt87My1"
      },
      "source": [
        "data.to_csv(path_or_buf='risk_.csv', header=True, index=False, encoding='utf-8')"
      ],
      "execution_count": 8,
      "outputs": []
    }
  ]
}